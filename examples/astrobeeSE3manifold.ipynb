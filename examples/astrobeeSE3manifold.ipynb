{
 "cells": [
  {
   "cell_type": "code",
   "execution_count": 185,
   "metadata": {},
   "outputs": [
    {
     "name": "stderr",
     "output_type": "stream",
     "text": [
      "WARNING: requiring \"GuSTO\" in module \"Main\" did not define a corresponding module.\n"
     ]
    }
   ],
   "source": [
    "using GuSTO\n",
    "using AstrobeeRobot"
   ]
  },
  {
   "cell_type": "code",
   "execution_count": 186,
   "metadata": {},
   "outputs": [
    {
     "ename": "LoadError",
     "evalue": "\u001b[91mUnexpected object SCPVariables{JuMP.Variable,Array{JuMP.Variable,N} where N}(X[i,j] ∀ i ∈ {1,2,…,12,13}, j ∈ {1,2,…,99,100}, U[i,j] ∀ i ∈ {1,2,…,5,6}, j ∈ {1,2,…,99,100}, Tf) in nonlinear expression.\u001b[39m",
     "output_type": "error",
     "traceback": [
      "\u001b[91mUnexpected object SCPVariables{JuMP.Variable,Array{JuMP.Variable,N} where N}(X[i,j] ∀ i ∈ {1,2,…,12,13}, j ∈ {1,2,…,99,100}, U[i,j] ∀ i ∈ {1,2,…,5,6}, j ∈ {1,2,…,99,100}, Tf) in nonlinear expression.\u001b[39m",
      "",
      "Stacktrace:",
      " [1] \u001b[1mparseNLExpr_runtime\u001b[22m\u001b[22m\u001b[1m(\u001b[22m\u001b[22m::JuMP.Model, ::SCPVariables{JuMP.Variable,Array{JuMP.Variable,N} where N}, ::Array{ReverseDiffSparse.NodeData,1}, ::Int64, ::Array{Float64,1}\u001b[1m)\u001b[22m\u001b[22m at \u001b[1m/home/thomas/.julia/v0.6/JuMP/src/parsenlp.jl:207\u001b[22m\u001b[22m",
      " [2] \u001b[1mmacro expansion\u001b[22m\u001b[22m at \u001b[1m/home/thomas/.julia/v0.6/JuMP/src/parsenlp.jl:99\u001b[22m\u001b[22m [inlined]",
      " [3] \u001b[1mmacro expansion\u001b[22m\u001b[22m at \u001b[1m/home/thomas/.julia/v0.6/JuMP/src/macros.jl:1273\u001b[22m\u001b[22m [inlined]",
      " [4] \u001b[1madd_objective_gusto_jump!\u001b[22m\u001b[22m\u001b[1m(\u001b[22m\u001b[22m::JuMP.Model, ::SCPVariables{JuMP.Variable,Array{JuMP.Variable,N} where N}, ::Trajectory, ::SCPConstraints, ::SCPProblem{Astrobee3D{Float64},AstrobeeSE3Manifold,ISSCorner{Float64}}\u001b[1m)\u001b[22m\u001b[22m at \u001b[1m/home/thomas/.julia/v0.6/GuSTO/src/scp/scp_gusto.jl:222\u001b[22m\u001b[22m",
      " [5] \u001b[1m#solve_gusto_jump!#5017\u001b[22m\u001b[22m\u001b[1m(\u001b[22m\u001b[22m::Array{Any,1}, ::Function, ::SCPSolution, ::SCPProblem{Astrobee3D{Float64},AstrobeeSE3Manifold,ISSCorner{Float64}}, ::String, ::Int64, ::Bool\u001b[1m)\u001b[22m\u001b[22m at \u001b[1m/home/thomas/.julia/v0.6/GuSTO/src/scp/scp_gusto.jl:337\u001b[22m\u001b[22m",
      " [6] \u001b[1m(::#kw##solve_gusto_jump!)\u001b[22m\u001b[22m\u001b[1m(\u001b[22m\u001b[22m::Array{Any,1}, ::#solve_gusto_jump!, ::SCPSolution, ::SCPProblem{Astrobee3D{Float64},AstrobeeSE3Manifold,ISSCorner{Float64}}, ::String, ::Int64, ::Bool\u001b[1m)\u001b[22m\u001b[22m at \u001b[1m./<missing>:0\u001b[22m\u001b[22m",
      " [7] \u001b[1m#solve_SCP!#5013\u001b[22m\u001b[22m\u001b[1m(\u001b[22m\u001b[22m::Array{Any,1}, ::Function, ::TrajectoryOptimizationSolution, ::TrajectoryOptimizationProblem{Astrobee3D{Float64},AstrobeeSE3Manifold,ISSCorner{Float64}}, ::#solve_gusto_jump!, ::#init_traj_straightline, ::String\u001b[1m)\u001b[22m\u001b[22m at \u001b[1m/home/thomas/.julia/v0.6/GuSTO/src/traj_opt.jl:49\u001b[22m\u001b[22m",
      " [8] \u001b[1m(::#kw##solve_SCP!)\u001b[22m\u001b[22m\u001b[1m(\u001b[22m\u001b[22m::Array{Any,1}, ::#solve_SCP!, ::TrajectoryOptimizationSolution, ::TrajectoryOptimizationProblem{Astrobee3D{Float64},AstrobeeSE3Manifold,ISSCorner{Float64}}, ::Function, ::Function, ::String\u001b[1m)\u001b[22m\u001b[22m at \u001b[1m./<missing>:0\u001b[22m\u001b[22m",
      " [9] \u001b[1minclude_string\u001b[22m\u001b[22m\u001b[1m(\u001b[22m\u001b[22m::String, ::String\u001b[1m)\u001b[22m\u001b[22m at \u001b[1m./loading.jl:522\u001b[22m\u001b[22m",
      " [10] \u001b[1mexecute_request\u001b[22m\u001b[22m\u001b[1m(\u001b[22m\u001b[22m::ZMQ.Socket, ::IJulia.Msg\u001b[1m)\u001b[22m\u001b[22m at \u001b[1m/home/thomas/.julia/v0.6/IJulia/src/execute_request.jl:193\u001b[22m\u001b[22m",
      " [11] \u001b[1m(::Compat.#inner#6{Array{Any,1},IJulia.#execute_request,Tuple{ZMQ.Socket,IJulia.Msg}})\u001b[22m\u001b[22m\u001b[1m(\u001b[22m\u001b[22m\u001b[1m)\u001b[22m\u001b[22m at \u001b[1m/home/thomas/.julia/v0.6/Compat/src/Compat.jl:189\u001b[22m\u001b[22m",
      " [12] \u001b[1meventloop\u001b[22m\u001b[22m\u001b[1m(\u001b[22m\u001b[22m::ZMQ.Socket\u001b[1m)\u001b[22m\u001b[22m at \u001b[1m/home/thomas/.julia/v0.6/IJulia/src/eventloop.jl:8\u001b[22m\u001b[22m",
      " [13] \u001b[1m(::IJulia.##13#16)\u001b[22m\u001b[22m\u001b[1m(\u001b[22m\u001b[22m\u001b[1m)\u001b[22m\u001b[22m at \u001b[1m./task.jl:335\u001b[22m\u001b[22m"
     ]
    }
   ],
   "source": [
    "robot = Astrobee3D()\n",
    "model = AstrobeeSE3Manifold()\n",
    "env = ISSCorner();\n",
    "add_obstacles1!(env)\n",
    "\n",
    "x_init = [11.2; -0.8; 5.6]\n",
    "x_goal = [10.2; 6.9; 4.2]\n",
    "\n",
    "x_init = [x_init; zeros(3); sqrt(1/3)*[1.; 0.; 1.; 1.]; zeros(3)]\n",
    "x_goal = [x_goal; zeros(3); [-0.5; 0.5; -0.5; 0.5]; zeros(3)]\n",
    "# q_goal = [0.01; 0.01; 0.01; 1.]\n",
    "# q_goal = -q_goal/norm(q_goal)/\n",
    "# x_init = [x_init; zeros(3); [0.; 0.; 0.; 1.]; zeros(3)]\n",
    "# x_goal = [x_goal; zeros(3); [0.; 0.; 0.; 1.]; zeros(3)]\n",
    "\n",
    "N = 100\n",
    "tf_guess = 70.\n",
    "\n",
    "PD = ProblemDefinition(robot, model, env, x_init, x_goal);\n",
    "TOPgusto = TrajectoryOptimizationProblem(PD, N, tf_guess, fixed_final_time=true)\n",
    "TOSgusto = TrajectoryOptimizationSolution(TOPgusto)\n",
    "# solve_SCP!(TOSgusto, TOPgusto, solve_gusto_cvx!, init_traj_straightline, \"Gurobi\", OutputFlag=0)\n",
    "solve_SCP!(TOSgusto, TOPgusto, solve_gusto_jump!, init_traj_straightline, \"IPOPT\", print_level=0)\n"
   ]
  },
  {
   "cell_type": "code",
   "execution_count": 187,
   "metadata": {},
   "outputs": [
    {
     "name": "stdout",
     "output_type": "stream",
     "text": [
      "TOSgusto.SCPS.converged = false\n",
      "TOSgusto.SCPS.iterations = 0\n",
      "TOSgusto.SCPS.total_time = 0.0\n",
      "TOSgusto.SCPS.accept_solution = Bool[true]\n",
      "TOSgusto.SCPS.prob_status = Symbol[:NA]\n",
      "TOSgusto.SCPS.convergence_measure = [0.0]\n",
      "TOSgusto.SCPS.param.alg.omega_vec = [1.0]\n",
      "TOSgusto.SCPS.param.alg.Delta_vec = [10.0]\n"
     ]
    }
   ],
   "source": [
    "@show TOSgusto.SCPS.converged\n",
    "@show TOSgusto.SCPS.iterations\n",
    "@show TOSgusto.SCPS.total_time\n",
    "@show TOSgusto.SCPS.accept_solution\n",
    "@show TOSgusto.SCPS.prob_status\n",
    "@show TOSgusto.SCPS.convergence_measure\n",
    "@show TOSgusto.SCPS.param.alg.omega_vec\n",
    "@show TOSgusto.SCPS.param.alg.Delta_vec\n",
    ";"
   ]
  },
  {
   "cell_type": "code",
   "execution_count": 6,
   "metadata": {},
   "outputs": [
    {
     "ename": "LoadError",
     "evalue": "\u001b[91mUndefVarError: TOSgusto not defined\u001b[39m",
     "output_type": "error",
     "traceback": [
      "\u001b[91mUndefVarError: TOSgusto not defined\u001b[39m",
      "",
      "Stacktrace:",
      " [1] \u001b[1minclude_string\u001b[22m\u001b[22m\u001b[1m(\u001b[22m\u001b[22m::String, ::String\u001b[1m)\u001b[22m\u001b[22m at \u001b[1m./loading.jl:522\u001b[22m\u001b[22m",
      " [2] \u001b[1mexecute_request\u001b[22m\u001b[22m\u001b[1m(\u001b[22m\u001b[22m::ZMQ.Socket, ::IJulia.Msg\u001b[1m)\u001b[22m\u001b[22m at \u001b[1m/home/thomas/.julia/v0.6/IJulia/src/execute_request.jl:193\u001b[22m\u001b[22m",
      " [3] \u001b[1m(::Compat.#inner#6{Array{Any,1},IJulia.#execute_request,Tuple{ZMQ.Socket,IJulia.Msg}})\u001b[22m\u001b[22m\u001b[1m(\u001b[22m\u001b[22m\u001b[1m)\u001b[22m\u001b[22m at \u001b[1m/home/thomas/.julia/v0.6/Compat/src/Compat.jl:189\u001b[22m\u001b[22m",
      " [4] \u001b[1meventloop\u001b[22m\u001b[22m\u001b[1m(\u001b[22m\u001b[22m::ZMQ.Socket\u001b[1m)\u001b[22m\u001b[22m at \u001b[1m/home/thomas/.julia/v0.6/IJulia/src/eventloop.jl:8\u001b[22m\u001b[22m",
      " [5] \u001b[1m(::IJulia.##13#16)\u001b[22m\u001b[22m\u001b[1m(\u001b[22m\u001b[22m\u001b[1m)\u001b[22m\u001b[22m at \u001b[1m./task.jl:335\u001b[22m\u001b[22m"
     ]
    }
   ],
   "source": [
    "plot(TOSgusto.SCPS.traj.X[13,:])"
   ]
  },
  {
   "cell_type": "code",
   "execution_count": 7,
   "metadata": {},
   "outputs": [
    {
     "ename": "LoadError",
     "evalue": "\u001b[91mUndefVarError: TOSgusto not defined\u001b[39m",
     "output_type": "error",
     "traceback": [
      "\u001b[91mUndefVarError: TOSgusto not defined\u001b[39m",
      "",
      "Stacktrace:",
      " [1] \u001b[1minclude_string\u001b[22m\u001b[22m\u001b[1m(\u001b[22m\u001b[22m::String, ::String\u001b[1m)\u001b[22m\u001b[22m at \u001b[1m./loading.jl:522\u001b[22m\u001b[22m",
      " [2] \u001b[1mexecute_request\u001b[22m\u001b[22m\u001b[1m(\u001b[22m\u001b[22m::ZMQ.Socket, ::IJulia.Msg\u001b[1m)\u001b[22m\u001b[22m at \u001b[1m/home/thomas/.julia/v0.6/IJulia/src/execute_request.jl:193\u001b[22m\u001b[22m",
      " [3] \u001b[1m(::Compat.#inner#6{Array{Any,1},IJulia.#execute_request,Tuple{ZMQ.Socket,IJulia.Msg}})\u001b[22m\u001b[22m\u001b[1m(\u001b[22m\u001b[22m\u001b[1m)\u001b[22m\u001b[22m at \u001b[1m/home/thomas/.julia/v0.6/Compat/src/Compat.jl:189\u001b[22m\u001b[22m",
      " [4] \u001b[1meventloop\u001b[22m\u001b[22m\u001b[1m(\u001b[22m\u001b[22m::ZMQ.Socket\u001b[1m)\u001b[22m\u001b[22m at \u001b[1m/home/thomas/.julia/v0.6/IJulia/src/eventloop.jl:8\u001b[22m\u001b[22m",
      " [5] \u001b[1m(::IJulia.##13#16)\u001b[22m\u001b[22m\u001b[1m(\u001b[22m\u001b[22m\u001b[1m)\u001b[22m\u001b[22m at \u001b[1m./task.jl:335\u001b[22m\u001b[22m"
     ]
    }
   ],
   "source": [
    "# Quaternion norm\n",
    "normq = [norm(TOSgusto.SCPS.traj.X[7:10,i]) for i in 1:TOSgusto.SCPS.SCPP.N]\n",
    "plot(normq)"
   ]
  },
  {
   "cell_type": "code",
   "execution_count": 8,
   "metadata": {},
   "outputs": [
    {
     "ename": "LoadError",
     "evalue": "\u001b[91mUndefVarError: env not defined\u001b[39m",
     "output_type": "error",
     "traceback": [
      "\u001b[91mUndefVarError: env not defined\u001b[39m",
      "",
      "Stacktrace:",
      " [1] \u001b[1manonymous\u001b[22m\u001b[22m at \u001b[1m./<missing>:?\u001b[22m\u001b[22m",
      " [2] \u001b[1minclude_string\u001b[22m\u001b[22m\u001b[1m(\u001b[22m\u001b[22m::String, ::String\u001b[1m)\u001b[22m\u001b[22m at \u001b[1m./loading.jl:522\u001b[22m\u001b[22m",
      " [3] \u001b[1mexecute_request\u001b[22m\u001b[22m\u001b[1m(\u001b[22m\u001b[22m::ZMQ.Socket, ::IJulia.Msg\u001b[1m)\u001b[22m\u001b[22m at \u001b[1m/home/thomas/.julia/v0.6/IJulia/src/execute_request.jl:193\u001b[22m\u001b[22m",
      " [4] \u001b[1m(::Compat.#inner#6{Array{Any,1},IJulia.#execute_request,Tuple{ZMQ.Socket,IJulia.Msg}})\u001b[22m\u001b[22m\u001b[1m(\u001b[22m\u001b[22m\u001b[1m)\u001b[22m\u001b[22m at \u001b[1m/home/thomas/.julia/v0.6/Compat/src/Compat.jl:189\u001b[22m\u001b[22m",
      " [5] \u001b[1meventloop\u001b[22m\u001b[22m\u001b[1m(\u001b[22m\u001b[22m::ZMQ.Socket\u001b[1m)\u001b[22m\u001b[22m at \u001b[1m/home/thomas/.julia/v0.6/IJulia/src/eventloop.jl:8\u001b[22m\u001b[22m",
      " [6] \u001b[1m(::IJulia.##13#16)\u001b[22m\u001b[22m\u001b[1m(\u001b[22m\u001b[22m\u001b[1m)\u001b[22m\u001b[22m at \u001b[1m./task.jl:335\u001b[22m\u001b[22m"
     ]
    }
   ],
   "source": [
    "# Animate Astrobee trajectory\n",
    "vis = Visualizer()\n",
    "delete!(vis)\n",
    "\n",
    "vis[:goal]\n",
    "for (idx,obs) in enumerate(env.keepout_zones)\n",
    "    setobject!(vis[:goal][:goal], \n",
    "        Object(HyperSphere(Point3f0(x_goal[1:3]), 0.1f0),\n",
    "            MeshBasicMaterial(color=RGBA(0,1.0,0.,0.3))))\n",
    "end\n",
    "\n",
    "vis[:workspace]\n",
    "for (idx,ws) in enumerate(env.keepin_zones)\n",
    "    if idx in (5,8)\n",
    "        setobject!(vis[:workspace][Symbol(string(\"ws\",idx))],\n",
    "            Object(ws, MeshBasicMaterial(color=RGBA(0.95,0.93,0.26,0.3), depthWrite=false)))\n",
    "    else\n",
    "        setobject!(vis[:workspace][Symbol(string(\"ws\",idx))],\n",
    "            Object(ws, MeshBasicMaterial(color=RGBA(0.95,0.93,0.26,0.3))))\n",
    "    end\n",
    "end\n",
    "\n",
    "vis[:obstacle]\n",
    "for (idx,ws) in enumerate(env.obstacle_set)\n",
    "    setobject!(vis[:workspace][Symbol(string(\"ws\",idx+length(env.keepin_zones)))],\n",
    "        Object(ws,MeshBasicMaterial(color=RGBA(0.95,0.26,0.26,0.3))))\n",
    "end\n",
    "\n",
    "ab = Astrobee()\n",
    "mvis = MechanismVisualizer(\n",
    "    ab.mechanism,\n",
    "    URDFVisuals(AstrobeeRobot.urdfpath(), package_path=[dirname(dirname(AstrobeeRobot.urdfpath()))]),\n",
    "    vis);\n",
    "\n",
    "speed_factor = 1\n",
    "\n",
    "Qs = Vector{Vector{Float64}}(0)\n",
    "for k in 1:speed_factor:N\n",
    "    q = [quat_inv(TOSgusto.SCPS.traj.X[7:10,k]); TOSgusto.SCPS.traj.X[1:3,k]]\n",
    "    push!(Qs,q)\n",
    "end\n",
    "\n",
    "trans = Translation(14., -1., 7.)\n",
    "rot = LinearMap(RotZ(-0.6)) ∘ LinearMap(RotY(-0.2))\n",
    "settransform!(vis[\"/Cameras/default\"], trans ∘ rot)\n",
    "setprop!(vis[\"/Cameras/default/rotated/<object>\"], \"zoom\", 1.9)\n",
    "setprop!(vis[\"/Cameras/default/rotated/<object>\"], \"near\", 0.05)\n",
    "\n",
    "sleep(3)\n",
    "setanimation!(mvis,1:length(Qs),Qs)\n",
    "\n",
    "plot_in_cell = false\n",
    "plot_in_cell ? IJuliaCell(vis) : open(vis)"
   ]
  },
  {
   "cell_type": "code",
   "execution_count": null,
   "metadata": {},
   "outputs": [],
   "source": []
  },
  {
   "cell_type": "code",
   "execution_count": null,
   "metadata": {},
   "outputs": [],
   "source": []
  },
  {
   "cell_type": "code",
   "execution_count": null,
   "metadata": {},
   "outputs": [],
   "source": []
  }
 ],
 "metadata": {
  "kernelspec": {
   "display_name": "Julia 0.6.4",
   "language": "julia",
   "name": "julia-0.6"
  },
  "language_info": {
   "file_extension": ".jl",
   "mimetype": "application/julia",
   "name": "julia",
   "version": "0.6.4"
  }
 },
 "nbformat": 4,
 "nbformat_minor": 2
}
