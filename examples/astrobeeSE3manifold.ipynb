{
 "cells": [
  {
   "cell_type": "code",
   "execution_count": null,
   "metadata": {},
   "outputs": [],
   "source": [
    "# using GuSTO\"\n",
    "include(\"../src/GuSTO.jl\")"
   ]
  },
  {
   "cell_type": "code",
   "execution_count": null,
   "metadata": {},
   "outputs": [],
   "source": [
    "robot = Astrobee3D()\n",
    "model = AstrobeeSE3Manifold()\n",
    "env = ISSCorner();\n",
    "\n",
    "N = 200\n",
    "tf_guess = 10.\n",
    "goal_set = GoalSet()\n",
    "\n",
    "# add_obstacles!(env)\n",
    "\n",
    "# x_min_obs = [9.7, -0.1, 4.7]\n",
    "# x_max_obs = [9.8, 0.1, 4.8]\n",
    "# push!(env.obstacle_set, HyperRectangle(Vec3f0(x_max_obs), Vec3f0(x_max_obs-x_min_obs)))\n",
    "\n",
    "# Small corner maneuver\n",
    "# r_init = [9.2; 0.8; 4.2]\n",
    "# r_goal = [10.9; 2.0; 5.0]\n",
    "\n",
    "# Small free maneuver\n",
    "# r_init = [9.2; 0.8; 4.2]\n",
    "# r_goal = r_init + 1.*[1.; -0.25; 0.5]\n",
    "\n",
    "# Straight free maneuver\n",
    "# r_init = [9.2; 0.; 4.8]\n",
    "# r_goal = r_init + [1.5; 0.; 0.]\n",
    "\n",
    "# r_init = [10.2; -0.8; 5.6]\n",
    "# r_goal = [10.2; 6.9; 4.2]\n",
    "\n",
    "r_init = [1.; 0.; 0.]\n",
    "r_goal = r_init + [1.; 0.; 0.]\n",
    "\n",
    "# x_init = [r_init; zeros(3); quat2mrp(sqrt(1/3)*[1.; 0.; 1.; 1.]); zeros(3)]\n",
    "# x_goal = [r_goal; zeros(3); quat2mrp([-0.5; 0.5; -0.5; 0.5]); zeros(3)]\n",
    "# x_init = [r_init; zeros(3); GuSTO.quat2mrp([0.; 0.; 0.; 1.]); zeros(3)]\n",
    "# x_goal = [r_goal; zeros(3); GuSTO.quat2mrp([0.; 0.; 0.; -1.]); zeros(3)]\n",
    "\n",
    "q_init = [1.; 0.; 0.; 0.]\n",
    "# q_goal = [0.5;0.5;0.5;1.]\n",
    "# q_goal = [0.; 0.; 0.01; 1.]\n",
    "q_goal = [1.; 0.; 0.; 0.]\n",
    "# q_goal = [1.; 0.2; 0.3; 0.4]\n",
    "q_goal = q_goal/norm(q_goal)\n",
    "\n",
    "x_init = [r_init; zeros(3); q_init; zeros(3)]\n",
    "# x_goal = [r_goal; zeros(3); [0.; 0.; 0.; 1.]; zeros(3)]\n",
    "x_goal = [r_goal; zeros(3); q_goal; zeros(3)]\n",
    "add_goal!(goal_set, Goal(PointGoal(x_goal), tf_guess, model))\n",
    "\n",
    "PD = ProblemDefinition(robot, model, env, x_init, goal_set);\n",
    "TOP = TrajectoryOptimizationProblem(PD, N, tf_guess, fixed_final_time=true)\n",
    "TOS_SCP = TrajectoryOptimizationSolution(TOP)\n",
    "# solve_SCP!(TOSgusto, TOPgusto, solve_gusto_cvx!, init_traj_straightline, \"Gurobi\", OutputFlag=0) # Not working anymore\n",
    "\n",
    "solve_SCP!(TOS_SCP, TOP, solve_gusto_jump!, init_traj_straightline, \"Ipopt\", print_level=0)\n",
    "\n",
    "# solve_SCP!(TOSgusto, TOPgusto, solve_gusto_jump!, init_traj_nothing, \"Ipopt\", print_level=0)"
   ]
  },
  {
   "cell_type": "code",
   "execution_count": null,
   "metadata": {},
   "outputs": [],
   "source": [
    "@show TOS_SCP.SCPS.converged\n",
    "@show TOS_SCP.SCPS.iterations\n",
    "@show TOS_SCP.SCPS.total_time\n",
    "@show TOS_SCP.SCPS.accept_solution\n",
    "@show TOS_SCP.SCPS.solver_status\n",
    "@show TOS_SCP.SCPS.scp_status\n",
    "@show TOS_SCP.SCPS.convergence_measure\n",
    "@show TOS_SCP.SCPS.param.alg.ω_vec\n",
    "@show TOS_SCP.SCPS.param.alg.Δ_vec\n",
    "@show TOS_SCP.SCPS.J_true\n",
    "@show TOS_SCP.SCPS.dual\n",
    ";"
   ]
  },
  {
   "cell_type": "code",
   "execution_count": null,
   "metadata": {},
   "outputs": [],
   "source": [
    "using Plots\n",
    "gr(fmt=:png)\n",
    "plot()\n",
    "for i = 7:10\n",
    "    plot!([collect(1:N)],[TOS_SCP.SCPS.traj.X[i,:]],\n",
    "        xlabel = \"q\",\n",
    "        ylabel = \"y\",\n",
    "        legend = :none)\n",
    "end\n",
    "plot!()"
   ]
  },
  {
   "cell_type": "code",
   "execution_count": null,
   "metadata": {},
   "outputs": [],
   "source": [
    "# for i in 1:29\n",
    "#     @show TOS_SCP.SCPS.SCPC.nonconvex_state_convexified_ineq[:ncsi_obstacle_avoidance_signed_distance_convexified].con_reference[:,(27,)][i]\n",
    "# end"
   ]
  },
  {
   "cell_type": "code",
   "execution_count": null,
   "metadata": {},
   "outputs": [],
   "source": [
    "# for i in 1:29\n",
    "#     @show TOS_SCP.SCPS.SCPC.nonconvex_state_convexified_ineq[:ncsi_obstacle_avoidance_potential].con_reference[:,(1,)][i]\n",
    "# end"
   ]
  },
  {
   "cell_type": "code",
   "execution_count": null,
   "metadata": {},
   "outputs": [],
   "source": [
    "include(\"../src/GuSTO.jl\")"
   ]
  },
  {
   "cell_type": "code",
   "execution_count": null,
   "metadata": {},
   "outputs": [],
   "source": [
    "@show TOS_SCP.SCPS.dual;"
   ]
  },
  {
   "cell_type": "code",
   "execution_count": null,
   "metadata": {},
   "outputs": [],
   "source": [
    "dt = tf_guess/(N-1)\n",
    "tspan = (0., tf_guess)\n",
    "SP = ShootingProblem(TOP, TOS_SCP.SCPS)\n",
    "x0 = [TOP.PD.x_init; TOS_SCP.SCPS.dual]\n",
    "prob = ODEProblem(shooting_ode!, x0, tspan, SP)\n",
    "sol = DifferentialEquations.solve(prob, dtmin=dt, force_dtmin=true, saveat=dt);"
   ]
  },
  {
   "cell_type": "code",
   "execution_count": null,
   "metadata": {},
   "outputs": [],
   "source": [
    "X_ODE = zeros(13,N)\n",
    "for i = 1:N\n",
    "    X_ODE[:,i] = sol.u[i][1:13]\n",
    "end\n",
    "X_ODE;"
   ]
  },
  {
   "cell_type": "code",
   "execution_count": null,
   "metadata": {},
   "outputs": [],
   "source": [
    "plot()\n",
    "gr(fmt=:png)\n",
    "for i = 7:10\n",
    "    plot!([collect(1:N)],[X_ODE[i,:]],\n",
    "        xlabel = \"q\",\n",
    "        ylabel = \"y\",\n",
    "        legend = :none)\n",
    "end\n",
    "plot!()"
   ]
  },
  {
   "cell_type": "code",
   "execution_count": null,
   "metadata": {},
   "outputs": [],
   "source": [
    "plot()\n",
    "gr(fmt=:png)\n",
    "plot!([collect(1:N)],[X_ODE[1,:]],\n",
    "    xlabel = \"q\",\n",
    "    ylabel = \"y\",\n",
    "    legend = :none)"
   ]
  },
  {
   "cell_type": "code",
   "execution_count": null,
   "metadata": {},
   "outputs": [],
   "source": [
    "TOS_SCPS  = TrajectoryOptimizationSolution(TOP)\n",
    "solve_SCPshooting!(TOS_SCPS, TOP, solve_gusto_jump!, init_traj_straightline, \"Ipopt\", print_level=0)\n",
    "# solve_SCPshooting!(TOS_SCPS, TOP, solve_gusto_jump!, init_traj_straightline, \"Gurobi\")"
   ]
  },
  {
   "cell_type": "code",
   "execution_count": null,
   "metadata": {},
   "outputs": [],
   "source": [
    "@show TOS_SCPS.SCPS.converged\n",
    "@show TOS_SCPS.SCPS.iterations\n",
    "@show TOS_SCPS.SCPS.total_time\n",
    "@show TOS_SCPS.SCPS.accept_solution\n",
    "@show TOS_SCPS.SCPS.solver_status\n",
    "@show TOS_SCPS.SCPS.scp_status\n",
    "@show TOS_SCPS.SCPS.convergence_measure\n",
    "@show TOS_SCPS.SCPS.param.alg.ω_vec\n",
    "@show TOS_SCPS.SCPS.param.alg.Δ_vec\n",
    "@show TOS_SCPS.SCPS.J_true\n",
    ";"
   ]
  },
  {
   "cell_type": "code",
   "execution_count": null,
   "metadata": {},
   "outputs": [],
   "source": [
    "# SCP\n",
    "@show TOS_SCPS.SCPS.convergence_measure\n",
    "# Shooting\n",
    "@show TOS_SCPS.SS.converged\n",
    "@show TOS_SCPS.SS.prob_status\n",
    "@show TOS_SCPS.SCPS.iterations\n",
    "@show TOS_SCPS.total_time\n",
    "@show TOS_SCPS.SS.iter_elapsed_times\n",
    "@show TOS_SCPS.SS.J_true[end]"
   ]
  },
  {
   "cell_type": "code",
   "execution_count": null,
   "metadata": {},
   "outputs": [],
   "source": [
    "plot()\n",
    "gr(fmt=:png)\n",
    "for i = 7:10\n",
    "    plot!([collect(1:N)],[TOS_SCPS.SS.traj.X[i,:]],\n",
    "        xlabel = \"q\",\n",
    "        ylabel = \"y\",\n",
    "        legend = :none)\n",
    "end\n",
    "plot!()"
   ]
  },
  {
   "cell_type": "code",
   "execution_count": null,
   "metadata": {},
   "outputs": [],
   "source": [
    "plot()\n",
    "gr(fmt=:png)\n",
    "plot!([collect(1:N)],[TOS_SCPS.SS.traj.X[1,:]],\n",
    "    xlabel = \"q\",\n",
    "    ylabel = \"y\",\n",
    "    legend = :none)"
   ]
  },
  {
   "cell_type": "code",
   "execution_count": null,
   "metadata": {},
   "outputs": [],
   "source": [
    "using AstrobeeRobot\n",
    "\n",
    "# Animate Astrobee trajectory\n",
    "vis = Visualizer()\n",
    "delete!(vis)\n",
    "\n",
    "vis[:goal]\n",
    "for (idx,obs) in enumerate(env.keepout_zones)\n",
    "    setobject!(vis[:goal][:goal], \n",
    "        Object(HyperSphere(Point3f0(x_goal[1:3]), 0.1f0),\n",
    "            MeshBasicMaterial(color=RGBA(0,1.0,0.,0.3))))\n",
    "end\n",
    "\n",
    "vis[:workspace]\n",
    "for (idx,ws) in enumerate(env.keepin_zones)\n",
    "    if idx in (5,8)\n",
    "        setobject!(vis[:workspace][Symbol(string(\"ws\",idx))],\n",
    "            Object(ws, MeshBasicMaterial(color=RGBA(0.95,0.93,0.26,0.3), depthWrite=false)))\n",
    "    else\n",
    "        setobject!(vis[:workspace][Symbol(string(\"ws\",idx))],\n",
    "            Object(ws, MeshBasicMaterial(color=RGBA(0.95,0.93,0.26,0.3))))\n",
    "    end\n",
    "end\n",
    "\n",
    "vis[:obstacle]\n",
    "for (idx,ws) in enumerate(env.obstacle_set)\n",
    "    setobject!(vis[:workspace][Symbol(string(\"ws\",idx+length(env.keepin_zones)))],\n",
    "        Object(ws,MeshBasicMaterial(color=RGBA(0.95,0.26,0.26,0.3))))\n",
    "end\n",
    "\n",
    "ab = Astrobee()\n",
    "mvis = MechanismVisualizer(\n",
    "    ab.mechanism,\n",
    "    URDFVisuals(AstrobeeRobot.urdfpath(), package_path=[dirname(dirname(AstrobeeRobot.urdfpath()))]),\n",
    "    vis);\n",
    "\n",
    "speed_factor = 3\n",
    "\n",
    "Qs = Vector{Vector{Float64}}(0)\n",
    "for k in 1:speed_factor:N\n",
    "#     q = [quat_inv(TOS_SCP.SCPS.traj.X[7:10,k]); TOS_SCP.SCPS.traj.X[1:3,k]]\n",
    "    q = [quat_inv(TOS_SCPS.SS.traj.X[7:10,k]); TOS_SCPS.SS.traj.X[1:3,k]]\n",
    "    push!(Qs,q)\n",
    "end\n",
    "\n",
    "trans = Translation(14., -1., 7.)\n",
    "rot = LinearMap(RotZ(-0.6)) ∘ LinearMap(RotY(-0.2))\n",
    "settransform!(vis[\"/Cameras/default\"], trans ∘ rot)\n",
    "setprop!(vis[\"/Cameras/default/rotated/<object>\"], \"zoom\", 1.9)\n",
    "setprop!(vis[\"/Cameras/default/rotated/<object>\"], \"near\", 0.05)\n",
    "\n",
    "sleep(3)\n",
    "setanimation!(mvis,1:length(Qs),Qs)\n",
    "\n",
    "plot_in_cell = false\n",
    "plot_in_cell ? IJuliaCell(vis) : open(vis)"
   ]
  },
  {
   "cell_type": "code",
   "execution_count": null,
   "metadata": {
    "scrolled": true
   },
   "outputs": [],
   "source": [
    "x_sol = JuMP.value.(x[1,:])\n",
    "# y_sol = JuMP.value.(x[2,:])\n"
   ]
  },
  {
   "cell_type": "code",
   "execution_count": null,
   "metadata": {},
   "outputs": [],
   "source": [
    "p0 = -JuMP.dual.(con_init)"
   ]
  },
  {
   "cell_type": "code",
   "execution_count": null,
   "metadata": {},
   "outputs": [],
   "source": [
    "# @show TOS_SCPS.SCPS.dual\n",
    "dt = tf_guess/(N-1)\n",
    "tspan = (0., tf_guess)\n",
    "SP = ShootingProblem(TOP, TOS_SCPS.SCPS)\n",
    "x0 = [x_init; p0]\n",
    "prob = ODEProblem(shooting_ode!, x0, tspan, SP)\n",
    "sol = DifferentialEquations.solve(prob, dtmin=dt, force_dtmin=true, saveat=dt);"
   ]
  },
  {
   "cell_type": "code",
   "execution_count": null,
   "metadata": {},
   "outputs": [],
   "source": [
    "X_ODE = zeros(13,N)\n",
    "for i = 1:N\n",
    "    X_ODE[:,i] = sol.u[i][1:13]\n",
    "end\n",
    "X_ODE\n",
    "# size(sol.u[end])"
   ]
  },
  {
   "cell_type": "code",
   "execution_count": null,
   "metadata": {},
   "outputs": [],
   "source": [
    "x[:,1]"
   ]
  },
  {
   "cell_type": "code",
   "execution_count": null,
   "metadata": {},
   "outputs": [],
   "source": [
    "function astrobee_dynamics(x, u, model, robot, j)\n",
    "    x_dim, u_dim = model.x_dim, model.u_dim\n",
    "    mass = robot.mass\n",
    "    F, M = u[1:3], u[4:6]\n",
    "    qx, qy, qz, qw = x[7:10]\n",
    "    ωx, ωy, ωz = x[11:13]\n",
    "    con_vec = Vector(x_dim)\n",
    "    \n",
    "    con_vec[1:3] = x[4:6]\n",
    "    con_vec[4:6] = F/mass\n",
    "    con_vec[7] = 1/2*( ωz*qy - ωy*qz + ωx*qw)\n",
    "    con_vec[8] = 1/2*(-ωz*qx + ωx*qz + ωy*qw)\n",
    "    con_vec[9] = 1/2*( ωy*qx - ωx*qy + ωz*qw)\n",
    "    con_vec[10] = 1/2*(-ωx*qx - ωy*qy - ωz*qz)\n",
    "    con_vec[11:13] = M\n",
    "    return con_vec[j]\n",
    "end\n",
    "    \n",
    "    "
   ]
  },
  {
   "cell_type": "code",
   "execution_count": null,
   "metadata": {},
   "outputs": [],
   "source": [
    "Vector(4)"
   ]
  },
  {
   "cell_type": "code",
   "execution_count": null,
   "metadata": {},
   "outputs": [],
   "source": []
  }
 ],
 "metadata": {
  "kernelspec": {
   "display_name": "Julia 0.7.0",
   "language": "julia",
   "name": "julia-0.7"
  },
  "language_info": {
   "file_extension": ".jl",
   "mimetype": "application/julia",
   "name": "julia",
   "version": "0.7.0"
  }
 },
 "nbformat": 4,
 "nbformat_minor": 2
}
