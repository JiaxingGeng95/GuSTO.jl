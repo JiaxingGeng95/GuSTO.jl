{
 "cells": [
  {
   "cell_type": "code",
   "execution_count": null,
   "metadata": {},
   "outputs": [],
   "source": [
    "using GuSTO\n",
    "using AstrobeeRobot"
   ]
  },
  {
   "cell_type": "code",
   "execution_count": null,
   "metadata": {},
   "outputs": [],
   "source": [
    "robot = Astrobee2D()\n",
    "model = AstrobeeSE2()\n",
    "env = Table();"
   ]
  },
  {
   "cell_type": "code",
   "execution_count": null,
   "metadata": {},
   "outputs": [],
   "source": [
    "tbot2radius = 0.17\n",
    "tbot2height = 0.41\n",
    "\n",
    "tbot2_pos = []\n",
    "push!(tbot2_pos, [0.7, 0.7])\n",
    "push!(tbot2_pos, [0.1, 0.])\n",
    "push!(tbot2_pos, [0., -0.5])\n",
    "\n",
    "tbot3_pos = []\n",
    "push!(tbot3_pos, [0.5, -0.5])\n",
    "\n",
    "for pos in tbot2_pos\n",
    "    push!(env.obstacle_set, Cylinder(Point(pos..., -tbot2height+0.01), Point3(0., 0., tbot2height), tbot2radius))\n",
    "end"
   ]
  },
  {
   "cell_type": "code",
   "execution_count": null,
   "metadata": {},
   "outputs": [],
   "source": [
    "function init_traj_table(TOP::TrajectoryOptimizationProblem{Astrobee2D{T}, AstrobeeSE2, E}) where {T,E}\n",
    "  model, x_init, x_goal = TOP.PD.model, TOP.PD.x_init, TOP.PD.x_goal\n",
    "  x_dim, u_dim, N, tf_guess = model.x_dim, model.u_dim, TOP.N, TOP.tf_guess\n",
    "  N = TOP.N\n",
    "\n",
    "  x_mid = [0.5; 0.5; 0.; zeros(3)]\n",
    "\n",
    "  X = [hcat(linspace(x_init, x_mid, div(N,2))...) hcat(linspace(x_mid, x_goal, N-div(N,2))...)]\n",
    "  U = zeros(u_dim, N)\n",
    "  Trajectory(X, U, tf_guess)\n",
    "end"
   ]
  },
  {
   "cell_type": "code",
   "execution_count": null,
   "metadata": {},
   "outputs": [],
   "source": [
    "N = 36\n",
    "\n",
    "x_init = [-0.25;0.4;0;0;0;0]\n",
    "x_goal = [0.7;-0.5;0;0;0;0]\n",
    "\n",
    "tf_guess = 41.\n",
    "\n",
    "PD = ProblemDefinition(robot, model, env, x_init, x_goal)\n",
    "\n",
    "TOP = TrajectoryOptimizationProblem(PD, N, tf_guess, fixed_final_time=true)\n",
    "TOSgusto = TrajectoryOptimizationSolution(TOP)\n",
    "\n",
    "SCPP = solve_SCP!(TOSgusto, TOP, solve_gusto_cvx!, init_traj_straightline, \"Gurobi\", OutputFlag=0);"
   ]
  },
  {
   "cell_type": "code",
   "execution_count": null,
   "metadata": {},
   "outputs": [],
   "source": [
    "@show TOSgusto.SCPS.successful\n",
    "@show TOSgusto.SCPS.converged\n",
    "@show TOSgusto.SCPS.iterations\n",
    "@show TOSgusto.SCPS.total_time\n",
    "@show TOSgusto.SCPS.accept_solution\n",
    "@show TOSgusto.SCPS.prob_status\n",
    "@show TOSgusto.SCPS.convergence_measure\n",
    "@show TOSgusto.SCPS.param.alg.omega_vec\n",
    "@show TOSgusto.SCPS.param.alg.Delta_vec\n",
    ";"
   ]
  },
  {
   "cell_type": "code",
   "execution_count": null,
   "metadata": {},
   "outputs": [],
   "source": [
    "#### Code for animating Astrobee trajectories\n",
    "vis = Visualizer()\n",
    "delete!(vis)\n",
    "\n",
    "vis[:goal]\n",
    "setobject!(vis[:goal][:goal], \n",
    "    Object(HyperSphere(Point3(x_goal[1:2]..., robot.r), 0.1),\n",
    "        MeshBasicMaterial(color=RGBA(0,1.0,0.,0.3))))\n",
    "\n",
    "vis[:table]\n",
    "table_dim = env.worldAABBmax-env.worldAABBmin\n",
    "setobject!(vis[:table][:table], \n",
    "        Object(HyperRectangle(env.worldAABBmin..., table_dim...),\n",
    "            MeshBasicMaterial(color=RGBA(0,1.0,0.,0.3))))\n",
    "\n",
    "# vis[:koz]\n",
    "# setobject!(vis[:koz][:koz], \n",
    "#         Object(env.keepout_zones[1],\n",
    "#             MeshBasicMaterial(color=RGBA(1.0,0.,0.,0.3))))\n",
    "vis[:obstacles]\n",
    "for (idx,obs) in enumerate(env.obstacle_set)\n",
    "    setobject!(vis[:obstacles][Symbol(string(\"obs\",idx))], \n",
    "        Object(obs,MeshBasicMaterial(color=RGBA(1.0,0.,0.,0.3))))\n",
    "end\n",
    "\n",
    "ab = Astrobee()\n",
    "mvis = MechanismVisualizer(\n",
    "    ab.mechanism,\n",
    "    URDFVisuals(AstrobeeRobot.urdfpath(), package_path=[dirname(dirname(AstrobeeRobot.urdfpath()))]),\n",
    "    vis);\n",
    "# q0 = 0.5*[1.; 1.; 1.; 1.]\n",
    "q0 = sqrt(2)*[1.; 0.; -1.; 0.]\n",
    "Qs = Vector{Float64}[]\n",
    "\n",
    "trans = Translation(0., 1., -1.5)\n",
    "rot = LinearMap(RotZ(-pi/2)) ∘ LinearMap(RotY(-0.5)) ∘ LinearMap(RotY(pi))\n",
    "settransform!(vis[\"/Cameras/default\"], trans ∘ rot)\n",
    "setprop!(vis[\"/Cameras/default/rotated/<object>\"], \"zoom\", 1.7)\n",
    "setprop!(vis[\"/Cameras/default/rotated/<object>\"], \"near\", 0.05)\n",
    "\n",
    "speed_factor = 5\n",
    "\n",
    "for k in 1:speed_factor:N\n",
    "    q = [quat_inv(quat_multiply(mrp2quat([0.; 0.; tan(TOSgusto.SCPS.traj.X[3,k]/4)]), q0)); [TOSgusto.SCPS.traj.X[1:2,k]; -robot.r]]\n",
    "    push!(Qs,q)\n",
    "end\n",
    "\n",
    "sleep(3)\n",
    "setanimation!(mvis,1:length(Qs),Qs)\n",
    "\n",
    "plot_in_cell = true\n",
    "plot_in_cell ? IJuliaCell(vis) : open(vis)"
   ]
  }
 ],
 "metadata": {
  "kernelspec": {
   "display_name": "Julia 0.6.4",
   "language": "julia",
   "name": "julia-0.6"
  },
  "language_info": {
   "file_extension": ".jl",
   "mimetype": "application/julia",
   "name": "julia",
   "version": "0.6.4"
  }
 },
 "nbformat": 4,
 "nbformat_minor": 2
}
