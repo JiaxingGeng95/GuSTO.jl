{
 "cells": [
  {
   "cell_type": "code",
   "execution_count": 5,
   "metadata": {},
   "outputs": [],
   "source": [
    "using GuSTO\n",
    "# include(\"../src/GuSTO.jl\")\n",
    "using AstrobeeRobot\n",
    "using GeometryTypes: Point3, HyperSphere\n",
    "using MeshCat, MeshCatMechanisms, CoordinateTransformations\n",
    "import ColorTypes: RGBA"
   ]
  },
  {
   "cell_type": "code",
   "execution_count": 6,
   "metadata": {},
   "outputs": [
    {
     "name": "stderr",
     "output_type": "stream",
     "text": [
      "┌ Warning: `Array{T, 1}(m::Int) where T` is deprecated, use `Array{T, 1}(undef, m)` instead.\n",
      "│   caller = ISSCorner{Float64}() at iss_corner.jl:12\n",
      "└ @ Main /home/bylard/.julia/dev/GuSTO/src/environment/iss_corner.jl:12\n",
      "┌ Warning: `Pkg.dir(pkgname, paths...)` is deprecated; instead, do `import GuSTO; joinpath(dirname(pathof(GuSTO)), \"..\", paths...)`.\n",
      "└ @ Pkg.API /buildworker/worker/package_linux64/build/usr/share/julia/stdlib/v0.7/Pkg/src/API.jl:454\n",
      "┌ Warning: `Array{T, 1}(m::Int) where T` is deprecated, use `Array{T, 1}(undef, m)` instead.\n",
      "│   caller = ISSCorner{Float64}() at iss_corner.jl:19\n",
      "└ @ Main /home/bylard/.julia/dev/GuSTO/src/environment/iss_corner.jl:19\n",
      "┌ Warning: `Array{T, 1}(m::Int) where T` is deprecated, use `Array{T, 1}(undef, m)` instead.\n",
      "│   caller = ISSCorner{Float64}() at iss_corner.jl:25\n",
      "└ @ Main /home/bylard/.julia/dev/GuSTO/src/environment/iss_corner.jl:25\n",
      "\u001b[33m\u001b[1mWARNING: \u001b[22m\u001b[39m\u001b[33mStereographic projection undefined for (0,0,0,-1)\u001b[39m\n",
      "┌ Warning: `x ^ p::Integer` is deprecated, use `Base.power_by_squaring(x, p)` instead.\n",
      "│   caller = macro expansion at sysimg.jl:0 [inlined]\n",
      "└ @ Core ./sysimg.jl:0\n"
     ]
    },
    {
     "name": "stdout",
     "output_type": "stream",
     "text": [
      "Academic license - for non-commercial use only\n",
      "Academic license - for non-commercial use only\n",
      "Academic license - for non-commercial use only\n"
     ]
    },
    {
     "name": "stderr",
     "output_type": "stream",
     "text": [
      "┌ Warning: Unable to use cached solution to warmstart problem.\n",
      "│                 (Perhaps the number of variables or constraints in the problem have changed since you last solved it?)\n",
      "│                 Warmstart may be ineffective.\n",
      "└ @ Convex /home/bylard/.julia/packages/Convex/Y3Bcx/src/solution.jl:66\n",
      "┌ Warning: Unable to use cached solution to warmstart problem.\n",
      "│                 (Perhaps the number of variables or constraints in the problem have changed since you last solved it?)\n",
      "│                 Warmstart may be ineffective.\n",
      "└ @ Convex /home/bylard/.julia/packages/Convex/Y3Bcx/src/solution.jl:66\n"
     ]
    }
   ],
   "source": [
    "robot = Astrobee3D()\n",
    "model = AstrobeeSE3()\n",
    "env = ISSCorner();\n",
    "\n",
    "x_init = [11.2; -0.8; 5.6]\n",
    "x_goal = [10.2; 6.9; 4.2]\n",
    "\n",
    "# x_init = [x_init; zeros(3); quat2mrp(sqrt(1/3)*[1.; 0.; 1.; 1.]); zeros(3)]\n",
    "# x_goal = [x_goal; zeros(3); quat2mrp([-0.5; 0.5; -0.5; 0.5]); zeros(3)]\n",
    "x_init = [x_init; zeros(3); GuSTO.quat2mrp([0.; 0.; 0.; 1.]); zeros(3)]\n",
    "x_goal = [x_goal; zeros(3); GuSTO.quat2mrp([0.; 0.; 0.; -1.]); zeros(3)]\n",
    "# x_init = [x_init; zeros(3); quat2mrp([0.; 0.; 0.; 1.]); zeros(3)]\n",
    "# x_goal = [x_goal; zeros(3); quat2mrp([0.; 0.; 0.; -1.]); zeros(3)]\n",
    "\n",
    "N = 30\n",
    "tf_guess = 70.\n",
    "\n",
    "PD = ProblemDefinition(robot, model, env, x_init, x_goal);\n",
    "TOPgusto = TrajectoryOptimizationProblem(PD, N, tf_guess, fixed_final_time=true)\n",
    "TOSgusto = TrajectoryOptimizationSolution(TOPgusto)\n",
    "solve_SCP!(TOSgusto, TOPgusto, solve_gusto_jump!, init_traj_straightline, \"Gurobi\", OutputFlag=0)"
   ]
  },
  {
   "cell_type": "code",
   "execution_count": 7,
   "metadata": {},
   "outputs": [
    {
     "name": "stdout",
     "output_type": "stream",
     "text": [
      "(TOSgusto.SCPS).converged = true\n",
      "(TOSgusto.SCPS).iterations = 3\n",
      "(TOSgusto.SCPS).total_time = 14.278333732\n",
      "(TOSgusto.SCPS).accept_solution = Bool[true, true, true, true]\n",
      "(TOSgusto.SCPS).prob_status = Symbol[:NA, :Optimal, :Optimal, :Optimal]\n",
      "(TOSgusto.SCPS).convergence_measure = [0.0, 0.0649572, 0.0120937, 0.0020919]\n",
      "(((TOSgusto.SCPS).param).alg).ω_vec = [1.0, 1.0, 1.0, 1.0]\n",
      "(((TOSgusto.SCPS).param).alg).Δ_vec = [10.0, 10.0, 10.0, 10.0]\n"
     ]
    }
   ],
   "source": [
    "@show TOSgusto.SCPS.converged\n",
    "@show TOSgusto.SCPS.iterations\n",
    "@show TOSgusto.SCPS.total_time\n",
    "@show TOSgusto.SCPS.accept_solution\n",
    "@show TOSgusto.SCPS.prob_status\n",
    "@show TOSgusto.SCPS.convergence_measure\n",
    "@show TOSgusto.SCPS.param.alg.ω_vec\n",
    "@show TOSgusto.SCPS.param.alg.Δ_vec \n",
    ";"
   ]
  },
  {
   "cell_type": "code",
   "execution_count": 9,
   "metadata": {},
   "outputs": [
    {
     "name": "stdout",
     "output_type": "stream",
     "text": [
      "instantiated a floating joint\n"
     ]
    },
    {
     "name": "stderr",
     "output_type": "stream",
     "text": [
      "┌ Warning: `Array{T, 1}(m::Int) where T` is deprecated, use `Array{T, 1}(undef, m)` instead.\n",
      "│   caller = top-level scope at In[9]:36\n",
      "└ @ Core In[9]:36\n",
      "┌ Info: Serving MeshCat visualizer at http://127.0.0.1:8700\n",
      "└ @ MeshCat /home/bylard/.julia/packages/MeshCat/jt9Xz/src/servers.jl:7\n",
      "┌ Info: Listening on: Sockets.InetAddr{Sockets.IPv4}(ip\"127.0.0.1\", 0x21fc)\n",
      "└ @ HTTP.Servers /home/bylard/.julia/packages/HTTP/YjRCz/src/Servers.jl:301\n",
      "/usr/bin/google-chrome-stable: /home/bylard/.julia/v0.6/Conda/deps/usr/lib/libuuid.so.1: no version information available (required by /usr/bin/google-chrome-stable)\n",
      "/opt/google/chrome/chrome: /home/bylard/.julia/v0.6/Conda/deps/usr/lib/libuuid.so.1: no version information available (required by /opt/google/chrome/chrome)\n",
      "GLib-GIO-Message: 18:02:54.159: Using the 'memory' GSettings backend.  Your settings will not be saved or shared with other applications.\n",
      "[12068:12096:0107/180254.192255:ERROR:bus.cc(396)] Failed to connect to the bus: Failed to connect to socket /home/bylard/.julia/v0.6/Conda/deps/usr/var/run/dbus/system_bus_socket: No such file or directory\n"
     ]
    },
    {
     "data": {
      "text/plain": [
       "Process(`\u001b[4mxdg-open\u001b[24m \u001b[4mhttp://127.0.0.1:8700\u001b[24m`, ProcessExited(0))"
      ]
     },
     "execution_count": 9,
     "metadata": {},
     "output_type": "execute_result"
    },
    {
     "name": "stdout",
     "output_type": "stream",
     "text": [
      "Opening in existing browser session.\n"
     ]
    },
    {
     "name": "stderr",
     "output_type": "stream",
     "text": [
      "/proc/self/exe: /home/bylard/.julia/v0.6/Conda/deps/usr/lib/libuuid.so.1: no version information available (required by /proc/self/exe)\n",
      "┌ Info: Accept (0):  🔗    0↑     0↓    1s 127.0.0.1:8700:8700 ≣16\n",
      "└ @ HTTP.Servers /home/bylard/.julia/packages/HTTP/YjRCz/src/Servers.jl:343\n",
      "┌ Info: Accept (1):  🔗    0↑     0↓    1s 127.0.0.1:8700:8700 ≣16\n",
      "└ @ HTTP.Servers /home/bylard/.julia/packages/HTTP/YjRCz/src/Servers.jl:343\n",
      "┌ Info: Accept (2):  🔗    0↑     0↓    0s 127.0.0.1:8700:8700 ≣16\n",
      "└ @ HTTP.Servers /home/bylard/.julia/packages/HTTP/YjRCz/src/Servers.jl:343\n",
      "┌ Info: Accept (3):  🔗    0↑     0↓    0s 127.0.0.1:8700:8700 ≣16\n",
      "└ @ HTTP.Servers /home/bylard/.julia/packages/HTTP/YjRCz/src/Servers.jl:343\n",
      "┌ Warning: `wait(t::Task)` is deprecated, use `fetch(t)` instead.\n",
      "│   caller = macro expansion at task.jl:265 [inlined]\n",
      "└ @ Core ./task.jl:265\n",
      "Error handling websocket connection:\n",
      "\u001b[91mWebSockets.WebSocketClosedError(\"ws|server respond to OPCODE_CLOSE 1001:Going Away\")\u001b[39m┌ Info: Closed (3):  💀    1↑     1↓🔒  19s 127.0.0.1:8700:8700 ≣16\n",
      "└ @ HTTP.Servers /home/bylard/.julia/packages/HTTP/YjRCz/src/Servers.jl:351\n",
      "┌ Info: Closed (0):  💀    1↑     1↓🔒 491s 127.0.0.1:8700:8700 ≣16\n",
      "└ @ HTTP.Servers /home/bylard/.julia/packages/HTTP/YjRCz/src/Servers.jl:351\n",
      "┌ Info: Closed (1):  💀    2↑     2↓🔒 484s 127.0.0.1:8700:8700 ≣16\n",
      "└ @ HTTP.Servers /home/bylard/.julia/packages/HTTP/YjRCz/src/Servers.jl:351\n",
      "┌ Info: Closed (2):  💀    2↑     2↓🔒 484s 127.0.0.1:8700:8700 ≣16\n",
      "└ @ HTTP.Servers /home/bylard/.julia/packages/HTTP/YjRCz/src/Servers.jl:351\n"
     ]
    }
   ],
   "source": [
    "# Animate Astrobee trajectory\n",
    "vis = Visualizer()\n",
    "delete!(vis)\n",
    "\n",
    "vis[:goal]\n",
    "for (idx,obs) in enumerate(env.keepout_zones)\n",
    "    setobject!(vis[:goal][:goal], \n",
    "        Object(HyperSphere(Point3(x_goal[1:3]), 0.1),\n",
    "            MeshBasicMaterial(color=RGBA(0,1.0,0.,0.3))))\n",
    "end\n",
    "\n",
    "vis[:workspace]\n",
    "for (idx,ws) in enumerate(env.keepin_zones)\n",
    "    if idx in (5,8)\n",
    "        setobject!(vis[:workspace][Symbol(string(\"ws\",idx))],\n",
    "            Object(ws, MeshBasicMaterial(color=RGBA(0.95,0.93,0.26,0.3), depthWrite=false)))\n",
    "    else\n",
    "        setobject!(vis[:workspace][Symbol(string(\"ws\",idx))],\n",
    "            Object(ws, MeshBasicMaterial(color=RGBA(0.95,0.93,0.26,0.3))))\n",
    "    end\n",
    "end\n",
    "\n",
    "vis[:obstacle]\n",
    "for (idx,ws) in enumerate(env.obstacle_set)\n",
    "    setobject!(vis[:workspace][Symbol(string(\"ws\",idx+length(env.keepin_zones)))],\n",
    "        Object(ws,MeshBasicMaterial(color=RGBA(0.95,0.26,0.26,0.3))))\n",
    "end\n",
    "\n",
    "ab = Astrobee()\n",
    "mvis = MechanismVisualizer(\n",
    "    ab.mechanism,\n",
    "    URDFVisuals(AstrobeeRobot.urdfpath(), package_path=[dirname(dirname(AstrobeeRobot.urdfpath()))]),\n",
    "    vis);\n",
    "\n",
    "speed_factor = 1\n",
    "\n",
    "Qs = Vector{Vector{Float64}}(0)\n",
    "for k in 1:speed_factor:N\n",
    "    q = [GuSTO.quat_inv(GuSTO.mrp2quat(TOSgusto.SCPS.traj.X[7:9,k]));TOSgusto.SCPS.traj.X[1:3,k]]\n",
    "#     q = [quat_inv(mrp2quat(TOSgusto.SCPS.traj.X[7:9,k]));TOSgusto.SCPS.traj.X[1:3,k]]\n",
    "    push!(Qs,q)\n",
    "end\n",
    "\n",
    "trans = Translation(14., -1., 7.)\n",
    "rot = LinearMap(RotZ(-0.6)) ∘ LinearMap(RotY(-0.2))\n",
    "settransform!(vis[\"/Cameras/default\"], trans ∘ rot)\n",
    "setprop!(vis[\"/Cameras/default/rotated/<object>\"], \"zoom\", 1.9)\n",
    "setprop!(vis[\"/Cameras/default/rotated/<object>\"], \"near\", 0.05)\n",
    "\n",
    "sleep(3)\n",
    "setanimation!(mvis,1:length(Qs),Qs)\n",
    "\n",
    "plot_in_cell = false\n",
    "plot_in_cell ? IJuliaCell(vis) : open(vis)"
   ]
  },
  {
   "cell_type": "code",
   "execution_count": null,
   "metadata": {},
   "outputs": [],
   "source": []
  }
 ],
 "metadata": {
  "kernelspec": {
   "display_name": "Julia 0.7.0",
   "language": "julia",
   "name": "julia-0.7"
  },
  "language_info": {
   "file_extension": ".jl",
   "mimetype": "application/julia",
   "name": "julia",
   "version": "0.7.0"
  }
 },
 "nbformat": 4,
 "nbformat_minor": 2
}
