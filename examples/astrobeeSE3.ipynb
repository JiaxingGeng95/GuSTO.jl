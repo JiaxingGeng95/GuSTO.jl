{
 "cells": [
  {
   "cell_type": "code",
   "execution_count": 1,
   "metadata": {},
   "outputs": [
    {
     "data": {
      "text/html": [
       "    <script class='js-collapse-script'>\n",
       "        var curMatch =\n",
       "            window.location.href\n",
       "            .match(/(.*?)\\/notebooks\\/.*\\.ipynb/);\n",
       "\n",
       "        curMatch = curMatch ||\n",
       "            window.location.href\n",
       "            .match(/(.*?)\\/apps\\/.*\\.ipynb/);\n",
       "\n",
       "        if ( curMatch ) {\n",
       "            $('head').append('<base href=\"' + curMatch[1] + '/\">');\n",
       "        }\n",
       "    </script>\n"
      ],
      "text/plain": [
       "HTML{String}(\"    <script class='js-collapse-script'>\\n        var curMatch =\\n            window.location.href\\n            .match(/(.*?)\\\\/notebooks\\\\/.*\\\\.ipynb/);\\n\\n        curMatch = curMatch ||\\n            window.location.href\\n            .match(/(.*?)\\\\/apps\\\\/.*\\\\.ipynb/);\\n\\n        if ( curMatch ) {\\n            \\$('head').append('<base href=\\\"' + curMatch[1] + '/\\\">');\\n        }\\n    </script>\\n\")"
      ]
     },
     "metadata": {},
     "output_type": "display_data"
    },
    {
     "data": {
      "text/html": [
       "<script class='js-collapse-script' src='/assetserver/d8e061bae5267c3a13d0bb486856b0b9ddfee6ca-assets/webio/dist/bundle.js'></script>"
      ],
      "text/plain": [
       "HTML{String}(\"<script class='js-collapse-script' src='/assetserver/d8e061bae5267c3a13d0bb486856b0b9ddfee6ca-assets/webio/dist/bundle.js'></script>\")"
      ]
     },
     "metadata": {},
     "output_type": "display_data"
    },
    {
     "data": {
      "text/html": [
       "<script class='js-collapse-script' src='/assetserver/d8e061bae5267c3a13d0bb486856b0b9ddfee6ca-assets/providers/ijulia_setup.js'></script>"
      ],
      "text/plain": [
       "HTML{String}(\"<script class='js-collapse-script' src='/assetserver/d8e061bae5267c3a13d0bb486856b0b9ddfee6ca-assets/providers/ijulia_setup.js'></script>\")"
      ]
     },
     "metadata": {},
     "output_type": "display_data"
    },
    {
     "data": {
      "text/html": [
       "  <script class='js-collapse-script'>\n",
       "    $('.js-collapse-script').parent('.output_subarea').css('padding', '0');\n",
       "  </script>\n"
      ],
      "text/plain": [
       "HTML{String}(\"  <script class='js-collapse-script'>\\n    \\$('.js-collapse-script').parent('.output_subarea').css('padding', '0');\\n  </script>\\n\")"
      ]
     },
     "metadata": {},
     "output_type": "display_data"
    },
    {
     "name": "stderr",
     "output_type": "stream",
     "text": [
      "\u001b[1m\u001b[36mINFO: \u001b[39m\u001b[22m\u001b[36mLoading HttpServer methods...\n",
      "\u001b[39m"
     ]
    },
    {
     "name": "stdout",
     "output_type": "stream",
     "text": [
      "WARNING: Could not add directory /home/bylard/Software/bullet3-2.87/bullet-build/src to clang search path!\n"
     ]
    },
    {
     "name": "stderr",
     "output_type": "stream",
     "text": [
      "WARNING: using FixedSizeArrays.Point in module Main conflicts with an existing identifier.\n",
      "WARNING: using FixedSizeArrays.Vec in module Main conflicts with an existing identifier.\n",
      "WARNING: requiring \"GuSTO\" in module \"Main\" did not define a corresponding module.\n",
      "\n",
      "WARNING: deprecated syntax \"abstract Vexity\".\n",
      "Use \"abstract type Vexity end\" instead.\n",
      "\n",
      "WARNING: deprecated syntax \"abstract Monotonicity\".\n",
      "Use \"abstract type Monotonicity end\" instead.\n",
      "\n",
      "WARNING: deprecated syntax \"abstract Sign\".\n",
      "Use \"abstract type Sign end\" instead.\n",
      "\n",
      "WARNING: deprecated syntax \"abstract AbstractExpr\".\n",
      "Use \"abstract type AbstractExpr end\" instead.\n",
      "\n",
      "WARNING: deprecated syntax \"abstract Constraint\".\n",
      "Use \"abstract type Constraint end\" instead.\n",
      "\n",
      "WARNING: deprecated syntax \"typealias Value Union{Number,AbstractArray}\".\n",
      "Use \"const Value = Union{Number,AbstractArray}\" instead.\n",
      "\n",
      "WARNING: deprecated syntax \"typealias ValueOrNothing Union{Value,Void}\".\n",
      "Use \"const ValueOrNothing = Union{Value,Void}\" instead.\n",
      "\n",
      "WARNING: deprecated syntax \"typealias AbstractExprOrValue Union{AbstractExpr,Value}\".\n",
      "Use \"const AbstractExprOrValue = Union{AbstractExpr,Value}\" instead.\n",
      "\n",
      "WARNING: deprecated syntax \"typealias Float64OrNothing Union{Float64,Void}\".\n",
      "Use \"const Float64OrNothing = Union{Float64,Void}\" instead.\n",
      "\n",
      "WARNING: deprecated syntax \"typealias ArrayOrNothing Union{AbstractArray,Void}\".\n",
      "Use \"const ArrayOrNothing = Union{AbstractArray,Void}\" instead.\n"
     ]
    }
   ],
   "source": [
    "using GuSTO\n",
    "using AstrobeeRobot"
   ]
  },
  {
   "cell_type": "code",
   "execution_count": 10,
   "metadata": {},
   "outputs": [
    {
     "name": "stdout",
     "output_type": "stream",
     "text": [
      "Academic license - for non-commercial use only\n"
     ]
    },
    {
     "name": "stderr",
     "output_type": "stream",
     "text": [
      "\u001b[1m\u001b[33mWARNING: \u001b[39m\u001b[22m\u001b[33mStereographic projection undefined for (0,0,0,-1)\u001b[39m\n",
      "\u001b[1m\u001b[33mWARNING: \u001b[39m\u001b[22m\u001b[33mArray(::Type{T}, d::NTuple{N, Int}) where {T, N} is deprecated, use Array{T}(d) instead.\u001b[39m\n",
      "Stacktrace:\n",
      " [1] \u001b[1mdepwarn\u001b[22m\u001b[22m\u001b[1m(\u001b[22m\u001b[22m::String, ::Symbol\u001b[1m)\u001b[22m\u001b[22m at \u001b[1m./deprecated.jl:70\u001b[22m\u001b[22m\n",
      " [2] \u001b[1mArray\u001b[22m\u001b[22m\u001b[1m(\u001b[22m\u001b[22m::Type{Float64}, ::Tuple{Int64,Int64}\u001b[1m)\u001b[22m\u001b[22m at \u001b[1m./deprecated.jl:57\u001b[22m\u001b[22m\n",
      " [3] \u001b[1mfix!\u001b[22m\u001b[22m at \u001b[1m/home/bylard/.julia/v0.6/Convex/src/variable.jl:127\u001b[22m\u001b[22m [inlined]\n",
      " [4] \u001b[1mSCPVariables{Convex.Variable,Convex.Variable}\u001b[22m\u001b[22m\u001b[1m(\u001b[22m\u001b[22m::SCPProblem{Astrobee3D{Float64},AstrobeeSE3,ISSCorner{Float64}}\u001b[1m)\u001b[22m\u001b[22m at \u001b[1m/home/bylard/.julia/v0.6/GuSTO/src/types.jl:97\u001b[22m\u001b[22m\n",
      " [5] \u001b[1m#solve_gusto_cvx!#8\u001b[22m\u001b[22m\u001b[1m(\u001b[22m\u001b[22m::Array{Any,1}, ::Function, ::SCPSolution, ::SCPProblem{Astrobee3D{Float64},AstrobeeSE3,ISSCorner{Float64}}, ::String, ::Int64, ::Bool\u001b[1m)\u001b[22m\u001b[22m at \u001b[1m/home/bylard/.julia/v0.6/GuSTO/src/scp/scp_gusto.jl:59\u001b[22m\u001b[22m\n",
      " [6] \u001b[1m(::#kw##solve_gusto_cvx!)\u001b[22m\u001b[22m\u001b[1m(\u001b[22m\u001b[22m::Array{Any,1}, ::#solve_gusto_cvx!, ::SCPSolution, ::SCPProblem{Astrobee3D{Float64},AstrobeeSE3,ISSCorner{Float64}}, ::String, ::Int64, ::Bool\u001b[1m)\u001b[22m\u001b[22m at \u001b[1m./<missing>:0\u001b[22m\u001b[22m\n",
      " [7] \u001b[1m#solve_SCP!#7\u001b[22m\u001b[22m\u001b[1m(\u001b[22m\u001b[22m::Array{Any,1}, ::Function, ::TrajectoryOptimizationSolution, ::TrajectoryOptimizationProblem{Astrobee3D{Float64},AstrobeeSE3,ISSCorner{Float64}}, ::#solve_gusto_cvx!, ::#init_traj_straightline, ::String\u001b[1m)\u001b[22m\u001b[22m at \u001b[1m/home/bylard/.julia/v0.6/GuSTO/src/traj_opt.jl:49\u001b[22m\u001b[22m\n",
      " [8] \u001b[1m(::#kw##solve_SCP!)\u001b[22m\u001b[22m\u001b[1m(\u001b[22m\u001b[22m::Array{Any,1}, ::#solve_SCP!, ::TrajectoryOptimizationSolution, ::TrajectoryOptimizationProblem{Astrobee3D{Float64},AstrobeeSE3,ISSCorner{Float64}}, ::Function, ::Function, ::String\u001b[1m)\u001b[22m\u001b[22m at \u001b[1m./<missing>:0\u001b[22m\u001b[22m\n",
      " [9] \u001b[1minclude_string\u001b[22m\u001b[22m\u001b[1m(\u001b[22m\u001b[22m::String, ::String\u001b[1m)\u001b[22m\u001b[22m at \u001b[1m./loading.jl:522\u001b[22m\u001b[22m\n",
      " [10] \u001b[1mexecute_request\u001b[22m\u001b[22m\u001b[1m(\u001b[22m\u001b[22m::ZMQ.Socket, ::IJulia.Msg\u001b[1m)\u001b[22m\u001b[22m at \u001b[1m/home/bylard/.julia/v0.6/IJulia/src/execute_request.jl:193\u001b[22m\u001b[22m\n",
      " [11] \u001b[1m(::Compat.#inner#6{Array{Any,1},IJulia.#execute_request,Tuple{ZMQ.Socket,IJulia.Msg}})\u001b[22m\u001b[22m\u001b[1m(\u001b[22m\u001b[22m\u001b[1m)\u001b[22m\u001b[22m at \u001b[1m/home/bylard/.julia/v0.6/Compat/src/Compat.jl:189\u001b[22m\u001b[22m\n",
      " [12] \u001b[1meventloop\u001b[22m\u001b[22m\u001b[1m(\u001b[22m\u001b[22m::ZMQ.Socket\u001b[1m)\u001b[22m\u001b[22m at \u001b[1m/home/bylard/.julia/v0.6/IJulia/src/eventloop.jl:8\u001b[22m\u001b[22m\n",
      " [13] \u001b[1m(::IJulia.##13#16)\u001b[22m\u001b[22m\u001b[1m(\u001b[22m\u001b[22m\u001b[1m)\u001b[22m\u001b[22m at \u001b[1m./task.jl:335\u001b[22m\u001b[22m\n",
      "while loading In[10], in expression starting on line 20\n",
      "\u001b[1m\u001b[33mWARNING: \u001b[39m\u001b[22m\u001b[33mArray(::Type{T}, m::Int) where T is deprecated, use Array{T}(m) instead.\u001b[39m\n",
      "Stacktrace:\n",
      " [1] \u001b[1mdepwarn\u001b[22m\u001b[22m\u001b[1m(\u001b[22m\u001b[22m::String, ::Symbol\u001b[1m)\u001b[22m\u001b[22m at \u001b[1m./deprecated.jl:70\u001b[22m\u001b[22m\n",
      " [2] \u001b[1mArray\u001b[22m\u001b[22m\u001b[1m(\u001b[22m\u001b[22m::Type{Convex.ConicConstr}, ::Int64\u001b[1m)\u001b[22m\u001b[22m at \u001b[1m./deprecated.jl:57\u001b[22m\u001b[22m\n",
      " [3] \u001b[1mconic_form!\u001b[22m\u001b[22m\u001b[1m(\u001b[22m\u001b[22m::Convex.SOCElemConstraint, ::Convex.UniqueConicForms\u001b[1m)\u001b[22m\u001b[22m at \u001b[1m/home/bylard/.julia/v0.6/Convex/src/constraints/soc_constraints.jl:50\u001b[22m\u001b[22m\n",
      " [4] \u001b[1mconic_form!\u001b[22m\u001b[22m\u001b[1m(\u001b[22m\u001b[22m::Convex.QolElemAtom, ::Convex.UniqueConicForms\u001b[1m)\u001b[22m\u001b[22m at \u001b[1m/home/bylard/.julia/v0.6/Convex/src/atoms/second_order_cone/qol_elementwise.jl:41\u001b[22m\u001b[22m\n",
      " [5] \u001b[1mconic_form!\u001b[22m\u001b[22m\u001b[1m(\u001b[22m\u001b[22m::Convex.AdditionAtom, ::Convex.UniqueConicForms\u001b[1m)\u001b[22m\u001b[22m at \u001b[1m/home/bylard/.julia/v0.6/Convex/src/atoms/affine/add_subtract.jl:108\u001b[22m\u001b[22m\n",
      " [6] \u001b[1mconic_form!\u001b[22m\u001b[22m\u001b[1m(\u001b[22m\u001b[22m::Convex.EqConstraint, ::Convex.UniqueConicForms\u001b[1m)\u001b[22m\u001b[22m at \u001b[1m/home/bylard/.julia/v0.6/Convex/src/constraints/constraints.jl:43\u001b[22m\u001b[22m\n",
      " [7] \u001b[1mconic_form!\u001b[22m\u001b[22m\u001b[1m(\u001b[22m\u001b[22m::Convex.Problem, ::Convex.UniqueConicForms\u001b[1m)\u001b[22m\u001b[22m at \u001b[1m/home/bylard/.julia/v0.6/Convex/src/problems.jl:99\u001b[22m\u001b[22m\n",
      " [8] \u001b[1mconic_problem\u001b[22m\u001b[22m\u001b[1m(\u001b[22m\u001b[22m::Convex.Problem\u001b[1m)\u001b[22m\u001b[22m at \u001b[1m/home/bylard/.julia/v0.6/Convex/src/problems.jl:124\u001b[22m\u001b[22m\n",
      " [9] \u001b[1m#solve!#25\u001b[22m\u001b[22m\u001b[1m(\u001b[22m\u001b[22m::Bool, ::Bool, ::Bool, ::Function, ::Convex.Problem\u001b[1m)\u001b[22m\u001b[22m at \u001b[1m/home/bylard/.julia/v0.6/Convex/src/solution.jl:25\u001b[22m\u001b[22m\n",
      " [10] \u001b[1m(::Convex.#kw##solve!)\u001b[22m\u001b[22m\u001b[1m(\u001b[22m\u001b[22m::Array{Any,1}, ::Convex.#solve!, ::Convex.Problem\u001b[1m)\u001b[22m\u001b[22m at \u001b[1m./<missing>:0\u001b[22m\u001b[22m\n",
      " [11] \u001b[1m#solve_gusto_cvx!#8\u001b[22m\u001b[22m\u001b[1m(\u001b[22m\u001b[22m::Array{Any,1}, ::Function, ::SCPSolution, ::SCPProblem{Astrobee3D{Float64},AstrobeeSE3,ISSCorner{Float64}}, ::String, ::Int64, ::Bool\u001b[1m)\u001b[22m\u001b[22m at \u001b[1m/home/bylard/.julia/v0.6/GuSTO/src/scp/scp_gusto.jl:76\u001b[22m\u001b[22m\n",
      " [12] \u001b[1m(::#kw##solve_gusto_cvx!)\u001b[22m\u001b[22m\u001b[1m(\u001b[22m\u001b[22m::Array{Any,1}, ::#solve_gusto_cvx!, ::SCPSolution, ::SCPProblem{Astrobee3D{Float64},AstrobeeSE3,ISSCorner{Float64}}, ::String, ::Int64, ::Bool\u001b[1m)\u001b[22m\u001b[22m at \u001b[1m./<missing>:0\u001b[22m\u001b[22m\n",
      " [13] \u001b[1m#solve_SCP!#7\u001b[22m\u001b[22m\u001b[1m(\u001b[22m\u001b[22m::Array{Any,1}, ::Function, ::TrajectoryOptimizationSolution, ::TrajectoryOptimizationProblem{Astrobee3D{Float64},AstrobeeSE3,ISSCorner{Float64}}, ::#solve_gusto_cvx!, ::#init_traj_straightline, ::String\u001b[1m)\u001b[22m\u001b[22m at \u001b[1m/home/bylard/.julia/v0.6/GuSTO/src/traj_opt.jl:49\u001b[22m\u001b[22m\n",
      " [14] \u001b[1m(::#kw##solve_SCP!)\u001b[22m\u001b[22m\u001b[1m(\u001b[22m\u001b[22m::Array{Any,1}, ::#solve_SCP!, ::TrajectoryOptimizationSolution, ::TrajectoryOptimizationProblem{Astrobee3D{Float64},AstrobeeSE3,ISSCorner{Float64}}, ::Function, ::Function, ::String\u001b[1m)\u001b[22m\u001b[22m at \u001b[1m./<missing>:0\u001b[22m\u001b[22m\n",
      " [15] \u001b[1minclude_string\u001b[22m\u001b[22m\u001b[1m(\u001b[22m\u001b[22m::String, ::String\u001b[1m)\u001b[22m\u001b[22m at \u001b[1m./loading.jl:522\u001b[22m\u001b[22m\n",
      " [16] \u001b[1mexecute_request\u001b[22m\u001b[22m\u001b[1m(\u001b[22m\u001b[22m::ZMQ.Socket, ::IJulia.Msg\u001b[1m)\u001b[22m\u001b[22m at \u001b[1m/home/bylard/.julia/v0.6/IJulia/src/execute_request.jl:193\u001b[22m\u001b[22m\n",
      " [17] \u001b[1m(::Compat.#inner#6{Array{Any,1},IJulia.#execute_request,Tuple{ZMQ.Socket,IJulia.Msg}})\u001b[22m\u001b[22m\u001b[1m(\u001b[22m\u001b[22m\u001b[1m)\u001b[22m\u001b[22m at \u001b[1m/home/bylard/.julia/v0.6/Compat/src/Compat.jl:189\u001b[22m\u001b[22m\n",
      " [18] \u001b[1meventloop\u001b[22m\u001b[22m\u001b[1m(\u001b[22m\u001b[22m::ZMQ.Socket\u001b[1m)\u001b[22m\u001b[22m at \u001b[1m/home/bylard/.julia/v0.6/IJulia/src/eventloop.jl:8\u001b[22m\u001b[22m\n",
      " [19] \u001b[1m(::IJulia.##13#16)\u001b[22m\u001b[22m\u001b[1m(\u001b[22m\u001b[22m\u001b[1m)\u001b[22m\u001b[22m at \u001b[1m./task.jl:335\u001b[22m\u001b[22m\n",
      "while loading In[10], in expression starting on line 20\n",
      "\u001b[1m\u001b[33mWARNING: \u001b[39m\u001b[22m\u001b[33mUnable to use cached solution to warmstart problem. \n",
      "            (Perhaps the number of variables or constraints in the problem have changed since you last solved it?)\n",
      "            Warmstart may be ineffective.\u001b[39m\n",
      "\u001b[1m\u001b[33mWARNING: \u001b[39m\u001b[22m\u001b[33mUnable to use cached solution to warmstart problem. \n",
      "            (Perhaps the number of variables or constraints in the problem have changed since you last solved it?)\n",
      "            Warmstart may be ineffective.\u001b[39m\n",
      "\u001b[1m\u001b[33mWARNING: \u001b[39m\u001b[22m\u001b[33mUnable to use cached solution to warmstart problem. \n",
      "            (Perhaps the number of variables or constraints in the problem have changed since you last solved it?)\n",
      "            Warmstart may be ineffective.\u001b[39m\n"
     ]
    }
   ],
   "source": [
    "robot = Astrobee3D()\n",
    "model = AstrobeeSE3()\n",
    "env = ISSCorner();\n",
    "add_obstacles1!(env)\n",
    "\n",
    "x_init = [11.2; -0.8; 5.6]\n",
    "x_goal = [10.2; 6.9; 4.2]\n",
    "\n",
    "# x_init = [x_init; zeros(3); quat2mrp(sqrt(1/3)*[1.; 0.; 1.; 1.]); zeros(3)]\n",
    "# x_goal = [x_goal; zeros(3); quat2mrp([-0.5; 0.5; -0.5; 0.5]); zeros(3)]\n",
    "x_init = [x_init; zeros(3); quat2mrp([0.; 0.; 0.; 1.]); zeros(3)]\n",
    "x_goal = [x_goal; zeros(3); quat2mrp([0.; 0.; 0.; -1.]); zeros(3)]\n",
    "\n",
    "N = 30\n",
    "tf_guess = 70.\n",
    "\n",
    "PD = ProblemDefinition(robot, model, env, x_init, x_goal);\n",
    "TOPgusto = TrajectoryOptimizationProblem(PD, N, tf_guess, fixed_final_time=true)\n",
    "TOSgusto = TrajectoryOptimizationSolution(TOPgusto)\n",
    "solve_SCP!(TOSgusto, TOPgusto, solve_gusto_cvx!, init_traj_straightline, \"Gurobi\", OutputFlag=0)"
   ]
  },
  {
   "cell_type": "code",
   "execution_count": 13,
   "metadata": {},
   "outputs": [
    {
     "data": {
      "text/plain": [
       "3-element Array{Float64,1}:\n",
       " 0.0\n",
       " 0.0\n",
       " 0.0"
      ]
     },
     "execution_count": 13,
     "metadata": {},
     "output_type": "execute_result"
    }
   ],
   "source": [
    "quat2mrp([0.; 0.; 0.; 1.])"
   ]
  },
  {
   "cell_type": "code",
   "execution_count": 14,
   "metadata": {},
   "outputs": [
    {
     "name": "stderr",
     "output_type": "stream",
     "text": [
      "\u001b[1m\u001b[33mWARNING: \u001b[39m\u001b[22m\u001b[33mStereographic projection undefined for (0,0,0,-1)\u001b[39m\n"
     ]
    },
    {
     "data": {
      "text/plain": [
       "3-element Array{Float64,1}:\n",
       " -0.0\n",
       " -0.0\n",
       " -0.0"
      ]
     },
     "execution_count": 14,
     "metadata": {},
     "output_type": "execute_result"
    }
   ],
   "source": [
    "quat2mrp([0.; 0.; 0.; -1.])"
   ]
  },
  {
   "cell_type": "code",
   "execution_count": 11,
   "metadata": {},
   "outputs": [
    {
     "name": "stdout",
     "output_type": "stream",
     "text": [
      "TOSgusto.SCPS.converged = true\n",
      "TOSgusto.SCPS.iterations = 4\n",
      "TOSgusto.SCPS.total_time = 2.367062683\n",
      "TOSgusto.SCPS.accept_solution = Bool[true, true, true, true, true]\n",
      "TOSgusto.SCPS.prob_status = Symbol[:NA, :Optimal, :Optimal, :Optimal, :Optimal]\n",
      "TOSgusto.SCPS.convergence_measure = [0.0, 0.052284, 0.0319015, 0.0142051, 0.000809338]\n",
      "TOSgusto.SCPS.param.alg.omega_vec = [1.0, 1.0, 1.0, 1.0, 1.0]\n",
      "TOSgusto.SCPS.param.alg.Delta_vec = [10.0, 10.0, 10.0, 10.0, 10.0]\n"
     ]
    }
   ],
   "source": [
    "@show TOSgusto.SCPS.converged\n",
    "@show TOSgusto.SCPS.iterations\n",
    "@show TOSgusto.SCPS.total_time\n",
    "@show TOSgusto.SCPS.accept_solution\n",
    "@show TOSgusto.SCPS.prob_status\n",
    "@show TOSgusto.SCPS.convergence_measure\n",
    "@show TOSgusto.SCPS.param.alg.omega_vec\n",
    "@show TOSgusto.SCPS.param.alg.Delta_vec\n",
    ";"
   ]
  },
  {
   "cell_type": "code",
   "execution_count": 4,
   "metadata": {},
   "outputs": [
    {
     "name": "stdout",
     "output_type": "stream",
     "text": [
      "instantiated a floating joint\n",
      "Listening on 0.0.0.0:8700...\n"
     ]
    },
    {
     "name": "stderr",
     "output_type": "stream",
     "text": [
      "\u001b[1m\u001b[36mInfo: \u001b[39m\u001b[22m\u001b[36mServing MeshCat visualizer at http://127.0.0.1:8700\n",
      "\u001b[39m/usr/bin/google-chrome-stable: /home/bylard/.julia/v0.6/Conda/deps/usr/lib/libuuid.so.1: no version information available (required by /usr/bin/google-chrome-stable)\n",
      "/opt/google/chrome/chrome: /home/bylard/.julia/v0.6/Conda/deps/usr/lib/libuuid.so.1: no version information available (required by /opt/google/chrome/chrome)\n"
     ]
    }
   ],
   "source": [
    "# Animate Astrobee trajectory\n",
    "vis = Visualizer()\n",
    "delete!(vis)\n",
    "\n",
    "vis[:goal]\n",
    "for (idx,obs) in enumerate(env.keepout_zones)\n",
    "    setobject!(vis[:goal][:goal], \n",
    "        Object(HyperSphere(Point3f0(x_goal[1:3]), 0.1f0),\n",
    "            MeshBasicMaterial(color=RGBA(0,1.0,0.,0.3))))\n",
    "end\n",
    "\n",
    "vis[:workspace]\n",
    "for (idx,ws) in enumerate(env.keepin_zones)\n",
    "    if idx in (5,8)\n",
    "        setobject!(vis[:workspace][Symbol(string(\"ws\",idx))],\n",
    "            Object(ws, MeshBasicMaterial(color=RGBA(0.95,0.93,0.26,0.3), depthWrite=false)))\n",
    "    else\n",
    "        setobject!(vis[:workspace][Symbol(string(\"ws\",idx))],\n",
    "            Object(ws, MeshBasicMaterial(color=RGBA(0.95,0.93,0.26,0.3))))\n",
    "    end\n",
    "end\n",
    "\n",
    "vis[:obstacle]\n",
    "for (idx,ws) in enumerate(env.obstacle_set)\n",
    "    setobject!(vis[:workspace][Symbol(string(\"ws\",idx+length(env.keepin_zones)))],\n",
    "        Object(ws,MeshBasicMaterial(color=RGBA(0.95,0.26,0.26,0.3))))\n",
    "end\n",
    "\n",
    "ab = Astrobee()\n",
    "mvis = MechanismVisualizer(\n",
    "    ab.mechanism,\n",
    "    URDFVisuals(AstrobeeRobot.urdfpath(), package_path=[dirname(dirname(AstrobeeRobot.urdfpath()))]),\n",
    "    vis);\n",
    "\n",
    "speed_factor = 1\n",
    "\n",
    "Qs = Vector{Vector{Float64}}(0)\n",
    "for k in 1:speed_factor:N\n",
    "    q = [quat_inv(mrp2quat(TOSgusto.SCPS.traj.X[7:9,k]));TOSgusto.SCPS.traj.X[1:3,k]]\n",
    "    push!(Qs,q)\n",
    "end\n",
    "\n",
    "trans = Translation(14., -1., 7.)\n",
    "rot = LinearMap(RotZ(-0.6)) ∘ LinearMap(RotY(-0.2))\n",
    "settransform!(vis[\"/Cameras/default\"], trans ∘ rot)\n",
    "setprop!(vis[\"/Cameras/default/rotated/<object>\"], \"zoom\", 1.9)\n",
    "setprop!(vis[\"/Cameras/default/rotated/<object>\"], \"near\", 0.05)\n",
    "\n",
    "sleep(3)\n",
    "setanimation!(mvis,1:length(Qs),Qs)\n",
    "\n",
    "plot_in_cell = false\n",
    "plot_in_cell ? IJuliaCell(vis) : open(vis)"
   ]
  },
  {
   "cell_type": "code",
   "execution_count": null,
   "metadata": {},
   "outputs": [],
   "source": []
  }
 ],
 "metadata": {
  "kernelspec": {
   "display_name": "Julia 0.6.4",
   "language": "julia",
   "name": "julia-0.6"
  },
  "language_info": {
   "file_extension": ".jl",
   "mimetype": "application/julia",
   "name": "julia",
   "version": "0.6.4"
  }
 },
 "nbformat": 4,
 "nbformat_minor": 2
}
