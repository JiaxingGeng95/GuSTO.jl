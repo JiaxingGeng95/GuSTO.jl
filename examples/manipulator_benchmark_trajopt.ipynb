{
 "cells": [
  {
   "cell_type": "code",
   "execution_count": 1,
   "metadata": {
    "scrolled": true
   },
   "outputs": [
    {
     "data": {
      "text/html": [
       "    <script class='js-collapse-script'>\n",
       "        var curMatch =\n",
       "            window.location.href\n",
       "            .match(/(.*?)\\/notebooks\\/.*\\.ipynb/);\n",
       "\n",
       "        curMatch = curMatch ||\n",
       "            window.location.href\n",
       "            .match(/(.*?)\\/apps\\/.*\\.ipynb/);\n",
       "\n",
       "        if ( curMatch ) {\n",
       "            $('head').append('<base href=\"' + curMatch[1] + '/\">');\n",
       "        }\n",
       "    </script>\n"
      ],
      "text/plain": [
       "HTML{String}(\"    <script class='js-collapse-script'>\\n        var curMatch =\\n            window.location.href\\n            .match(/(.*?)\\\\/notebooks\\\\/.*\\\\.ipynb/);\\n\\n        curMatch = curMatch ||\\n            window.location.href\\n            .match(/(.*?)\\\\/apps\\\\/.*\\\\.ipynb/);\\n\\n        if ( curMatch ) {\\n            \\$('head').append('<base href=\\\"' + curMatch[1] + '/\\\">');\\n        }\\n    </script>\\n\")"
      ]
     },
     "metadata": {},
     "output_type": "display_data"
    },
    {
     "data": {
      "text/html": [
       "<script class='js-collapse-script' src='/assetserver/e38c1e09106b4d8eef7b28477203db186cf7ad2e-assets/webio/dist/bundle.js'></script>"
      ],
      "text/plain": [
       "HTML{String}(\"<script class='js-collapse-script' src='/assetserver/e38c1e09106b4d8eef7b28477203db186cf7ad2e-assets/webio/dist/bundle.js'></script>\")"
      ]
     },
     "metadata": {},
     "output_type": "display_data"
    },
    {
     "data": {
      "text/html": [
       "<script class='js-collapse-script' src='/assetserver/e38c1e09106b4d8eef7b28477203db186cf7ad2e-assets/providers/ijulia_setup.js'></script>"
      ],
      "text/plain": [
       "HTML{String}(\"<script class='js-collapse-script' src='/assetserver/e38c1e09106b4d8eef7b28477203db186cf7ad2e-assets/providers/ijulia_setup.js'></script>\")"
      ]
     },
     "metadata": {},
     "output_type": "display_data"
    },
    {
     "data": {
      "text/html": [
       "  <script class='js-collapse-script'>\n",
       "    $('.js-collapse-script').parent('.output_subarea').css('padding', '0');\n",
       "  </script>\n"
      ],
      "text/plain": [
       "HTML{String}(\"  <script class='js-collapse-script'>\\n    \\$('.js-collapse-script').parent('.output_subarea').css('padding', '0');\\n  </script>\\n\")"
      ]
     },
     "metadata": {},
     "output_type": "display_data"
    },
    {
     "name": "stderr",
     "output_type": "stream",
     "text": [
      "\u001b[1m\u001b[36mINFO: \u001b[39m\u001b[22m\u001b[36mLoading HttpServer methods...\n",
      "\u001b[39m"
     ]
    },
    {
     "name": "stdout",
     "output_type": "stream",
     "text": [
      "WARNING: Could not add directory /home/freeflyerhub/Software/bullet3-2.87/bullet-build/src to clang search path!\n"
     ]
    },
    {
     "name": "stderr",
     "output_type": "stream",
     "text": [
      "WARNING: using FixedSizeArrays.Point in module Main conflicts with an existing identifier.\n",
      "WARNING: using FixedSizeArrays.Vec in module Main conflicts with an existing identifier.\n",
      "WARNING: requiring \"GuSTO\" in module \"Main\" did not define a corresponding module.\n"
     ]
    },
    {
     "data": {
      "text/plain": [
       "moveit_seeds (generic function with 1 method)"
      ]
     },
     "execution_count": 1,
     "metadata": {},
     "output_type": "execute_result"
    }
   ],
   "source": [
    "using PandaRobot\n",
    "using GuSTO\n",
    "include(\"parse_file.jl\")"
   ]
  },
  {
   "cell_type": "code",
   "execution_count": 2,
   "metadata": {},
   "outputs": [],
   "source": [
    "th_inits = []\n",
    "# push!(th_inits, [0;0;0;-0.07;0;0;0])\n",
    "push!(th_inits, [0.597223, 0.37125, -0.0100986, -2.37541, 0.180311, 1.03483, 0.0706328])\n",
    "push!(th_inits, [0;  -0.6; 0.; -0.20*pi; 0.25; 1.10*pi; 0.25*pi])\n",
    "push!(th_inits, [pi/4;  0.50; 0; -0.5*pi; 0.25;  0.5*pi; 0.25*pi])\n",
    "push!(th_inits, [-pi/5; -0.65; 1.; -0.5*pi; 0.25;  0.5*pi; 0.25*pi])\n",
    "push!(th_inits, [pi/2;pi/4;0;-0.07;0;0.5;0])\n",
    "push!(th_inits, [-1.62393; -1.22264; -0.406409; -0.4119; -1.76969; 2.34654; -2.43675])\n",
    "push!(th_inits, [1.85565; -1.51793; -1.16217; -2.2597; -0.53239; 2.14503; -2.77667])\n",
    "# push!(th_inits, [0.844936; -1.01263; -.7381; -2.31455; -0.247229; 2.31731; 0.970091])\n",
    "# push!(th_inits, [1.5964; 0.0857214; -2.28602; -0.676237; 1.77197; 0.840032; 2.88113])\n",
    "# push!(th_inits, [0.235829; -0.337666; 1.1378; -2.22957; 2.37467; 1.40022; -1.20456])\n",
    "\n",
    "th_goals = []\n",
    "push!(th_goals, [0;  +0.1; 0.; -0.1*pi; 0.25; 1.72; 0.25*pi])\n",
    "push!(th_goals, [-pi/5; 0.65; 0; -0.5*pi; 0.25;  0.75*pi; 0.25*pi])\n",
    "push!(th_goals, [-0.105115; 1.58432; -1.53984; -0.183412; 0.668877; 1.25792; -2.89474])\n",
    "push!(th_goals, [0.130862; -0.70124; 2.0121; -1.69346; 0.674449;2.58168; 0.317337])\n",
    "# push!(th_goals, [-0.0718304; -0.761838; 1.858; -1.78156; -2.20838; 0.123241; -1.39996])\n",
    "push!(th_goals, [-1.98575; 0.592403; -0.491794; -0.824348; -1.86245; 1.57712; -0.905226])\n",
    "push!(th_goals, [1.93431; 0.256879; 1.17659; -0.0998391; -0.455313; 0.33823; 1.43323])\n",
    "push!(th_goals, [-0.156785; -1.06; 0.992719; -1.21834; 2.38384; 0.340514; -1.74002])\n",
    "# push!(th_goals, [-1.49469; 0.377673; -0.986205; -1.50891; -0.476247; 1.55533; -0.311577])\n",
    "# push!(th_goals, [-0.560172; -0.941266; 0.0038547; -1.89165; -0.37443; 1.39094; -2.10081])\n",
    "# push!(th_goals, [-0.287769;-0.828924;0.00223236;-2.71563;0.627072; 0.966626; -1.24478])\n",
    "\n",
    "n_inits, n_goals = length(th_inits), length(th_goals);"
   ]
  },
  {
   "cell_type": "code",
   "execution_count": 3,
   "metadata": {},
   "outputs": [
    {
     "data": {
      "text/plain": [
       "9-element Array{GeometryTypes.GeometryPrimitive,1}:\n",
       " GeometryTypes.HyperRectangle{3,Float32}(Float32[0.45, 0.1, 0.0], Float32[0.1, 0.1, 0.1]) \n",
       " GeometryTypes.HyperRectangle{3,Float32}(Float32[0.45, 0.1, 0.7], Float32[0.1, 0.1, 0.1]) \n",
       " GeometryTypes.HyperRectangle{3,Float32}(Float32[-0.2, -0.3, 0.3], Float32[0.1, 0.1, 0.1])\n",
       " GeometryTypes.HyperRectangle{3,Float32}(Float32[-0.5, 0.3, 0.1], Float32[0.1, 0.1, 0.1]) \n",
       " GeometryTypes.HyperRectangle{3,Float32}(Float32[0.0, 0.65, 0.4], Float32[0.1, 0.1, 0.1]) \n",
       " GeometryTypes.HyperRectangle{3,Float32}(Float32[-0.45, 0.0, 0.4], Float32[0.1, 0.1, 0.1])\n",
       " GeometryTypes.HyperRectangle{3,Float32}(Float32[0.5, 0.5, 0.2], Float32[0.1, 0.1, 0.1])  \n",
       " GeometryTypes.HyperRectangle{3,Float32}(Float32[-0.4, 0.0, 0.8], Float32[0.1, 0.1, 0.1]) \n",
       " GeometryTypes.HyperRectangle{3,Float32}(Float32[0.4, -0.3, 0.6], Float32[0.1, 0.1, 0.1]) "
      ]
     },
     "execution_count": 3,
     "metadata": {},
     "output_type": "execute_result"
    }
   ],
   "source": [
    "robot = PandaBot()\n",
    "env = Factory()\n",
    "push!(env.obstacle_set, HyperRectangle(Vec3f0(0.45,0.1,0.), Vec3f0(0.1,0.1,0.1)))\n",
    "push!(env.obstacle_set, HyperRectangle(Vec3f0(0.45,0.1,0.7), Vec3f0(0.1,0.1,0.1)))\n",
    "push!(env.obstacle_set, HyperRectangle(Vec3f0(-0.2,-0.3,0.3), Vec3f0(0.1,0.1,0.1)))\n",
    "push!(env.obstacle_set, HyperRectangle(Vec3f0(-0.5,0.3,0.1), Vec3f0(0.1,0.1,0.1)))\n",
    "push!(env.obstacle_set, HyperRectangle(Vec3f0(0.,0.65,0.4), Vec3f0(0.1,0.1,0.1)))\n",
    "push!(env.obstacle_set, HyperRectangle(Vec3f0(-0.45,0.,0.4), Vec3f0(0.1,0.1,0.1)))\n",
    "push!(env.obstacle_set, HyperRectangle(Vec3f0(0.5,0.5,0.2), Vec3f0(0.1,0.1,0.1)))\n",
    "push!(env.obstacle_set, HyperRectangle(Vec3f0(-0.4,0.,0.8), Vec3f0(0.1,0.1,0.1)))\n",
    "push!(env.obstacle_set, HyperRectangle(Vec3f0(0.4,-0.3,0.6), Vec3f0(0.1,0.1,0.1)))"
   ]
  },
  {
   "cell_type": "code",
   "execution_count": 4,
   "metadata": {},
   "outputs": [
    {
     "name": "stderr",
     "output_type": "stream",
     "text": [
      "\u001b[1m\u001b[33mWARNING: \u001b[39m\u001b[22m\u001b[33misnumber(s::AbstractString) is deprecated, use all(isnumber, s) instead.\u001b[39m\n",
      "Stacktrace:\n",
      " [1] \u001b[1mdepwarn\u001b[22m\u001b[22m\u001b[1m(\u001b[22m\u001b[22m::String, ::Symbol\u001b[1m)\u001b[22m\u001b[22m at \u001b[1m./deprecated.jl:70\u001b[22m\u001b[22m\n",
      " [2] \u001b[1misnumber\u001b[22m\u001b[22m\u001b[1m(\u001b[22m\u001b[22m::String\u001b[1m)\u001b[22m\u001b[22m at \u001b[1m./deprecated.jl:57\u001b[22m\u001b[22m\n",
      " [3] \u001b[1m(::##84#87{Dict{Any,Any}})\u001b[22m\u001b[22m\u001b[1m(\u001b[22m\u001b[22m::IOStream\u001b[1m)\u001b[22m\u001b[22m at \u001b[1m/home/freeflyerhub/.julia/v0.6/GuSTO/examples/parse_file.jl:20\u001b[22m\u001b[22m\n",
      " [4] \u001b[1mopen\u001b[22m\u001b[22m\u001b[1m(\u001b[22m\u001b[22m::##84#87{Dict{Any,Any}}, ::String\u001b[1m)\u001b[22m\u001b[22m at \u001b[1m./iostream.jl:152\u001b[22m\u001b[22m\n",
      " [5] \u001b[1mmoveit_seeds\u001b[22m\u001b[22m\u001b[1m(\u001b[22m\u001b[22m::Int64\u001b[1m)\u001b[22m\u001b[22m at \u001b[1m/home/freeflyerhub/.julia/v0.6/GuSTO/examples/parse_file.jl:8\u001b[22m\u001b[22m\n",
      " [6] \u001b[1minclude_string\u001b[22m\u001b[22m\u001b[1m(\u001b[22m\u001b[22m::String, ::String\u001b[1m)\u001b[22m\u001b[22m at \u001b[1m./loading.jl:522\u001b[22m\u001b[22m\n",
      " [7] \u001b[1mexecute_request\u001b[22m\u001b[22m\u001b[1m(\u001b[22m\u001b[22m::ZMQ.Socket, ::IJulia.Msg\u001b[1m)\u001b[22m\u001b[22m at \u001b[1m/home/freeflyerhub/.julia/v0.6/IJulia/src/execute_request.jl:193\u001b[22m\u001b[22m\n",
      " [8] \u001b[1m(::Compat.#inner#6{Array{Any,1},IJulia.#execute_request,Tuple{ZMQ.Socket,IJulia.Msg}})\u001b[22m\u001b[22m\u001b[1m(\u001b[22m\u001b[22m\u001b[1m)\u001b[22m\u001b[22m at \u001b[1m/home/freeflyerhub/.julia/v0.6/Compat/src/Compat.jl:189\u001b[22m\u001b[22m\n",
      " [9] \u001b[1meventloop\u001b[22m\u001b[22m\u001b[1m(\u001b[22m\u001b[22m::ZMQ.Socket\u001b[1m)\u001b[22m\u001b[22m at \u001b[1m/home/freeflyerhub/.julia/v0.6/IJulia/src/eventloop.jl:8\u001b[22m\u001b[22m\n",
      " [10] \u001b[1m(::IJulia.##13#16)\u001b[22m\u001b[22m\u001b[1m(\u001b[22m\u001b[22m\u001b[1m)\u001b[22m\u001b[22m at \u001b[1m./task.jl:335\u001b[22m\u001b[22m\n",
      "while loading In[4], in expression starting on line 6\n"
     ]
    }
   ],
   "source": [
    "model = PandaKin()\n",
    "\n",
    "N = 81\n",
    "tf_guess = 100.\n",
    "\n",
    "moveit_dict = moveit_seeds(N)\n",
    "\n",
    "x_init, x_goal = zeros(model.x_dim), zeros(model.x_dim);"
   ]
  },
  {
   "cell_type": "code",
   "execution_count": 5,
   "metadata": {},
   "outputs": [
    {
     "data": {
      "text/plain": [
       "moveit_generation (generic function with 1 method)"
      ]
     },
     "execution_count": 5,
     "metadata": {},
     "output_type": "execute_result"
    }
   ],
   "source": [
    "function moveit_generation(model, Tf, Qs)\n",
    "    N = size(Qs,2)\n",
    "    dt = Tf/(N-1)\n",
    "    \n",
    "    X = zeros(model.x_dim,N)\n",
    "    for i in 1:N\n",
    "        for j in 1:model.num_joints\n",
    "            th = Qs[j,i]\n",
    "            X[2*j-1,i] = cos(th)\n",
    "            X[2*j,i] = sin(th)\n",
    "        end\n",
    "    end\n",
    "    \n",
    "    th_dot = (Qs[:,end]-Qs[:,1]) / dt\n",
    "    U = repmat(th_dot, 1,N-1)\n",
    "    \n",
    "    traj = Trajectory(X,U,Tf,dt)\n",
    "    return traj\n",
    "end"
   ]
  },
  {
   "cell_type": "code",
   "execution_count": 6,
   "metadata": {},
   "outputs": [],
   "source": [
    "# i_init, i_goal = 2,3 \n",
    "\n",
    "# th_init = th_inits[i_init]\n",
    "# for i in 1:robot.num_joints\n",
    "#     x_init[2*i-1:2*i] = [cos(th_init[i]); sin(th_init[i])]\n",
    "# end\n",
    "\n",
    "\n",
    "# th_goal = th_goals[i_goal]\n",
    "# for i in 1:robot.num_joints\n",
    "#     x_goal[2*i-1:2*i] = [cos(th_goal[i]); sin(th_goal[i])]\n",
    "# end\n",
    "\n",
    "# model.p_EE_goal = get_EE_position(x_goal,robot)\n",
    "\n",
    "# Qs = moveit_dict[(i_init,i_goal)]\n",
    "# traj_init = moveit_generation(model, tf_guess, Qs)\n",
    "\n",
    "# PD = ProblemDefinition(robot, model, env, x_init, x_goal)\n",
    "# TOPgusto = TrajectoryOptimizationProblem(PD, N, tf_guess, fixed_final_time=true)\n",
    "# TOSgusto = TrajectoryOptimizationSolution(TOPgusto)\n",
    "\n",
    "# solve_SCP!(TOSgusto, TOPgusto, solve_trajopt_cvx!, traj_init, \"Gurobi\", OutputFlag=0)\n",
    "# # solve_SCP!(TOSgusto, TOPgusto, solve_trajopt_cvx!, init_traj_so1, \"Gurobi\", OutputFlag=0)"
   ]
  },
  {
   "cell_type": "code",
   "execution_count": 7,
   "metadata": {},
   "outputs": [],
   "source": [
    "# joint_traj = zeros(robot.num_joints,N)\n",
    "# for k in 1:N\n",
    "#     joint_traj[:,k] = get_configuration(TOSgusto.traj.X[:,k],model)\n",
    "# end\n",
    "# PyPlot.figure()\n",
    "# for k in 1:model.num_joints\n",
    "#     PyPlot.plot(joint_traj[k,:])\n",
    "# end"
   ]
  },
  {
   "cell_type": "code",
   "execution_count": 8,
   "metadata": {},
   "outputs": [],
   "source": [
    "# vis = Visualizer()\n",
    "\n",
    "# pan = Panda()\n",
    "# mvis = MechanismVisualizer(\n",
    "#     pan.mechanism,\n",
    "#     URDFVisuals(PandaRobot.urdfpath(), package_path=[dirname(dirname(PandaRobot.urdfpath()))]),\n",
    "#     vis);\n",
    "\n",
    "# vis[:obstacles]\n",
    "# for (idx,obs) in enumerate(env.obstacle_set)\n",
    "#     setobject!(vis[:obstacles][Symbol(string(\"obs\",idx))], \n",
    "#         Object(obs,MeshBasicMaterial(color=GeometryTypes.RGBA(0.,0.,0.,0.5))))\n",
    "# end\n",
    "\n",
    "# # q = Vector{Array{Float64,1}}(0)\n",
    "# # for k in 1:N\n",
    "# #     push!(q, joint_traj[:,k]) \n",
    "# #     # push!(q, Qs[:,k])\n",
    "# # end\n",
    "\n",
    "# q = [th for th in [th_inits; th_goals]]\n",
    "\n",
    "# setanimation!(mvis, 1:length(q), q)\n",
    "\n",
    "# plot_in_cell = true\n",
    "# plot_in_cell ? IJuliaCell(vis) : open(vis)"
   ]
  },
  {
   "cell_type": "code",
   "execution_count": null,
   "metadata": {
    "scrolled": true
   },
   "outputs": [
    {
     "name": "stdout",
     "output_type": "stream",
     "text": [
      "Academic license - for non-commercial use only\n",
      "1, 1, true, 107.617468546\n"
     ]
    },
    {
     "name": "stderr",
     "output_type": "stream",
     "text": [
      "\u001b[1m\u001b[33mWARNING: \u001b[39m\u001b[22m\u001b[33mUnable to use cached solution to warmstart problem.\n",
      "            (Perhaps the number of variables or constraints in the problem have changed since you last solved it?)\n",
      "            Warmstart may be ineffective.\u001b[39m\n"
     ]
    },
    {
     "name": "stdout",
     "output_type": "stream",
     "text": [
      "\n",
      "Academic license - for non-commercial use only\n",
      "1, 2, true, 88.644274204\n"
     ]
    },
    {
     "name": "stderr",
     "output_type": "stream",
     "text": [
      "\u001b[1m\u001b[33mWARNING: \u001b[39m\u001b[22m\u001b[33mUnable to use cached solution to warmstart problem.\n",
      "            (Perhaps the number of variables or constraints in the problem have changed since you last solved it?)\n",
      "            Warmstart may be ineffective.\u001b[39m\n"
     ]
    },
    {
     "name": "stdout",
     "output_type": "stream",
     "text": [
      "\n",
      "Academic license - for non-commercial use only\n"
     ]
    },
    {
     "name": "stderr",
     "output_type": "stream",
     "text": [
      "\u001b[1m\u001b[33mWARNING: \u001b[39m\u001b[22m\u001b[33mUnable to use cached solution to warmstart problem.\n",
      "            (Perhaps the number of variables or constraints in the problem have changed since you last solved it?)\n",
      "            Warmstart may be ineffective.\u001b[39m\n",
      "\u001b[1m\u001b[33mWARNING: \u001b[39m\u001b[22m\u001b[33mUnable to use cached solution to warmstart problem.\n",
      "            (Perhaps the number of variables or constraints in the problem have changed since you last solved it?)\n",
      "            Warmstart may be ineffective.\u001b[39m\n"
     ]
    },
    {
     "name": "stdout",
     "output_type": "stream",
     "text": [
      "1, 3, true, 98.039067969\n",
      "\n"
     ]
    },
    {
     "name": "stderr",
     "output_type": "stream",
     "text": [
      "\u001b[1m\u001b[33mWARNING: \u001b[39m\u001b[22m\u001b[33mUnable to use cached solution to warmstart problem.\n",
      "            (Perhaps the number of variables or constraints in the problem have changed since you last solved it?)\n",
      "            Warmstart may be ineffective.\u001b[39m\n",
      "\u001b[1m\u001b[33mWARNING: \u001b[39m\u001b[22m\u001b[33mUnable to use cached solution to warmstart problem.\n",
      "            (Perhaps the number of variables or constraints in the problem have changed since you last solved it?)\n",
      "            Warmstart may be ineffective.\u001b[39m\n"
     ]
    },
    {
     "name": "stdout",
     "output_type": "stream",
     "text": [
      "Academic license - for non-commercial use only\n",
      "1, 4, true, 107.289799114\n",
      "\n"
     ]
    },
    {
     "name": "stderr",
     "output_type": "stream",
     "text": [
      "\u001b[1m\u001b[33mWARNING: \u001b[39m\u001b[22m\u001b[33mUnable to use cached solution to warmstart problem.\n",
      "            (Perhaps the number of variables or constraints in the problem have changed since you last solved it?)\n",
      "            Warmstart may be ineffective.\u001b[39m\n"
     ]
    },
    {
     "name": "stdout",
     "output_type": "stream",
     "text": [
      "Academic license - for non-commercial use only\n"
     ]
    },
    {
     "name": "stderr",
     "output_type": "stream",
     "text": [
      "\u001b[1m\u001b[33mWARNING: \u001b[39m\u001b[22m\u001b[33mUnable to use cached solution to warmstart problem.\n",
      "            (Perhaps the number of variables or constraints in the problem have changed since you last solved it?)\n",
      "            Warmstart may be ineffective.\u001b[39m\n",
      "\u001b[1m\u001b[33mWARNING: \u001b[39m\u001b[22m\u001b[33mUnable to use cached solution to warmstart problem.\n",
      "            (Perhaps the number of variables or constraints in the problem have changed since you last solved it?)\n",
      "            Warmstart may be ineffective.\u001b[39m\n"
     ]
    },
    {
     "name": "stdout",
     "output_type": "stream",
     "text": [
      "1, 5, true, 111.732449573\n",
      "\n"
     ]
    },
    {
     "name": "stderr",
     "output_type": "stream",
     "text": [
      "\u001b[1m\u001b[33mWARNING: \u001b[39m\u001b[22m\u001b[33mUnable to use cached solution to warmstart problem.\n",
      "            (Perhaps the number of variables or constraints in the problem have changed since you last solved it?)\n",
      "            Warmstart may be ineffective.\u001b[39m\n",
      "\u001b[1m\u001b[33mWARNING: \u001b[39m\u001b[22m\u001b[33mUnable to use cached solution to warmstart problem.\n",
      "            (Perhaps the number of variables or constraints in the problem have changed since you last solved it?)\n",
      "            Warmstart may be ineffective.\u001b[39m\n"
     ]
    },
    {
     "name": "stdout",
     "output_type": "stream",
     "text": [
      "Academic license - for non-commercial use only\n",
      "1, 6, true, 124.177400643\n",
      "\n",
      "Academic license - for non-commercial use only\n",
      "1, 7, true, 135.218682332\n",
      "\n",
      "Academic license - for non-commercial use only\n"
     ]
    },
    {
     "name": "stderr",
     "output_type": "stream",
     "text": [
      "\u001b[1m\u001b[33mWARNING: \u001b[39m\u001b[22m\u001b[33mUnable to use cached solution to warmstart problem.\n",
      "            (Perhaps the number of variables or constraints in the problem have changed since you last solved it?)\n",
      "            Warmstart may be ineffective.\u001b[39m\n",
      "\u001b[1m\u001b[33mWARNING: \u001b[39m\u001b[22m\u001b[33mUnable to use cached solution to warmstart problem.\n",
      "            (Perhaps the number of variables or constraints in the problem have changed since you last solved it?)\n",
      "            Warmstart may be ineffective.\u001b[39m\n"
     ]
    },
    {
     "name": "stdout",
     "output_type": "stream",
     "text": [
      "2, 1, true, 141.843895271\n",
      "\n"
     ]
    },
    {
     "name": "stderr",
     "output_type": "stream",
     "text": [
      "\u001b[1m\u001b[33mWARNING: \u001b[39m\u001b[22m\u001b[33mUnable to use cached solution to warmstart problem.\n",
      "            (Perhaps the number of variables or constraints in the problem have changed since you last solved it?)\n",
      "            Warmstart may be ineffective.\u001b[39m\n",
      "\u001b[1m\u001b[33mWARNING: \u001b[39m\u001b[22m\u001b[33mUnable to use cached solution to warmstart problem.\n",
      "            (Perhaps the number of variables or constraints in the problem have changed since you last solved it?)\n",
      "            Warmstart may be ineffective.\u001b[39m\n"
     ]
    },
    {
     "name": "stdout",
     "output_type": "stream",
     "text": [
      "Academic license - for non-commercial use only\n"
     ]
    },
    {
     "name": "stderr",
     "output_type": "stream",
     "text": [
      "\u001b[1m\u001b[33mWARNING: \u001b[39m\u001b[22m\u001b[33mUnable to use cached solution to warmstart problem.\n",
      "            (Perhaps the number of variables or constraints in the problem have changed since you last solved it?)\n",
      "            Warmstart may be ineffective.\u001b[39m\n",
      "\u001b[1m\u001b[33mWARNING: \u001b[39m\u001b[22m\u001b[33mUnable to use cached solution to warmstart problem.\n",
      "            (Perhaps the number of variables or constraints in the problem have changed since you last solved it?)\n",
      "            Warmstart may be ineffective.\u001b[39m\n"
     ]
    },
    {
     "name": "stdout",
     "output_type": "stream",
     "text": [
      "2, 2, true, 154.320081678\n",
      "\n"
     ]
    },
    {
     "name": "stderr",
     "output_type": "stream",
     "text": [
      "\u001b[1m\u001b[33mWARNING: \u001b[39m\u001b[22m\u001b[33mUnable to use cached solution to warmstart problem.\n",
      "            (Perhaps the number of variables or constraints in the problem have changed since you last solved it?)\n",
      "            Warmstart may be ineffective.\u001b[39m\n",
      "\u001b[1m\u001b[33mWARNING: \u001b[39m\u001b[22m\u001b[33mUnable to use cached solution to warmstart problem.\n",
      "            (Perhaps the number of variables or constraints in the problem have changed since you last solved it?)\n",
      "            Warmstart may be ineffective.\u001b[39m\n"
     ]
    },
    {
     "name": "stdout",
     "output_type": "stream",
     "text": [
      "Academic license - for non-commercial use only\n"
     ]
    },
    {
     "name": "stderr",
     "output_type": "stream",
     "text": [
      "\u001b[1m\u001b[33mWARNING: \u001b[39m\u001b[22m\u001b[33mUnable to use cached solution to warmstart problem.\n",
      "            (Perhaps the number of variables or constraints in the problem have changed since you last solved it?)\n",
      "            Warmstart may be ineffective.\u001b[39m\n",
      "\u001b[1m\u001b[33mWARNING: \u001b[39m\u001b[22m\u001b[33mUnable to use cached solution to warmstart problem.\n",
      "            (Perhaps the number of variables or constraints in the problem have changed since you last solved it?)\n",
      "            Warmstart may be ineffective.\u001b[39m\n"
     ]
    },
    {
     "name": "stdout",
     "output_type": "stream",
     "text": [
      "2, 3, true, 154.10356116500003\n",
      "\n"
     ]
    },
    {
     "name": "stderr",
     "output_type": "stream",
     "text": [
      "\u001b[1m\u001b[33mWARNING: \u001b[39m\u001b[22m\u001b[33mUnable to use cached solution to warmstart problem.\n",
      "            (Perhaps the number of variables or constraints in the problem have changed since you last solved it?)\n",
      "            Warmstart may be ineffective.\u001b[39m\n",
      "\u001b[1m\u001b[33mWARNING: \u001b[39m\u001b[22m\u001b[33mUnable to use cached solution to warmstart problem.\n",
      "            (Perhaps the number of variables or constraints in the problem have changed since you last solved it?)\n",
      "            Warmstart may be ineffective.\u001b[39m\n"
     ]
    },
    {
     "name": "stdout",
     "output_type": "stream",
     "text": [
      "Academic license - for non-commercial use only\n"
     ]
    },
    {
     "name": "stderr",
     "output_type": "stream",
     "text": [
      "\u001b[1m\u001b[33mWARNING: \u001b[39m\u001b[22m\u001b[33mUnable to use cached solution to warmstart problem.\n",
      "            (Perhaps the number of variables or constraints in the problem have changed since you last solved it?)\n",
      "            Warmstart may be ineffective.\u001b[39m\n",
      "\u001b[1m\u001b[33mWARNING: \u001b[39m\u001b[22m\u001b[33mUnable to use cached solution to warmstart problem.\n",
      "            (Perhaps the number of variables or constraints in the problem have changed since you last solved it?)\n",
      "            Warmstart may be ineffective.\u001b[39m\n"
     ]
    },
    {
     "name": "stdout",
     "output_type": "stream",
     "text": [
      "2, 4, true, 171.956423726\n",
      "\n"
     ]
    },
    {
     "name": "stderr",
     "output_type": "stream",
     "text": [
      "\u001b[1m\u001b[33mWARNING: \u001b[39m\u001b[22m\u001b[33mUnable to use cached solution to warmstart problem.\n",
      "            (Perhaps the number of variables or constraints in the problem have changed since you last solved it?)\n",
      "            Warmstart may be ineffective.\u001b[39m\n",
      "\u001b[1m\u001b[33mWARNING: \u001b[39m\u001b[22m\u001b[33mUnable to use cached solution to warmstart problem.\n",
      "            (Perhaps the number of variables or constraints in the problem have changed since you last solved it?)\n",
      "            Warmstart may be ineffective.\u001b[39m\n"
     ]
    },
    {
     "name": "stdout",
     "output_type": "stream",
     "text": [
      "Academic license - for non-commercial use only\n"
     ]
    },
    {
     "name": "stderr",
     "output_type": "stream",
     "text": [
      "\u001b[1m\u001b[33mWARNING: \u001b[39m\u001b[22m\u001b[33mUnable to use cached solution to warmstart problem.\n",
      "            (Perhaps the number of variables or constraints in the problem have changed since you last solved it?)\n",
      "            Warmstart may be ineffective.\u001b[39m\n",
      "\u001b[1m\u001b[33mWARNING: \u001b[39m\u001b[22m\u001b[33mUnable to use cached solution to warmstart problem.\n",
      "            (Perhaps the number of variables or constraints in the problem have changed since you last solved it?)\n",
      "            Warmstart may be ineffective.\u001b[39m\n"
     ]
    },
    {
     "name": "stdout",
     "output_type": "stream",
     "text": [
      "2, 5, true, 173.379780426\n",
      "\n"
     ]
    },
    {
     "name": "stderr",
     "output_type": "stream",
     "text": [
      "\u001b[1m\u001b[33mWARNING: \u001b[39m\u001b[22m\u001b[33mUnable to use cached solution to warmstart problem.\n",
      "            (Perhaps the number of variables or constraints in the problem have changed since you last solved it?)\n",
      "            Warmstart may be ineffective.\u001b[39m\n",
      "\u001b[1m\u001b[33mWARNING: \u001b[39m\u001b[22m\u001b[33mUnable to use cached solution to warmstart problem.\n",
      "            (Perhaps the number of variables or constraints in the problem have changed since you last solved it?)\n",
      "            Warmstart may be ineffective.\u001b[39m\n"
     ]
    },
    {
     "name": "stdout",
     "output_type": "stream",
     "text": [
      "Academic license - for non-commercial use only\n"
     ]
    },
    {
     "name": "stderr",
     "output_type": "stream",
     "text": [
      "\u001b[1m\u001b[33mWARNING: \u001b[39m\u001b[22m\u001b[33mUnable to use cached solution to warmstart problem.\n",
      "            (Perhaps the number of variables or constraints in the problem have changed since you last solved it?)\n",
      "            Warmstart may be ineffective.\u001b[39m\n",
      "\u001b[1m\u001b[33mWARNING: \u001b[39m\u001b[22m\u001b[33mUnable to use cached solution to warmstart problem.\n",
      "            (Perhaps the number of variables or constraints in the problem have changed since you last solved it?)\n",
      "            Warmstart may be ineffective.\u001b[39m\n"
     ]
    },
    {
     "name": "stdout",
     "output_type": "stream",
     "text": [
      "2, 6, true, 189.879429459\n",
      "\n"
     ]
    },
    {
     "name": "stderr",
     "output_type": "stream",
     "text": [
      "\u001b[1m\u001b[33mWARNING: \u001b[39m\u001b[22m\u001b[33mUnable to use cached solution to warmstart problem.\n",
      "            (Perhaps the number of variables or constraints in the problem have changed since you last solved it?)\n",
      "            Warmstart may be ineffective.\u001b[39m\n",
      "\u001b[1m\u001b[33mWARNING: \u001b[39m\u001b[22m\u001b[33mUnable to use cached solution to warmstart problem.\n",
      "            (Perhaps the number of variables or constraints in the problem have changed since you last solved it?)\n",
      "            Warmstart may be ineffective.\u001b[39m\n"
     ]
    },
    {
     "name": "stdout",
     "output_type": "stream",
     "text": [
      "Academic license - for non-commercial use only\n"
     ]
    },
    {
     "name": "stderr",
     "output_type": "stream",
     "text": [
      "\u001b[1m\u001b[33mWARNING: \u001b[39m\u001b[22m\u001b[33mUnable to use cached solution to warmstart problem.\n",
      "            (Perhaps the number of variables or constraints in the problem have changed since you last solved it?)\n",
      "            Warmstart may be ineffective.\u001b[39m\n",
      "\u001b[1m\u001b[33mWARNING: \u001b[39m\u001b[22m\u001b[33mUnable to use cached solution to warmstart problem.\n",
      "            (Perhaps the number of variables or constraints in the problem have changed since you last solved it?)\n",
      "            Warmstart may be ineffective.\u001b[39m\n"
     ]
    },
    {
     "name": "stdout",
     "output_type": "stream",
     "text": [
      "2, 7, true, 203.925771444\n",
      "\n"
     ]
    },
    {
     "name": "stderr",
     "output_type": "stream",
     "text": [
      "\u001b[1m\u001b[33mWARNING: \u001b[39m\u001b[22m\u001b[33mUnable to use cached solution to warmstart problem.\n",
      "            (Perhaps the number of variables or constraints in the problem have changed since you last solved it?)\n",
      "            Warmstart may be ineffective.\u001b[39m\n",
      "\u001b[1m\u001b[33mWARNING: \u001b[39m\u001b[22m\u001b[33mUnable to use cached solution to warmstart problem.\n",
      "            (Perhaps the number of variables or constraints in the problem have changed since you last solved it?)\n",
      "            Warmstart may be ineffective.\u001b[39m\n"
     ]
    },
    {
     "name": "stdout",
     "output_type": "stream",
     "text": [
      "Academic license - for non-commercial use only\n"
     ]
    },
    {
     "name": "stderr",
     "output_type": "stream",
     "text": [
      "\u001b[1m\u001b[33mWARNING: \u001b[39m\u001b[22m\u001b[33mUnable to use cached solution to warmstart problem.\n",
      "            (Perhaps the number of variables or constraints in the problem have changed since you last solved it?)\n",
      "            Warmstart may be ineffective.\u001b[39m\n",
      "\u001b[1m\u001b[33mWARNING: \u001b[39m\u001b[22m\u001b[33mUnable to use cached solution to warmstart problem.\n",
      "            (Perhaps the number of variables or constraints in the problem have changed since you last solved it?)\n",
      "            Warmstart may be ineffective.\u001b[39m\n"
     ]
    },
    {
     "name": "stdout",
     "output_type": "stream",
     "text": [
      "3, 1, true, 213.039101675\n",
      "\n",
      "Academic license - for non-commercial use only\n"
     ]
    },
    {
     "name": "stderr",
     "output_type": "stream",
     "text": [
      "\u001b[1m\u001b[33mWARNING: \u001b[39m\u001b[22m\u001b[33mUnable to use cached solution to warmstart problem.\n",
      "            (Perhaps the number of variables or constraints in the problem have changed since you last solved it?)\n",
      "            Warmstart may be ineffective.\u001b[39m\n",
      "\u001b[1m\u001b[33mWARNING: \u001b[39m\u001b[22m\u001b[33mUnable to use cached solution to warmstart problem.\n",
      "            (Perhaps the number of variables or constraints in the problem have changed since you last solved it?)\n",
      "            Warmstart may be ineffective.\u001b[39m\n"
     ]
    },
    {
     "name": "stdout",
     "output_type": "stream",
     "text": [
      "3, 2, true, 223.356565432\n",
      "\n",
      "Academic license - for non-commercial use only\n"
     ]
    },
    {
     "name": "stderr",
     "output_type": "stream",
     "text": [
      "\u001b[1m\u001b[33mWARNING: \u001b[39m\u001b[22m\u001b[33mUnable to use cached solution to warmstart problem.\n",
      "            (Perhaps the number of variables or constraints in the problem have changed since you last solved it?)\n",
      "            Warmstart may be ineffective.\u001b[39m\n",
      "\u001b[1m\u001b[33mWARNING: \u001b[39m\u001b[22m\u001b[33mUnable to use cached solution to warmstart problem.\n",
      "            (Perhaps the number of variables or constraints in the problem have changed since you last solved it?)\n",
      "            Warmstart may be ineffective.\u001b[39m\n"
     ]
    },
    {
     "name": "stdout",
     "output_type": "stream",
     "text": [
      "3, 3, true, 231.107844021\n",
      "\n"
     ]
    },
    {
     "name": "stderr",
     "output_type": "stream",
     "text": [
      "\u001b[1m\u001b[33mWARNING: \u001b[39m\u001b[22m\u001b[33mUnable to use cached solution to warmstart problem.\n",
      "            (Perhaps the number of variables or constraints in the problem have changed since you last solved it?)\n",
      "            Warmstart may be ineffective.\u001b[39m\n"
     ]
    },
    {
     "name": "stdout",
     "output_type": "stream",
     "text": [
      "Academic license - for non-commercial use only\n",
      "3, 4, true, 244.321204674\n",
      "\n"
     ]
    },
    {
     "name": "stderr",
     "output_type": "stream",
     "text": [
      "\u001b[1m\u001b[33mWARNING: \u001b[39m\u001b[22m\u001b[33mUnable to use cached solution to warmstart problem.\n",
      "            (Perhaps the number of variables or constraints in the problem have changed since you last solved it?)\n",
      "            Warmstart may be ineffective.\u001b[39m\n"
     ]
    },
    {
     "name": "stdout",
     "output_type": "stream",
     "text": [
      "Academic license - for non-commercial use only\n"
     ]
    },
    {
     "name": "stderr",
     "output_type": "stream",
     "text": [
      "\u001b[1m\u001b[33mWARNING: \u001b[39m\u001b[22m\u001b[33mUnable to use cached solution to warmstart problem.\n",
      "            (Perhaps the number of variables or constraints in the problem have changed since you last solved it?)\n",
      "            Warmstart may be ineffective.\u001b[39m\n",
      "\u001b[1m\u001b[33mWARNING: \u001b[39m\u001b[22m\u001b[33mUnable to use cached solution to warmstart problem.\n",
      "            (Perhaps the number of variables or constraints in the problem have changed since you last solved it?)\n",
      "            Warmstart may be ineffective.\u001b[39m\n"
     ]
    },
    {
     "name": "stdout",
     "output_type": "stream",
     "text": [
      "3, 5, true, 243.17749686699997\n",
      "\n"
     ]
    },
    {
     "name": "stderr",
     "output_type": "stream",
     "text": [
      "\u001b[1m\u001b[33mWARNING: \u001b[39m\u001b[22m\u001b[33mUnable to use cached solution to warmstart problem.\n",
      "            (Perhaps the number of variables or constraints in the problem have changed since you last solved it?)\n",
      "            Warmstart may be ineffective.\u001b[39m\n",
      "\u001b[1m\u001b[33mWARNING: \u001b[39m\u001b[22m\u001b[33mUnable to use cached solution to warmstart problem.\n",
      "            (Perhaps the number of variables or constraints in the problem have changed since you last solved it?)\n",
      "            Warmstart may be ineffective.\u001b[39m\n"
     ]
    },
    {
     "name": "stdout",
     "output_type": "stream",
     "text": [
      "Academic license - for non-commercial use only\n",
      "3, 6, true, 264.916483129\n",
      "\n"
     ]
    },
    {
     "name": "stderr",
     "output_type": "stream",
     "text": [
      "\u001b[1m\u001b[33mWARNING: \u001b[39m\u001b[22m\u001b[33mUnable to use cached solution to warmstart problem.\n",
      "            (Perhaps the number of variables or constraints in the problem have changed since you last solved it?)\n",
      "            Warmstart may be ineffective.\u001b[39m\n"
     ]
    },
    {
     "name": "stdout",
     "output_type": "stream",
     "text": [
      "Academic license - for non-commercial use only\n"
     ]
    },
    {
     "name": "stderr",
     "output_type": "stream",
     "text": [
      "\u001b[1m\u001b[33mWARNING: \u001b[39m\u001b[22m\u001b[33mUnable to use cached solution to warmstart problem.\n",
      "            (Perhaps the number of variables or constraints in the problem have changed since you last solved it?)\n",
      "            Warmstart may be ineffective.\u001b[39m\n",
      "\u001b[1m\u001b[33mWARNING: \u001b[39m\u001b[22m\u001b[33mUnable to use cached solution to warmstart problem.\n",
      "            (Perhaps the number of variables or constraints in the problem have changed since you last solved it?)\n",
      "            Warmstart may be ineffective.\u001b[39m\n"
     ]
    },
    {
     "name": "stdout",
     "output_type": "stream",
     "text": [
      "3, 7, true, 275.608300766\n",
      "\n",
      "Academic license - for non-commercial use only\n"
     ]
    },
    {
     "name": "stderr",
     "output_type": "stream",
     "text": [
      "\u001b[1m\u001b[33mWARNING: \u001b[39m\u001b[22m\u001b[33mUnable to use cached solution to warmstart problem.\n",
      "            (Perhaps the number of variables or constraints in the problem have changed since you last solved it?)\n",
      "            Warmstart may be ineffective.\u001b[39m\n",
      "\u001b[1m\u001b[33mWARNING: \u001b[39m\u001b[22m\u001b[33mUnable to use cached solution to warmstart problem.\n",
      "            (Perhaps the number of variables or constraints in the problem have changed since you last solved it?)\n",
      "            Warmstart may be ineffective.\u001b[39m\n"
     ]
    },
    {
     "name": "stdout",
     "output_type": "stream",
     "text": [
      "4, 1, true, 283.632759487\n",
      "\n"
     ]
    },
    {
     "name": "stderr",
     "output_type": "stream",
     "text": [
      "\u001b[1m\u001b[33mWARNING: \u001b[39m\u001b[22m\u001b[33mUnable to use cached solution to warmstart problem.\n",
      "            (Perhaps the number of variables or constraints in the problem have changed since you last solved it?)\n",
      "            Warmstart may be ineffective.\u001b[39m\n"
     ]
    },
    {
     "name": "stdout",
     "output_type": "stream",
     "text": [
      "Academic license - for non-commercial use only\n",
      "4, 2, true, 290.73449753299997\n",
      "\n"
     ]
    },
    {
     "name": "stderr",
     "output_type": "stream",
     "text": [
      "\u001b[1m\u001b[33mWARNING: \u001b[39m\u001b[22m\u001b[33mUnable to use cached solution to warmstart problem.\n",
      "            (Perhaps the number of variables or constraints in the problem have changed since you last solved it?)\n",
      "            Warmstart may be ineffective.\u001b[39m\n"
     ]
    },
    {
     "name": "stdout",
     "output_type": "stream",
     "text": [
      "Academic license - for non-commercial use only\n"
     ]
    },
    {
     "name": "stderr",
     "output_type": "stream",
     "text": [
      "\u001b[1m\u001b[33mWARNING: \u001b[39m\u001b[22m\u001b[33mUnable to use cached solution to warmstart problem.\n",
      "            (Perhaps the number of variables or constraints in the problem have changed since you last solved it?)\n",
      "            Warmstart may be ineffective.\u001b[39m\n",
      "\u001b[1m\u001b[33mWARNING: \u001b[39m\u001b[22m\u001b[33mUnable to use cached solution to warmstart problem.\n",
      "            (Perhaps the number of variables or constraints in the problem have changed since you last solved it?)\n",
      "            Warmstart may be ineffective.\u001b[39m\n"
     ]
    },
    {
     "name": "stdout",
     "output_type": "stream",
     "text": [
      "4, 3, true, 196.039954873\n",
      "\n"
     ]
    },
    {
     "name": "stderr",
     "output_type": "stream",
     "text": [
      "\u001b[1m\u001b[33mWARNING: \u001b[39m\u001b[22m\u001b[33mUnable to use cached solution to warmstart problem.\n",
      "            (Perhaps the number of variables or constraints in the problem have changed since you last solved it?)\n",
      "            Warmstart may be ineffective.\u001b[39m\n",
      "\u001b[1m\u001b[33mWARNING: \u001b[39m\u001b[22m\u001b[33mUnable to use cached solution to warmstart problem.\n",
      "            (Perhaps the number of variables or constraints in the problem have changed since you last solved it?)\n",
      "            Warmstart may be ineffective.\u001b[39m\n"
     ]
    },
    {
     "name": "stdout",
     "output_type": "stream",
     "text": [
      "Academic license - for non-commercial use only\n",
      "4, 4, true, 233.73518873600003\n",
      "\n"
     ]
    },
    {
     "name": "stderr",
     "output_type": "stream",
     "text": [
      "\u001b[1m\u001b[33mWARNING: \u001b[39m\u001b[22m\u001b[33mUnable to use cached solution to warmstart problem.\n",
      "            (Perhaps the number of variables or constraints in the problem have changed since you last solved it?)\n",
      "            Warmstart may be ineffective.\u001b[39m\n"
     ]
    },
    {
     "name": "stdout",
     "output_type": "stream",
     "text": [
      "Academic license - for non-commercial use only\n"
     ]
    },
    {
     "name": "stderr",
     "output_type": "stream",
     "text": [
      "\u001b[1m\u001b[33mWARNING: \u001b[39m\u001b[22m\u001b[33mUnable to use cached solution to warmstart problem.\n",
      "            (Perhaps the number of variables or constraints in the problem have changed since you last solved it?)\n",
      "            Warmstart may be ineffective.\u001b[39m\n",
      "\u001b[1m\u001b[33mWARNING: \u001b[39m\u001b[22m\u001b[33mUnable to use cached solution to warmstart problem.\n",
      "            (Perhaps the number of variables or constraints in the problem have changed since you last solved it?)\n",
      "            Warmstart may be ineffective.\u001b[39m\n"
     ]
    },
    {
     "name": "stdout",
     "output_type": "stream",
     "text": [
      "4, 5, true, 238.477908577\n",
      "\n"
     ]
    },
    {
     "name": "stderr",
     "output_type": "stream",
     "text": [
      "\u001b[1m\u001b[33mWARNING: \u001b[39m\u001b[22m\u001b[33mUnable to use cached solution to warmstart problem.\n",
      "            (Perhaps the number of variables or constraints in the problem have changed since you last solved it?)\n",
      "            Warmstart may be ineffective.\u001b[39m\n",
      "\u001b[1m\u001b[33mWARNING: \u001b[39m\u001b[22m\u001b[33mUnable to use cached solution to warmstart problem.\n",
      "            (Perhaps the number of variables or constraints in the problem have changed since you last solved it?)\n",
      "            Warmstart may be ineffective.\u001b[39m\n"
     ]
    },
    {
     "name": "stdout",
     "output_type": "stream",
     "text": [
      "Academic license - for non-commercial use only\n",
      "4, 6, true, 244.689906046\n",
      "\n"
     ]
    }
   ],
   "source": [
    "converged = falses(n_inits, n_goals)\n",
    "iterations = zeros(Int, n_inits, n_goals)\n",
    "total_time = zeros(n_inits, n_goals)\n",
    "J_true = zeros(n_inits, n_goals)\n",
    "dynamics_cost = zeros(n_inits,n_goals)    \n",
    "\n",
    "for i_init = 1:n_inits\n",
    "    th_init = th_inits[i_init]\n",
    "    for i in 1:robot.num_joints\n",
    "        x_init[2*i-1:2*i] = [cos(th_init[i]); sin(th_init[i])]\n",
    "    end\n",
    "\n",
    "    for i_goal = 1:n_goals\n",
    "        th_goal = th_goals[i_goal]\n",
    "        for i in 1:robot.num_joints\n",
    "            x_goal[2*i-1:2*i] = [cos(th_goal[i]); sin(th_goal[i])]\n",
    "        end\n",
    "\n",
    "        model.p_EE_goal = get_EE_position(x_goal,robot)\n",
    "            \n",
    "        traj_init = moveit_generation(model, tf_guess, moveit_dict[(i_init,i_goal)])\n",
    "            \n",
    "        PD = ProblemDefinition(robot, model, env, x_init, x_goal)\n",
    "        TOPgusto = TrajectoryOptimizationProblem(PD, N, tf_guess, fixed_final_time=true)\n",
    "        TOSgusto = TrajectoryOptimizationSolution(TOPgusto)\n",
    "        \n",
    "        # solve_SCP!(TOSgusto, TOPgusto, solve_gusto_cvx!, init_traj_so1, \"Gurobi\", OutputFlag=0)\n",
    "        solve_SCP!(TOSgusto, TOPgusto, solve_trajopt_cvx!, traj_init, \"Gurobi\", OutputFlag=0)\n",
    "\n",
    "        converged[i_init,i_goal] = TOSgusto.SCPS.converged\n",
    "        iterations[i_init, i_goal] = TOSgusto.SCPS.iterations\n",
    "        total_time[i_init, i_goal] = TOSgusto.SCPS.total_time\n",
    "        J_true[i_init,i_goal] = TOSgusto.SCPS.J_true[end] - tf_guess^2\n",
    "        dynamics_cost[i_init,i_goal] = dynamics_constraint_satisfaction(TOSgusto.traj, TOSgusto.SCPS.SCPP)\n",
    "            \n",
    "        println(\"$(i_init), $(i_goal), $(converged[i_init, i_goal]), $(total_time[i_init, i_goal])\\n\")\n",
    "        flush(STDOUT)\n",
    "        \n",
    "        PD = []\n",
    "        TOPgusto = []\n",
    "        TOSgusto = []\n",
    "        gc()\n",
    "    end \n",
    "end\n",
    "    \n",
    "valid_idx = find(converged)\n",
    "invalid_idx = find(.~converged)"
   ]
  },
  {
   "cell_type": "code",
   "execution_count": null,
   "metadata": {},
   "outputs": [],
   "source": [
    "percent_succ = 100*length(valid_idx)/(n_inits*n_goals)\n",
    "println(\"Percent success: $percent_succ\")"
   ]
  },
  {
   "cell_type": "code",
   "execution_count": null,
   "metadata": {},
   "outputs": [],
   "source": [
    "println(\"Average time for successful solution: \", mean(total_time[valid_idx]))\n",
    "println(\"Min time for successful solution: \", minimum(total_time[valid_idx]))\n",
    "println(\"Max time for successful solution: \", maximum(total_time[valid_idx]))"
   ]
  },
  {
   "cell_type": "code",
   "execution_count": null,
   "metadata": {},
   "outputs": [],
   "source": [
    "println(\"Average time for failed solution: \", mean(total_time[invalid_idx]))\n",
    "println(\"Minimum time for failed solution: \", minimum(total_time[invalid_idx]))\n",
    "println(\"Maximum time for failed solution: \", maximum(total_time[invalid_idx]))"
   ]
  },
  {
   "cell_type": "code",
   "execution_count": null,
   "metadata": {},
   "outputs": [],
   "source": [
    "println(\"Average cost: \", mean(J_true[valid_idx]))\n",
    "println(\"Minimum cost: \", minimum(J_true[valid_idx]))\n",
    "println(\"Maximum cost: \", maximum(J_true[valid_idx]))"
   ]
  },
  {
   "cell_type": "code",
   "execution_count": null,
   "metadata": {},
   "outputs": [],
   "source": [
    "println(\"Dynamics constraint violation: \", mean(dynamics_cost[valid_idx]))\n",
    "println(\"Minimum constraint violation: \", minimum(dynamics_cost[valid_idx]))\n",
    "println(\"Maximum constraint violation: \", maximum(dynamics_cost[valid_idx]))"
   ]
  },
  {
   "cell_type": "code",
   "execution_count": null,
   "metadata": {},
   "outputs": [],
   "source": [
    "println(\"Average iterations:\", mean(iterations[valid_idx]))"
   ]
  },
  {
   "cell_type": "code",
   "execution_count": null,
   "metadata": {},
   "outputs": [],
   "source": [
    "using MAT\n",
    "\n",
    "fn = \"TrajOpt_batch.mat\"\n",
    "file = matopen(fn, \"w\")\n",
    "write(file, \"successful_times\", total_time[valid_idx])\n",
    "write(file, \"failure_times\", total_time[invalid_idx])\n",
    "write(file, \"cost_true\", J_true[valid_idx])\n",
    "write(file, \"dynamics_cost\", dynamics_cost[valid_idx])\n",
    "write(file, \"iterations\", iterations[valid_idx])\n",
    "close(file)"
   ]
  }
 ],
 "metadata": {
  "kernelspec": {
   "display_name": "Julia 0.6.4",
   "language": "julia",
   "name": "julia-0.6"
  },
  "language_info": {
   "file_extension": ".jl",
   "mimetype": "application/julia",
   "name": "julia",
   "version": "0.6.4"
  }
 },
 "nbformat": 4,
 "nbformat_minor": 2
}
