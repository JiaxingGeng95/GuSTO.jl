{
 "cells": [
  {
   "cell_type": "code",
   "execution_count": 1,
   "metadata": {
    "scrolled": true
   },
   "outputs": [
    {
     "data": {
      "text/html": [
       "    <script class='js-collapse-script'>\n",
       "        var curMatch =\n",
       "            window.location.href\n",
       "            .match(/(.*?)\\/notebooks\\/.*\\.ipynb/);\n",
       "\n",
       "        curMatch = curMatch ||\n",
       "            window.location.href\n",
       "            .match(/(.*?)\\/apps\\/.*\\.ipynb/);\n",
       "\n",
       "        if ( curMatch ) {\n",
       "            $('head').append('<base href=\"' + curMatch[1] + '/\">');\n",
       "        }\n",
       "    </script>\n"
      ],
      "text/plain": [
       "HTML{String}(\"    <script class='js-collapse-script'>\\n        var curMatch =\\n            window.location.href\\n            .match(/(.*?)\\\\/notebooks\\\\/.*\\\\.ipynb/);\\n\\n        curMatch = curMatch ||\\n            window.location.href\\n            .match(/(.*?)\\\\/apps\\\\/.*\\\\.ipynb/);\\n\\n        if ( curMatch ) {\\n            \\$('head').append('<base href=\\\"' + curMatch[1] + '/\\\">');\\n        }\\n    </script>\\n\")"
      ]
     },
     "metadata": {},
     "output_type": "display_data"
    },
    {
     "data": {
      "text/html": [
       "<script class='js-collapse-script' src='/assetserver/e38c1e09106b4d8eef7b28477203db186cf7ad2e-assets/webio/dist/bundle.js'></script>"
      ],
      "text/plain": [
       "HTML{String}(\"<script class='js-collapse-script' src='/assetserver/e38c1e09106b4d8eef7b28477203db186cf7ad2e-assets/webio/dist/bundle.js'></script>\")"
      ]
     },
     "metadata": {},
     "output_type": "display_data"
    },
    {
     "data": {
      "text/html": [
       "<script class='js-collapse-script' src='/assetserver/e38c1e09106b4d8eef7b28477203db186cf7ad2e-assets/providers/ijulia_setup.js'></script>"
      ],
      "text/plain": [
       "HTML{String}(\"<script class='js-collapse-script' src='/assetserver/e38c1e09106b4d8eef7b28477203db186cf7ad2e-assets/providers/ijulia_setup.js'></script>\")"
      ]
     },
     "metadata": {},
     "output_type": "display_data"
    },
    {
     "data": {
      "text/html": [
       "  <script class='js-collapse-script'>\n",
       "    $('.js-collapse-script').parent('.output_subarea').css('padding', '0');\n",
       "  </script>\n"
      ],
      "text/plain": [
       "HTML{String}(\"  <script class='js-collapse-script'>\\n    \\$('.js-collapse-script').parent('.output_subarea').css('padding', '0');\\n  </script>\\n\")"
      ]
     },
     "metadata": {},
     "output_type": "display_data"
    },
    {
     "name": "stderr",
     "output_type": "stream",
     "text": [
      "\u001b[1m\u001b[36mINFO: \u001b[39m\u001b[22m\u001b[36mLoading HttpServer methods...\n",
      "\u001b[39m"
     ]
    },
    {
     "name": "stdout",
     "output_type": "stream",
     "text": [
      "WARNING: Could not add directory /home/freeflyerhub/Software/bullet3-2.87/bullet-build/src to clang search path!\n"
     ]
    },
    {
     "name": "stderr",
     "output_type": "stream",
     "text": [
      "WARNING: using FixedSizeArrays.Vec in module Main conflicts with an existing identifier.\n",
      "WARNING: using FixedSizeArrays.Point in module Main conflicts with an existing identifier.\n",
      "WARNING: requiring \"GuSTO\" in module \"Main\" did not define a corresponding module.\n"
     ]
    },
    {
     "data": {
      "text/plain": [
       "moveit_seeds (generic function with 1 method)"
      ]
     },
     "execution_count": 1,
     "metadata": {},
     "output_type": "execute_result"
    }
   ],
   "source": [
    "using PandaRobot\n",
    "using GuSTO\n",
    "include(\"parse_file.jl\")"
   ]
  },
  {
   "cell_type": "code",
   "execution_count": 2,
   "metadata": {},
   "outputs": [],
   "source": [
    "th_inits = []\n",
    "push!(th_inits, [0.597223, 0.37125, -0.0100986, -2.37541, 0.180311, 1.03483, 0.0706328])\n",
    "push!(th_inits, [0;  -0.6; 0.; -0.20*pi; 0.25; 1.10*pi; 0.25*pi])\n",
    "push!(th_inits, [pi/4;  0.50; 0; -0.5*pi; 0.25;  0.5*pi; 0.25*pi])\n",
    "push!(th_inits, [-pi/5; -0.65; 1.; -0.5*pi; 0.25;  0.5*pi; 0.25*pi])\n",
    "push!(th_inits, [pi/2;pi/4;0;-0.07;0;0.5;0])\n",
    "push!(th_inits, [-1.62393; -1.22264; -0.406409; -0.4119; -1.76969; 2.34654; -2.43675])\n",
    "push!(th_inits, [1.85565; -1.51793; -1.16217; -2.2597; -0.53239; 2.14503; -2.77667])\n",
    "# push!(th_inits, [0.844936; -1.01263; -.7381; -2.31455; -0.247229; 2.31731; 0.970091])\n",
    "# push!(th_inits, [1.5964; 0.0857214; -2.28602; -0.676237; 1.77197; 0.840032; 2.88113])\n",
    "# push!(th_inits, [0.235829; -0.337666; 1.1378; -2.22957; 2.37467; 1.40022; -1.20456])\n",
    "\n",
    "th_goals = []\n",
    "push!(th_goals, [0;  +0.1; 0.; -0.1*pi; 0.25; 1.72; 0.25*pi])\n",
    "push!(th_goals, [-pi/5; 0.65; 0; -0.5*pi; 0.25;  0.75*pi; 0.25*pi])\n",
    "push!(th_goals, [-0.105115; 1.58432; -1.53984; -0.183412; 0.668877; 1.25792; -2.89474])\n",
    "push!(th_goals, [0.130862; -0.70124; 2.0121; -1.69346; 0.674449;2.58168; 0.317337])\n",
    "push!(th_goals, [-1.98575; 0.592403; -0.491794; -0.824348; -1.86245; 1.57712; -0.905226])\n",
    "push!(th_goals, [1.93431; 0.256879; 1.17659; -0.0998391; -0.455313; 0.33823; 1.43323])\n",
    "push!(th_goals, [-0.156785; -1.06; 0.992719; -1.21834; 2.38384; 0.340514; -1.74002])\n",
    "# push!(th_goals, [-1.49469; 0.377673; -0.986205; -1.50891; -0.476247; 1.55533; -0.311577])\n",
    "# push!(th_goals, [-0.560172; -0.941266; 0.0038547; -1.89165; -0.37443; 1.39094; -2.10081])\n",
    "# push!(th_goals, [-0.287769;-0.828924;0.00223236;-2.71563;0.627072; 0.966626; -1.24478])\n",
    "\n",
    "n_inits, n_goals = length(th_inits), length(th_goals);"
   ]
  },
  {
   "cell_type": "code",
   "execution_count": 3,
   "metadata": {},
   "outputs": [
    {
     "data": {
      "text/plain": [
       "1-element Array{GeometryTypes.GeometryPrimitive,1}:\n",
       " GeometryTypes.HyperRectangle{3,Float32}(Float32[0.45, 0.1, 0.0], Float32[0.1, 0.1, 0.1])"
      ]
     },
     "execution_count": 3,
     "metadata": {},
     "output_type": "execute_result"
    }
   ],
   "source": [
    "robot = PandaBot()\n",
    "env = Factory()\n",
    "push!(env.obstacle_set, HyperRectangle(Vec3f0(0.45,0.1,0.), Vec3f0(0.1,0.1,0.1)))\n",
    "# push!(env.obstacle_set, HyperRectangle(Vec3f0(0.45,0.1,0.7), Vec3f0(0.1,0.1,0.1)))\n",
    "# push!(env.obstacle_set, HyperRectangle(Vec3f0(-0.2,-0.3,0.3), Vec3f0(0.1,0.1,0.1)))\n",
    "# push!(env.obstacle_set, HyperRectangle(Vec3f0(-0.5,0.3,0.1), Vec3f0(0.1,0.1,0.1)))\n",
    "# push!(env.obstacle_set, HyperRectangle(Vec3f0(0.,0.65,0.4), Vec3f0(0.1,0.1,0.1)))\n",
    "# push!(env.obstacle_set, HyperRectangle(Vec3f0(-0.45,0.,0.4), Vec3f0(0.1,0.1,0.1)))\n",
    "# push!(env.obstacle_set, HyperRectangle(Vec3f0(0.5,0.5,0.2), Vec3f0(0.1,0.1,0.1)))\n",
    "# push!(env.obstacle_set, HyperRectangle(Vec3f0(-0.4,0.,0.8), Vec3f0(0.1,0.1,0.1)))\n",
    "# push!(env.obstacle_set, HyperRectangle(Vec3f0(0.4,-0.3,0.6), Vec3f0(0.1,0.1,0.1)))"
   ]
  },
  {
   "cell_type": "code",
   "execution_count": 4,
   "metadata": {},
   "outputs": [
    {
     "name": "stderr",
     "output_type": "stream",
     "text": [
      "\u001b[1m\u001b[33mWARNING: \u001b[39m\u001b[22m\u001b[33misnumber(s::AbstractString) is deprecated, use all(isnumber, s) instead.\u001b[39m\n",
      "Stacktrace:\n",
      " [1] \u001b[1mdepwarn\u001b[22m\u001b[22m\u001b[1m(\u001b[22m\u001b[22m::String, ::Symbol\u001b[1m)\u001b[22m\u001b[22m at \u001b[1m./deprecated.jl:70\u001b[22m\u001b[22m\n",
      " [2] \u001b[1misnumber\u001b[22m\u001b[22m\u001b[1m(\u001b[22m\u001b[22m::String\u001b[1m)\u001b[22m\u001b[22m at \u001b[1m./deprecated.jl:57\u001b[22m\u001b[22m\n",
      " [3] \u001b[1m(::##84#87{Dict{Any,Any}})\u001b[22m\u001b[22m\u001b[1m(\u001b[22m\u001b[22m::IOStream\u001b[1m)\u001b[22m\u001b[22m at \u001b[1m/home/freeflyerhub/.julia/v0.6/GuSTO/examples/parse_file.jl:20\u001b[22m\u001b[22m\n",
      " [4] \u001b[1mopen\u001b[22m\u001b[22m\u001b[1m(\u001b[22m\u001b[22m::##84#87{Dict{Any,Any}}, ::String\u001b[1m)\u001b[22m\u001b[22m at \u001b[1m./iostream.jl:152\u001b[22m\u001b[22m\n",
      " [5] \u001b[1mmoveit_seeds\u001b[22m\u001b[22m\u001b[1m(\u001b[22m\u001b[22m::Int64\u001b[1m)\u001b[22m\u001b[22m at \u001b[1m/home/freeflyerhub/.julia/v0.6/GuSTO/examples/parse_file.jl:8\u001b[22m\u001b[22m\n",
      " [6] \u001b[1minclude_string\u001b[22m\u001b[22m\u001b[1m(\u001b[22m\u001b[22m::String, ::String\u001b[1m)\u001b[22m\u001b[22m at \u001b[1m./loading.jl:522\u001b[22m\u001b[22m\n",
      " [7] \u001b[1mexecute_request\u001b[22m\u001b[22m\u001b[1m(\u001b[22m\u001b[22m::ZMQ.Socket, ::IJulia.Msg\u001b[1m)\u001b[22m\u001b[22m at \u001b[1m/home/freeflyerhub/.julia/v0.6/IJulia/src/execute_request.jl:193\u001b[22m\u001b[22m\n",
      " [8] \u001b[1m(::Compat.#inner#6{Array{Any,1},IJulia.#execute_request,Tuple{ZMQ.Socket,IJulia.Msg}})\u001b[22m\u001b[22m\u001b[1m(\u001b[22m\u001b[22m\u001b[1m)\u001b[22m\u001b[22m at \u001b[1m/home/freeflyerhub/.julia/v0.6/Compat/src/Compat.jl:189\u001b[22m\u001b[22m\n",
      " [9] \u001b[1meventloop\u001b[22m\u001b[22m\u001b[1m(\u001b[22m\u001b[22m::ZMQ.Socket\u001b[1m)\u001b[22m\u001b[22m at \u001b[1m/home/freeflyerhub/.julia/v0.6/IJulia/src/eventloop.jl:8\u001b[22m\u001b[22m\n",
      " [10] \u001b[1m(::IJulia.##13#16)\u001b[22m\u001b[22m\u001b[1m(\u001b[22m\u001b[22m\u001b[1m)\u001b[22m\u001b[22m at \u001b[1m./task.jl:335\u001b[22m\u001b[22m\n",
      "while loading In[4], in expression starting on line 6\n"
     ]
    }
   ],
   "source": [
    "model = PandaKin()\n",
    "\n",
    "N = 81\n",
    "tf_guess = 100.\n",
    "\n",
    "moveit_dict = moveit_seeds(N)\n",
    "\n",
    "x_init, x_goal = zeros(model.x_dim), zeros(model.x_dim);"
   ]
  },
  {
   "cell_type": "code",
   "execution_count": 5,
   "metadata": {},
   "outputs": [
    {
     "data": {
      "text/plain": [
       "moveit_generation (generic function with 1 method)"
      ]
     },
     "execution_count": 5,
     "metadata": {},
     "output_type": "execute_result"
    }
   ],
   "source": [
    "function moveit_generation(model, Tf, Qs)\n",
    "    N = size(Qs,2)\n",
    "    dt = Tf/(N-1)\n",
    "    \n",
    "    X = zeros(model.x_dim,N)\n",
    "    for i in 1:N\n",
    "        for j in 1:model.num_joints\n",
    "            th = Qs[j,i]\n",
    "            X[2*j-1,i] = cos(th)\n",
    "            X[2*j,i] = sin(th)\n",
    "        end\n",
    "    end\n",
    "    \n",
    "    th_dot = (Qs[:,end]-Qs[:,1]) / dt\n",
    "    U = repmat(th_dot, 1,N-1)\n",
    "    \n",
    "    traj = Trajectory(X,U,Tf,dt)\n",
    "    return traj\n",
    "end"
   ]
  },
  {
   "cell_type": "code",
   "execution_count": 6,
   "metadata": {},
   "outputs": [],
   "source": [
    "# i_init, i_goal = 7,6\n",
    "\n",
    "# th_init = th_inits[i_init]\n",
    "# for i in 1:robot.num_joints\n",
    "#     x_init[2*i-1:2*i] = [cos(th_init[i]); sin(th_init[i])]\n",
    "# end\n",
    "\n",
    "\n",
    "# th_goal = th_goals[i_goal]\n",
    "# for i in 1:robot.num_joints\n",
    "#     x_goal[2*i-1:2*i] = [cos(th_goal[i]); sin(th_goal[i])]\n",
    "# end\n",
    "\n",
    "# # th_init = [pi/4;  0.50; 0; -0.5*pi; 0.25;  1.25*pi; 0.25*pi-0.001]\n",
    "# # th_goal = [-pi/3;  0.30; 0.1; -0.4*pi; 0.3;  1.*pi; 0.2*pi-0.001]\n",
    "\n",
    "# model.p_EE_goal = get_EE_position(x_goal,robot)\n",
    "\n",
    "# Qs = moveit_dict[(i_init,i_goal)]\n",
    "# traj_init = moveit_generation(model, tf_guess, Qs)\n",
    "\n",
    "# PD = ProblemDefinition(robot, model, env, x_init, x_goal)\n",
    "# TOPgusto = TrajectoryOptimizationProblem(PD, N, tf_guess, fixed_final_time=true)\n",
    "# TOSgusto = TrajectoryOptimizationSolution(TOPgusto)\n",
    "\n",
    "# # solve_SCP!(TOSgusto, TOPgusto, solve_gusto_cvx!, traj_init, \"Gurobi\", OutputFlag=0)\n",
    "# solve_SCP!(TOSgusto, TOPgusto, solve_gusto_cvx!, init_traj_so1, \"Gurobi\", OutputFlag=0)"
   ]
  },
  {
   "cell_type": "code",
   "execution_count": 7,
   "metadata": {},
   "outputs": [],
   "source": [
    "# @show TOSgusto.SCPS.converged\n",
    "# @show TOSgusto.SCPS.successful\n",
    "# @show TOSgusto.SCPS.iterations\n",
    "# @show TOSgusto.SCPS.total_time\n",
    "# @show TOSgusto.SCPS.accept_solution\n",
    "# @show TOSgusto.SCPS.prob_status\n",
    "# @show TOSgusto.SCPS.convergence_measure\n",
    "# @show TOSgusto.SCPS.param.alg.omega_vec\n",
    "# @show TOSgusto.SCPS.param.alg.Delta_vec\n",
    "# @show TOSgusto.SCPS.J_true[end];"
   ]
  },
  {
   "cell_type": "code",
   "execution_count": 8,
   "metadata": {},
   "outputs": [],
   "source": [
    "# manifold_constraints = zeros(model.num_joints, N)\n",
    "# X_not_enforced = TOSgusto.SCPS.traj.X\n",
    "# for k in 1:N\n",
    "#     for i in 1:model.num_joints\n",
    "#         manifold_constraints[i,k] = abs(norm(X_not_enforced[2*i-1:2*i,k])^2 - 1)\n",
    "#     end\n",
    "# end\n",
    "\n",
    "# dynamics_cost_not_enforced = dynamics_constraint_satisfaction(TOSgusto.traj, TOSgusto.SCPS.SCPP)\n",
    "# @show dynamics_cost_not_enforced\n",
    "\n",
    "# for i in 1:model.num_joints\n",
    "#     PyPlot.plot(manifold_constraints[i,:])\n",
    "# end\n",
    "# sum(sum(manifold_constraints))"
   ]
  },
  {
   "cell_type": "code",
   "execution_count": 9,
   "metadata": {},
   "outputs": [],
   "source": [
    "# joint_traj = zeros(robot.num_joints,N)\n",
    "# for k in 1:N\n",
    "#     joint_traj[:,k] = get_configuration(TOSgusto.traj.X[:,k],model)\n",
    "# end\n",
    "# verify_joint_limits(TOSgusto.SCPS.traj, TOSgusto.SCPS.SCPP)"
   ]
  },
  {
   "cell_type": "code",
   "execution_count": 10,
   "metadata": {},
   "outputs": [],
   "source": [
    "# @show TOSgusto.SCPS.converged\n",
    "# @show TOSgusto.SCPS.successful\n",
    "# @show TOSgusto.SCPS.iterations\n",
    "# @show TOSgusto.SCPS.total_time\n",
    "# @show TOSgusto.SCPS.accept_solution\n",
    "# @show TOSgusto.SCPS.prob_status\n",
    "# @show TOSgusto.SCPS.convergence_measure\n",
    "# @show TOSgusto.SCPS.param.alg.omega_vec\n",
    "# @show TOSgusto.SCPS.param.alg.Delta_vec\n",
    "# @show TOSgusto.SCPS.J_true[end];"
   ]
  },
  {
   "cell_type": "code",
   "execution_count": 11,
   "metadata": {},
   "outputs": [],
   "source": [
    "# manifold_constraints = zeros(model.num_joints, N)\n",
    "# X_enforced = TOSgusto.SCPS.traj.X\n",
    "# for k in 1:N\n",
    "#     for i in 1:model.num_joints\n",
    "#         manifold_constraints[i,k] = abs(norm(X_enforced[2*i-1:2*i,k])^2 - 1)\n",
    "#     end\n",
    "# end\n",
    "\n",
    "# dynamics_cost_enforced = dynamics_constraint_satisfaction(TOSgusto.traj, TOSgusto.SCPS.SCPP)\n",
    "# @show dynamics_cost_enforced\n",
    "\n",
    "# for i in 1:model.num_joints\n",
    "#     PyPlot.plot(manifold_constraints[i,:])\n",
    "# end\n",
    "# sum(sum(manifold_constraints))"
   ]
  },
  {
   "cell_type": "code",
   "execution_count": 12,
   "metadata": {},
   "outputs": [],
   "source": [
    "# joint_traj = zeros(robot.num_joints,N)\n",
    "# for k in 1:N\n",
    "#     joint_traj[:,k] = get_configuration(TOSgusto.traj.X[:,k],model)\n",
    "# end\n",
    "# PyPlot.figure()\n",
    "# for k in 1:model.num_joints\n",
    "#     PyPlot.plot(joint_traj[k,:])\n",
    "# end"
   ]
  },
  {
   "cell_type": "code",
   "execution_count": 13,
   "metadata": {},
   "outputs": [],
   "source": [
    "# vis = Visualizer()\n",
    "\n",
    "# pan = Panda()\n",
    "# mvis = MechanismVisualizer(\n",
    "#     pan.mechanism,\n",
    "#     URDFVisuals(PandaRobot.urdfpath(), package_path=[dirname(dirname(PandaRobot.urdfpath()))]),\n",
    "#     vis);\n",
    "\n",
    "# vis[:obstacles]\n",
    "# for (idx,obs) in enumerate(env.obstacle_set)\n",
    "#     setobject!(vis[:obstacles][Symbol(string(\"obs\",idx))], \n",
    "#         Object(obs,MeshBasicMaterial(color=GeometryTypes.RGBA(0.,0.,0.,0.5))))\n",
    "# end\n",
    "\n",
    "# # q = Vector{Array{Float64,1}}(0)\n",
    "# # for k in 1:N\n",
    "# #     push!(q, joint_traj[:,k]) \n",
    "# #     # push!(q, Qs[:,k])\n",
    "# # end\n",
    "\n",
    "# q = [th for th in [th_inits; th_goals]]\n",
    "\n",
    "# setanimation!(mvis, 1:length(q), q)\n",
    "\n",
    "# plot_in_cell = true\n",
    "# plot_in_cell ? IJuliaCell(vis) : open(vis)"
   ]
  },
  {
   "cell_type": "code",
   "execution_count": 14,
   "metadata": {
    "scrolled": true
   },
   "outputs": [
    {
     "name": "stdout",
     "output_type": "stream",
     "text": [
      "Academic license - for non-commercial use only\n",
      "1, 1\n",
      "\n",
      "Academic license - for non-commercial use only\n",
      "1, 2\n",
      "\n",
      "Academic license - for non-commercial use only\n",
      "1, 3\n",
      "\n",
      "Academic license - for non-commercial use only\n",
      "1, 4\n",
      "\n",
      "Academic license - for non-commercial use only\n",
      "1, 5\n",
      "\n",
      "Academic license - for non-commercial use only\n",
      "2, 1\n",
      "\n",
      "Academic license - for non-commercial use only\n",
      "2, 2\n",
      "\n",
      "Academic license - for non-commercial use only\n",
      "2, 3\n",
      "\n",
      "Academic license - for non-commercial use only\n",
      "2, 4\n",
      "\n",
      "Academic license - for non-commercial use only\n",
      "2, 5\n",
      "\n",
      "Academic license - for non-commercial use only\n",
      "3, 1\n",
      "\n",
      "Academic license - for non-commercial use only\n",
      "3, 2\n",
      "\n",
      "Academic license - for non-commercial use only\n",
      "3, 3\n",
      "\n",
      "Academic license - for non-commercial use only\n",
      "3, 4\n",
      "\n",
      "Academic license - for non-commercial use only\n",
      "3, 5\n",
      "\n",
      "Academic license - for non-commercial use only\n",
      "4, 1\n",
      "\n",
      "Academic license - for non-commercial use only\n",
      "4, 2\n",
      "\n",
      "Academic license - for non-commercial use only\n",
      "4, 3\n",
      "\n",
      "Academic license - for non-commercial use only\n",
      "4, 4\n",
      "\n",
      "Academic license - for non-commercial use only\n",
      "4, 5\n",
      "\n",
      "Academic license - for non-commercial use only\n",
      "5, 1\n",
      "\n",
      "Academic license - for non-commercial use only\n",
      "5, 2\n",
      "\n",
      "Academic license - for non-commercial use only\n",
      "5, 3\n",
      "\n",
      "Academic license - for non-commercial use only\n",
      "5, 4\n",
      "\n",
      "Academic license - for non-commercial use only\n",
      "5, 5\n",
      "\n"
     ]
    },
    {
     "data": {
      "text/plain": [
       "0-element Array{Int64,1}"
      ]
     },
     "execution_count": 14,
     "metadata": {},
     "output_type": "execute_result"
    }
   ],
   "source": [
    "# converged = falses(n_inits, n_goals)\n",
    "# iterations = zeros(Int, n_inits, n_goals)\n",
    "# total_time = zeros(Float64,n_inits, n_goals)\n",
    "# J_true = zeros(Float64,n_inits, n_goals)\n",
    "# dynamics_cost = zeros(Float64,n_inits,n_goals)    \n",
    "# manifold_costs = zeros(Float64,n_inits,n_goals)\n",
    "\n",
    "converged = Bool[]\n",
    "iterations = Int[]\n",
    "total_times = Float64[]\n",
    "J_true = Float64[]\n",
    "dynamics_costs = Float64[]\n",
    "manifold_costs = Float64[]\n",
    "\n",
    "n_inits, n_goals = 5, 5\n",
    "for i_init = 1:n_inits\n",
    "    th_init = th_inits[i_init]\n",
    "    for i in 1:robot.num_joints\n",
    "        x_init[2*i-1:2*i] = [cos(th_init[i]); sin(th_init[i])]\n",
    "    end\n",
    "\n",
    "    for i_goal = 1:n_goals\n",
    "        th_goal = th_goals[i_goal]\n",
    "        for i in 1:robot.num_joints\n",
    "            x_goal[2*i-1:2*i] = [cos(th_goal[i]); sin(th_goal[i])]\n",
    "        end\n",
    "\n",
    "        model.p_EE_goal = get_EE_position(x_goal,robot)\n",
    "            \n",
    "        traj_init = moveit_generation(model, tf_guess, moveit_dict[(i_init,i_goal)])\n",
    "            \n",
    "        PD = ProblemDefinition(robot, model, env, x_init, x_goal)\n",
    "        TOPgusto = TrajectoryOptimizationProblem(PD, N, tf_guess, fixed_final_time=true)\n",
    "        TOSgusto = TrajectoryOptimizationSolution(TOPgusto)\n",
    "\n",
    "        solve_SCP!(TOSgusto, TOPgusto, solve_trajopt_cvx!, init_traj_so1, \"Gurobi\", OutputFlag=0)\n",
    "#         solve_SCP!(TOSgusto, TOPgusto, solve_gusto_cvx!, traj_init, \"Gurobi\", OutputFlag=0)\n",
    "\n",
    "#         converged[i_init,i_goal] = TOSgusto.SCPS.converged\n",
    "#         iterations[i_init, i_goal] = TOSgusto.SCPS.iterations\n",
    "#         total_time[i_init, i_goal] = TOSgusto.SCPS.total_time\n",
    "#         J_true[i_init,i_goal] = TOSgusto.SCPS.J_true[end] - tf_guess^2\n",
    "#         dynamics_cost[i_init,i_goal] = dynamics_constraint_satisfaction(TOSgusto.traj, TOSgusto.SCPS.SCPP)\n",
    "        \n",
    "        manifold_cost = 0.\n",
    "        for i in 1:N\n",
    "            for j in 1:model.num_joints\n",
    "                manifold_cost += abs(norm(TOSgusto.SCPS.traj.X[2*j-1:2*j,i])-1)\n",
    "            end\n",
    "        end\n",
    "\n",
    "        push!(converged, TOSgusto.SCPS.converged)\n",
    "        push!(iterations, TOSgusto.SCPS.iterations)\n",
    "        push!(total_times, TOSgusto.SCPS.total_time)\n",
    "        push!(J_true, TOSgusto.SCPS.J_true[end] - tf_guess^2)\n",
    "        push!(dynamics_costs, dynamics_constraint_satisfaction(TOSgusto.traj, TOSgusto.SCPS.SCPP))\n",
    "        push!(manifold_costs, manifold_cost)\n",
    "        \n",
    "        println(\"$(i_init), $(i_goal)\\n\")\n",
    "        flush(STDOUT)\n",
    "        \n",
    "        PD = []\n",
    "        TOPgusto = []\n",
    "        TOSgusto = []\n",
    "        gc()\n",
    "    end \n",
    "end\n",
    "    \n",
    "valid_idx = find(converged)\n",
    "invalid_idx = find(.~converged)"
   ]
  },
  {
   "cell_type": "code",
   "execution_count": 15,
   "metadata": {},
   "outputs": [
    {
     "name": "stdout",
     "output_type": "stream",
     "text": [
      "Percent success: 100.0\n"
     ]
    }
   ],
   "source": [
    "percent_succ = 100*length(valid_idx)/(n_inits*n_goals)\n",
    "println(\"Percent success: $percent_succ\")"
   ]
  },
  {
   "cell_type": "code",
   "execution_count": 16,
   "metadata": {},
   "outputs": [
    {
     "name": "stdout",
     "output_type": "stream",
     "text": [
      "Average time for successful solution: 16.46748522552\n",
      "Min time for successful solution: 9.244229609\n",
      "Max time for successful solution: 37.789222396\n"
     ]
    }
   ],
   "source": [
    "println(\"Average time for successful solution: \", mean(total_times[valid_idx]))\n",
    "println(\"Min time for successful solution: \", minimum(total_times[valid_idx]))\n",
    "println(\"Max time for successful solution: \", maximum(total_times[valid_idx]))"
   ]
  },
  {
   "cell_type": "code",
   "execution_count": 17,
   "metadata": {},
   "outputs": [
    {
     "name": "stdout",
     "output_type": "stream",
     "text": [
      "Average time for failed solution: NaN\n"
     ]
    },
    {
     "ename": "LoadError",
     "evalue": "\u001b[91mArgumentError: reducing over an empty collection is not allowed\u001b[39m",
     "output_type": "error",
     "traceback": [
      "\u001b[91mArgumentError: reducing over an empty collection is not allowed\u001b[39m",
      "",
      "Stacktrace:",
      " [1] \u001b[1m_mapreduce\u001b[22m\u001b[22m\u001b[1m(\u001b[22m\u001b[22m::Base.#identity, ::Base.#scalarmin, ::IndexLinear, ::Array{Float64,1}\u001b[1m)\u001b[22m\u001b[22m at \u001b[1m./reduce.jl:265\u001b[22m\u001b[22m",
      " [2] \u001b[1mminimum\u001b[22m\u001b[22m\u001b[1m(\u001b[22m\u001b[22m::Array{Float64,1}\u001b[1m)\u001b[22m\u001b[22m at \u001b[1m./reduce.jl:469\u001b[22m\u001b[22m",
      " [3] \u001b[1minclude_string\u001b[22m\u001b[22m\u001b[1m(\u001b[22m\u001b[22m::String, ::String\u001b[1m)\u001b[22m\u001b[22m at \u001b[1m./loading.jl:522\u001b[22m\u001b[22m",
      " [4] \u001b[1mexecute_request\u001b[22m\u001b[22m\u001b[1m(\u001b[22m\u001b[22m::ZMQ.Socket, ::IJulia.Msg\u001b[1m)\u001b[22m\u001b[22m at \u001b[1m/home/freeflyerhub/.julia/v0.6/IJulia/src/execute_request.jl:193\u001b[22m\u001b[22m",
      " [5] \u001b[1m(::Compat.#inner#6{Array{Any,1},IJulia.#execute_request,Tuple{ZMQ.Socket,IJulia.Msg}})\u001b[22m\u001b[22m\u001b[1m(\u001b[22m\u001b[22m\u001b[1m)\u001b[22m\u001b[22m at \u001b[1m/home/freeflyerhub/.julia/v0.6/Compat/src/Compat.jl:189\u001b[22m\u001b[22m",
      " [6] \u001b[1meventloop\u001b[22m\u001b[22m\u001b[1m(\u001b[22m\u001b[22m::ZMQ.Socket\u001b[1m)\u001b[22m\u001b[22m at \u001b[1m/home/freeflyerhub/.julia/v0.6/IJulia/src/eventloop.jl:8\u001b[22m\u001b[22m",
      " [7] \u001b[1m(::IJulia.##13#16)\u001b[22m\u001b[22m\u001b[1m(\u001b[22m\u001b[22m\u001b[1m)\u001b[22m\u001b[22m at \u001b[1m./task.jl:335\u001b[22m\u001b[22m"
     ]
    }
   ],
   "source": [
    "println(\"Average time for failed solution: \", mean(total_times[invalid_idx]))\n",
    "println(\"Minimum time for failed solution: \", minimum(total_times[invalid_idx]))\n",
    "println(\"Maximum time for failed solution: \", maximum(total_times[invalid_idx]))"
   ]
  },
  {
   "cell_type": "code",
   "execution_count": 18,
   "metadata": {},
   "outputs": [
    {
     "name": "stdout",
     "output_type": "stream",
     "text": [
      "Average cost: 0.11765166005287028\n",
      "Minimum cost: 0.018955606163217453\n",
      "Maximum cost: 0.4251900362960441\n"
     ]
    }
   ],
   "source": [
    "println(\"Average cost: \", mean(J_true[valid_idx]))\n",
    "println(\"Minimum cost: \", minimum(J_true[valid_idx]))\n",
    "println(\"Maximum cost: \", maximum(J_true[valid_idx]))"
   ]
  },
  {
   "cell_type": "code",
   "execution_count": 19,
   "metadata": {},
   "outputs": [
    {
     "name": "stdout",
     "output_type": "stream",
     "text": [
      "Dynamics constraint violation: 0.22094444550196826\n",
      "Minimum constraint violation: 0.0295622003265525\n",
      "Maximum constraint violation: 1.169999254109485\n"
     ]
    }
   ],
   "source": [
    "println(\"Dynamics constraint violation: \", mean(dynamics_costs[valid_idx]))\n",
    "println(\"Minimum constraint violation: \", minimum(dynamics_costs[valid_idx]))\n",
    "println(\"Maximum constraint violation: \", maximum(dynamics_costs[valid_idx]))"
   ]
  },
  {
   "cell_type": "code",
   "execution_count": 20,
   "metadata": {},
   "outputs": [
    {
     "name": "stdout",
     "output_type": "stream",
     "text": [
      "Average iterations:5.0\n"
     ]
    }
   ],
   "source": [
    "println(\"Average iterations:\", mean(iterations[valid_idx]))"
   ]
  },
  {
   "cell_type": "code",
   "execution_count": 21,
   "metadata": {},
   "outputs": [],
   "source": [
    "using MAT\n",
    "\n",
    "fn = \"TrajOpt_batch_1to5_manifold_enforced.mat\"\n",
    "file = matopen(fn, \"w\")\n",
    "write(file, \"valid_idx\", valid_idx)\n",
    "write(file, \"percent_success\", percent_succ)\n",
    "write(file, \"total_times\", total_times)\n",
    "write(file, \"successful_times\", total_times[valid_idx])\n",
    "write(file, \"failure_times\", total_times[invalid_idx])\n",
    "write(file, \"cost_true\", J_true)\n",
    "write(file, \"dynamics_cost\", dynamics_costs)\n",
    "write(file, \"manifold_costs\", manifold_costs)\n",
    "write(file, \"iterations\", iterations)\n",
    "close(file)"
   ]
  },
  {
   "cell_type": "code",
   "execution_count": 22,
   "metadata": {},
   "outputs": [],
   "source": [
    "# using MeshCat\n",
    "# using MeshCatMechanisms\n",
    "\n",
    "# using RigidBodySim\n",
    "# using RigidBodyDynamics\n",
    "\n",
    "# vis = Visualizer()\n",
    "\n",
    "# pd = robot.pan\n",
    "# mvis = MechanismVisualizer(\n",
    "#     pd.mechanism,\n",
    "#     URDFVisuals(PandaRobot.urdfpath(), package_path=[dirname(dirname(PandaRobot.urdfpath()))]),\n",
    "#     vis);\n",
    "# # \n",
    "# vis[:obstacles]\n",
    "# for (idx,obs) in enumerate(env.obstacle_set)\n",
    "#     setobject!(vis[:obstacles][Symbol(string(\"obs\",idx))], \n",
    "#         Object(obs,MeshBasicMaterial(color=RGBA(0.,0.,0.,0.5))))\n",
    "# end\n",
    "\n",
    "# EE_box = HyperRectangle(Vec3f0(model.p_EE_goal-model.p_EE_goal_delta_error), Vec3f0(2*model.p_EE_goal_delta_error*ones(3)))\n",
    "# setobject!(vis[:obstacles][Symbol(string(\"obs\",length(env.obstacle_set)+1))], \n",
    "#         Object(EE_box,MeshBasicMaterial(color=RGBA(1.,1.,1.,0.5))))\n",
    "\n",
    "# q = Vector{Array{Float64,1}}(0)\n",
    "# q = [th_init,\n",
    "#     th_goal]\n",
    "\n",
    "\n",
    "# setanimation!(mvis, 1:length(q), q)\n",
    "\n",
    "# plot_in_cell = true\n",
    "# plot_in_cell ? IJuliaCell(vis) : open(vis)\n",
    "# #sleep(1)"
   ]
  }
 ],
 "metadata": {
  "kernelspec": {
   "display_name": "Julia 0.6.4",
   "language": "julia",
   "name": "julia-0.6"
  },
  "language_info": {
   "file_extension": ".jl",
   "mimetype": "application/julia",
   "name": "julia",
   "version": "0.6.4"
  }
 },
 "nbformat": 4,
 "nbformat_minor": 2
}
