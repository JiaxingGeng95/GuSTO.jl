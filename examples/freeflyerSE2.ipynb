{
 "cells": [
  {
   "cell_type": "code",
   "execution_count": null,
   "metadata": {},
   "outputs": [],
   "source": [
    "using GuSTO\n",
    "using AstrobeeRobot"
   ]
  },
  {
   "cell_type": "code",
   "execution_count": null,
   "metadata": {},
   "outputs": [],
   "source": [
    "robot = Freeflyer()\n",
    "model = FreeflyerSE2()"
   ]
  },
  {
   "cell_type": "code",
   "execution_count": null,
   "metadata": {},
   "outputs": [],
   "source": [
    "env = Table(:stanford);\n",
    "centers = Vector()\n",
    "push!(centers, [0.460; 0.315; 0.0])\n",
    "push!(centers, [0.201; 1.085; 0.0])\n",
    "push!(centers, [0.540; 2.020; 0.0])\n",
    "push!(centers, [1.374; 0.196; 0.0])\n",
    "push!(centers, [1.063; 1.354; 0.0])\n",
    "push!(centers, [1.265; 2.322; 0.0])\n",
    "push!(centers, [2.221; 0.548; 0.0])\n",
    "push!(centers, [2.077; 1.443; 0.0])\n",
    "push!(centers, [3.098; 1.186; 0.0])\n",
    "push!(centers, [2.837; 2.064; 0.0])\n",
    "\n",
    "widths = [0.27; 0.27; 0.127]\n",
    "inflation = 0.05*ones(3)\n",
    "\n",
    "for idx in 1:length(centers)\n",
    "    push!(env.obstacle_set, HyperRectangle(Vec3f0(centers[idx]-0.5*widths-inflation+[0.;0.;0.5*widths[1]]), Vec3f0(widths+2*inflation)))\n",
    "end\n",
    "\n",
    "N = 70\n",
    "x_init = [0.2; 2.4; 0; 0; 0; 0]\n",
    "x_goal = [3.; 0.5; 0; 0.05; -0.05; 0]\n",
    "\n",
    "tf_guess = 130.\n",
    "\n",
    "PD = ProblemDefinition(robot, model, env, x_init, x_goal)\n",
    "\n",
    "TOP = TrajectoryOptimizationProblem(PD, N, tf_guess, fixed_final_time=true)\n",
    "TOSgusto = TrajectoryOptimizationSolution(TOP)\n",
    "\n",
    "SCPP = solve_SCP!(TOSgusto, TOP, solve_gusto_cvx!, init_traj_straightline, \"Gurobi\", OutputFlag=0);"
   ]
  },
  {
   "cell_type": "code",
   "execution_count": null,
   "metadata": {},
   "outputs": [],
   "source": [
    "@show TOSgusto.SCPS.converged\n",
    "@show TOSgusto.SCPS.iterations\n",
    "@show TOSgusto.SCPS.total_time\n",
    "@show TOSgusto.SCPS.accept_solution\n",
    "@show TOSgusto.SCPS.prob_status\n",
    "@show TOSgusto.SCPS.convergence_measure\n",
    "@show TOSgusto.SCPS.param.alg.omega_vec\n",
    "@show TOSgusto.SCPS.param.alg.Delta_vec\n",
    ";"
   ]
  },
  {
   "cell_type": "code",
   "execution_count": null,
   "metadata": {},
   "outputs": [],
   "source": [
    "#### Code for animating free-flyer trajectories\n",
    "vis = Visualizer()\n",
    "delete!(vis)\n",
    "\n",
    "vis[:goal]\n",
    "setobject!(vis[:goal][:goal], \n",
    "    Object(HyperSphere(Point3(x_goal[1:2]..., robot.r), 0.1),\n",
    "        MeshBasicMaterial(color=RGBA(0,1.0,0.,0.3))))\n",
    "\n",
    "vis[:table]\n",
    "table_dim = env.worldAABBmax-env.worldAABBmin\n",
    "setobject!(vis[:table][:table], \n",
    "        Object(HyperRectangle(env.worldAABBmin..., table_dim...),\n",
    "            MeshBasicMaterial(color=RGBA(0,1.0,0.,0.3))))\n",
    "\n",
    "vis[:obstacles]\n",
    "for (idx,obs) in enumerate(env.obstacle_set)\n",
    "    setobject!(vis[:obstacles][Symbol(string(\"obs\",idx))], \n",
    "        Object(obs,MeshBasicMaterial(color=RGBA(1.0,0.,0.,0.3))))\n",
    "end\n",
    "\n",
    "\n",
    "vis[:robot]\n",
    "setobject!(vis[:robot][:base],\n",
    "    Object(Cylinder(Point3f0(0,0,0.),Point3f0(0.,0.,0.5),Float32(robot.r)),MeshBasicMaterial(color=RGBA(0,0.,1.,0.7))))\n",
    "\n",
    "up = [0;0;1.]\n",
    "q0 = vec2quat(up,x_init[3])\n",
    "Qs = Vector{Vector{Float64}}(0)\n",
    "\n",
    "speed_factor = 5\n",
    "\n",
    "for k in 1:speed_factor:N\n",
    "    q = [quat_inv(quat_multiply(mrp2quat([0.; 0.; tan(TOSgusto.SCPS.traj.X[3,k]/4)]), q0)); [TOSgusto.SCPS.traj.X[1:2,k]; robot.r]]\n",
    "    push!(Qs,q)\n",
    "end\n",
    "\n",
    "anim = Animation()\n",
    "for k in 1:N\n",
    "    atframe(anim, vis, 24*k) do frame\n",
    "        settransform!(frame[:robot], Translation(TOSgusto.traj.X[1,k], \n",
    "            TOSgusto.traj.X[2,k], TOSgusto.traj.X[3,k]))\n",
    "    end\n",
    "end\n",
    "setanimation!(vis, anim)\n",
    "    \n",
    "plot_in_cell = true\n",
    "plot_in_cell ? IJuliaCell(vis) : open(vis)"
   ]
  }
 ],
 "metadata": {
  "kernelspec": {
   "display_name": "Julia 0.6.4",
   "language": "julia",
   "name": "julia-0.6"
  },
  "language_info": {
   "file_extension": ".jl",
   "mimetype": "application/julia",
   "name": "julia",
   "version": "0.6.4"
  }
 },
 "nbformat": 4,
 "nbformat_minor": 2
}
