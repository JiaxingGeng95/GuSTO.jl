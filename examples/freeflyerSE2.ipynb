{
 "cells": [
  {
   "cell_type": "code",
   "execution_count": 51,
   "metadata": {},
   "outputs": [],
   "source": [
    "# using GuSTO\n",
    "include(\"../src/GuSTO.jl\")\n",
    "using AstrobeeRobot"
   ]
  },
  {
   "cell_type": "code",
   "execution_count": 52,
   "metadata": {},
   "outputs": [
    {
     "data": {
      "text/plain": [
       "FreeflyerSE2(6, 3, 0.05, Any[], Any[], Any[])"
      ]
     },
     "execution_count": 52,
     "metadata": {},
     "output_type": "execute_result"
    }
   ],
   "source": [
    "robot = Freeflyer()\n",
    "model = FreeflyerSE2()"
   ]
  },
  {
   "cell_type": "code",
   "execution_count": 53,
   "metadata": {},
   "outputs": [
    {
     "name": "stdout",
     "output_type": "stream",
     "text": [
      "Academic license - for non-commercial use only\n"
     ]
    },
    {
     "ename": "MethodError",
     "evalue": "MethodError: no method matching get_dual_jump(::SCPConstraints, ::SCPProblem{Freeflyer{Float64},FreeflyerSE2,Table{Float64}})\nClosest candidates are:\n  get_dual_jump(!Matched::SCPSolution, ::SCPProblem{Freeflyer{T},FreeflyerSE2,E}) where {T, E} at /home/bylard/.julia/dev/GuSTO/src/dynamics/freeflyer_se2.jl:472\n  get_dual_jump(::SCPConstraints, !Matched::SCPProblem{Astrobee3D{T},AstrobeeSE3Manifold,E}) where {T, E} at /home/bylard/.julia/dev/GuSTO/src/dynamics/astrobee_se3_manifold.jl:804\n  get_dual_jump(::SCPConstraints, !Matched::SCPProblem{Car,DubinsCar,E}) where E at /home/bylard/.julia/dev/GuSTO/src/dynamics/dubins_car.jl:255",
     "output_type": "error",
     "traceback": [
      "MethodError: no method matching get_dual_jump(::SCPConstraints, ::SCPProblem{Freeflyer{Float64},FreeflyerSE2,Table{Float64}})\nClosest candidates are:\n  get_dual_jump(!Matched::SCPSolution, ::SCPProblem{Freeflyer{T},FreeflyerSE2,E}) where {T, E} at /home/bylard/.julia/dev/GuSTO/src/dynamics/freeflyer_se2.jl:472\n  get_dual_jump(::SCPConstraints, !Matched::SCPProblem{Astrobee3D{T},AstrobeeSE3Manifold,E}) where {T, E} at /home/bylard/.julia/dev/GuSTO/src/dynamics/astrobee_se3_manifold.jl:804\n  get_dual_jump(::SCPConstraints, !Matched::SCPProblem{Car,DubinsCar,E}) where E at /home/bylard/.julia/dev/GuSTO/src/dynamics/dubins_car.jl:255",
      "",
      "Stacktrace:",
      " [1] #solve_gusto_jump!#1838(::Base.Iterators.Pairs{Symbol,Int64,Tuple{Symbol},NamedTuple{(:OutputFlag,),Tuple{Int64}}}, ::Function, ::SCPSolution, ::SCPProblem{Freeflyer{Float64},FreeflyerSE2,Table{Float64}}, ::String, ::Int64, ::Bool) at /home/bylard/.julia/dev/GuSTO/src/scp/scp_gusto.jl:115",
      " [2] #solve_gusto_jump! at ./none:0 [inlined]",
      " [3] #solve_SCP!#1836(::Int64, ::Bool, ::Base.Iterators.Pairs{Symbol,Int64,Tuple{Symbol},NamedTuple{(:OutputFlag,),Tuple{Int64}}}, ::Function, ::TrajectoryOptimizationSolution, ::TrajectoryOptimizationProblem{Freeflyer{Float64},FreeflyerSE2,Table{Float64}}, ::typeof(solve_gusto_jump!), ::typeof(init_traj_straightline), ::String) at /home/bylard/.julia/dev/GuSTO/src/traj_opt.jl:59",
      " [4] (::getfield(Main, Symbol(\"#kw##solve_SCP!\")))(::NamedTuple{(:OutputFlag,),Tuple{Int64}}, ::typeof(solve_SCP!), ::TrajectoryOptimizationSolution, ::TrajectoryOptimizationProblem{Freeflyer{Float64},FreeflyerSE2,Table{Float64}}, ::Function, ::Function, ::String) at ./none:0",
      " [5] top-level scope at In[53]:33"
     ]
    }
   ],
   "source": [
    "env = Table(:stanford);\n",
    "centers = Vector()\n",
    "push!(centers, [0.460; 0.315; 0.0])\n",
    "push!(centers, [0.201; 1.085; 0.0])\n",
    "push!(centers, [0.540; 2.020; 0.0])\n",
    "push!(centers, [1.374; 0.196; 0.0])\n",
    "push!(centers, [1.063; 1.354; 0.0])\n",
    "push!(centers, [1.265; 2.322; 0.0])\n",
    "push!(centers, [2.221; 0.548; 0.0])\n",
    "push!(centers, [2.077; 1.443; 0.0])\n",
    "push!(centers, [3.098; 1.186; 0.0])\n",
    "push!(centers, [2.837; 2.064; 0.0])\n",
    "\n",
    "widths = [0.27; 0.27; 0.127]\n",
    "inflation = 0.05*ones(3)\n",
    "\n",
    "for idx in 1:length(centers)\n",
    "    push!(env.obstacle_set, HyperRectangle(Vec3f0(centers[idx]-0.5*widths-inflation+[0.;0.;0.5*widths[1]]), Vec3f0(widths+2*inflation)))\n",
    "end\n",
    "\n",
    "N = 70\n",
    "x_init = [0.2; 2.4; 0; 0; 0; 0]\n",
    "goal_set = GoalSet()\n",
    "x_goal = [3.; 0.5; 0; 0.05; -0.05; 0]\n",
    "add_goal!(goal_set, Goal(PointGoal(x_goal), tf_guess, model))\n",
    "\n",
    "tf_guess = 130.\n",
    "\n",
    "PD = ProblemDefinition(robot, model, env, x_init, goal_set)\n",
    "\n",
    "TOP = TrajectoryOptimizationProblem(PD, N, tf_guess, fixed_final_time=true)\n",
    "TOSgusto = TrajectoryOptimizationSolution(TOP)\n",
    "\n",
    "SCPP = solve_SCP!(TOSgusto, TOP, solve_gusto_jump!, init_traj_straightline, \"Gurobi\", OutputFlag=0);"
   ]
  },
  {
   "cell_type": "code",
   "execution_count": null,
   "metadata": {},
   "outputs": [],
   "source": [
    "@show TOSgusto.SCPS.converged\n",
    "@show TOSgusto.SCPS.iterations\n",
    "@show TOSgusto.SCPS.total_time\n",
    "@show TOSgusto.SCPS.accept_solution\n",
    "@show TOSgusto.SCPS.prob_status\n",
    "@show TOSgusto.SCPS.convergence_measure\n",
    "@show TOSgusto.SCPS.param.alg.omega_vec\n",
    "@show TOSgusto.SCPS.param.alg.Delta_vec\n",
    ";"
   ]
  },
  {
   "cell_type": "code",
   "execution_count": null,
   "metadata": {},
   "outputs": [],
   "source": [
    "#### Code for animating free-flyer trajectories\n",
    "vis = Visualizer()\n",
    "delete!(vis)\n",
    "\n",
    "vis[:goal]\n",
    "setobject!(vis[:goal][:goal], \n",
    "    Object(HyperSphere(Point3(x_goal[1:2]..., robot.r), 0.1),\n",
    "        MeshBasicMaterial(color=RGBA(0,1.0,0.,0.3))))\n",
    "\n",
    "vis[:table]\n",
    "table_dim = env.worldAABBmax-env.worldAABBmin\n",
    "setobject!(vis[:table][:table], \n",
    "        Object(HyperRectangle(env.worldAABBmin..., table_dim...),\n",
    "            MeshBasicMaterial(color=RGBA(0,1.0,0.,0.3))))\n",
    "\n",
    "vis[:obstacles]\n",
    "for (idx,obs) in enumerate(env.obstacle_set)\n",
    "    setobject!(vis[:obstacles][Symbol(string(\"obs\",idx))], \n",
    "        Object(obs,MeshBasicMaterial(color=RGBA(1.0,0.,0.,0.3))))\n",
    "end\n",
    "\n",
    "\n",
    "vis[:robot]\n",
    "setobject!(vis[:robot][:base],\n",
    "    Object(Cylinder(Point3f0(0,0,0.),Point3f0(0.,0.,0.5),Float32(robot.r)),MeshBasicMaterial(color=RGBA(0,0.,1.,0.7))))\n",
    "\n",
    "up = [0;0;1.]\n",
    "q0 = vec2quat(up,x_init[3])\n",
    "Qs = Vector{Vector{Float64}}(0)\n",
    "\n",
    "speed_factor = 5\n",
    "\n",
    "for k in 1:speed_factor:N\n",
    "    q = [quat_inv(quat_multiply(mrp2quat([0.; 0.; tan(TOSgusto.SCPS.traj.X[3,k]/4)]), q0)); [TOSgusto.SCPS.traj.X[1:2,k]; robot.r]]\n",
    "    push!(Qs,q)\n",
    "end\n",
    "\n",
    "anim = Animation()\n",
    "for k in 1:N\n",
    "    atframe(anim, vis, 24*k) do frame\n",
    "        settransform!(frame[:robot], Translation(TOSgusto.traj.X[1,k], \n",
    "            TOSgusto.traj.X[2,k], TOSgusto.traj.X[3,k]))\n",
    "    end\n",
    "end\n",
    "setanimation!(vis, anim)\n",
    "    \n",
    "plot_in_cell = true\n",
    "plot_in_cell ? IJuliaCell(vis) : open(vis)"
   ]
  }
 ],
 "metadata": {
  "kernelspec": {
   "display_name": "Julia 1.0.3",
   "language": "julia",
   "name": "julia-1.0"
  },
  "language_info": {
   "file_extension": ".jl",
   "mimetype": "application/julia",
   "name": "julia",
   "version": "1.0.3"
  }
 },
 "nbformat": 4,
 "nbformat_minor": 2
}
