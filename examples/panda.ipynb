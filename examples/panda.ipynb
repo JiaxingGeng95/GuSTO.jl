{
 "cells": [
  {
   "cell_type": "code",
   "execution_count": null,
   "metadata": {},
   "outputs": [],
   "source": [
    "# using GuSTO\n",
    "include(\"../src/GuSTO.jl\")"
   ]
  },
  {
   "cell_type": "code",
   "execution_count": null,
   "metadata": {},
   "outputs": [],
   "source": [
    "robot = PandaBot()\n",
    "env = Factory()\n",
    "\n",
    "push!(env.obstacle_set, HyperRectangle(Vec3f0(0.45,-0.25,0.30), Vec3f0(.3,0.5,0.01)))\n",
    "push!(env.obstacle_set, HyperRectangle(Vec3f0(0.45,-0.25,0.62), Vec3f0(.3,0.5,0.01)))\n",
    "\n",
    "push!(env.obstacle_set, HyperRectangle(Vec3f0(0.45,-0.26,0.30), Vec3f0(.3,0.01,0.33)))\n",
    "push!(env.obstacle_set, HyperRectangle(Vec3f0(0.45,0.25,0.30), Vec3f0(.3,0.01,0.33)))\n",
    "\n",
    "th_init = [0;  -0.6; 0.; 1.20*pi; 0.25; 1.10*pi; 0.25*pi+0.001]\n",
    "th_goal = [0;  +0.1; 0.; 1.20*pi; 0.25; 1.42*pi; 0.25*pi-0.001]"
   ]
  },
  {
   "cell_type": "code",
   "execution_count": null,
   "metadata": {},
   "outputs": [],
   "source": [
    "pan = Panda()\n",
    "\n",
    "state = RigidBodyDynamics.MechanismState(pan.mechanism)\n",
    "world_frame = RigidBodyDynamics.root_frame(pan.mechanism)\n",
    "\n",
    "set_configuration!(state,th_goal)\n",
    "\n",
    "EE_id = 7 + 2\n",
    "EE_link = RigidBodyDynamics.bodies(pan.mechanism)[EE_id]\n",
    "EE_link_frame = RigidBodyDynamics.default_frame(EE_link)\n",
    "EE_link_point = RigidBodyDynamics.Point3D(EE_link_frame, 0.0,0.0,0.)\n",
    "p_EE = RigidBodyDynamics.Spatial.transform(state,EE_link_point,world_frame)\n",
    "p_EE.v\n",
    "\n",
    "world_frame = RigidBodyDynamics.root_frame(pan.mechanism)\n",
    "EE_path = RigidBodyDynamics.path(pan.mechanism, root_body(pan.mechanism), EE_link)\n",
    "J_pEE_joint = point_jacobian(state,EE_path, RigidBodyDynamics.Spatial.transform(state,EE_link_point,world_frame))\n",
    "J_pEE_joint.J[:,1:robot.num_joints];"
   ]
  },
  {
   "cell_type": "code",
   "execution_count": null,
   "metadata": {},
   "outputs": [],
   "source": [
    "model = PandaKin()\n",
    "\n",
    "x_init, x_goal = zeros(model.x_dim), zeros(model.x_dim)\n",
    "for i in 1:robot.num_joints\n",
    "    x_init[2*i-1:2*i] = [cos(th_init[i]); sin(th_init[i])]\n",
    "    x_goal[2*i-1:2*i] = [cos(th_goal[i]); sin(th_goal[i])]\n",
    "end\n",
    "\n",
    "r_EE_inWorldFrame = get_EE_position(x_goal,robot) + [0.01;-0.02;0.02]\n",
    "model.p_EE_goal = r_EE_inWorldFrame\n",
    "\n",
    "N = 81\n",
    "tf_guess = 100."
   ]
  },
  {
   "cell_type": "code",
   "execution_count": null,
   "metadata": {},
   "outputs": [],
   "source": [
    "PD = ProblemDefinition(robot, model, env, x_init, x_goal);\n",
    "TOP = TrajectoryOptimizationProblem(PD, N, tf_guess, fixed_final_time=true)\n",
    "TOS_SCP = TrajectoryOptimizationSolution(TOP)\n",
    "\n",
    "solve_SCP!(TOS_SCP, TOP, solve_gusto_jump!, init_traj_so1, \"Ipopt\", print_level=0)"
   ]
  },
  {
   "cell_type": "code",
   "execution_count": null,
   "metadata": {},
   "outputs": [],
   "source": [
    "get_joint_position(x_init,robot,7)"
   ]
  },
  {
   "cell_type": "code",
   "execution_count": null,
   "metadata": {},
   "outputs": [],
   "source": [
    "@show TOS_SCP.SCPS.converged\n",
    "@show TOS_SCP.SCPS.successful\n",
    "@show TOS_SCP.SCPS.iterations\n",
    "@show TOS_SCP.SCPS.total_time\n",
    "@show TOS_SCP.SCPS.accept_solution\n",
    "@show TOS_SCP.SCPS.prob_status\n",
    "@show TOS_SCP.SCPS.convergence_measure\n",
    "@show TOS_SCP.SCPS.param.alg.ω_vec\n",
    "@show TOS_SCP.SCPS.param.alg.Δ_vec\n",
    "@show TOS_SCP.SCPS.J_true[end];"
   ]
  },
  {
   "cell_type": "code",
   "execution_count": null,
   "metadata": {},
   "outputs": [],
   "source": [
    "r_EE_f = get_EE_position(TOS_SCP.traj.X[:,end],robot)\n",
    "println(\"Distance between r_EE_goal and solution is \", norm(r_EE_f-r_EE_inWorldFrame))\n",
    "abs.(r_EE_f-r_EE_inWorldFrame)\n",
    "[r_EE_f r_EE_inWorldFrame]"
   ]
  },
  {
   "cell_type": "code",
   "execution_count": null,
   "metadata": {},
   "outputs": [],
   "source": [
    "joint_traj = zeros(robot.num_joints,N)\n",
    "for k in 1:N\n",
    "    joint_traj[:,k] = get_configuration(TOS_SCP.traj.X[:,k],model)\n",
    "end\n",
    "verify_joint_limits(TOS_SCP.SCPS.traj, TOS_SCP.SCPS.SCPP)"
   ]
  },
  {
   "cell_type": "code",
   "execution_count": null,
   "metadata": {},
   "outputs": [],
   "source": [
    "using MeshCat\n",
    "using MeshCatMechanisms\n",
    "\n",
    "using RigidBodySim\n",
    "using RigidBodyDynamics\n",
    "\n",
    "vis = Visualizer()\n",
    "\n",
    "pd = robot.pan\n",
    "mvis = MechanismVisualizer(\n",
    "    pd.mechanism,\n",
    "    URDFVisuals(PandaRobot.urdfpath(), package_path=[dirname(dirname(PandaRobot.urdfpath()))]),\n",
    "    vis);\n",
    "# \n",
    "vis[:obstacles]\n",
    "for (idx,obs) in enumerate(env.obstacle_set)\n",
    "    setobject!(vis[:obstacles][Symbol(string(\"obs\",idx))], \n",
    "        Object(obs,MeshBasicMaterial(color=RGBA(0.,0.,0.,0.5))))\n",
    "end\n",
    "\n",
    "EE_box = HyperRectangle(Vec3f0(model.p_EE_goal.-model.p_EE_goal_delta_error), Vec3f0(2*model.p_EE_goal_delta_error*ones(3)))\n",
    "setobject!(vis[:obstacles][Symbol(string(\"obs\",length(env.obstacle_set)+1))], \n",
    "        Object(EE_box,MeshBasicMaterial(color=RGBA(1.,1.,1.,0.5))))\n",
    "\n",
    "q = Vector{Array{Float64,1}}(0)\n",
    "for k in 1:N\n",
    "    push!(q, joint_traj[:,k]) \n",
    "end\n",
    "\n",
    "setanimation!(mvis, 1:length(q), q)\n",
    "\n",
    "plot_in_cell = true\n",
    "plot_in_cell ? IJuliaCell(vis) : open(vis)\n",
    "#sleep(1)"
   ]
  }
 ],
 "metadata": {
  "kernelspec": {
   "display_name": "Julia 0.7.0",
   "language": "julia",
   "name": "julia-0.7"
  },
  "language_info": {
   "file_extension": ".jl",
   "mimetype": "application/julia",
   "name": "julia",
   "version": "0.7.0"
  }
 },
 "nbformat": 4,
 "nbformat_minor": 2
}
