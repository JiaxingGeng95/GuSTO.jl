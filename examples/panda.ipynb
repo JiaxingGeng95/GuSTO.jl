{
 "cells": [
  {
   "cell_type": "code",
   "execution_count": null,
   "metadata": {
    "scrolled": true
   },
   "outputs": [],
   "source": [
    "using PandaRobot\n",
    "using GuSTO"
   ]
  },
  {
   "cell_type": "code",
   "execution_count": null,
   "metadata": {},
   "outputs": [],
   "source": [
    "robot = PandaBot()\n",
    "env = Factory()\n",
    "# push!(env.obstacle_set, GeometryTypes.HyperRectangle(Vec3f0(0.35,-0.1,0.), Vec3f0(0.2,0.2,0.3)))\n",
    "# push!(env.obstacle_set, GeometryTypes.HyperRectangle(Vec3f0(0.5,-0.1,0.), Vec3f0(0.2,0.2,0.1)))\n",
    "# push!(env.obstacle_set, GeometryTypes.HyperRectangle(Vec3f0(0.5,-0.4,0.), Vec3f0(0.2,0.2,0.1)))\n",
    "# push!(env.obstacle_set, GeometryTypes.HyperRectangle(Vec3f0(0.5,0.2,0.), Vec3f0(0.2,0.2,0.1)))"
   ]
  },
  {
   "cell_type": "code",
   "execution_count": null,
   "metadata": {},
   "outputs": [],
   "source": [
    "# th_init = [0;0;0; -0.1; 0; 0.5; 0]\n",
    "# th_goal = [0.5;0.5;0.5; -1.; 0; 0.5; 0]\n",
    "# th_goal = [pi/4; 0; pi/6; 0; pi/4; 0; pi/7]\n",
    "# th_goal  = [0.5;0.5;0.5; -1.; 0; 0.5; 0]\n",
    "\n",
    "th_init = zeros(robot.num_joints)\n",
    "th_init = [-pi/3;0;0;-0.8*pi;0.25;0.05*pi;0;0;0]\n",
    "th_goal = [pi/4;0;0;-0.8*pi;0.25;0.05*pi;0;0;0]"
   ]
  },
  {
   "cell_type": "code",
   "execution_count": null,
   "metadata": {},
   "outputs": [],
   "source": [
    "pan = Panda()\n",
    "\n",
    "state = RigidBodyDynamics.MechanismState(pan.mechanism)\n",
    "world_frame = RigidBodyDynamics.root_frame(pan.mechanism)\n",
    "\n",
    "set_configuration!(state,th_goal)\n",
    "\n",
    "EE_id = 7 + 2\n",
    "EE_link = RigidBodyDynamics.bodies(pan.mechanism)[EE_id]\n",
    "EE_link_frame = RigidBodyDynamics.default_frame(EE_link)\n",
    "EE_link_point = RigidBodyDynamics.Point3D(EE_link_frame, 0.0,0.0,0.)\n",
    "p_EE = RigidBodyDynamics.Spatial.transform(state,EE_link_point,world_frame)\n",
    "p_EE.v\n",
    "\n",
    "world_frame = RigidBodyDynamics.root_frame(pan.mechanism)\n",
    "EE_path = RigidBodyDynamics.path(pan.mechanism, root_body(pan.mechanism), EE_link)\n",
    "J_pEE_joint = point_jacobian(state,EE_path, RigidBodyDynamics.Spatial.transform(state,EE_link_point,world_frame))\n",
    "J_pEE_joint.J[:,1:robot.num_joints]"
   ]
  },
  {
   "cell_type": "code",
   "execution_count": null,
   "metadata": {},
   "outputs": [],
   "source": [
    "model = PandaKin()\n",
    "\n",
    "N = 81\n",
    "tf_guess = 3.\n",
    "\n",
    "x_init, x_goal = zeros(model.x_dim), zeros(model.x_dim)\n",
    "for i in 1:robot.num_joints\n",
    "    x_init[2*i-1:2*i] = [cos(th_init[i]); sin(th_init[i])]\n",
    "    x_goal[2*i-1:2*i] = [cos(th_goal[i]); sin(th_goal[i])]\n",
    "end\n",
    "\n",
    "r_EE_inWorldFrame = get_EE_position(x_goal,robot)\n",
    "model.p_EE_goal = r_EE_inWorldFrame"
   ]
  },
  {
   "cell_type": "code",
   "execution_count": null,
   "metadata": {},
   "outputs": [],
   "source": [
    "PD = ProblemDefinition(robot, model, env, x_init, x_goal)\n",
    "TOPgusto = TrajectoryOptimizationProblem(PD, N, tf_guess, fixed_final_time=true)\n",
    "TOSgusto = TrajectoryOptimizationSolution(TOPgusto)\n",
    "solve_SCP!(TOSgusto, TOPgusto, solve_gusto_cvx!, init_traj_so1, \"Gurobi\", OutputFlag=0)"
   ]
  },
  {
   "cell_type": "code",
   "execution_count": null,
   "metadata": {},
   "outputs": [],
   "source": [
    "TOSgusto.SCPS.iter_elapsed_times\n",
    "TOSgusto.SCPS.iterations \n",
    "TOSgusto.SCPS.convergence_measure\n",
    "TOSgusto.SCPS.param.convergence_threshold\n",
    "TOSgusto.SCPS.param.alg.trust_region_satisfied_vec\n",
    "TOSgusto.SCPS.param.alg.convex_ineq_satisfied_vec\n",
    "TOSgusto.SCPS.param.alg.Delta_vec\n",
    "TOSgusto.SCPS.converged\n",
    "TOSgusto.SCPS.successful\n",
    "TOSgusto.SCPS.converged "
   ]
  },
  {
   "cell_type": "code",
   "execution_count": null,
   "metadata": {},
   "outputs": [],
   "source": [
    "joint_traj = zeros(robot.num_joints,N)\n",
    "for k in 1:N\n",
    "    joint_traj[:,k] = get_configuration(TOSgusto.traj.X[:,k],model)\n",
    "end\n",
    "verify_joint_limits(TOSgusto.SCPS.traj, TOSgusto.SCPS.SCPP)"
   ]
  },
  {
   "cell_type": "code",
   "execution_count": null,
   "metadata": {},
   "outputs": [],
   "source": [
    "r_EE_f = get_EE_position(TOSgusto.traj.X[:,end],robot)\n",
    "println(\"Distance between r_EE_goal and solution is \", norm(r_EE_f-r_EE_inWorldFrame))\n",
    "abs.(r_EE_f-r_EE_inWorldFrame)\n",
    "[r_EE_f r_EE_inWorldFrame]"
   ]
  },
  {
   "cell_type": "code",
   "execution_count": null,
   "metadata": {},
   "outputs": [],
   "source": [
    "using MeshCat\n",
    "using MeshCatMechanisms\n",
    "\n",
    "using RigidBodySim\n",
    "using RigidBodyDynamics\n",
    "\n",
    "vis = Visualizer()\n",
    "\n",
    "pd = robot.pan\n",
    "mvis = MechanismVisualizer(\n",
    "    pd.mechanism,\n",
    "    URDFVisuals(PandaRobot.urdfpath(), package_path=[dirname(dirname(PandaRobot.urdfpath()))]),\n",
    "    vis);\n",
    "\n",
    "vis[:obstacles]\n",
    "for (idx,obs) in enumerate(env.obstacle_set)\n",
    "    setobject!(vis[:obstacles][Symbol(string(\"obs\",idx))], \n",
    "        Object(obs,MeshBasicMaterial(color=RGBA(0.,0.,0.,0.5))))\n",
    "end\n",
    "\n",
    "q = Vector{Array{Float64,1}}(0)\n",
    "for k in 1:N\n",
    "    push!(q, joint_traj[:,k]) \n",
    "end\n",
    "\n",
    "setanimation!(mvis, 1:length(q), q)\n",
    "\n",
    "plot_in_cell = true\n",
    "plot_in_cell ? IJuliaCell(vis) : open(vis)\n",
    "#sleep(1)"
   ]
  },
  {
   "cell_type": "code",
   "execution_count": null,
   "metadata": {},
   "outputs": [],
   "source": [
    "norms = zeros(model.num_joints,N)\n",
    "for k in 1:N\n",
    "   for idx in 1:model.num_joints\n",
    "        norms[idx,k] = sqrt(TOSgusto.traj.X[2*idx-1,k]^2 + TOSgusto.traj.X[2*idx,k]^2)\n",
    "    end\n",
    "end\n",
    "\n",
    "for idx in 1:model.num_joints\n",
    "    PyPlot.plot(norms[idx,:])\n",
    "end\n",
    "\n",
    "PyPlot.figure()\n",
    "for k in 1:model.num_joints\n",
    "    PyPlot.plot(joint_traj[k,:])\n",
    "end"
   ]
  }
 ],
 "metadata": {
  "kernelspec": {
   "display_name": "Julia 0.6.4",
   "language": "julia",
   "name": "julia-0.6"
  },
  "language_info": {
   "file_extension": ".jl",
   "mimetype": "application/julia",
   "name": "julia",
   "version": "0.6.4"
  }
 },
 "nbformat": 4,
 "nbformat_minor": 2
}
