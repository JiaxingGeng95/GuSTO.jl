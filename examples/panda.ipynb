{
 "cells": [
  {
   "cell_type": "code",
   "execution_count": null,
   "metadata": {
    "scrolled": true
   },
   "outputs": [],
   "source": [
    "using PandaRobot\n",
    "using GuSTO"
   ]
  },
  {
   "cell_type": "code",
   "execution_count": null,
   "metadata": {},
   "outputs": [],
   "source": [
    "robot = PandaBot()\n",
    "model = PandaKin()\n",
    "env = Factory()\n",
    "\n",
    "th_init = [0;0;0; -0.1; 0; 0.5; 0]\n",
    "th_goal = [0.5;0.5;0.5; -1.; 0; 0.5; 0]\n",
    "\n",
    "x_init, x_goal = zeros(model.x_dim), zeros(model.x_dim)\n",
    "for i in 1:model.num_joints\n",
    "    x_init[2*i-1:2*i] = [cos(th_init[i]); sin(th_init[i])]\n",
    "    x_goal[2*i-1:2*i] = [cos(th_goal[i]); sin(th_goal[i])]\n",
    "end\n",
    "\n",
    "N = 80\n",
    "tf_guess = 50."
   ]
  },
  {
   "cell_type": "code",
   "execution_count": null,
   "metadata": {},
   "outputs": [],
   "source": [
    "PD = ProblemDefinition(robot, model, env, x_init, x_goal);\n",
    "TOPgusto = TrajectoryOptimizationProblem(PD, N, tf_guess, fixed_final_time=true)\n",
    "TOSgusto = TrajectoryOptimizationSolution(TOPgusto)\n",
    "solve_SCP!(TOSgusto, TOPgusto, solve_gusto_cvx!, init_traj_so1, \"Gurobi\", OutputFlag=0)"
   ]
  },
  {
   "cell_type": "code",
   "execution_count": null,
   "metadata": {},
   "outputs": [],
   "source": [
    "X = TOSgusto.SCPS.traj.X\n",
    "U = TOSgusto.SCPS.traj.U\n",
    "SCPP = SCPProblem(TOPgusto)\n",
    "joint_traj = zeros(model.num_joints,N)\n",
    "\n",
    "for k in 1:N\n",
    "   joint_traj[:,k] = get_configuration(X[:,k],SCPP) \n",
    "end\n",
    "for idx in 1:model.num_joints\n",
    "    PyPlot.plot(joint_traj[idx,:])\n",
    "end"
   ]
  },
  {
   "cell_type": "code",
   "execution_count": null,
   "metadata": {},
   "outputs": [],
   "source": [
    "using MeshCat\n",
    "using MeshCatMechanisms\n",
    "\n",
    "using RigidBodySim\n",
    "using RigidBodyDynamics\n",
    "\n",
    "vis = Visualizer()\n",
    "\n",
    "pd = robot.pan\n",
    "mvis = MechanismVisualizer(\n",
    "    pd.mechanism,\n",
    "    URDFVisuals(PandaRobot.urdfpath(), package_path=[dirname(dirname(PandaRobot.urdfpath()))]),\n",
    "    vis);\n",
    "\n",
    "q = [ \n",
    "    [0;0;0;0;0;0;0;0;0],\n",
    "    [1;1;1;1;1;1;1;0.05;0.05],\n",
    "    [0;0.5;0.7;0.5;0.3;0.8;0.2;0.02;0.02]\n",
    "    ];\n",
    "\n",
    "setanimation!(mvis, 1:length(q), q)\n",
    "\n",
    "plot_in_cell = false\n",
    "plot_in_cell ? IJuliaCell(vis) : open(vis)\n",
    "#sleep(1)"
   ]
  }
 ],
 "metadata": {
  "kernelspec": {
   "display_name": "Julia 0.6.4",
   "language": "julia",
   "name": "julia-0.6"
  },
  "language_info": {
   "file_extension": ".jl",
   "mimetype": "application/julia",
   "name": "julia",
   "version": "0.6.4"
  }
 },
 "nbformat": 4,
 "nbformat_minor": 2
}
