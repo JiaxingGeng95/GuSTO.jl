{
 "cells": [
  {
   "cell_type": "code",
   "execution_count": 7,
   "metadata": {
    "scrolled": true
   },
   "outputs": [
    {
     "name": "stderr",
     "output_type": "stream",
     "text": [
      "WARNING: requiring \"GuSTO\" in module \"Main\" did not define a corresponding module.\n"
     ]
    }
   ],
   "source": [
    "using PandaRobot\n",
    "using GuSTO"
   ]
  },
  {
   "cell_type": "code",
   "execution_count": 8,
   "metadata": {},
   "outputs": [
    {
     "data": {
      "text/plain": [
       "12.0"
      ]
     },
     "execution_count": 8,
     "metadata": {},
     "output_type": "execute_result"
    }
   ],
   "source": [
    "robot = PandaBot()\n",
    "model = PandaKin()\n",
    "env = Factory()\n",
    "\n",
    "th_init = [0;0;0; -0.1; 0; 0.5; 0]\n",
    "th_goal = [0.5;0.5;0.5; -1.; 0; 0.5; 0]\n",
    "x_init, x_goal = zeros(model.x_dim), zeros(model.x_dim)\n",
    "for i in 1:model.num_joints\n",
    "    x_init[2*i-1:2*i] = [cos(th_init[i]); sin(th_init[i])]\n",
    "    x_goal[2*i-1:2*i] = [cos(th_goal[i]); sin(th_goal[i])]\n",
    "end\n",
    "\n",
    "N = 80\n",
    "tf_guess = 12."
   ]
  },
  {
   "cell_type": "code",
   "execution_count": 9,
   "metadata": {},
   "outputs": [
    {
     "name": "stdout",
     "output_type": "stream",
     "text": [
      "0.5\n",
      "0.041666666666666664\n",
      "0.5\n",
      "0.041666666666666664\n",
      "0.5\n",
      "0.041666666666666664\n",
      "-0.9\n",
      "-0.075\n",
      "0.0\n",
      "0.0\n",
      "0.0\n",
      "0.0\n",
      "0.0\n",
      "0.0\n",
      "Academic license - for non-commercial use only\n"
     ]
    },
    {
     "name": "stderr",
     "output_type": "stream",
     "text": [
      "\u001b[1m\u001b[33mWARNING: \u001b[39m\u001b[22m\u001b[33mProblem status Suboptimal; solution may be inaccurate.\u001b[39m\n",
      "\u001b[1m\u001b[33mWARNING: \u001b[39m\u001b[22m\u001b[33mGuSTO SCP iteration failed to find an optimal solution\u001b[39m\n"
     ]
    }
   ],
   "source": [
    "PD = ProblemDefinition(robot, model, env, x_init, x_goal);\n",
    "TOPgusto = TrajectoryOptimizationProblem(PD, N, tf_guess, fixed_final_time=true)\n",
    "TOSgusto = TrajectoryOptimizationSolution(TOPgusto)\n",
    "solve_SCP!(TOSgusto, TOPgusto, solve_gusto_cvx!, init_curve_so1, \"Gurobi\", OutputFlag=0)"
   ]
  },
  {
   "cell_type": "code",
   "execution_count": 12,
   "metadata": {},
   "outputs": [
    {
     "data": {
      "text/plain": [
       "SCPProblem{PandaBot{Float64},PandaKin,ISS{Float64}}(ProblemDefinition{PandaBot{Float64},PandaKin,ISS{Float64}}(PandaBot{Float64}([2.8973, 1.7628, 2.8973, -0.0698, 2.8973, 3.7525, 2.8973], [-2.8973, -1.7628, -2.8973, -3.0718, -2.8973, -0.0175, -2.8973], [2.175, 2.175, 2.175, 2.175, 2.61, 2.61, 2.61], [15.0, 7.5, 10.0, 12.5, 15.0, 20.0, 20.0], [7500, 3750, 5000, 6250, 7500, 10000, 10000], [87, 87, 87, 87, 12, 12, 12], [-87, -87, -87, -87, -12, -12, -12], [1000, 1000, 1000, 1000, 1000, 1000, 1000], [-1000, -1000, -1000, -1000, -1000, -1000, -1000], PandaRobot.Panda{Float64}(Spanning tree:\n",
       "Vertex: world (root)\n",
       "  Vertex: panda_link0, Edge: panda_link0_to_world\n",
       "    Vertex: panda_link1, Edge: panda_joint1\n",
       "      Vertex: panda_link2, Edge: panda_joint2\n",
       "        Vertex: panda_link3, Edge: panda_joint3\n",
       "          Vertex: panda_link4, Edge: panda_joint4\n",
       "            Vertex: panda_link5, Edge: panda_joint5\n",
       "              Vertex: panda_link6, Edge: panda_joint6\n",
       "                Vertex: panda_link7, Edge: panda_joint7\n",
       "                  Vertex: panda_link8, Edge: panda_joint8\n",
       "                    Vertex: panda_hand, Edge: panda_hand_joint\n",
       "                      Vertex: panda_leftfinger, Edge: panda_finger_joint1\n",
       "                      Vertex: panda_rightfinger, Edge: panda_finger_joint2\n",
       "No non-tree joints.), (class btCollisionObject *) @0x000000000a1b3030\n",
       "), PandaKin(14, 7, 7, [-0.970309, -0.24187, -0.190826, -0.981624, -0.970309, -0.24187, -0.997565, -0.069736, -0.970309, -0.24187, 0.999847, -0.0174991, -0.970309, -0.24187], [-0.970309, 0.24187, -0.190826, 0.981624, -0.970309, 0.24187, 0.997565, -0.0697433, -0.970309, 0.24187, -0.819128, -0.573611, -0.970309, 0.24187], [-87, -87, -87, -87, -12, -12, -12], [87, 87, 87, 87, 12, 12, 12], 0.03, 0.001, Any[[-0.0, 3.29167, 0.0, -3.29167, -0.0, 3.29167, 0.0, 0.0, -0.0, 0.0, -0.0, 0.0, -0.0, 0.0], [-0.0200067, 3.29161, 0.0200067, -3.29161, -0.0200067, 3.29161, 0.0, 0.0, -0.0, 0.0, -0.0, 0.0, -0.0, 0.0], [-0.0400734, 3.29142, 0.0400734, -3.29142, -0.0400734, 3.29142, 0.0, 0.0, -0.0, 0.0, -0.0, 0.0, -0.0, 0.0], [-0.060198, 3.29112, 0.060198, -3.29112, -0.060198, 3.29112, 0.0, 0.0, -0.0, 0.0, -0.0, 0.0, -0.0, 0.0], [-0.0803786, 3.29069, 0.0803786, -3.29069, -0.0803786, 3.29069, 0.0, 0.0, -0.0, 0.0, -0.0, 0.0, -0.0, 0.0], [-0.100613, 3.29013, 0.100613, -3.29013, -0.100613, 3.29013, 0.0, 0.0, -0.0, 0.0, -0.0, 0.0, -0.0, 0.0], [-0.1209, 3.28945, 0.1209, -3.28945, -0.1209, 3.28945, 0.0, 0.0, -0.0, 0.0, -0.0, 0.0, -0.0, 0.0], [-0.141236, 3.28864, 0.141236, -3.28864, -0.141236, 3.28864, 0.0, 0.0, -0.0, 0.0, -0.0, 0.0, -0.0, 0.0], [-0.161619, 3.2877, 0.161619, -3.2877, -0.161619, 3.2877, 0.0, 0.0, -0.0, 0.0, -0.0, 0.0, -0.0, 0.0], [-0.182048, 3.28663, 0.182048, -3.28663, -0.182048, 3.28663, 0.0, 0.0, -0.0, 0.0, -0.0, 0.0, -0.0, 0.0]  …  [-1.39739, 2.98033, 1.39739, -2.98033, -1.39739, 2.98033, 0.0, 0.0, -0.0, 0.0, -0.0, 0.0, -0.0, 0.0], [-1.41593, 2.97157, 1.41593, -2.97157, -1.41593, 2.97157, 0.0, 0.0, -0.0, 0.0, -0.0, 0.0, -0.0, 0.0], [-1.43437, 2.96271, 1.43437, -2.96271, -1.43437, 2.96271, 0.0, 0.0, -0.0, 0.0, -0.0, 0.0, -0.0, 0.0], [-1.45271, 2.95376, 1.45271, -2.95376, -1.45271, 2.95376, 0.0, 0.0, -0.0, 0.0, -0.0, 0.0, -0.0, 0.0], [-1.47094, 2.94472, 1.47094, -2.94472, -1.47094, 2.94472, 0.0, 0.0, -0.0, 0.0, -0.0, 0.0, -0.0, 0.0], [-1.48908, 2.9356, 1.48908, -2.9356, -1.48908, 2.9356, 0.0, 0.0, -0.0, 0.0, -0.0, 0.0, -0.0, 0.0], [-1.5071, 2.92638, 1.5071, -2.92638, -1.5071, 2.92638, 0.0, 0.0, -0.0, 0.0, -0.0, 0.0, -0.0, 0.0], [-1.52502, 2.91709, 1.52502, -2.91709, -1.52502, 2.91709, 0.0, 0.0, -0.0, 0.0, -0.0, 0.0, -0.0, 0.0], [-1.54282, 2.90771, 1.54282, -2.90771, -1.54282, 2.90771, 0.0, 0.0, -0.0, 0.0, -0.0, 0.0, -0.0, 0.0], [-1.56052, 2.89825, 1.56052, -2.89825, -1.56052, 2.89825, 0.0, 0.0, -0.0, 0.0, -0.0, 0.0, -0.0, 0.0]], Any[[0.0 0.0 … 0.0 0.0; 0.0 0.0 … 0.0 0.0; … ; 0.0 0.0 … 0.0 0.0; 0.0 0.0 … 0.0 0.0], [0.0 0.0 … 0.0 0.0; 0.0 0.0 … 0.0 0.0; … ; 0.0 0.0 … 0.0 0.0; 0.0 0.0 … 0.0 0.0], [0.0 0.0 … 0.0 0.0; 0.0 0.0 … 0.0 0.0; … ; 0.0 0.0 … 0.0 0.0; 0.0 0.0 … 0.0 0.0], [0.0 0.0 … 0.0 0.0; 0.0 0.0 … 0.0 0.0; … ; 0.0 0.0 … 0.0 0.0; 0.0 0.0 … 0.0 0.0], [0.0 0.0 … 0.0 0.0; 0.0 0.0 … 0.0 0.0; … ; 0.0 0.0 … 0.0 0.0; 0.0 0.0 … 0.0 0.0], [0.0 0.0 … 0.0 0.0; 0.0 0.0 … 0.0 0.0; … ; 0.0 0.0 … 0.0 0.0; 0.0 0.0 … 0.0 0.0], [0.0 0.0 … 0.0 0.0; 0.0 0.0 … 0.0 0.0; … ; 0.0 0.0 … 0.0 0.0; 0.0 0.0 … 0.0 0.0], [0.0 0.0 … 0.0 0.0; 0.0 0.0 … 0.0 0.0; … ; 0.0 0.0 … 0.0 0.0; 0.0 0.0 … 0.0 0.0], [0.0 0.0 … 0.0 0.0; 0.0 0.0 … 0.0 0.0; … ; 0.0 0.0 … 0.0 0.0; 0.0 0.0 … 0.0 0.0], [0.0 0.0 … 0.0 0.0; 0.0 0.0 … 0.0 0.0; … ; 0.0 0.0 … 0.0 0.0; 0.0 0.0 … 0.0 0.0]  …  [0.0 0.0 … 0.0 0.0; 0.0 0.0 … 0.0 0.0; … ; 0.0 0.0 … 0.0 0.0; 0.0 0.0 … 0.0 0.0], [0.0 0.0 … 0.0 0.0; 0.0 0.0 … 0.0 0.0; … ; 0.0 0.0 … 0.0 0.0; 0.0 0.0 … 0.0 0.0], [0.0 0.0 … 0.0 0.0; 0.0 0.0 … 0.0 0.0; … ; 0.0 0.0 … 0.0 0.0; 0.0 0.0 … 0.0 0.0], [0.0 0.0 … 0.0 0.0; 0.0 0.0 … 0.0 0.0; … ; 0.0 0.0 … 0.0 0.0; 0.0 0.0 … 0.0 0.0], [0.0 0.0 … 0.0 0.0; 0.0 0.0 … 0.0 0.0; … ; 0.0 0.0 … 0.0 0.0; 0.0 0.0 … 0.0 0.0], [0.0 0.0 … 0.0 0.0; 0.0 0.0 … 0.0 0.0; … ; 0.0 0.0 … 0.0 0.0; 0.0 0.0 … 0.0 0.0], [0.0 0.0 … 0.0 0.0; 0.0 0.0 … 0.0 0.0; … ; 0.0 0.0 … 0.0 0.0; 0.0 0.0 … 0.0 0.0], [0.0 0.0 … 0.0 0.0; 0.0 0.0 … 0.0 0.0; … ; 0.0 0.0 … 0.0 0.0; 0.0 0.0 … 0.0 0.0], [0.0 0.0 … 0.0 0.0; 0.0 0.0 … 0.0 0.0; … ; 0.0 0.0 … 0.0 0.0; 0.0 0.0 … 0.0 0.0], [0.0 0.0 … 0.0 0.0; 0.0 0.0 … 0.0 0.0; … ; 0.0 0.0 … 0.0 0.0; 0.0 0.0 … 0.0 0.0]], Any[[-0.0 0.0 … 0.0 0.0; 0.0 1.0 … 0.0 0.0; … ; -0.0 0.0 … 0.0 0.0; 0.0 1.0 … 0.0 0.0], [-0.00607798 0.0 … 0.0 0.0; 0.0 0.999982 … 0.0 0.0; … ; -0.0 0.0 … 0.0 0.0; 0.0 1.0 … 0.0 0.0], [-0.0121742 0.0 … 0.0 0.0; 0.0 0.999926 … 0.0 0.0; … ; -0.0 0.0 … 0.0 0.0; 0.0 1.0 … 0.0 0.0], [-0.018288 0.0 … 0.0 0.0; 0.0 0.999833 … 0.0 0.0; … ; -0.0 0.0 … 0.0 0.0; 0.0 1.0 … 0.0 0.0], [-0.0244188 0.0 … 0.0 0.0; 0.0 0.999702 … 0.0 0.0; … ; -0.0 0.0 … 0.0 0.0; 0.0 1.0 … 0.0 0.0], [-0.030566 0.0 … 0.0 0.0; 0.0 0.999533 … 0.0 0.0; … ; -0.0 0.0 … 0.0 0.0; 0.0 1.0 … 0.0 0.0], [-0.036729 0.0 … 0.0 0.0; 0.0 0.999325 … 0.0 0.0; … ; -0.0 0.0 … 0.0 0.0; 0.0 1.0 … 0.0 0.0], [-0.042907 0.0 … 0.0 0.0; 0.0 0.999079 … 0.0 0.0; … ; -0.0 0.0 … 0.0 0.0; 0.0 1.0 … 0.0 0.0], [-0.0490995 0.0 … 0.0 0.0; 0.0 0.998794 … 0.0 0.0; … ; -0.0 0.0 … 0.0 0.0; 0.0 1.0 … 0.0 0.0], [-0.0553058 0.0 … 0.0 0.0; 0.0 0.998469 … 0.0 0.0; … ; -0.0 0.0 … 0.0 0.0; 0.0 1.0 … 0.0 0.0]  …  [-0.424524 0.0 … 0.0 0.0; 0.0 0.905417 … 0.0 0.0; … ; -0.0 0.0 … 0.0 0.0; 0.0 1.0 … 0.0 0.0], [-0.430156 0.0 … 0.0 0.0; 0.0 0.902754 … 0.0 0.0; … ; -0.0 0.0 … 0.0 0.0; 0.0 1.0 … 0.0 0.0], [-0.435758 0.0 … 0.0 0.0; 0.0 0.900064 … 0.0 0.0; … ; -0.0 0.0 … 0.0 0.0; 0.0 1.0 … 0.0 0.0], [-0.44133 0.0 … 0.0 0.0; 0.0 0.897345 … 0.0 0.0; … ; -0.0 0.0 … 0.0 0.0; 0.0 1.0 … 0.0 0.0], [-0.446869 0.0 … 0.0 0.0; 0.0 0.894599 … 0.0 0.0; … ; -0.0 0.0 … 0.0 0.0; 0.0 1.0 … 0.0 0.0], [-0.452377 0.0 … 0.0 0.0; 0.0 0.891827 … 0.0 0.0; … ; -0.0 0.0 … 0.0 0.0; 0.0 1.0 … 0.0 0.0], [-0.457853 0.0 … 0.0 0.0; 0.0 0.889028 … 0.0 0.0; … ; -0.0 0.0 … 0.0 0.0; 0.0 1.0 … 0.0 0.0], [-0.463296 0.0 … 0.0 0.0; 0.0 0.886204 … 0.0 0.0; … ; -0.0 0.0 … 0.0 0.0; 0.0 1.0 … 0.0 0.0], [-0.468706 0.0 … 0.0 0.0; 0.0 0.883354 … 0.0 0.0; … ; -0.0 0.0 … 0.0 0.0; 0.0 1.0 … 0.0 0.0], [-0.474083 0.0 … 0.0 0.0; 0.0 0.88048 … 0.0 0.0; … ; -0.0 0.0 … 0.0 0.0; 0.0 1.0 … 0.0 0.0]]), ISS{Float64}([-7.40737, -11.6918, 3.54331], [12.0844, 7.33508, 8.07282], GeometryTypes.HyperRectangle[GeometryTypes.HyperRectangle{3,Float32}(Float32[-2.39202, -0.638923, 4.19049], Float32[1.41619, 1.3208, 1.23598]), GeometryTypes.HyperRectangle{3,Float32}(Float32[-0.975833, -1.04493, 3.79248], Float32[6.86819, 2.13011, 2.12317]), GeometryTypes.HyperRectangle{3,Float32}(Float32[5.89236, -0.653923, 4.19049], Float32[0.91619, 1.3208, 1.23598]), GeometryTypes.HyperRectangle{3,Float32}(Float32[10.2722, 1.85097, 4.18947], Float32[1.3208, 0.91449, 1.23597]), GeometryTypes.HyperRectangle{3,Float32}(Float32[9.85887, 2.76546, 3.7868], Float32[2.13011, 4.56962, 2.12952]), GeometryTypes.HyperRectangle{3,Float32}(Float32[10.2755, -2.7532, 4.19094], Float32[1.3208, 0.91673, 1.32079]), GeometryTypes.HyperRectangle{3,Float32}(Float32[9.85948, -11.6918, 3.78313], Float32[2.13552, 8.93861, 2.13492]), GeometryTypes.HyperRectangle{3,Float32}(Float32[-3.12927, -0.663143, 4.19047], Float32[0.91619, 1.3208, 1.23598]), GeometryTypes.HyperRectangle{3,Float32}(Float32[-3.81824, -1.0684, 3.87459], Float32[0.68897, 2.1336, 1.9336]), GeometryTypes.HyperRectangle{3,Float32}(Float32[-5.15514, -1.58915, 3.54331], Float32[1.3369, 3.10219, 2.55856])  …  GeometryTypes.HyperRectangle{3,Float32}(Float32[10.2926, -1.22397, 3.61501], Float32[1.30892, 2.44263, 2.44263]), GeometryTypes.HyperRectangle{3,Float32}(Float32[10.2926, 1.21866, 4.1299], Float32[1.30892, 1.47406, 1.36802]), GeometryTypes.HyperRectangle{3,Float32}(Float32[10.2926, -2.7575, 4.22382], Float32[1.30892, 1.53353, 1.23575]), GeometryTypes.HyperRectangle{3,Float32}(Float32[11.6016, -0.789256, 4.1559], Float32[0.48286, 1.6, 1.4]), GeometryTypes.HyperRectangle{3,Float32}(Float32[-5.11901, -2.86189, 4.18302], Float32[1.3208, 0.91619, 1.23598]), GeometryTypes.HyperRectangle{3,Float32}(Float32[-5.52231, -6.02246, 3.76596], Float32[2.13011, 3.16057, 2.14222]), GeometryTypes.HyperRectangle{3,Float32}(Float32[-5.70062, -7.29246, 3.60253], Float32[2.44263, 1.27, 2.44263]), GeometryTypes.HyperRectangle{3,Float32}(Float32[-5.05609, -7.2446, 4.84342], Float32[1.15259, 1.17428, 2.27734]), GeometryTypes.HyperRectangle{3,Float32}(Float32[-5.10232, -7.47946, 6.79861], Float32[1.28742, 1.28752, 0.70233]), GeometryTypes.HyperRectangle{3,Float32}(Float32[-4.83125, -7.20837, 7.32751], Float32[0.74528, 0.74534, 0.74531])], GeometryTypes.GeometryPrimitive[], GeometryTypes.GeometryPrimitive[]), [1.0, 0.0, 1.0, 0.0, 1.0, 0.0, 0.995004, -0.0998334, 1.0, 0.0, 0.877583, 0.479426, 1.0, 0.0], [0.877583, 0.479426, 0.877583, 0.479426, 0.877583, 0.479426, 0.540302, -0.841471, 1.0, 0.0, 0.877583, 0.479426, 1.0, 0.0]), Workspace(BulletCollision.BulletStaticEnvironment((class btCollisionObject *) @0x000000000a1b3030\n",
       ", Cxx.CppPtr{Cxx.CxxQualType{Cxx.CppBaseType{:btCollisionObject},(false, false, false)},(false, false, false)}[(class btCollisionObject *) @0x0000000014a0c120\n",
       "], (class btCollisionWorld *) @0x0000000016f2ea40\n",
       ", Cxx.CppPtr{Cxx.CxxQualType{Cxx.CppBaseType{:btCollisionObject},(false, false, false)},(false, false, false)}[(class btCollisionObject *) @0x0000000008912780\n",
       ", (class btCollisionObject *) @0x000000000c2546a0\n",
       ", (class btCollisionObject *) @0x00000000148656b0\n",
       ", (class btCollisionObject *) @0x000000001616ef50\n",
       ", (class btCollisionObject *) @0x000000001476f700\n",
       ", (class btCollisionObject *) @0x0000000017653220\n",
       ", (class btCollisionObject *) @0x000000000bc6c940\n",
       ", (class btCollisionObject *) @0x0000000013479780\n",
       ", (class btCollisionObject *) @0x0000000014f76aa0\n",
       ", (class btCollisionObject *) @0x00000000168bf890\n",
       "  …  (class btCollisionObject *) @0x000000000a4ec170\n",
       ", (class btCollisionObject *) @0x00000000157ee240\n",
       ", (class btCollisionObject *) @0x0000000009da8bc0\n",
       ", (class btCollisionObject *) @0x000000000f87de30\n",
       ", (class btCollisionObject *) @0x00000000149a2730\n",
       ", (class btCollisionObject *) @0x000000000f446710\n",
       ", (class btCollisionObject *) @0x0000000008a81a20\n",
       ", (class btCollisionObject *) @0x000000000c383fb0\n",
       ", (class btCollisionObject *) @0x00000000148a0dc0\n",
       ", (class btCollisionObject *) @0x0000000016da1a40\n",
       "], 0), BulletCollision.BulletStaticEnvironment((class btCollisionObject *) @0x000000000a1b3030\n",
       ", Cxx.CppPtr{Cxx.CxxQualType{Cxx.CppBaseType{:btCollisionObject},(false, false, false)},(false, false, false)}[(class btCollisionObject *) @0x000000000ad09d00\n",
       "], (class btCollisionWorld *) @0x0000000015812600\n",
       ", Cxx.CppPtr{Cxx.CxxQualType{Cxx.CppBaseType{:btCollisionObject},(false, false, false)},(false, false, false)}[], 0)), SCPParam(true, 0.01, #undef, #undef), 80, 12.0, 0.012658227848101266)"
      ]
     },
     "execution_count": 12,
     "metadata": {},
     "output_type": "execute_result"
    }
   ],
   "source": [
    "X = TOSgusto.SCPS.traj.X\n",
    "U = TOSgusto.SCPS.traj.U\n",
    "SCPP = SCPProblem(TOPgusto)"
   ]
  },
  {
   "cell_type": "code",
   "execution_count": null,
   "metadata": {},
   "outputs": [],
   "source": [
    "using PandaRobot\n",
    "vis = Visualizer()\n",
    "\n",
    "pd = Panda()\n",
    "mvis = MechanismVisualizer(\n",
    "    pd.mechanism,\n",
    "    URDFVisuals(PandaRobot.urdfpath(), package_path=[dirname(dirname(PandaRobot.urdfpath()))]),\n",
    "    vis);\n",
    "\n",
    "q = [ \n",
    "    [0;0;0;0;0;0;0;0;0],\n",
    "    [1;1;1;1;1;1;1;0.05;0.05],\n",
    "    [0;0.5;0.7;0.5;0.3;0.8;0.2;0.02;0.02]\n",
    "    ];\n",
    "\n",
    "setanimation!(mvis, 1:length(q), q)\n",
    "\n",
    "plot_in_cell = true\n",
    "plot_in_cell ? IJuliaCell(vis) : open(vis)\n",
    "#sleep(1)"
   ]
  }
 ],
 "metadata": {
  "kernelspec": {
   "display_name": "Julia 0.6.4",
   "language": "julia",
   "name": "julia-0.6"
  },
  "language_info": {
   "file_extension": ".jl",
   "mimetype": "application/julia",
   "name": "julia",
   "version": "0.6.4"
  }
 },
 "nbformat": 4,
 "nbformat_minor": 2
}
