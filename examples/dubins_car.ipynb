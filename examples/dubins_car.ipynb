{
 "cells": [
  {
   "cell_type": "code",
   "execution_count": 25,
   "metadata": {
    "scrolled": true
   },
   "outputs": [
    {
     "data": {
      "text/plain": [
       "Forest"
      ]
     },
     "execution_count": 25,
     "metadata": {},
     "output_type": "execute_result"
    }
   ],
   "source": [
    "# using GuSTO\n",
    "include(\"../src/GuSTO.jl\")"
   ]
  },
  {
   "cell_type": "code",
   "execution_count": 26,
   "metadata": {},
   "outputs": [
    {
     "data": {
      "text/plain": [
       "TrajectoryOptimizationSolution(Trajectory([0.0 0.0 … 0.0 0.0; 0.0 0.0 … 0.0 0.0; 0.0 0.0 … 0.0 0.0], [0.0 0.0 … 0.0 0.0], 5.0, 0.125), #undef, #undef, #undef)"
      ]
     },
     "execution_count": 26,
     "metadata": {},
     "output_type": "execute_result"
    }
   ],
   "source": [
    "robot = Car()\n",
    "model = DubinsCar()\n",
    "env = BlankEnv()\n",
    "\n",
    "N = 41\n",
    "x_init = 2*ones(3)\n",
    "x_goal = zeros(3)\n",
    "tf_guess = 5.\n",
    "\n",
    "PD = ProblemDefinition(robot, model, env, x_init, x_goal)\n",
    "TOP = TrajectoryOptimizationProblem(PD, N, tf_guess, fixed_final_time=true)\n",
    "TOS_SCP = TrajectoryOptimizationSolution(TOP)"
   ]
  },
  {
   "cell_type": "code",
   "execution_count": 27,
   "metadata": {},
   "outputs": [
    {
     "name": "stdout",
     "output_type": "stream",
     "text": [
      "(TOS_SCP.SCPS).converged = true\n",
      "(TOS_SCP.SCPS).iterations = 12\n",
      "(TOS_SCP.SCPS).total_time = 0.709542073\n",
      "(TOS_SCP.SCPS).J_true[end] = 14.756626877595485\n",
      "((TOS_SCP.SCPS).traj).U = [1.17075 2.39145 2.45905 2.45606 2.37882 2.23611 2.04291 1.81666 1.57374 1.32712 1.08561 0.854046 0.63408 0.42506 0.224808 0.0302263 -0.162263 -0.356386 -0.555725 -0.763416 -0.981742 -1.21159 -1.45174 -1.69803 -1.94249 -2.17297 -2.37352 -2.52621 -2.61448 -2.62718 -2.56195 -2.42623 -2.2354 -2.00876 -1.76526 -1.5205 -1.28534 -1.06602 -0.865049 -0.899232]\n"
     ]
    },
    {
     "data": {
      "text/plain": [
       "1×40 Array{Float64,2}:\n",
       " 1.17075  2.39145  2.45905  2.45606  …  -1.06602  -0.865049  -0.899232"
      ]
     },
     "execution_count": 27,
     "metadata": {},
     "output_type": "execute_result"
    }
   ],
   "source": [
    "# SCP Only\n",
    "TOS_SCP = TrajectoryOptimizationSolution(TOP)\n",
    "# solve_SCP!(TOS_SCP, TOP, solve_gusto_cvx!, init_traj_straightline, \"Gurobi\", OutputFlag=0)\n",
    "solve_SCP!(TOS_SCP, TOP, solve_gusto_jump!, init_traj_straightline, \"Ipopt\", print_level=0)\n",
    "\n",
    "@show TOS_SCP.SCPS.converged\n",
    "@show TOS_SCP.SCPS.iterations\n",
    "@show TOS_SCP.SCPS.total_time\n",
    "@show TOS_SCP.SCPS.J_true[end]\n",
    "@show TOS_SCP.SCPS.traj.U"
   ]
  },
  {
   "cell_type": "code",
   "execution_count": 28,
   "metadata": {},
   "outputs": [
    {
     "data": {
      "text/plain": [
       "13-element Array{Any,1}:\n",
       "  0.0              \n",
       " 50.74210571645625 \n",
       " 42.01206501991294 \n",
       " 32.457028857488595\n",
       "  9.170540524825682\n",
       " 16.45880691752511 \n",
       " 17.408643497790255\n",
       " 17.138465668743706\n",
       " 16.29446987126495 \n",
       " 15.15286503531522 \n",
       " 14.606655695142983\n",
       " 14.710863180692739\n",
       " 14.756626877595485"
      ]
     },
     "execution_count": 28,
     "metadata": {},
     "output_type": "execute_result"
    }
   ],
   "source": [
    "TOS_SCP.SCPS.J_true"
   ]
  },
  {
   "cell_type": "code",
   "execution_count": 29,
   "metadata": {},
   "outputs": [
    {
     "data": {
      "image/png": "[encoded data removed]"
     },
     "execution_count": 29,
     "metadata": {},
     "output_type": "execute_result"
    }
   ],
   "source": [
    "using Plots\n",
    "gr(fmt=:png)\n",
    "plot([TOS_SCP.SCPS.traj.X[1,:]], [TOS_SCP.SCPS.traj.X[2,:]],\n",
    "    xlabel = \"x\",\n",
    "    ylabel = \"y\",\n",
    "    aspect_ratio = 1,\n",
    "    legend = :none)"
   ]
  },
  {
   "cell_type": "code",
   "execution_count": 30,
   "metadata": {},
   "outputs": [
    {
     "ename": "MethodError",
     "evalue": "MethodError: no method matching ShootingProblem(::TrajectoryOptimizationProblem{Car,DubinsCar,BlankEnv}, ::SCPSolution, ::SCPProblem{Car,DubinsCar,BlankEnv})\nClosest candidates are:\n  ShootingProblem(!Matched::ProblemDefinition{R<:Robot,D<:DynamicsModel,E<:Environment}, ::Any, ::Any, !Matched::Any) where {R<:Robot, D<:DynamicsModel, E<:Environment} at /home/bylard/.julia/dev/GuSTO/src/types.jl:154\n  ShootingProblem(::TrajectoryOptimizationProblem, ::SCPSolution) at /home/bylard/.julia/dev/GuSTO/src/types.jl:184",
     "output_type": "error",
     "traceback": [
      "MethodError: no method matching ShootingProblem(::TrajectoryOptimizationProblem{Car,DubinsCar,BlankEnv}, ::SCPSolution, ::SCPProblem{Car,DubinsCar,BlankEnv})\nClosest candidates are:\n  ShootingProblem(!Matched::ProblemDefinition{R<:Robot,D<:DynamicsModel,E<:Environment}, ::Any, ::Any, !Matched::Any) where {R<:Robot, D<:DynamicsModel, E<:Environment} at /home/bylard/.julia/dev/GuSTO/src/types.jl:154\n  ShootingProblem(::TrajectoryOptimizationProblem, ::SCPSolution) at /home/bylard/.julia/dev/GuSTO/src/types.jl:184",
      "",
      "Stacktrace:",
      " [1] #solve_SCPshooting!#300(::Base.Iterators.Pairs{Symbol,Int64,Tuple{Symbol},NamedTuple{(:print_level,),Tuple{Int64}}}, ::Function, ::TrajectoryOptimizationSolution, ::TrajectoryOptimizationProblem{Car,DubinsCar,BlankEnv}, ::typeof(solve_gusto_jump!), ::typeof(init_traj_straightline), ::String) at /home/bylard/.julia/dev/GuSTO/src/traj_opt.jl:25",
      " [2] (::getfield(Main, Symbol(\"#kw##solve_SCPshooting!\")))(::NamedTuple{(:print_level,),Tuple{Int64}}, ::typeof(solve_SCPshooting!), ::TrajectoryOptimizationSolution, ::TrajectoryOptimizationProblem{Car,DubinsCar,BlankEnv}, ::Function, ::Function, ::String) at ./none:0",
      " [3] top-level scope at In[30]:2"
     ]
    }
   ],
   "source": [
    "TOS_SCPS  = TrajectoryOptimizationSolution(TOP)\n",
    "solve_SCPshooting!(TOS_SCPS, TOP, solve_gusto_jump!, init_traj_straightline, \"Ipopt\", print_level=0)\n",
    "\n",
    "@show TOS_SCPS.SS.converged\n",
    "@show TOS_SCPS.SS.traj.X[1,:]\n",
    "@show TOS_SCPS.SCPS.iterations\n",
    "@show TOS_SCPS.SS.traj.U\n",
    "# @show TOS_SCPS.SS.total_time\n",
    "# @show TOS_SCPS.SS.J_true[end]"
   ]
  },
  {
   "cell_type": "code",
   "execution_count": 31,
   "metadata": {},
   "outputs": [
    {
     "ename": "UndefRefError",
     "evalue": "UndefRefError: access to undefined reference",
     "output_type": "error",
     "traceback": [
      "UndefRefError: access to undefined reference",
      "",
      "Stacktrace:",
      " [1] getproperty(::Any, ::Symbol) at ./sysimg.jl:18",
      " [2] top-level scope at In[31]:3"
     ]
    }
   ],
   "source": [
    "using Plots\n",
    "gr(fmt=:png)\n",
    "plot([TOS_SCPS.SS.traj.X[1,:]], [TOS_SCPS.SS.traj.X[2,:]],\n",
    "    xlabel = \"x\",\n",
    "    ylabel = \"y\",\n",
    "    aspect_ratio = 1,\n",
    "    legend = :none)"
   ]
  },
  {
   "cell_type": "code",
   "execution_count": null,
   "metadata": {},
   "outputs": [],
   "source": []
  },
  {
   "cell_type": "code",
   "execution_count": null,
   "metadata": {},
   "outputs": [],
   "source": []
  }
 ],
 "metadata": {
  "kernelspec": {
   "display_name": "Julia 0.7.0",
   "language": "julia",
   "name": "julia-0.7"
  },
  "language_info": {
   "file_extension": ".jl",
   "mimetype": "application/julia",
   "name": "julia",
   "version": "0.7.0"
  }
 },
 "nbformat": 4,
 "nbformat_minor": 2
}
