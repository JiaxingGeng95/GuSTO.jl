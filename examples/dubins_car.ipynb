{
 "cells": [
  {
   "cell_type": "code",
   "execution_count": 159,
   "metadata": {
    "scrolled": true
   },
   "outputs": [
    {
     "data": {
      "text/plain": [
       "Forest"
      ]
     },
     "execution_count": 159,
     "metadata": {},
     "output_type": "execute_result"
    }
   ],
   "source": [
    "# using GuSTO\n",
    "include(\"../src/GuSTO.jl\")"
   ]
  },
  {
   "cell_type": "code",
   "execution_count": 160,
   "metadata": {},
   "outputs": [
    {
     "data": {
      "text/plain": [
       "TrajectoryOptimizationSolution(Trajectory([0.0 0.0 … 0.0 0.0; 0.0 0.0 … 0.0 0.0; 0.0 0.0 … 0.0 0.0], [0.0 0.0 … 0.0 0.0], 5.0, 0.125), #undef, #undef, #undef)"
      ]
     },
     "execution_count": 160,
     "metadata": {},
     "output_type": "execute_result"
    }
   ],
   "source": [
    "robot = Car()\n",
    "model = DubinsCar()\n",
    "env = BlankEnv()\n",
    "\n",
    "N = 41\n",
    "x_init = 2*ones(3)\n",
    "x_goal = zeros(3)\n",
    "tf_guess = 5.\n",
    "\n",
    "PD = ProblemDefinition(robot, model, env, x_init, x_goal)\n",
    "TOP = TrajectoryOptimizationProblem(PD, N, tf_guess, fixed_final_time=true)\n",
    "TOS_SCP = TrajectoryOptimizationSolution(TOP)"
   ]
  },
  {
   "cell_type": "code",
   "execution_count": 161,
   "metadata": {},
   "outputs": [
    {
     "name": "stdout",
     "output_type": "stream",
     "text": [
      "(TOS_SCP.SCPS).converged = true\n",
      "(TOS_SCP.SCPS).iterations = 17\n",
      "(TOS_SCP.SCPS).total_time = 0.8391679030000001\n",
      "(TOS_SCP.SCPS).J_true[end] = 14.797192532827019\n"
     ]
    },
    {
     "data": {
      "text/plain": [
       "14.797192532827019"
      ]
     },
     "execution_count": 161,
     "metadata": {},
     "output_type": "execute_result"
    }
   ],
   "source": [
    "# SCP Only\n",
    "TOS_SCP = TrajectoryOptimizationSolution(TOP)\n",
    "# solve_SCP!(TOS_SCP, TOP, solve_gusto_cvx!, init_traj_straightline, \"Gurobi\", OutputFlag=0)\n",
    "solve_SCP!(TOS_SCP, TOP, solve_gusto_jump!, init_traj_straightline, \"Ipopt\", print_level=0)\n",
    "\n",
    "@show TOS_SCP.SCPS.converged\n",
    "@show TOS_SCP.SCPS.iterations\n",
    "@show TOS_SCP.SCPS.total_time\n",
    "@show TOS_SCP.SCPS.J_true[end]"
   ]
  },
  {
   "cell_type": "code",
   "execution_count": 162,
   "metadata": {},
   "outputs": [
    {
     "data": {
      "image/png": "[encoded data removed]"
     },
     "execution_count": 162,
     "metadata": {},
     "output_type": "execute_result"
    }
   ],
   "source": [
    "using Plots\n",
    "gr(fmt=:png)\n",
    "plot([TOS_SCP.SCPS.traj.X[1,:]], [TOS_SCP.SCPS.traj.X[2,:]],\n",
    "    xlabel = \"x\",\n",
    "    ylabel = \"y\",\n",
    "    aspect_ratio = 1,\n",
    "    legend = :none)"
   ]
  },
  {
   "cell_type": "code",
   "execution_count": 163,
   "metadata": {
    "scrolled": false
   },
   "outputs": [
    {
     "name": "stderr",
     "output_type": "stream",
     "text": [
      "┌ Warning: `binary_minheap(xs::AbstractVector{T}) where T` is deprecated, use `BinaryMinHeap(xs)` instead.\n",
      "│   caller = tstop_saveat_disc_handling at solve.jl:371 [inlined]\n",
      "└ @ Core /home/bylard/.julia/packages/OrdinaryDiffEq/NS3ps/src/solve.jl:371\n",
      "┌ Warning: `binary_minheap(xs::AbstractVector{T}) where T` is deprecated, use `BinaryMinHeap(xs)` instead.\n",
      "│   caller = #__init#203(::Int64, ::Array{Float64,1}, ::Array{Float64,1}, ::Array{Float64,1}, ::Nothing, ::Bool, ::Nothing, ::Bool, ::Bool, ::Nothing, ::Bool, ::Bool, ::Float64, ::Bool, ::Rational{Int64}, ::Nothing, ::Nothing, ::Int64, ::Rational{Int64}, ::Int64, ::Int64, ::Rational{Int64}, ::Bool, ::Int64, ::Nothing, ::Nothing, ::Int64, ::Float64, ::Float64, ::typeof(DiffEqBase.ODE_DEFAULT_NORM), ::typeof(opnorm), ::typeof(DiffEqBase.ODE_DEFAULT_ISOUTOFDOMAIN), ::typeof(DiffEqBase.ODE_DEFAULT_UNSTABLE_CHECK), ::Bool, ::Bool, ::Bool, ::Bool, ::Bool, ::Bool, ::Bool, ::Bool, ::Int64, ::String, ::typeof(DiffEqBase.ODE_DEFAULT_PROG_MESSAGE), ::Nothing, ::Bool, ::Bool, ::Base.Iterators.Pairs{Symbol,Bool,Tuple{Symbol},NamedTuple{(:default_set,),Tuple{Bool}}}, ::typeof(DiffEqBase.__init), ::ODEProblem{Array{Float64,1},Tuple{Float64,Float64},true,ShootingProblem{Car,DubinsCar,BlankEnv},ODEFunction{true,typeof(model_ode!),UniformScaling{Bool},Nothing,Nothing,Nothing,Nothing,Nothing,Nothing,Nothing,Nothing},Nothing,DiffEqBase.StandardODEProblem}, ::CompositeAlgorithm{Tuple{Tsit5,Rosenbrock23{0,false,LinSolveFactorize{typeof(lu!)},DataType}},AutoSwitch{Tsit5,Rosenbrock23{0,false,LinSolveFactorize{typeof(lu!)},DataType},Rational{Int64},Float64}}, ::Array{Any,1}, ::Array{Any,1}, ::Array{Any,1}, ::Type{Val{true}}) at solve.jl:389\n",
      "└ @ OrdinaryDiffEq /home/bylard/.julia/packages/OrdinaryDiffEq/NS3ps/src/solve.jl:389\n",
      "┌ Warning: `binary_minheap(xs::AbstractVector{T}) where T` is deprecated, use `BinaryMinHeap(xs)` instead.\n",
      "│   caller = #__init#203(::Int64, ::Array{Float64,1}, ::Array{Float64,1}, ::Array{Float64,1}, ::Nothing, ::Bool, ::Nothing, ::Bool, ::Bool, ::Nothing, ::Bool, ::Bool, ::Float64, ::Bool, ::Rational{Int64}, ::Nothing, ::Nothing, ::Int64, ::Rational{Int64}, ::Int64, ::Int64, ::Rational{Int64}, ::Bool, ::Int64, ::Nothing, ::Nothing, ::Int64, ::Float64, ::Float64, ::typeof(DiffEqBase.ODE_DEFAULT_NORM), ::typeof(opnorm), ::typeof(DiffEqBase.ODE_DEFAULT_ISOUTOFDOMAIN), ::typeof(DiffEqBase.ODE_DEFAULT_UNSTABLE_CHECK), ::Bool, ::Bool, ::Bool, ::Bool, ::Bool, ::Bool, ::Bool, ::Bool, ::Int64, ::String, ::typeof(DiffEqBase.ODE_DEFAULT_PROG_MESSAGE), ::Nothing, ::Bool, ::Bool, ::Base.Iterators.Pairs{Symbol,Bool,Tuple{Symbol},NamedTuple{(:default_set,),Tuple{Bool}}}, ::typeof(DiffEqBase.__init), ::ODEProblem{Array{Float64,1},Tuple{Float64,Float64},true,ShootingProblem{Car,DubinsCar,BlankEnv},ODEFunction{true,typeof(model_ode!),UniformScaling{Bool},Nothing,Nothing,Nothing,Nothing,Nothing,Nothing,Nothing,Nothing},Nothing,DiffEqBase.StandardODEProblem}, ::CompositeAlgorithm{Tuple{Tsit5,Rosenbrock23{0,false,LinSolveFactorize{typeof(lu!)},DataType}},AutoSwitch{Tsit5,Rosenbrock23{0,false,LinSolveFactorize{typeof(lu!)},DataType},Rational{Int64},Float64}}, ::Array{Any,1}, ::Array{Any,1}, ::Array{Any,1}, ::Type{Val{true}}) at solve.jl:397\n",
      "└ @ OrdinaryDiffEq /home/bylard/.julia/packages/OrdinaryDiffEq/NS3ps/src/solve.jl:397\n"
     ]
    },
    {
     "name": "stdout",
     "output_type": "stream",
     "text": [
      "(TOS_SCPS.SS).converged = true\n",
      "(TOS_SCPS.SS).prob_status = Symbol[:NA, :Diverged, :Diverged, :Diverged, :Optimal, :Diverged, :Optimal, :Optimal, :Diverged, :Diverged, :Optimal, :Optimal]\n",
      "(TOS_SCPS.SCPS).iterations = 11\n",
      "TOS_SCPS.total_time = 3.301551746\n",
      "(TOS_SCPS.SS).J_true[end] = 14.918705114461217\n"
     ]
    },
    {
     "data": {
      "text/plain": [
       "14.918705114461217"
      ]
     },
     "execution_count": 163,
     "metadata": {},
     "output_type": "execute_result"
    }
   ],
   "source": [
    "TOS_SCPS  = TrajectoryOptimizationSolution(TOP)\n",
    "solve_SCPshooting!(TOS_SCPS, TOP, solve_gusto_jump!, init_traj_straightline, \"Ipopt\", print_level=0)\n",
    "\n",
    "@show TOS_SCPS.SS.converged\n",
    "@show TOS_SCPS.SS.prob_status\n",
    "@show TOS_SCPS.SCPS.iterations\n",
    "@show TOS_SCPS.total_time\n",
    "@show TOS_SCPS.SS.J_true[end]"
   ]
  },
  {
   "cell_type": "code",
   "execution_count": 164,
   "metadata": {},
   "outputs": [
    {
     "data": {
      "image/png": "[encoded data removed]"
     },
     "execution_count": 164,
     "metadata": {},
     "output_type": "execute_result"
    }
   ],
   "source": [
    "using Plots\n",
    "gr(fmt=:png)\n",
    "plot([TOS_SCPS.SS.traj.X[1,:]], [TOS_SCPS.SS.traj.X[2,:]],\n",
    "    xlabel = \"x\",\n",
    "    ylabel = \"y\",\n",
    "    aspect_ratio = 1,\n",
    "    legend = :none)"
   ]
  },
  {
   "cell_type": "code",
   "execution_count": null,
   "metadata": {},
   "outputs": [],
   "source": []
  }
 ],
 "metadata": {
  "kernelspec": {
   "display_name": "Julia 0.7.0",
   "language": "julia",
   "name": "julia-0.7"
  },
  "language_info": {
   "file_extension": ".jl",
   "mimetype": "application/julia",
   "name": "julia",
   "version": "0.7.0"
  }
 },
 "nbformat": 4,
 "nbformat_minor": 2
}
