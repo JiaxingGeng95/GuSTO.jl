{
 "cells": [
  {
   "cell_type": "code",
   "execution_count": null,
   "metadata": {
    "scrolled": true
   },
   "outputs": [],
   "source": [
    "# using GuSTO\n",
    "include(\"../src/GuSTO.jl\")"
   ]
  },
  {
   "cell_type": "code",
   "execution_count": null,
   "metadata": {},
   "outputs": [],
   "source": [
    "robot = Car()\n",
    "model = DubinsCar()\n",
    "env = BlankEnv()\n",
    "\n",
    "N = 41\n",
    "x_init = 2*ones(3)\n",
    "x_goal = zeros(3)\n",
    "tf_guess = 5.\n",
    "\n",
    "PD = ProblemDefinition(robot, model, env, x_init, x_goal)\n",
    "TOP = TrajectoryOptimizationProblem(PD, N, tf_guess, fixed_final_time=true)\n",
    "TOS_SCP = TrajectoryOptimizationSolution(TOP)"
   ]
  },
  {
   "cell_type": "code",
   "execution_count": null,
   "metadata": {},
   "outputs": [],
   "source": [
    "# SCP Only\n",
    "TOS_SCP = TrajectoryOptimizationSolution(TOP)\n",
    "# solve_SCP!(TOS_SCP, TOP, solve_gusto_cvx!, init_traj_straightline, \"Gurobi\", OutputFlag=0)\n",
    "solve_SCP!(TOS_SCP, TOP, solve_gusto_jump!, init_traj_straightline, \"Ipopt\", print_level=0)\n",
    "\n",
    "@show TOS_SCP.SCPS.converged\n",
    "@show TOS_SCP.SCPS.iterations\n",
    "@show TOS_SCP.SCPS.total_time\n",
    "@show TOS_SCP.SCPS.J_true[end]"
   ]
  },
  {
   "cell_type": "code",
   "execution_count": null,
   "metadata": {},
   "outputs": [],
   "source": [
    "using Plots\n",
    "gr(fmt=:png)\n",
    "plot([TOS_SCP.SCPS.traj.X[1,:]], [TOS_SCP.SCPS.traj.X[2,:]],\n",
    "    xlabel = \"x\",\n",
    "    ylabel = \"y\",\n",
    "    aspect_ratio = 1,\n",
    "    legend = :none)"
   ]
  },
  {
   "cell_type": "code",
   "execution_count": null,
   "metadata": {
    "scrolled": false
   },
   "outputs": [],
   "source": [
    "TOS_SCPS  = TrajectoryOptimizationSolution(TOP)\n",
    "solve_SCPshooting!(TOS_SCPS, TOP, solve_gusto_jump!, init_traj_straightline, \"Ipopt\", print_level=0)\n",
    "\n",
    "@show TOS_SCPS.SS.converged\n",
    "@show TOS_SCPS.SS.prob_status\n",
    "@show TOS_SCPS.SCPS.iterations\n",
    "@show TOS_SCPS.total_time\n",
    "@show TOS_SCPS.SS.J_true[end]"
   ]
  },
  {
   "cell_type": "code",
   "execution_count": null,
   "metadata": {},
   "outputs": [],
   "source": [
    "using Plots\n",
    "gr(fmt=:png)\n",
    "plot([TOS_SCPS.SS.traj.X[1,:]], [TOS_SCPS.SS.traj.X[2,:]],\n",
    "    xlabel = \"x\",\n",
    "    ylabel = \"y\",\n",
    "    aspect_ratio = 1,\n",
    "    legend = :none)"
   ]
  }
 ],
 "metadata": {
  "kernelspec": {
   "display_name": "Julia 0.7.0",
   "language": "julia",
   "name": "julia-0.7"
  },
  "language_info": {
   "file_extension": ".jl",
   "mimetype": "application/julia",
   "name": "julia",
   "version": "0.7.0"
  }
 },
 "nbformat": 4,
 "nbformat_minor": 2
}
