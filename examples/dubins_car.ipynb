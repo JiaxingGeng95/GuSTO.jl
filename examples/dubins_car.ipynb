{
 "cells": [
  {
   "cell_type": "code",
   "execution_count": 1,
   "metadata": {
    "scrolled": true
   },
   "outputs": [
    {
     "data": {
      "text/html": [
       "    <script class='js-collapse-script'>\n",
       "        var curMatch =\n",
       "            window.location.href\n",
       "            .match(/(.*?)\\/notebooks\\/.*\\.ipynb/);\n",
       "\n",
       "        curMatch = curMatch ||\n",
       "            window.location.href\n",
       "            .match(/(.*?)\\/apps\\/.*\\.ipynb/);\n",
       "\n",
       "        if ( curMatch ) {\n",
       "            $('head').append('<base href=\"' + curMatch[1] + '/\">');\n",
       "        }\n",
       "    </script>\n"
      ],
      "text/plain": [
       "HTML{String}(\"    <script class='js-collapse-script'>\\n        var curMatch =\\n            window.location.href\\n            .match(/(.*?)\\\\/notebooks\\\\/.*\\\\.ipynb/);\\n\\n        curMatch = curMatch ||\\n            window.location.href\\n            .match(/(.*?)\\\\/apps\\\\/.*\\\\.ipynb/);\\n\\n        if ( curMatch ) {\\n            \\$('head').append('<base href=\\\"' + curMatch[1] + '/\\\">');\\n        }\\n    </script>\\n\")"
      ]
     },
     "metadata": {},
     "output_type": "display_data"
    },
    {
     "data": {
      "text/html": [
       "<script class='js-collapse-script' src='/assetserver/37963de6d08bd2e6fe9e206e2e9943687644a3d1-assets/webio/dist/bundle.js'></script>"
      ],
      "text/plain": [
       "HTML{String}(\"<script class='js-collapse-script' src='/assetserver/37963de6d08bd2e6fe9e206e2e9943687644a3d1-assets/webio/dist/bundle.js'></script>\")"
      ]
     },
     "metadata": {},
     "output_type": "display_data"
    },
    {
     "data": {
      "text/html": [
       "<script class='js-collapse-script' src='/assetserver/37963de6d08bd2e6fe9e206e2e9943687644a3d1-assets/providers/ijulia_setup.js'></script>"
      ],
      "text/plain": [
       "HTML{String}(\"<script class='js-collapse-script' src='/assetserver/37963de6d08bd2e6fe9e206e2e9943687644a3d1-assets/providers/ijulia_setup.js'></script>\")"
      ]
     },
     "metadata": {},
     "output_type": "display_data"
    },
    {
     "data": {
      "text/html": [
       "  <script class='js-collapse-script'>\n",
       "    $('.js-collapse-script').parent('.output_subarea').css('padding', '0');\n",
       "  </script>\n"
      ],
      "text/plain": [
       "HTML{String}(\"  <script class='js-collapse-script'>\\n    \\$('.js-collapse-script').parent('.output_subarea').css('padding', '0');\\n  </script>\\n\")"
      ]
     },
     "metadata": {},
     "output_type": "display_data"
    },
    {
     "name": "stderr",
     "output_type": "stream",
     "text": [
      "\u001b[1m\u001b[36mINFO: \u001b[39m\u001b[22m\u001b[36mLoading HttpServer methods...\n",
      "\u001b[39mWARNING: using FixedSizeArrays.Point in module Main conflicts with an existing identifier.\n",
      "WARNING: using FixedSizeArrays.Vec in module Main conflicts with an existing identifier.\n",
      "WARNING: requiring \"GuSTO\" in module \"Main\" did not define a corresponding module.\n"
     ]
    }
   ],
   "source": [
    "using GuSTO"
   ]
  },
  {
   "cell_type": "code",
   "execution_count": 2,
   "metadata": {},
   "outputs": [
    {
     "data": {
      "text/plain": [
       "TrajectoryOptimizationProblem{Car,DubinsCar,BlankEnv}(ProblemDefinition{Car,DubinsCar,BlankEnv}(Car((class btCollisionObject *) @0x0000000005a6f9e0\n",
       "), DubinsCar(3, 1, 2.0, 1.0, [-100.0, -100.0, -6.28319], [100.0, 100.0, 6.28319], -10.0, 10.0, 0.01, Any[], Any[], Any[]), BlankEnv([-1000.0, -1000.0, -1000.0], [1000.0, 1000.0, 1000.0], GeometryTypes.GeometryPrimitive[], GeometryTypes.GeometryPrimitive[], GeometryTypes.GeometryPrimitive[]), [2.0, 2.0, 2.0], [0.0, 0.0, 0.0]), Workspace(BulletCollision.BulletStaticEnvironment((class btCollisionObject *) @0x0000000005a6f9e0\n",
       ", Cxx.CppPtr{Cxx.CxxQualType{Cxx.CppBaseType{:btCollisionObject},(false, false, false)},(false, false, false)}[(class btCollisionObject *) @0x000000000897aea0\n",
       "], (class btCollisionWorld *) @0x0000000009322d10\n",
       ", Cxx.CppPtr{Cxx.CxxQualType{Cxx.CppBaseType{:btCollisionObject},(false, false, false)},(false, false, false)}[], 0), BulletCollision.BulletStaticEnvironment((class btCollisionObject *) @0x0000000005a6f9e0\n",
       ", Cxx.CppPtr{Cxx.CxxQualType{Cxx.CppBaseType{:btCollisionObject},(false, false, false)},(false, false, false)}[(class btCollisionObject *) @0x0000000009212de0\n",
       "], (class btCollisionWorld *) @0x0000000008cfb670\n",
       ", Cxx.CppPtr{Cxx.CxxQualType{Cxx.CppBaseType{:btCollisionObject},(false, false, false)},(false, false, false)}[], 0)), true, 41, 5.0, 0.025)"
      ]
     },
     "execution_count": 2,
     "metadata": {},
     "output_type": "execute_result"
    }
   ],
   "source": [
    "robot = Car()\n",
    "model = DubinsCar()\n",
    "env = BlankEnv()\n",
    "\n",
    "N = 41\n",
    "x_init = 2*ones(3)\n",
    "x_goal = zeros(3)\n",
    "tf_guess = 5.\n",
    "\n",
    "PD = ProblemDefinition(robot, model, env, x_init, x_goal)\n",
    "\n",
    "TOP = TrajectoryOptimizationProblem(PD, N, tf_guess, fixed_final_time=true)"
   ]
  },
  {
   "cell_type": "code",
   "execution_count": 22,
   "metadata": {},
   "outputs": [
    {
     "name": "stderr",
     "output_type": "stream",
     "text": [
      "\u001b[1m\u001b[33mWARNING: \u001b[39m\u001b[22m\u001b[33mArray(::Type{T}, d::NTuple{N, Int}) where {T, N} is deprecated, use Array{T}(d) instead.\u001b[39m\n",
      "Stacktrace:\n",
      " [1] \u001b[1mdepwarn\u001b[22m\u001b[22m\u001b[1m(\u001b[22m\u001b[22m::String, ::Symbol\u001b[1m)\u001b[22m\u001b[22m at \u001b[1m./deprecated.jl:70\u001b[22m\u001b[22m\n",
      " [2] \u001b[1mArray\u001b[22m\u001b[22m\u001b[1m(\u001b[22m\u001b[22m::Type{Float64}, ::Tuple{Int64,Int64}\u001b[1m)\u001b[22m\u001b[22m at \u001b[1m./deprecated.jl:57\u001b[22m\u001b[22m\n",
      " [3] \u001b[1mfix!\u001b[22m\u001b[22m at \u001b[1m/home/thomas/.julia/v0.6/Convex/src/variable.jl:127\u001b[22m\u001b[22m [inlined]\n",
      " [4] \u001b[1mSCPVariables{Convex.Variable,Convex.Variable}\u001b[22m\u001b[22m\u001b[1m(\u001b[22m\u001b[22m::SCPProblem{Car,DubinsCar,BlankEnv}\u001b[1m)\u001b[22m\u001b[22m at \u001b[1m/home/thomas/.julia/v0.6/GuSTO/src/types.jl:97\u001b[22m\u001b[22m\n",
      " [5] \u001b[1m#solve_gusto_cvx!#6\u001b[22m\u001b[22m\u001b[1m(\u001b[22m\u001b[22m::Array{Any,1}, ::Function, ::SCPSolution, ::SCPProblem{Car,DubinsCar,BlankEnv}, ::String, ::Int64, ::Bool\u001b[1m)\u001b[22m\u001b[22m at \u001b[1m/home/thomas/.julia/v0.6/GuSTO/src/scp/scp_gusto.jl:59\u001b[22m\u001b[22m\n",
      " [6] \u001b[1m(::#kw##solve_gusto_cvx!)\u001b[22m\u001b[22m\u001b[1m(\u001b[22m\u001b[22m::Array{Any,1}, ::#solve_gusto_cvx!, ::SCPSolution, ::SCPProblem{Car,DubinsCar,BlankEnv}, ::String, ::Int64, ::Bool\u001b[1m)\u001b[22m\u001b[22m at \u001b[1m./<missing>:0\u001b[22m\u001b[22m\n",
      " [7] \u001b[1m#solve_SCP!#5\u001b[22m\u001b[22m\u001b[1m(\u001b[22m\u001b[22m::Array{Any,1}, ::Function, ::TrajectoryOptimizationSolution, ::TrajectoryOptimizationProblem{Car,DubinsCar,BlankEnv}, ::#solve_gusto_cvx!, ::#init_traj_straightline, ::String\u001b[1m)\u001b[22m\u001b[22m at \u001b[1m/home/thomas/.julia/v0.6/GuSTO/src/traj_opt.jl:49\u001b[22m\u001b[22m\n",
      " [8] \u001b[1m(::#kw##solve_SCP!)\u001b[22m\u001b[22m\u001b[1m(\u001b[22m\u001b[22m::Array{Any,1}, ::#solve_SCP!, ::TrajectoryOptimizationSolution, ::TrajectoryOptimizationProblem{Car,DubinsCar,BlankEnv}, ::Function, ::Function, ::String\u001b[1m)\u001b[22m\u001b[22m at \u001b[1m./<missing>:0\u001b[22m\u001b[22m\n",
      " [9] \u001b[1minclude_string\u001b[22m\u001b[22m\u001b[1m(\u001b[22m\u001b[22m::String, ::String\u001b[1m)\u001b[22m\u001b[22m at \u001b[1m./loading.jl:522\u001b[22m\u001b[22m\n",
      " [10] \u001b[1mexecute_request\u001b[22m\u001b[22m\u001b[1m(\u001b[22m\u001b[22m::ZMQ.Socket, ::IJulia.Msg\u001b[1m)\u001b[22m\u001b[22m at \u001b[1m/home/thomas/.julia/v0.6/IJulia/src/execute_request.jl:193\u001b[22m\u001b[22m\n",
      " [11] \u001b[1m(::Compat.#inner#6{Array{Any,1},IJulia.#execute_request,Tuple{ZMQ.Socket,IJulia.Msg}})\u001b[22m\u001b[22m\u001b[1m(\u001b[22m\u001b[22m\u001b[1m)\u001b[22m\u001b[22m at \u001b[1m/home/thomas/.julia/v0.6/Compat/src/Compat.jl:189\u001b[22m\u001b[22m\n",
      " [12] \u001b[1meventloop\u001b[22m\u001b[22m\u001b[1m(\u001b[22m\u001b[22m::ZMQ.Socket\u001b[1m)\u001b[22m\u001b[22m at \u001b[1m/home/thomas/.julia/v0.6/IJulia/src/eventloop.jl:8\u001b[22m\u001b[22m\n",
      " [13] \u001b[1m(::IJulia.##13#16)\u001b[22m\u001b[22m\u001b[1m(\u001b[22m\u001b[22m\u001b[1m)\u001b[22m\u001b[22m at \u001b[1m./task.jl:335\u001b[22m\u001b[22m\n",
      "while loading In[22], in expression starting on line 3\n",
      "\u001b[1m\u001b[33mWARNING: \u001b[39m\u001b[22m\u001b[33mArray(::Type{T}, m::Int) where T is deprecated, use Array{T}(m) instead.\u001b[39m\n",
      "Stacktrace:\n",
      " [1] \u001b[1mdepwarn\u001b[22m\u001b[22m\u001b[1m(\u001b[22m\u001b[22m::String, ::Symbol\u001b[1m)\u001b[22m\u001b[22m at \u001b[1m./deprecated.jl:70\u001b[22m\u001b[22m\n",
      " [2] \u001b[1mArray\u001b[22m\u001b[22m\u001b[1m(\u001b[22m\u001b[22m::Type{Convex.ConicConstr}, ::Int64\u001b[1m)\u001b[22m\u001b[22m at \u001b[1m./deprecated.jl:57\u001b[22m\u001b[22m\n",
      " [3] \u001b[1mconic_form!\u001b[22m\u001b[22m\u001b[1m(\u001b[22m\u001b[22m::Convex.SOCElemConstraint, ::Convex.UniqueConicForms\u001b[1m)\u001b[22m\u001b[22m at \u001b[1m/home/thomas/.julia/v0.6/Convex/src/constraints/soc_constraints.jl:50\u001b[22m\u001b[22m\n",
      " [4] \u001b[1mconic_form!\u001b[22m\u001b[22m\u001b[1m(\u001b[22m\u001b[22m::Convex.QolElemAtom, ::Convex.UniqueConicForms\u001b[1m)\u001b[22m\u001b[22m at \u001b[1m/home/thomas/.julia/v0.6/Convex/src/atoms/second_order_cone/qol_elementwise.jl:41\u001b[22m\u001b[22m\n",
      " [5] \u001b[1mconic_form!\u001b[22m\u001b[22m\u001b[1m(\u001b[22m\u001b[22m::Convex.MultiplyAtom, ::Convex.UniqueConicForms\u001b[1m)\u001b[22m\u001b[22m at \u001b[1m/home/thomas/.julia/v0.6/Convex/src/atoms/affine/multiply_divide.jl:71\u001b[22m\u001b[22m\n",
      " [6] \u001b[1mconic_form!\u001b[22m\u001b[22m\u001b[1m(\u001b[22m\u001b[22m::Convex.AdditionAtom, ::Convex.UniqueConicForms\u001b[1m)\u001b[22m\u001b[22m at \u001b[1m/home/thomas/.julia/v0.6/Convex/src/atoms/affine/add_subtract.jl:108\u001b[22m\u001b[22m\n",
      " [7] \u001b[1mconic_form!\u001b[22m\u001b[22m\u001b[1m(\u001b[22m\u001b[22m::Convex.EqConstraint, ::Convex.UniqueConicForms\u001b[1m)\u001b[22m\u001b[22m at \u001b[1m/home/thomas/.julia/v0.6/Convex/src/constraints/constraints.jl:43\u001b[22m\u001b[22m\n",
      " [8] \u001b[1mconic_form!\u001b[22m\u001b[22m\u001b[1m(\u001b[22m\u001b[22m::Convex.Problem, ::Convex.UniqueConicForms\u001b[1m)\u001b[22m\u001b[22m at \u001b[1m/home/thomas/.julia/v0.6/Convex/src/problems.jl:99\u001b[22m\u001b[22m\n",
      " [9] \u001b[1mconic_problem\u001b[22m\u001b[22m\u001b[1m(\u001b[22m\u001b[22m::Convex.Problem\u001b[1m)\u001b[22m\u001b[22m at \u001b[1m/home/thomas/.julia/v0.6/Convex/src/problems.jl:124\u001b[22m\u001b[22m\n",
      " [10] \u001b[1m#solve!#25\u001b[22m\u001b[22m\u001b[1m(\u001b[22m\u001b[22m::Bool, ::Bool, ::Bool, ::Function, ::Convex.Problem\u001b[1m)\u001b[22m\u001b[22m at \u001b[1m/home/thomas/.julia/v0.6/Convex/src/solution.jl:25\u001b[22m\u001b[22m\n",
      " [11] \u001b[1m(::Convex.#kw##solve!)\u001b[22m\u001b[22m\u001b[1m(\u001b[22m\u001b[22m::Array{Any,1}, ::Convex.#solve!, ::Convex.Problem\u001b[1m)\u001b[22m\u001b[22m at \u001b[1m./<missing>:0\u001b[22m\u001b[22m\n",
      " [12] \u001b[1m#solve_gusto_cvx!#6\u001b[22m\u001b[22m\u001b[1m(\u001b[22m\u001b[22m::Array{Any,1}, ::Function, ::SCPSolution, ::SCPProblem{Car,DubinsCar,BlankEnv}, ::String, ::Int64, ::Bool\u001b[1m)\u001b[22m\u001b[22m at \u001b[1m/home/thomas/.julia/v0.6/GuSTO/src/scp/scp_gusto.jl:76\u001b[22m\u001b[22m\n",
      " [13] \u001b[1m(::#kw##solve_gusto_cvx!)\u001b[22m\u001b[22m\u001b[1m(\u001b[22m\u001b[22m::Array{Any,1}, ::#solve_gusto_cvx!, ::SCPSolution, ::SCPProblem{Car,DubinsCar,BlankEnv}, ::String, ::Int64, ::Bool\u001b[1m)\u001b[22m\u001b[22m at \u001b[1m./<missing>:0\u001b[22m\u001b[22m\n",
      " [14] \u001b[1m#solve_SCP!#5\u001b[22m\u001b[22m\u001b[1m(\u001b[22m\u001b[22m::Array{Any,1}, ::Function, ::TrajectoryOptimizationSolution, ::TrajectoryOptimizationProblem{Car,DubinsCar,BlankEnv}, ::#solve_gusto_cvx!, ::#init_traj_straightline, ::String\u001b[1m)\u001b[22m\u001b[22m at \u001b[1m/home/thomas/.julia/v0.6/GuSTO/src/traj_opt.jl:49\u001b[22m\u001b[22m\n",
      " [15] \u001b[1m(::#kw##solve_SCP!)\u001b[22m\u001b[22m\u001b[1m(\u001b[22m\u001b[22m::Array{Any,1}, ::#solve_SCP!, ::TrajectoryOptimizationSolution, ::TrajectoryOptimizationProblem{Car,DubinsCar,BlankEnv}, ::Function, ::Function, ::String\u001b[1m)\u001b[22m\u001b[22m at \u001b[1m./<missing>:0\u001b[22m\u001b[22m\n",
      " [16] \u001b[1minclude_string\u001b[22m\u001b[22m\u001b[1m(\u001b[22m\u001b[22m::String, ::String\u001b[1m)\u001b[22m\u001b[22m at \u001b[1m./loading.jl:522\u001b[22m\u001b[22m\n",
      " [17] \u001b[1mexecute_request\u001b[22m\u001b[22m\u001b[1m(\u001b[22m\u001b[22m::ZMQ.Socket, ::IJulia.Msg\u001b[1m)\u001b[22m\u001b[22m at \u001b[1m/home/thomas/.julia/v0.6/IJulia/src/execute_request.jl:193\u001b[22m\u001b[22m\n",
      " [18] \u001b[1m(::Compat.#inner#6{Array{Any,1},IJulia.#execute_request,Tuple{ZMQ.Socket,IJulia.Msg}})\u001b[22m\u001b[22m\u001b[1m(\u001b[22m\u001b[22m\u001b[1m)\u001b[22m\u001b[22m at \u001b[1m/home/thomas/.julia/v0.6/Compat/src/Compat.jl:189\u001b[22m\u001b[22m\n",
      " [19] \u001b[1meventloop\u001b[22m\u001b[22m\u001b[1m(\u001b[22m\u001b[22m::ZMQ.Socket\u001b[1m)\u001b[22m\u001b[22m at \u001b[1m/home/thomas/.julia/v0.6/IJulia/src/eventloop.jl:8\u001b[22m\u001b[22m\n",
      " [20] \u001b[1m(::IJulia.##13#16)\u001b[22m\u001b[22m\u001b[1m(\u001b[22m\u001b[22m\u001b[1m)\u001b[22m\u001b[22m at \u001b[1m./task.jl:335\u001b[22m\u001b[22m\n",
      "while loading In[22], in expression starting on line 3\n"
     ]
    },
    {
     "name": "stdout",
     "output_type": "stream",
     "text": [
      "Academic license - for non-commercial use only\n",
      "TOS_SCP.SCPS.converged = true\n",
      "TOS_SCP.SCPS.iterations = 6\n",
      "TOS_SCP.SCPS.total_time = 1.506673614\n",
      "TOS_SCP.SCPS.J_true[end] = 18.90326415068619\n"
     ]
    },
    {
     "data": {
      "text/plain": [
       "18.90326415068619"
      ]
     },
     "execution_count": 22,
     "metadata": {},
     "output_type": "execute_result"
    }
   ],
   "source": [
    "# SCP Only\n",
    "TOS_SCP = TrajectoryOptimizationSolution(TOP)\n",
    "solve_SCP!(TOS_SCP, TOP, solve_gusto_cvx!, init_traj_straightline, \"Gurobi\", OutputFlag=0)\n",
    "# solve_SCP!(TOS_SCP, TOP, solve_gusto_jump!, init_traj_straightline, \"IPOPT\", print_level=0)\n",
    "\n",
    "@show TOS_SCP.SCPS.converged\n",
    "@show TOS_SCP.SCPS.iterations\n",
    "@show TOS_SCP.SCPS.total_time\n",
    "@show TOS_SCP.SCPS.J_true[end]"
   ]
  },
  {
   "cell_type": "code",
   "execution_count": 8,
   "metadata": {},
   "outputs": [
    {
     "name": "stdout",
     "output_type": "stream",
     "text": [
      "TOS_SCP.SCPS.converged = true\n",
      "TOS_SCP.SCPS.iterations = 6\n",
      "TOS_SCP.SCPS.iter_elapsed_times = Any[0.0107618, 0.0105551, 0.0103189, 0.00936085, 0.00904786, 0.0081317]\n",
      "TOS_SCP.SCPS.total_time = 0.058176268999999996\n",
      "TOS_SCP.SCPS.accept_solution = Bool[true]\n",
      "TOS_SCP.SCPS.prob_status = Symbol[:NA]\n",
      "TOS_SCP.SCPS.convergence_measure = [0.0, 1.0158, 1.7599, 0.432085, 0.33266, 0.126617, 0.0390432]\n",
      "TOS_SCP.SCPS.param.alg.omega_vec = [1.0]\n",
      "TOS_SCP.SCPS.param.alg.Delta_vec = [10000.0]\n"
     ]
    },
    {
     "data": {
      "text/plain": [
       "1-element Array{Float64,1}:\n",
       " 10000.0"
      ]
     },
     "execution_count": 8,
     "metadata": {},
     "output_type": "execute_result"
    }
   ],
   "source": [
    "@show TOS_SCP.SCPS.converged\n",
    "@show TOS_SCP.SCPS.iterations\n",
    "@show TOS_SCP.SCPS.iter_elapsed_times\n",
    "@show TOS_SCP.SCPS.total_time\n",
    "@show TOS_SCP.SCPS.accept_solution\n",
    "@show TOS_SCP.SCPS.prob_status\n",
    "@show TOS_SCP.SCPS.convergence_measure\n",
    "@show TOS_SCP.SCPS.param.alg.omega_vec\n",
    "@show TOS_SCP.SCPS.param.alg.Delta_vec"
   ]
  },
  {
   "cell_type": "code",
   "execution_count": 9,
   "metadata": {},
   "outputs": [
    {
     "name": "stdout",
     "output_type": "stream",
     "text": [
      "TOS_SCPS.SS.converged = false\n",
      "TOS_SCPS.SCPS.total_time = 0.102923572\n"
     ]
    },
    {
     "data": {
      "text/plain": [
       "0.102923572"
      ]
     },
     "execution_count": 9,
     "metadata": {},
     "output_type": "execute_result"
    }
   ],
   "source": [
    "TOS_SCPS  = TrajectoryOptimizationSolution(TOP)\n",
    "solve_SCPshooting!(TOS_SCPS, TOP, solve_gusto_jump!, init_traj_straightline, \"IPOPT\", print_level=0)\n",
    "\n",
    "@show TOS_SCPS.SS.converged\n",
    "@show TOS_SCPS.SCPS.total_time"
   ]
  },
  {
   "cell_type": "code",
   "execution_count": 10,
   "metadata": {},
   "outputs": [
    {
     "data": {
      "image/png": "[encoded data removed]",
      "text/plain": [
       "PyPlot.Figure(PyObject <Figure size 640x480 with 1 Axes>)"
      ]
     },
     "metadata": {},
     "output_type": "display_data"
    },
    {
     "data": {
      "text/plain": [
       "(-2.4641977885826214, 2.2125808470753627, -0.16863271570313243, 3.541287029765781)"
      ]
     },
     "execution_count": 10,
     "metadata": {},
     "output_type": "execute_result"
    }
   ],
   "source": [
    "using PyPlot\n",
    "plot(TOS_SCP.SCPS.traj.X[1,:], TOS_SCP.SCPS.traj.X[2,:])\n",
    "xlabel(\"x\")\n",
    "ylabel(\"y\")\n",
    "axis(\"equal\")"
   ]
  },
  {
   "cell_type": "code",
   "execution_count": null,
   "metadata": {},
   "outputs": [],
   "source": []
  }
 ],
 "metadata": {
  "kernelspec": {
   "display_name": "Julia 0.6.4",
   "language": "julia",
   "name": "julia-0.6"
  },
  "language_info": {
   "file_extension": ".jl",
   "mimetype": "application/julia",
   "name": "julia",
   "version": "0.6.4"
  }
 },
 "nbformat": 4,
 "nbformat_minor": 2
}
