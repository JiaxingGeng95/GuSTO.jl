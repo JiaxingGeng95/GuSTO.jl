{
 "cells": [
  {
   "cell_type": "code",
   "execution_count": null,
   "metadata": {
    "scrolled": true
   },
   "outputs": [],
   "source": [
    "# using GuSTO\n",
    "include(\"../src/GuSTO.jl\")"
   ]
  },
  {
   "cell_type": "code",
   "execution_count": null,
   "metadata": {},
   "outputs": [],
   "source": [
    "robot = Car()\n",
    "model = DubinsCar()\n",
    "env = BlankEnv()\n",
    "\n",
    "N = 100\n",
    "tf_guess = 10.\n",
    "x_init = 2*ones(3)\n",
    "goal_set = GoalSet()\n",
    "add_goal!(goal_set, Goal(PointGoal(zeros(3)), tf_guess, model))\n",
    "\n",
    "PD = ProblemDefinition(robot, model, env, x_init, goal_set)\n",
    "TOP = TrajectoryOptimizationProblem(PD, N, tf_guess, fixed_final_time=true)\n",
    "TOS_SCP = TrajectoryOptimizationSolution(TOP)"
   ]
  },
  {
   "cell_type": "code",
   "execution_count": null,
   "metadata": {},
   "outputs": [],
   "source": [
    "# SCP Only\n",
    "TOS_SCP = TrajectoryOptimizationSolution(TOP)\n",
    "# solve_SCP!(TOS_SCP, TOP, solve_gusto_jump!, init_traj_straightline, \"Gurobi\", OutputFlag=0)\n",
    "solve_SCP!(TOS_SCP, TOP, solve_gusto_jump!, init_traj_straightline, \"Ipopt\", print_level=0)\n",
    "# solve_SCP!(TOS_SCP, TOP, solve_gusto_jump!, init_traj_straightline, \"Mosek\")\n",
    "\n",
    "@show TOS_SCP.SCPS.converged\n",
    "@show TOS_SCP.SCPS.convergence_measure\n",
    "@show TOS_SCP.SCPS.iterations\n",
    "@show TOS_SCP.SCPS.total_time\n",
    "@show TOS_SCP.SCPS.J_true[end]"
   ]
  },
  {
   "cell_type": "code",
   "execution_count": null,
   "metadata": {},
   "outputs": [],
   "source": [
    "using Plots\n",
    "gr(fmt=:png)\n",
    "plot([TOS_SCP.SCPS.traj.X[1,:]], [TOS_SCP.SCPS.traj.X[2,:]],\n",
    "    xlabel = \"x\",\n",
    "    ylabel = \"y\",\n",
    "    aspect_ratio = 1,\n",
    "    legend = :none)"
   ]
  },
  {
   "cell_type": "code",
   "execution_count": null,
   "metadata": {
    "scrolled": false
   },
   "outputs": [],
   "source": [
    "TOS_SCPS  = TrajectoryOptimizationSolution(TOP)\n",
    "solve_SCPshooting!(TOS_SCPS, TOP, solve_gusto_jump!, init_traj_straightline, \"Ipopt\", print_level=0)\n",
    "\n",
    "@show TOS_SCPS.SS.converged\n",
    "@show TOS_SCPS.SS.prob_status\n",
    "@show TOS_SCPS.SCPS.iterations\n",
    "@show TOS_SCPS.total_time\n",
    "@show TOS_SCPS.SS.J_true[end]\n",
    "@show TOS_SCPS.SCPS.dual"
   ]
  },
  {
   "cell_type": "code",
   "execution_count": null,
   "metadata": {},
   "outputs": [],
   "source": [
    "using Plots\n",
    "gr(fmt=:png)\n",
    "plot([TOS_SCPS.SS.traj.X[1,:]], [TOS_SCPS.SS.traj.X[2,:]],\n",
    "    xlabel = \"x\",\n",
    "    ylabel = \"y\",\n",
    "    aspect_ratio = 1,\n",
    "    legend = :none)"
   ]
  },
  {
   "cell_type": "code",
   "execution_count": null,
   "metadata": {},
   "outputs": [],
   "source": [
    "# TOS_SCPS.SS.J_true"
   ]
  },
  {
   "cell_type": "code",
   "execution_count": null,
   "metadata": {},
   "outputs": [],
   "source": [
    "# TOS_SCPS.SCPS.J_true"
   ]
  },
  {
   "cell_type": "code",
   "execution_count": null,
   "metadata": {},
   "outputs": [],
   "source": [
    "TOS_SCPS.SCPS.iterations"
   ]
  },
  {
   "cell_type": "code",
   "execution_count": null,
   "metadata": {},
   "outputs": [],
   "source": [
    "using Plots\n",
    "gr(fmt=:png)\n",
    "plot([TOS_SCPS.SCPS.traj.X[1,:]], [TOS_SCPS.SCPS.traj.X[2,:]],\n",
    "    xlabel = \"x\",\n",
    "    ylabel = \"y\",\n",
    "    aspect_ratio = 1,\n",
    "    legend = :none)"
   ]
  },
  {
   "cell_type": "code",
   "execution_count": null,
   "metadata": {
    "scrolled": true
   },
   "outputs": [],
   "source": [
    "@show TOS_SCPS.SCPS.dual\n",
    "dt = tf_guess/(N-1)\n",
    "tspan = (0., tf_guess)\n",
    "SP = ShootingProblem(TOP, TOS_SCPS.SCPS)\n",
    "x0 = [TOP.PD.x_init; TOS_SCPS.SCPS.dual]\n",
    "prob = ODEProblem(shooting_ode!, x0, tspan, SP)\n",
    "sol = DifferentialEquations.solve(prob, dtmin=dt, force_dtmin=true, saveat=dt);"
   ]
  },
  {
   "cell_type": "code",
   "execution_count": null,
   "metadata": {},
   "outputs": [],
   "source": [
    "X_ODE = zeros(3,N)\n",
    "for i = 1:N\n",
    "    X_ODE[:,i] = sol.u[i][1:3]\n",
    "end\n",
    "X_ODE"
   ]
  },
  {
   "cell_type": "code",
   "execution_count": null,
   "metadata": {},
   "outputs": [],
   "source": [
    "using Plots\n",
    "gr(fmt=:png)\n",
    "plot([X_ODE[1,:]], [X_ODE[2,:]],\n",
    "    xlabel = \"x\",\n",
    "    ylabel = \"y\",\n",
    "    aspect_ratio = 1,\n",
    "    legend = :none)"
   ]
  },
  {
   "cell_type": "code",
   "execution_count": null,
   "metadata": {},
   "outputs": [],
   "source": [
    "solver_model = Model(with_optimizer(Ipopt.Optimizer; print_level=0))\n",
    "N = 100\n",
    "dt = tf_guess/(N-1)\n",
    "model = TOP.PD.model\n",
    "x_max, x_min, u_max, u_min, v, k = model.x_max, model.x_min, model.u_max, model.u_min, model.v, model.k\n",
    "@variable(solver_model, x_min[1] <= x[1:N] <= x_max[1])\n",
    "@variable(solver_model, x_min[2] <= y[1:N] <= x_max[2]) \n",
    "@variable(solver_model, x_min[3] <= θ[1:N] <= x_max[3])\n",
    "@variable(solver_model, u_min <= u[1:N-1] <= u_max)\n",
    "@NLconstraint(solver_model, dyn_x[k=1:N-1], x[k+1] == x[k] + dt*v*cos(θ[k]))\n",
    "@NLconstraint(solver_model, dyn_y[k=1:N-1], y[k+1] == y[k] + dt*v*sin(θ[k]))\n",
    "@NLconstraint(solver_model, dyn_θ[k=1:N-1], θ[k+1] == θ[k] + dt*k*u[k])\n",
    "@constraint(solver_model, con_init, [x[1];y[1];θ[1]] .== x_init)\n",
    "@constraint(solver_model, con_goal, [x[N];y[N];θ[N]] .== x_goal)\n",
    "@objective(solver_model, Min, sum(u[k]^2 for k = 1:N-1))"
   ]
  },
  {
   "cell_type": "code",
   "execution_count": null,
   "metadata": {},
   "outputs": [],
   "source": [
    "# solver_model"
   ]
  },
  {
   "cell_type": "code",
   "execution_count": null,
   "metadata": {},
   "outputs": [],
   "source": [
    "JuMP.optimize!(solver_model)\n",
    "JuMP.termination_status(solver_model)\n",
    "JuMP.objective_value(solver_model)"
   ]
  },
  {
   "cell_type": "code",
   "execution_count": null,
   "metadata": {},
   "outputs": [],
   "source": [
    "x_sol = JuMP.value.(x[1,:])\n",
    "using Plots\n",
    "gr(fmt=:png)\n",
    "plot([x_sol], [y_sol],\n",
    "    xlabel = \"x\",\n",
    "    ylabel = \"y\",\n",
    "    aspect_ratio = 1,\n",
    "    legend = :none)"
   ]
  },
  {
   "cell_type": "code",
   "execution_count": null,
   "metadata": {},
   "outputs": [],
   "source": [
    "p0 = -JuMP.dual.(con_init)"
   ]
  },
  {
   "cell_type": "code",
   "execution_count": null,
   "metadata": {},
   "outputs": [],
   "source": [
    "u0 = JuMP.value.(u[1])\n",
    "@show pθ0 = 2*u0/k "
   ]
  },
  {
   "cell_type": "code",
   "execution_count": null,
   "metadata": {},
   "outputs": [],
   "source": [
    "p0[3]/pθ0"
   ]
  },
  {
   "cell_type": "code",
   "execution_count": null,
   "metadata": {},
   "outputs": [],
   "source": [
    "@show TOS_SCPS.SCPS.dual\n",
    "dt = tf_guess/(N-1)\n",
    "tspan = (0., tf_guess)\n",
    "SP = ShootingProblem(TOP, TOS_SCPS.SCPS)\n",
    "x0 = [TOP.PD.x_init; p0]\n",
    "prob = ODEProblem(shooting_ode!, x0, tspan, SP)\n",
    "sol = DifferentialEquations.solve(prob);"
   ]
  },
  {
   "cell_type": "code",
   "execution_count": null,
   "metadata": {},
   "outputs": [],
   "source": [
    "X_ODE = zeros(3,N)\n",
    "for i = 1:N\n",
    "    X_ODE[:,i] = sol.u[i][1:3]\n",
    "end\n",
    "X_ODE"
   ]
  },
  {
   "cell_type": "code",
   "execution_count": null,
   "metadata": {},
   "outputs": [],
   "source": [
    "using Plots\n",
    "gr(fmt=:png)\n",
    "plot([X_ODE[1,:]], [X_ODE[2,:]],\n",
    "    xlabel = \"x\",\n",
    "    ylabel = \"y\",\n",
    "    aspect_ratio = 1,\n",
    "    legend = :none)"
   ]
  },
  {
   "cell_type": "code",
   "execution_count": null,
   "metadata": {},
   "outputs": [],
   "source": []
  }
 ],
 "metadata": {
  "kernelspec": {
   "display_name": "Julia 1.0.3",
   "language": "julia",
   "name": "julia-1.0"
  },
  "language_info": {
   "file_extension": ".jl",
   "mimetype": "application/julia",
   "name": "julia",
   "version": "1.0.3"
  }
 },
 "nbformat": 4,
 "nbformat_minor": 2
}
