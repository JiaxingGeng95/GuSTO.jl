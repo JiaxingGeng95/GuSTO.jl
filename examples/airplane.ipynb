{
 "cells": [
  {
   "cell_type": "code",
   "execution_count": null,
   "metadata": {},
   "outputs": [],
   "source": [
    "using GuSTO"
   ]
  },
  {
   "cell_type": "code",
   "execution_count": null,
   "metadata": {},
   "outputs": [],
   "source": [
    "robot = Plane()\n",
    "model = Airplane(robot)\n",
    "env = Forest();"
   ]
  },
  {
   "cell_type": "code",
   "execution_count": null,
   "metadata": {},
   "outputs": [],
   "source": [
    "using MAT\n",
    "vars = matread(joinpath(Pkg.dir(\"GuSTO\"), \"src\", \"dynamics\", \"init_straight_line_sos.mat\"))\n",
    "# vars = matread(joinpath(Pkg.dir(\"GuSTO\"), \"src\", \"dynamics\", \"init_feasible_sos.mat\"))\n",
    "Xfull,Ufull,Tsfull = vars[\"X\"], vars[\"U\"], vars[\"t_ref\"];"
   ]
  },
  {
   "cell_type": "code",
   "execution_count": null,
   "metadata": {},
   "outputs": [],
   "source": [
    "N = 41\n",
    "x_init = [1,1,5,0,robot.v_hat,0,0,robot.alpha_0]\n",
    "goal_box = [110 110 5; 120 120 28]; mp = 0.5*(goal_box[1,:]+goal_box[2,:])\n",
    "x_goal = [mp[1],mp[2],mp[3],0,robot.v_hat,0,0,robot.alpha_0]\n",
    "tf_guess = Tsfull[end] # 32.3\n",
    "\n",
    "full_idx = [round(Int,i) for i in collect(linspace(1,length(Tsfull),N))];"
   ]
  },
  {
   "cell_type": "code",
   "execution_count": null,
   "metadata": {},
   "outputs": [],
   "source": [
    "# init_traj_straightline\n",
    "X0 = repmat(x_init, 1, N)\n",
    "for k in 1:3\n",
    "    X0[k,:] = collect(linspace(x_init[k],x_goal[k],N))\n",
    "end\n",
    "\n",
    "# init_traj_line_sos\n",
    "vars = matread(joinpath(Pkg.dir(\"GuSTO\"), \"src\", \"dynamics\", \"init_straight_line_sos.mat\"))\n",
    "X0 = vars[\"X\"]\n",
    "U0 = vars[\"U\"]\n",
    "Nidx = size(X0,2)\n",
    "idx = [round(Int,i) for i in collect(linspace(1,Nidx,N))]\n",
    "X0 = X0[:,idx]\n",
    "U0 = U0[:,idx[1:end-1]]\n",
    "x_goal = X0[:,end]\n",
    "\n",
    "# init_traj_feasible_sos\n",
    "vars = matread(joinpath(Pkg.dir(\"GuSTO\"), \"src\", \"dynamics\", \"init_feasible_sos.mat\"))\n",
    "X0 = vars[\"X\"]\n",
    "U0 = vars[\"U\"]\n",
    "Nidx = size(X0,2)\n",
    "idx = [round(Int,i) for i in collect(linspace(1,Nidx,N))]\n",
    "X0 = X0[:,idx]\n",
    "U0 = U0[:,idx[1:end-1]]\n",
    "x_goal = X0[:,end];\n",
    "\n",
    "PD = ProblemDefinition(robot, model, env, x_init, x_goal);"
   ]
  },
  {
   "cell_type": "code",
   "execution_count": null,
   "metadata": {},
   "outputs": [],
   "source": [
    "dt = tf_guess/(N-1)\n",
    "feasible_cost = 0\n",
    "for k in 1:N-1\n",
    "    feasible_cost += dt * norm(U0[:,k],2)\n",
    "end\n",
    "feasible_cost"
   ]
  },
  {
   "cell_type": "code",
   "execution_count": null,
   "metadata": {},
   "outputs": [],
   "source": [
    "TOPgusto = TrajectoryOptimizationProblem(PD, N, tf_guess, fixed_final_time=true)\n",
    "TOSgusto = TrajectoryOptimizationSolution(TOPgusto)\n",
    "solve_SCP!(TOSgusto, TOPgusto, solve_gusto_cvx!, init_traj_feasible_sos, \"Gurobi\");"
   ]
  },
  {
   "cell_type": "code",
   "execution_count": null,
   "metadata": {
    "scrolled": true
   },
   "outputs": [],
   "source": [
    "@show TOSgusto.SCPS.successful\n",
    "@show TOSgusto.SCPS.converged\n",
    "@show TOSgusto.SCPS.iterations\n",
    "@show TOSgusto.SCPS.iter_elapsed_times\n",
    "@show TOSgusto.SCPS.total_time\n",
    "@show TOSgusto.SCPS.accept_solution\n",
    "@show TOSgusto.SCPS.prob_status\n",
    "@show TOSgusto.SCPS.convergence_measure\n",
    "@show TOSgusto.SCPS.param.alg.omega_vec\n",
    "@show TOSgusto.SCPS.param.alg.Delta_vec"
   ]
  },
  {
   "cell_type": "code",
   "execution_count": null,
   "metadata": {},
   "outputs": [],
   "source": [
    "PyPlot.figure()\n",
    "PyPlot.plot3D(TOSgusto.traj.X[1,:],TOSgusto.traj.X[2,:],TOSgusto.traj.X[3,:], \"g-.\")\n",
    "PyPlot.plot3D(X0[1,:], X0[2,:], X0[3,:], \"k--\")"
   ]
  },
  {
   "cell_type": "code",
   "execution_count": null,
   "metadata": {},
   "outputs": [],
   "source": [
    "TOPmao = TrajectoryOptimizationProblem(PD, N, tf_guess, fixed_final_time=true)\n",
    "TOSmao = TrajectoryOptimizationSolution(TOPmao)\n",
    "solve_SCP!(TOSmao, TOPmao, solve_mao_cvx!, init_traj_feasible_sos, \"Gurobi\")"
   ]
  },
  {
   "cell_type": "code",
   "execution_count": null,
   "metadata": {},
   "outputs": [],
   "source": [
    "[TOSmao.traj.X[:,end] x_goal]"
   ]
  },
  {
   "cell_type": "code",
   "execution_count": null,
   "metadata": {},
   "outputs": [],
   "source": [
    "TOSmao.SCPS.converged"
   ]
  },
  {
   "cell_type": "code",
   "execution_count": null,
   "metadata": {},
   "outputs": [],
   "source": [
    "PyPlot.figure()\n",
    "PyPlot.plot3D(TOSmao.traj.X[1,:],TOSmao.traj.X[2,:],TOSmao.traj.X[3,:], \"g-.\")\n",
    "PyPlot.plot3D(X0[1,:], X0[2,:], X0[3,:], \"k--\")"
   ]
  },
  {
   "cell_type": "code",
   "execution_count": null,
   "metadata": {},
   "outputs": [],
   "source": [
    "TOPtrajopt = TrajectoryOptimizationProblem(PD, N, tf_guess, fixed_final_time=true)\n",
    "TOStrajopt = TrajectoryOptimizationSolution(TOPtrajopt)\n",
    "solve_SCP!(TOStrajopt, TOPtrajopt, solve_trajopt_cvx!, init_traj_feasible_sos, \"Gurobi\")"
   ]
  },
  {
   "cell_type": "code",
   "execution_count": null,
   "metadata": {},
   "outputs": [],
   "source": [
    "sum(TOStrajopt.SCPS.iter_elapsed_times)"
   ]
  },
  {
   "cell_type": "code",
   "execution_count": null,
   "metadata": {},
   "outputs": [],
   "source": [
    "function plot_shape(rect::HyperRectangle,plot_color::String=\"blue\")\n",
    "  lenX,lenY,lenZ = rect.widths \n",
    "\n",
    "  (x1,y1,z1) = rect.origin\n",
    "  (x2,y2,z2) = rect.origin+rect.widths\n",
    "  \n",
    "  xs = [x1; x2; x2; x1; x1]\n",
    "  ys = [y1; y1; y2; y2; y1]\n",
    "  zs = [z1; z1; z1; z1; z1]\n",
    " \n",
    "  zs2 = [z2; z2; z2; z2; z2]\n",
    "\n",
    "  xs3 = [x1; x1; x2; x2; x2; x2; x1; x1]\n",
    "  ys3 = [y2; y2; y2; y2; y1; y1; y1; y1]\n",
    "  zs3 = [z1; z2; z2; z1; z1; z2; z2; z1]\n",
    "\n",
    "    # might need to change to \n",
    "    # PyPlot.mesh(xs, ys, reshape(zs,length(zs),1), color=plot_color)\n",
    "    # PyPlot.mesh(xs, ys, reshape(zs2,length(zs),1), color=plot_color)\n",
    "    # PyPlot.mesh(xs, ys, reshape(zs3,length(zs),1), color=plot_color)\n",
    "  PyPlot.mesh(xs, ys, zs, color=plot_color)\n",
    "  PyPlot.mesh(xs, ys, zs2, color=plot_color)\n",
    "  PyPlot.mesh(xs3, ys3, zs3, color=plot_color)\n",
    "end"
   ]
  },
  {
   "cell_type": "code",
   "execution_count": null,
   "metadata": {},
   "outputs": [],
   "source": [
    "TOSmao.SCPS.J_true[end]\n",
    "sum(TOSgusto.SCPS.iter_elapsed_times)"
   ]
  },
  {
   "cell_type": "code",
   "execution_count": null,
   "metadata": {},
   "outputs": [],
   "source": [
    "PyPlot.figure()\n",
    "#PyPlot.plot(TOSmao.SCPS.J_true[2:end], \"g-.\")\n",
    "PyPlot.plot(TOSgusto.SCPS.J_true[2:end], \"b--\")\n",
    "PyPlot.plot(TOStrajopt.SCPS.J_true[2:end], \"g-.\")"
   ]
  },
  {
   "cell_type": "code",
   "execution_count": null,
   "metadata": {},
   "outputs": [],
   "source": [
    "sum(TOStrajopt.SCPS.iter_elapsed_times)"
   ]
  },
  {
   "cell_type": "code",
   "execution_count": null,
   "metadata": {},
   "outputs": [],
   "source": [
    "using MAT\n",
    "file = matopen(\"airplane_results.mat\", \"w\")\n",
    "write(file, \"traj_sos\", X0)\n",
    "write(file, \"traj_gusto\", TOSgusto.traj.X)\n",
    "write(file, \"traj_trajopt\", TOStrajopt.traj.X)\n",
    "write(file, \"traj_mao\", TOSmao.traj.X)\n",
    "close(file)"
   ]
  },
  {
   "cell_type": "code",
   "execution_count": null,
   "metadata": {},
   "outputs": [],
   "source": [
    "PyPlot.plot(TOSgusto.SCPS.J_true[2:end])"
   ]
  },
  {
   "cell_type": "code",
   "execution_count": null,
   "metadata": {},
   "outputs": [],
   "source": [
    "minimum(TOSgusto.traj.X[3,:])"
   ]
  },
  {
   "cell_type": "code",
   "execution_count": null,
   "metadata": {
    "scrolled": true
   },
   "outputs": [],
   "source": [
    "pygui(true)\n",
    "for zone in env.obstacles_set_render\n",
    "    plot_shape(zone, \"r\")\n",
    "end\n",
    "\n",
    "goal_zone = HyperRectangle(Vec3f0(model.goal_min), Vec3f0(model.goal_max-model.goal_min))\n",
    "plot_shape(goal_zone, \"g\")\n",
    "\n",
    "PyPlot.plot3D(TOSmao.traj.X[1,:],TOSmao.traj.X[2,:],TOSmao.traj.X[3,:], \"g-.\", label=\"Mao et al.\")\n",
    "PyPlot.plot3D(TOSgusto.traj.X[1,:],TOSgusto.traj.X[2,:],TOSgusto.traj.X[3,:], \"b--\", label=\"GuSTO\")\n",
    "PyPlot.plot3D(TOStrajopt.traj.X[1,:],TOStrajopt.traj.X[2,:],TOStrajopt.traj.X[3,:], \"k\", label=\"TrajOpt\")\n",
    "PyPlot.plot3D(Xfull[1,:], Xfull[2,:], Xfull[3,:], \"k--\", label=\"Seed\")\n",
    "PyPlot.legend(loc=\"lower right\")\n",
    "PyPlot.xlabel(\"x [m]\"); PyPlot.ylabel(\"y [m]\"); PyPlot.zlabel(\"z [m]\");\n",
    "\n",
    "#PyPlot.figure()\n",
    "#PyPlot.plot(TOSmao.traj.X[1,:],TOSmao.traj.X[2,:], \"g-.\", label=\"Mao\")\n",
    "#PyPlot.plot(TOSgusto.traj.X[1,:],TOSgusto.traj.X[2,:], \"b--\", label=\"GuSTO\")\n",
    "#PyPlot.plot(TOStrajopt.traj.X[1,:],TOStrajopt.traj.X[2,:], \"k\", label=\"TrajOpt\")\n",
    "#PyPlot.plot(Xfull[1,:], Xfull[2,:], \"k--\", label=\"Seed\")\n",
    "#PyPlot.xlabel(\"x [m]\"); PyPlot.ylabel(\"y [m]\");"
   ]
  },
  {
   "cell_type": "code",
   "execution_count": null,
   "metadata": {},
   "outputs": [],
   "source": [
    "@show TOSgusto.SCPS.accept_solution\n",
    "@show TOSmao.SCPS.accept_solution"
   ]
  },
  {
   "cell_type": "code",
   "execution_count": null,
   "metadata": {},
   "outputs": [],
   "source": [
    "@show TOSgusto.SCPS.J_true[end]\n",
    "@show TOSmao.SCPS.J_true[end]\n",
    "@show TOStrajopt.SCPS.J_true[end]"
   ]
  },
  {
   "cell_type": "code",
   "execution_count": null,
   "metadata": {},
   "outputs": [],
   "source": [
    "env.keepout_zones"
   ]
  },
  {
   "cell_type": "code",
   "execution_count": null,
   "metadata": {},
   "outputs": [],
   "source": [
    "vis = Visualizer()\n",
    "delete!(vis)\n",
    "\n",
    "trans = Translation(100.,100.,0.)\n",
    "settransform!(vis[\"/Cameras/default\"],trans)\n",
    "\n",
    "vis[:obstacles]\n",
    "for (idx,obs) in enumerate(env.obstacle_set)\n",
    "    setobject!(vis[:obstacles][Symbol(string(\"obs\",idx))], \n",
    "        Object(obs,MeshBasicMaterial(color=RGBA(1.0,0.,0.,0.3))))\n",
    "end\n",
    "\n",
    "vis[:goal]\n",
    "setobject!(vis[:goal][:goal], \n",
    "    Object(HyperRectangle(Vec3f0(model.goal_min), Vec3f0(model.goal_max-model.goal_min)),\n",
    "        MeshBasicMaterial(color=RGBA(0,1.0,0.,0.7))))\n",
    "\n",
    "verts = Vector{Point3f0}(0)\n",
    "colors = Vector{RGB{Float32}}(0)\n",
    "for k in 1:size(TOSgusto.traj.X,2)\n",
    "    push!(verts, Point3f0(TOSgusto.traj.X[1:3,k]))\n",
    "    push!(colors, RGB(1.,0.,0.))\n",
    "end\n",
    "vis[:samples]\n",
    "setobject!(vis[:samples][:GuSTO], PointCloud(verts,colors))\n",
    "\n",
    "#vis[:workspace]\n",
    "#for (idx,ws) in enumerate(env.keepin_zones)\n",
    "#    setobject!(vis[:workspace][Symbol(string(\"ws\",idx))],\n",
    "#        Object(ws,MeshBasicMaterial(color=RGBA(0.95,0.93,0.26,0.3))))\n",
    "#end\n",
    "\n",
    "#ab = Astrobee()\n",
    "#mvis = MechanismVisualizer(\n",
    "#    ab.mechanism,\n",
    "#    URDFVisuals(AstrobeeRobot.urdfpath(), package_path=[dirname(dirname(AstrobeeRobot.urdfpath()))]),\n",
    "#    vis);\n",
    "\n",
    "#Qs = Vector{Vector{Float64}}(0)\n",
    "#for k in 1:N\n",
    "#    q = [quat_inv(mrp2quat(TOSgusto.traj.X[7:9,k]));TOSgusto.traj.X[1:3,k]]\n",
    "#    push!(Qs,q)\n",
    "#end\n",
    "\n",
    "#sleep(3)\n",
    "#setanimation!(mvis,1:length(Qs),Qs)\n",
    "\n",
    "plot_in_cell = false\n",
    "plot_in_cell ? IJuliaCell(vis) : open(vis)"
   ]
  }
 ],
 "metadata": {
  "kernelspec": {
   "display_name": "Julia 0.6.4",
   "language": "julia",
   "name": "julia-0.6"
  },
  "language_info": {
   "file_extension": ".jl",
   "mimetype": "application/julia",
   "name": "julia",
   "version": "0.6.4"
  }
 },
 "nbformat": 4,
 "nbformat_minor": 2
}
