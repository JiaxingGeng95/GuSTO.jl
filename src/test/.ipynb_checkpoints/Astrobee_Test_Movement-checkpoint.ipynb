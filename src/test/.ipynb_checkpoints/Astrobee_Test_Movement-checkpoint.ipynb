{
 "cells": [
  {
   "cell_type": "code",
   "execution_count": 1,
   "metadata": {
    "scrolled": true
   },
   "outputs": [
    {
     "data": {
      "text/html": [
       "    <script class='js-collapse-script'>\n",
       "        var curMatch =\n",
       "            window.location.href\n",
       "            .match(/(.*?)\\/notebooks\\/.*\\.ipynb/);\n",
       "\n",
       "        curMatch = curMatch ||\n",
       "            window.location.href\n",
       "            .match(/(.*?)\\/apps\\/.*\\.ipynb/);\n",
       "\n",
       "        if ( curMatch ) {\n",
       "            $('head').append('<base href=\"' + curMatch[1] + '/\">');\n",
       "        }\n",
       "    </script>\n"
      ],
      "text/plain": [
       "HTML{String}(\"    <script class='js-collapse-script'>\\n        var curMatch =\\n            window.location.href\\n            .match(/(.*?)\\\\/notebooks\\\\/.*\\\\.ipynb/);\\n\\n        curMatch = curMatch ||\\n            window.location.href\\n            .match(/(.*?)\\\\/apps\\\\/.*\\\\.ipynb/);\\n\\n        if ( curMatch ) {\\n            \\$('head').append('<base href=\\\"' + curMatch[1] + '/\\\">');\\n        }\\n    </script>\\n\")"
      ]
     },
     "metadata": {},
     "output_type": "display_data"
    },
    {
     "data": {
      "text/html": [
       "<script class='js-collapse-script' src='/assetserver/27672ddce0d87eb7829b55d0b54f54d183d7d738-assets/webio/dist/bundle.js'></script>"
      ],
      "text/plain": [
       "HTML{String}(\"<script class='js-collapse-script' src='/assetserver/27672ddce0d87eb7829b55d0b54f54d183d7d738-assets/webio/dist/bundle.js'></script>\")"
      ]
     },
     "metadata": {},
     "output_type": "display_data"
    },
    {
     "data": {
      "text/html": [
       "<script class='js-collapse-script' src='/assetserver/27672ddce0d87eb7829b55d0b54f54d183d7d738-assets/providers/ijulia_setup.js'></script>"
      ],
      "text/plain": [
       "HTML{String}(\"<script class='js-collapse-script' src='/assetserver/27672ddce0d87eb7829b55d0b54f54d183d7d738-assets/providers/ijulia_setup.js'></script>\")"
      ]
     },
     "metadata": {},
     "output_type": "display_data"
    },
    {
     "data": {
      "text/html": [
       "  <script class='js-collapse-script'>\n",
       "    $('.js-collapse-script').parent('.output_subarea').css('padding', '0');\n",
       "  </script>\n"
      ],
      "text/plain": [
       "HTML{String}(\"  <script class='js-collapse-script'>\\n    \\$('.js-collapse-script').parent('.output_subarea').css('padding', '0');\\n  </script>\\n\")"
      ]
     },
     "metadata": {},
     "output_type": "display_data"
    },
    {
     "name": "stderr",
     "output_type": "stream",
     "text": [
      "\u001b[1m\u001b[36mINFO: \u001b[39m\u001b[22m\u001b[36mLoading HttpServer methods...\n",
      "\u001b[39m"
     ]
    }
   ],
   "source": [
    "using AstrobeeRobot\n",
    "using RigidBodySim\n",
    "using RigidBodyDynamics\n",
    "\n",
    "using MeshCat\n",
    "using MeshCatMechanisms"
   ]
  },
  {
   "cell_type": "markdown",
   "metadata": {},
   "source": [
    "### Explanation on Motion\n",
    "\n",
    "To create an animation of a robot, use the setanimation!(MechanismVisualizer, t, q) command. t represents the timesteps, and q represents the configurations. Because we created a floating joint for the Astrobee, the configuration actually rotates and translates the robot. The configuration is represented as follows: [q1, q2, q3, q4, x, y, z] where q represents the quaternion (with [1,0,0,0] being no rotation) and [x,y,z] is the translation in the respective axis\n",
    "\n",
    "To set the robot configuration, use the set_configuration!(state, joint, config)  [note: removing the joint section will just default to rotating/translating the robot] command. At the time of writing, it is unknown (and probably unlikely) that set_configuration! can be used by the animation :\\ The Astrobee has 6 joints \n",
    "\n",
    "\n"
   ]
  },
  {
   "cell_type": "code",
   "execution_count": 2,
   "metadata": {},
   "outputs": [
    {
     "name": "stdout",
     "output_type": "stream",
     "text": [
      "instantiated a floating joint\n",
      "Listening on 0.0.0.0:8800...\n"
     ]
    },
    {
     "name": "stderr",
     "output_type": "stream",
     "text": [
      "\u001b[1m\u001b[36mINFO: \u001b[39m\u001b[22m\u001b[36mServing MeshCat visualizer at http://127.0.0.1:8800\n",
      "\u001b[39m"
     ]
    },
    {
     "data": {
      "text/plain": [
       "Spanning tree:\n",
       "Vertex: world (root)\n",
       "  Vertex: body, Edge: body_to_world\n",
       "    Vertex: inertial_link, Edge: inertial_joint\n",
       "    Vertex: top_aft, Edge: top_aft\n",
       "      Vertex: top_aft_arm_proximal_link, Edge: top_aft_arm_proximal_joint\n",
       "        Vertex: top_aft_arm_distal_link, Edge: top_aft_arm_distal_joint\n",
       "          Vertex: top_aft_gripper_left_proximal_link, Edge: top_aft_gripper_left_proximal_joint\n",
       "            Vertex: top_aft_gripper_left_distal_link, Edge: top_aft_gripper_left_distal_joint\n",
       "          Vertex: top_aft_gripper_right_proximal_link, Edge: top_aft_gripper_right_proximal_joint\n",
       "            Vertex: top_aft_gripper_right_distal_link, Edge: top_aft_gripper_right_distal_joint\n",
       "No non-tree joints."
      ]
     },
     "execution_count": 2,
     "metadata": {},
     "output_type": "execute_result"
    },
    {
     "name": "stderr",
     "output_type": "stream",
     "text": [
      "Error handling websocket connection:\n",
      "\u001b[91mWebSockets.WebSocketClosedError(\"ws|server respond to OPCODE_CLOSE 1001:Going Away\")\u001b[39m"
     ]
    }
   ],
   "source": [
    "vis = Visualizer()\n",
    "delete!(vis)\n",
    "ab = Astrobee()\n",
    "mvis = MechanismVisualizer(\n",
    "    ab.mechanism,\n",
    "    URDFVisuals(AstrobeeRobot.urdfpath(), package_path=[dirname(dirname(AstrobeeRobot.urdfpath()))]),\n",
    "    vis);\n",
    "open(vis)\n",
    "sleep(1)\n",
    "\n",
    "q = [\n",
    "    [1;0;0;0;0;0;0],\n",
    "    [1;0;0;0;1;1;0],\n",
    "    [0.5;0.5;0.5;0.5;2;2;0] ]\n",
    "\n",
    "setanimation!(mvis,1:3,q)\n",
    "\n",
    "ab.mechanism"
   ]
  },
  {
   "cell_type": "code",
   "execution_count": 35,
   "metadata": {},
   "outputs": [],
   "source": [
    "### Examples of Setting a Configuration\n",
    "state = MechanismState(ab.mechanism)\n",
    "set_configuration!(state, ab.basejoint, [1; 0; 0; 0; 0; 0; 1.025])\n",
    "set_configuration!(state, findjoint(ab.mechanism,\"top_aft_arm_proximal_joint\"),[1.0])\n",
    "set_configuration!(state, findjoint(ab.mechanism,\"top_aft_arm_distal_joint\"),[1.0])\n",
    "set_configuration!(state, findjoint(ab.mechanism,\"top_aft_gripper_left_proximal_joint\"),[1.0])\n",
    "set_configuration!(state, findjoint(ab.mechanism,\"top_aft_gripper_left_distal_joint\"),[1.0])\n",
    "set_configuration!(state, findjoint(ab.mechanism,\"top_aft_gripper_right_proximal_joint\"),[1.0])\n",
    "set_configuration!(state, findjoint(ab.mechanism,\"top_aft_gripper_right_distal_joint\"),[1.0])\n",
    "\n",
    "#The following actually enacts the changes in the visualizer\n",
    "set_configuration!(mvis, configuration(state))"
   ]
  }
 ],
 "metadata": {
  "kernelspec": {
   "display_name": "Julia 0.6.4",
   "language": "julia",
   "name": "julia-0.6"
  },
  "language_info": {
   "file_extension": ".jl",
   "mimetype": "application/julia",
   "name": "julia",
   "version": "0.6.4"
  }
 },
 "nbformat": 4,
 "nbformat_minor": 2
}
