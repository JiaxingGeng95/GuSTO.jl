{
 "cells": [
  {
   "cell_type": "code",
   "execution_count": 1,
   "metadata": {
    "scrolled": true
   },
   "outputs": [
    {
     "data": {
      "text/html": [
       "    <script class='js-collapse-script'>\n",
       "        var curMatch =\n",
       "            window.location.href\n",
       "            .match(/(.*?)\\/notebooks\\/.*\\.ipynb/);\n",
       "\n",
       "        curMatch = curMatch ||\n",
       "            window.location.href\n",
       "            .match(/(.*?)\\/apps\\/.*\\.ipynb/);\n",
       "\n",
       "        if ( curMatch ) {\n",
       "            $('head').append('<base href=\"' + curMatch[1] + '/\">');\n",
       "        }\n",
       "    </script>\n"
      ],
      "text/plain": [
       "HTML{String}(\"    <script class='js-collapse-script'>\\n        var curMatch =\\n            window.location.href\\n            .match(/(.*?)\\\\/notebooks\\\\/.*\\\\.ipynb/);\\n\\n        curMatch = curMatch ||\\n            window.location.href\\n            .match(/(.*?)\\\\/apps\\\\/.*\\\\.ipynb/);\\n\\n        if ( curMatch ) {\\n            \\$('head').append('<base href=\\\"' + curMatch[1] + '/\\\">');\\n        }\\n    </script>\\n\")"
      ]
     },
     "metadata": {},
     "output_type": "display_data"
    },
    {
     "data": {
      "text/html": [
       "<script class='js-collapse-script' src='/assetserver/2f9e3fa36abf973ebb00b0114f6fd044f48470cb-assets/webio/dist/bundle.js'></script>"
      ],
      "text/plain": [
       "HTML{String}(\"<script class='js-collapse-script' src='/assetserver/2f9e3fa36abf973ebb00b0114f6fd044f48470cb-assets/webio/dist/bundle.js'></script>\")"
      ]
     },
     "metadata": {},
     "output_type": "display_data"
    },
    {
     "data": {
      "text/html": [
       "<script class='js-collapse-script' src='/assetserver/2f9e3fa36abf973ebb00b0114f6fd044f48470cb-assets/providers/ijulia_setup.js'></script>"
      ],
      "text/plain": [
       "HTML{String}(\"<script class='js-collapse-script' src='/assetserver/2f9e3fa36abf973ebb00b0114f6fd044f48470cb-assets/providers/ijulia_setup.js'></script>\")"
      ]
     },
     "metadata": {},
     "output_type": "display_data"
    },
    {
     "data": {
      "text/html": [
       "  <script class='js-collapse-script'>\n",
       "    $('.js-collapse-script').parent('.output_subarea').css('padding', '0');\n",
       "  </script>\n"
      ],
      "text/plain": [
       "HTML{String}(\"  <script class='js-collapse-script'>\\n    \\$('.js-collapse-script').parent('.output_subarea').css('padding', '0');\\n  </script>\\n\")"
      ]
     },
     "metadata": {},
     "output_type": "display_data"
    },
    {
     "name": "stderr",
     "output_type": "stream",
     "text": [
      "\u001b[1m\u001b[36mINFO: \u001b[39m\u001b[22m\u001b[36mLoading HttpServer methods...\n",
      "\u001b[39m"
     ]
    }
   ],
   "source": [
    "using AstrobeeRobot\n",
    "using RigidBodySim\n",
    "using RigidBodyDynamics\n",
    "\n",
    "using MeshCat\n",
    "using MeshCatMechanisms"
   ]
  },
  {
   "cell_type": "markdown",
   "metadata": {},
   "source": [
    "### Explanation on Motion\n",
    "\n",
    "To create an animation of a robot, use the setanimation!(MechanismVisualizer, t, q) command. t represents the timesteps, and q represents the configurations. Because we created a floating joint for the Astrobee, the configuration actually rotates and translates the robot. The configuration is represented as follows: [q1, q2, q3, q4, x, y, z] where q represents the quaternion (with [1,0,0,0] being no rotation) and [x,y,z] is the translation in the respective axis\n",
    "\n",
    "To set the robot configuration, use the set_configuration!(state, joint, config)  [note: removing the joint section will just default to rotating/translating the robot] command. At the time of writing, it is unknown (and probably unlikely) that set_configuration! can be used by the animation :\\ The Astrobee has 6 joints \n",
    "\n",
    "\n"
   ]
  },
  {
   "cell_type": "code",
   "execution_count": 21,
   "metadata": {},
   "outputs": [
    {
     "name": "stdout",
     "output_type": "stream",
     "text": [
      "instantiated a floating joint\n",
      "Listening on 0.0.0.0:8715...\n"
     ]
    },
    {
     "name": "stderr",
     "output_type": "stream",
     "text": [
      "\u001b[1m\u001b[36mInfo: \u001b[39m\u001b[22m\u001b[36mServing MeshCat visualizer at http://127.0.0.1:8715\n",
      "\u001b[39m"
     ]
    },
    {
     "data": {
      "text/plain": [
       "Spanning tree:\n",
       "Vertex: world (root)\n",
       "  Vertex: body, Edge: body_to_world\n",
       "    Vertex: inertial_link, Edge: inertial_joint\n",
       "    Vertex: top_aft, Edge: top_aft\n",
       "      Vertex: top_aft_arm_proximal_link, Edge: top_aft_arm_proximal_joint\n",
       "        Vertex: top_aft_arm_distal_link, Edge: top_aft_arm_distal_joint\n",
       "          Vertex: top_aft_gripper_left_proximal_link, Edge: top_aft_gripper_left_proximal_joint\n",
       "            Vertex: top_aft_gripper_left_distal_link, Edge: top_aft_gripper_left_distal_joint\n",
       "          Vertex: top_aft_gripper_right_proximal_link, Edge: top_aft_gripper_right_proximal_joint\n",
       "            Vertex: top_aft_gripper_right_distal_link, Edge: top_aft_gripper_right_distal_joint\n",
       "No non-tree joints."
      ]
     },
     "execution_count": 21,
     "metadata": {},
     "output_type": "execute_result"
    },
    {
     "name": "stderr",
     "output_type": "stream",
     "text": [
      "Error handling websocket connection:\n",
      "\u001b[91mWebSockets.WebSocketClosedError(\"ws|server respond to OPCODE_CLOSE 1001:Going Away\")\u001b[39m"
     ]
    }
   ],
   "source": [
    "vis = Visualizer()\n",
    "delete!(vis)\n",
    "ab = Astrobee()\n",
    "mvis = MechanismVisualizer(\n",
    "    ab.mechanism,\n",
    "    URDFVisuals(AstrobeeRobot.urdfpath(), package_path=[dirname(dirname(AstrobeeRobot.urdfpath()))]),\n",
    "    vis);\n",
    "open(vis)\n",
    "sleep(1)\n",
    "\n",
    "q = [\n",
    "    [1;0;0;0;0;0;0],\n",
    "    [1;0;0;0;1;1;0],\n",
    "    [0.5;0.5;0.5;0.5;2;2;0] ]\n",
    "\n",
    "setanimation!(mvis,1:length(q),q)\n",
    "\n",
    "ab.mechanism"
   ]
  },
  {
   "cell_type": "code",
   "execution_count": 22,
   "metadata": {},
   "outputs": [
    {
     "name": "stderr",
     "output_type": "stream",
     "text": [
      "Error handling websocket connection:\n",
      "\u001b[91mWebSockets.WebSocketClosedError(\"ws|server respond to OPCODE_CLOSE 1001:Going Away\")\u001b[39m"
     ]
    }
   ],
   "source": [
    "### Examples of Setting a Configuration\n",
    "\n",
    "state = MechanismState(ab.mechanism)\n",
    "#Translate and Rotate the Astrobee State\n",
    "set_configuration!(state, ab.basejoint, [1; 0; 0; 0; 0; 0; 1.025])\n",
    "\n",
    "#Operate the Astrobee's arm joints of the State\n",
    "set_configuration!(state, findjoint(ab.mechanism,\"top_aft_arm_proximal_joint\"),[1.0])\n",
    "set_configuration!(state, findjoint(ab.mechanism,\"top_aft_arm_distal_joint\"),[1.0])\n",
    "set_configuration!(state, findjoint(ab.mechanism,\"top_aft_gripper_left_proximal_joint\"),[1.0])\n",
    "set_configuration!(state, findjoint(ab.mechanism,\"top_aft_gripper_left_distal_joint\"),[1.0])\n",
    "set_configuration!(state, findjoint(ab.mechanism,\"top_aft_gripper_right_proximal_joint\"),[1.0])\n",
    "set_configuration!(state, findjoint(ab.mechanism,\"top_aft_gripper_right_distal_joint\"),[1.0])\n",
    "\n",
    "#Set the Astrobee to be at the state we just defined\n",
    "set_configuration!(mvis, configuration(state))\n",
    "\n",
    "\n",
    "    \n"
   ]
  },
  {
   "cell_type": "code",
   "execution_count": 104,
   "metadata": {
    "scrolled": false
   },
   "outputs": [
    {
     "name": "stdout",
     "output_type": "stream",
     "text": [
      "Listening on 0.0.0.0:8790...\n"
     ]
    },
    {
     "name": "stderr",
     "output_type": "stream",
     "text": [
      "\u001b[1m\u001b[36mInfo: \u001b[39m\u001b[22m\u001b[36mServing MeshCat visualizer at http://127.0.0.1:8790\n",
      "\u001b[39m"
     ]
    },
    {
     "data": {
      "text/plain": [
       "true"
      ]
     },
     "execution_count": 104,
     "metadata": {},
     "output_type": "execute_result"
    }
   ],
   "source": [
    "using PandaRobot\n",
    "vis = Visualizer()\n",
    "\n",
    "pan = Panda()\n",
    "mvis = MechanismVisualizer(\n",
    "    pan.mechanism,\n",
    "    URDFVisuals(PandaRobot.urdfpath(), package_path=[dirname(dirname(PandaRobot.urdfpath()))]),\n",
    "    vis);\n",
    "\n",
    "open(vis)\n",
    "sleep(1)\n",
    "\n",
    "q = [ \n",
    "    [0;0;0;0;0;0;0;0;0],\n",
    "    [1;1;1;1;1;1;1;0.05;0.05],\n",
    "    [0;0.5;0.7;0.5;0.3;0.8;0.2;0.02;0.02]\n",
    "    ]\n",
    "\n",
    "\n",
    "setanimation!(mvis, 1:length(q), q)\n",
    "#pan.mechanism"
   ]
  },
  {
   "cell_type": "markdown",
   "metadata": {},
   "source": [
    "The following code iterates through all of the links to add points based on each link's local frame. \n",
    "\n",
    "- this_link_frame is the frame of the local link. This is obtained by the function default_frame(RigidBody)\n",
    "- this_link_point creates a point centered at the origin of the local frame. The 3 numbers afterwards translate the point in the x, y, and z direction of the local frame\n",
    "- this_link_radius represents the radius size\n",
    "\n",
    "\n",
    "For visualization purposes, the \"function setelement!(MechanismVisualizer,Point3D, int radius, string name)\" can be used. Note, renaming a point the same name as a previously used point will replace the old point\n",
    "\n",
    "Joints can be found by the function: \"findjoint(mechanism, string link_name_from_urdf)\". The frames of the joint can be recovered by \"frame_before(joint)\" or \"frame_after(joint)\"\n",
    "\n",
    "To find a body or joint in a mechanism, type:\n",
    "\n",
    "RigidBodyDynamics.findbody(mechanism, \"urdf_link_name\")\n",
    "RigidBodyDynamics.findjoint(mechanism, \"urdf_joint_name\")"
   ]
  },
  {
   "cell_type": "code",
   "execution_count": 120,
   "metadata": {
    "scrolled": true
   },
   "outputs": [
    {
     "data": {
      "text/plain": [
       "13-element Array{RigidBodyDynamics.RigidBody{Float64},1}:\n",
       " world            \n",
       " panda_link0      \n",
       " panda_link1      \n",
       " panda_link2      \n",
       " panda_link3      \n",
       " panda_link4      \n",
       " panda_link5      \n",
       " panda_link6      \n",
       " panda_link7      \n",
       " panda_link8      \n",
       " panda_hand       \n",
       " panda_leftfinger \n",
       " panda_rightfinger"
      ]
     },
     "execution_count": 120,
     "metadata": {},
     "output_type": "execute_result"
    }
   ],
   "source": [
    "#Interestingly, RigidBodyDynamics features both kinematics and dynamics library; you can call mass matrix from it\n",
    "#Implies Bullet should have similar functionality; an issue might be translating the information from one to the other\n",
    "#Look into this\n",
    "\n",
    "#setelement!(mvis, Point3D(frame_after(findjoint(pan.mechanism,\"panda_link0_to_world\")),0.0,0.0,0.0), radius, panda_link0_name)\n",
    "\n",
    "#http://www.juliarobotics.org/RigidBodyDynamics.jl/stable/spatial.html#RigidBodyDynamics.Spatial.Point3D\n",
    "\n",
    "link_frame = CartesianFrame3D[]\n",
    "point = Point3D[]\n",
    "radius = Float64[]\n",
    "i = 1;\n",
    "for link in RigidBodyDynamics.bodies(pan.mechanism)\n",
    "    this_link_frame = RigidBodyDynamics.default_frame(link)\n",
    "    this_link_point = RigidBodyDynamics.Point3D(this_link_frame,0.0,0.0,0.1)\n",
    "    this_link_radius = 0.1\n",
    "    \n",
    "    push!(link_frame, this_link_frame)\n",
    "    push!(point,this_link_point)\n",
    "    push!(radius,this_link_radius)\n",
    "    \n",
    "#   for visualization\n",
    "    MeshCatMechanisms.setelement!(mvis, this_link_point, this_link_radius, string(\"point_\",i))\n",
    "    i=i+1\n",
    "\n",
    "end\n",
    "\n",
    "RigidBodyDynamics.bodies(pan.mechanism)"
   ]
  },
  {
   "cell_type": "markdown",
   "metadata": {},
   "source": [
    "A **path** is a graph that shows the coordinate transformations from a joint to another joint. Essentially, it shows how joints are connected to each other.\n",
    "\n",
    "'path = RigidBodyDynamics.path(mechanism, first_body, last_body)'\n",
    "\n",
    "Frames can be obtained by\n",
    "'frame = RigidBodyDynamics.transform(state, frame_from, frame_to)'\n",
    "\n",
    "**Double check if frame_from /frame_to are in the right order**\n",
    "state (the mechanism state) provides a way for RigidBodyDynamics to transform the coordinate frame along the known tranformation frames in the manipulator chain\n",
    "\n",
    "Using a **Point**:\n",
    "p.frame = local frame of the point\n",
    "p.v = the vector of the point (x,y,z)\n",
    "\n",
    "\n"
   ]
  },
  {
   "cell_type": "code",
   "execution_count": 126,
   "metadata": {},
   "outputs": [
    {
     "data": {
      "text/plain": [
       "CartesianFrame3D: \"after_panda_joint4\" (id = 271)"
      ]
     },
     "execution_count": 126,
     "metadata": {},
     "output_type": "execute_result"
    }
   ],
   "source": [
    "# Jacobian_IK_and_Control notebook in RigidBodyDynamics is a good example \n",
    "\n",
    "#bodies(mechanism) returns the links in the chain\n",
    "body = RigidBodyDynamics.bodies(pan.mechanism)[6]\n",
    "#root_frame is the world frame of the entire mechanism\n",
    "world = RigidBodyDynamics.root_frame(pan.mechanism)\n",
    "\n",
    "#A graph of your joints that you care about, from one joint to another joint. E.g. Joint 1 -> Joint 6\n",
    "p = RigidBodyDynamics.path(pan.mechanism, root_body(pan.mechanism),body)\n",
    "\n",
    "#How to create a Mechanism State and enact it upon the robot\n",
    "state = RigidBodyDynamics.MechanismState(pan.mechanism)\n",
    "set_configuration!(state,[0;0.4;0.8;0.3;0.5;1.0;0.4;0.02;0.02])\n",
    "set_configuration!(mvis, configuration(state))\n",
    "\n",
    "#Create a point in the world frame\n",
    "desired_point = Point3D(world,0.5,0.0,2.0)\n",
    "\n",
    "#Get the jacobian for the point given the joints we care about, the state it's in, and the point\n",
    "Jp = point_jacobian(state,p, transform(state,desired_point,world))\n",
    "Jp = point_jacobian(state,p,transform(state,point[6],point[6].frame))\n",
    "\n",
    "\n",
    "#Not sure how transform(configuration, point, frame) is transforming the point. Is it to the end-effector's frame, or the local frame?\n",
    "#point_jacobian -> if we give an entire manipulator configuration, will this return based on our shorter chain path (probably does)\n",
    "\n",
    "\n"
   ]
  }
 ],
 "metadata": {
  "kernelspec": {
   "display_name": "Julia 0.6.4",
   "language": "julia",
   "name": "julia-0.6"
  },
  "language_info": {
   "file_extension": ".jl",
   "mimetype": "application/julia",
   "name": "julia",
   "version": "0.6.4"
  }
 },
 "nbformat": 4,
 "nbformat_minor": 2
}
