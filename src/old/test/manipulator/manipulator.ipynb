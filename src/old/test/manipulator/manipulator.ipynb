{
 "cells": [
  {
   "cell_type": "code",
   "execution_count": 1,
   "metadata": {
    "scrolled": true
   },
   "outputs": [
    {
     "data": {
      "text/html": [
       "    <script class='js-collapse-script'>\n",
       "        var curMatch =\n",
       "            window.location.href\n",
       "            .match(/(.*?)\\/notebooks\\/.*\\.ipynb/);\n",
       "\n",
       "        curMatch = curMatch ||\n",
       "            window.location.href\n",
       "            .match(/(.*?)\\/apps\\/.*\\.ipynb/);\n",
       "\n",
       "        if ( curMatch ) {\n",
       "            $('head').append('<base href=\"' + curMatch[1] + '/\">');\n",
       "        }\n",
       "    </script>\n"
      ],
      "text/plain": [
       "HTML{String}(\"    <script class='js-collapse-script'>\\n        var curMatch =\\n            window.location.href\\n            .match(/(.*?)\\\\/notebooks\\\\/.*\\\\.ipynb/);\\n\\n        curMatch = curMatch ||\\n            window.location.href\\n            .match(/(.*?)\\\\/apps\\\\/.*\\\\.ipynb/);\\n\\n        if ( curMatch ) {\\n            \\$('head').append('<base href=\\\"' + curMatch[1] + '/\\\">');\\n        }\\n    </script>\\n\")"
      ]
     },
     "metadata": {},
     "output_type": "display_data"
    },
    {
     "data": {
      "text/html": [
       "<script class='js-collapse-script' src='/assetserver/68a213444af81a792a622d24c9ee9b29483dffff-assets/webio/dist/bundle.js'></script>"
      ],
      "text/plain": [
       "HTML{String}(\"<script class='js-collapse-script' src='/assetserver/68a213444af81a792a622d24c9ee9b29483dffff-assets/webio/dist/bundle.js'></script>\")"
      ]
     },
     "metadata": {},
     "output_type": "display_data"
    },
    {
     "data": {
      "text/html": [
       "<script class='js-collapse-script' src='/assetserver/68a213444af81a792a622d24c9ee9b29483dffff-assets/providers/ijulia_setup.js'></script>"
      ],
      "text/plain": [
       "HTML{String}(\"<script class='js-collapse-script' src='/assetserver/68a213444af81a792a622d24c9ee9b29483dffff-assets/providers/ijulia_setup.js'></script>\")"
      ]
     },
     "metadata": {},
     "output_type": "display_data"
    },
    {
     "data": {
      "text/html": [
       "  <script class='js-collapse-script'>\n",
       "    $('.js-collapse-script').parent('.output_subarea').css('padding', '0');\n",
       "  </script>\n"
      ],
      "text/plain": [
       "HTML{String}(\"  <script class='js-collapse-script'>\\n    \\$('.js-collapse-script').parent('.output_subarea').css('padding', '0');\\n  </script>\\n\")"
      ]
     },
     "metadata": {},
     "output_type": "display_data"
    },
    {
     "name": "stderr",
     "output_type": "stream",
     "text": [
      "\u001b[1m\u001b[36mINFO: \u001b[39m\u001b[22m\u001b[36mLoading HttpServer methods...\n",
      "\u001b[39m"
     ]
    },
    {
     "ename": "LoadError",
     "evalue": "LoadError: LoadError: \u001b[91mUndefVarError: Robot not defined\u001b[39m\nwhile loading /home/marco/scp_se3/src/test/manipulator/../../TrajectoryOptimization/robot/pandabot.jl, in expression starting on line 8\nwhile loading /home/marco/scp_se3/src/test/manipulator/manipulator_utils.jl, in expression starting on line 6",
     "output_type": "error",
     "traceback": [
      "LoadError: LoadError: \u001b[91mUndefVarError: Robot not defined\u001b[39m\nwhile loading /home/marco/scp_se3/src/test/manipulator/../../TrajectoryOptimization/robot/pandabot.jl, in expression starting on line 8\nwhile loading /home/marco/scp_se3/src/test/manipulator/manipulator_utils.jl, in expression starting on line 6",
      "",
      "Stacktrace:",
      " [1] \u001b[1minclude\u001b[22m\u001b[22m\u001b[1m(\u001b[22m\u001b[22m::String\u001b[1m)\u001b[22m\u001b[22m at \u001b[1m./boot.jl:232\u001b[22m\u001b[22m",
      " [2] \u001b[1minclude_from_node1\u001b[22m\u001b[22m\u001b[1m(\u001b[22m\u001b[22m::String\u001b[1m)\u001b[22m\u001b[22m at \u001b[1m./loading.jl:576\u001b[22m\u001b[22m",
      " [3] \u001b[1minclude\u001b[22m\u001b[22m\u001b[1m(\u001b[22m\u001b[22m::String\u001b[1m)\u001b[22m\u001b[22m at \u001b[1m./sysimg.jl:14\u001b[22m\u001b[22m",
      " [4] \u001b[1minclude\u001b[22m\u001b[22m\u001b[1m(\u001b[22m\u001b[22m::String\u001b[1m)\u001b[22m\u001b[22m at \u001b[1m./boot.jl:232\u001b[22m\u001b[22m",
      " [5] \u001b[1minclude_from_node1\u001b[22m\u001b[22m\u001b[1m(\u001b[22m\u001b[22m::String\u001b[1m)\u001b[22m\u001b[22m at \u001b[1m./loading.jl:576\u001b[22m\u001b[22m",
      " [6] \u001b[1minclude\u001b[22m\u001b[22m\u001b[1m(\u001b[22m\u001b[22m::String\u001b[1m)\u001b[22m\u001b[22m at \u001b[1m./sysimg.jl:14\u001b[22m\u001b[22m",
      " [7] \u001b[1minclude_string\u001b[22m\u001b[22m\u001b[1m(\u001b[22m\u001b[22m::String, ::String\u001b[1m)\u001b[22m\u001b[22m at \u001b[1m./loading.jl:522\u001b[22m\u001b[22m",
      " [8] \u001b[1mexecute_request\u001b[22m\u001b[22m\u001b[1m(\u001b[22m\u001b[22m::ZMQ.Socket, ::IJulia.Msg\u001b[1m)\u001b[22m\u001b[22m at \u001b[1m/home/marco/.julia/v0.6/IJulia/src/execute_request.jl:193\u001b[22m\u001b[22m",
      " [9] \u001b[1m(::Compat.#inner#14{Array{Any,1},IJulia.#execute_request,Tuple{ZMQ.Socket,IJulia.Msg}})\u001b[22m\u001b[22m\u001b[1m(\u001b[22m\u001b[22m\u001b[1m)\u001b[22m\u001b[22m at \u001b[1m/home/marco/.julia/v0.6/Compat/src/Compat.jl:332\u001b[22m\u001b[22m",
      " [10] \u001b[1meventloop\u001b[22m\u001b[22m\u001b[1m(\u001b[22m\u001b[22m::ZMQ.Socket\u001b[1m)\u001b[22m\u001b[22m at \u001b[1m/home/marco/.julia/v0.6/IJulia/src/eventloop.jl:8\u001b[22m\u001b[22m",
      " [11] \u001b[1m(::IJulia.##13#16)\u001b[22m\u001b[22m\u001b[1m(\u001b[22m\u001b[22m\u001b[1m)\u001b[22m\u001b[22m at \u001b[1m./task.jl:335\u001b[22m\u001b[22m"
     ]
    }
   ],
   "source": [
    "using RigidBodySim\n",
    "using RigidBodyDynamics\n",
    "\n",
    "using MeshCat\n",
    "using MeshCatMechanisms\n",
    "\n",
    "\n",
    "import ColorTypes: RGBA\n",
    "import GeometryTypes\n",
    "\n",
    "using MAT\n",
    "include(\"../../load_common.jl\")\n",
    "include(\"../../bullet_collision.jl\")\n",
    "\n",
    "include(\"manipulator_utils.jl\")\n",
    "include(\"../../stomp.jl\")"
   ]
  },
  {
   "cell_type": "markdown",
   "metadata": {},
   "source": [
    "### Explanation on Motion\n",
    "\n",
    "To create an animation of a robot, use the setanimation!(MechanismVisualizer, t, q) command. t represents the timesteps, and q represents the configurations. Because we created a floating joint for the Astrobee, the configuration actually rotates and translates the robot. The configuration is represented as follows: [q1, q2, q3, q4, x, y, z] where q represents the quaternion (with [1,0,0,0] being no rotation) and [x,y,z] is the translation in the respective axis\n",
    "\n",
    "To set the robot configuration, use the set_configuration!(state, joint, config)  [note: removing the joint section will just default to rotating/translating the robot] command. At the time of writing, it is unknown (and probably unlikely) that set_configuration! can be used by the animation :\\ The Astrobee has 6 joints \n",
    "\n",
    "\n"
   ]
  },
  {
   "cell_type": "code",
   "execution_count": 2,
   "metadata": {
    "scrolled": true
   },
   "outputs": [
    {
     "name": "stdout",
     "output_type": "stream",
     "text": [
      "Listening on 0.0.0.0:8700...\n"
     ]
    },
    {
     "name": "stderr",
     "output_type": "stream",
     "text": [
      "\u001b[1m\u001b[36mInfo: \u001b[39m\u001b[22m\u001b[36mServing MeshCat visualizer at http://127.0.0.1:8700\n",
      "\u001b[39m"
     ]
    },
    {
     "name": "stdout",
     "output_type": "stream",
     "text": [
      "Created new window in existing browser session.\n"
     ]
    },
    {
     "data": {
      "text/plain": [
       "Spanning tree:\n",
       "Vertex: world (root)\n",
       "  Vertex: panda_link0, Edge: panda_link0_to_world\n",
       "    Vertex: panda_link1, Edge: panda_joint1\n",
       "      Vertex: panda_link2, Edge: panda_joint2\n",
       "        Vertex: panda_link3, Edge: panda_joint3\n",
       "          Vertex: panda_link4, Edge: panda_joint4\n",
       "            Vertex: panda_link5, Edge: panda_joint5\n",
       "              Vertex: panda_link6, Edge: panda_joint6\n",
       "                Vertex: panda_link7, Edge: panda_joint7\n",
       "                  Vertex: panda_link8, Edge: panda_joint8\n",
       "                    Vertex: panda_hand, Edge: panda_hand_joint\n",
       "                      Vertex: panda_leftfinger, Edge: panda_finger_joint1\n",
       "                      Vertex: panda_rightfinger, Edge: panda_finger_joint2\n",
       "No non-tree joints."
      ]
     },
     "execution_count": 2,
     "metadata": {},
     "output_type": "execute_result"
    }
   ],
   "source": [
    "using PandaRobot\n",
    "vis = Visualizer()\n",
    "\n",
    "pan = Panda()\n",
    "mvis = MechanismVisualizer(\n",
    "    pan.mechanism,\n",
    "    URDFVisuals(PandaRobot.urdfpath(), package_path=[dirname(dirname(PandaRobot.urdfpath()))]),\n",
    "    vis);\n",
    "\n",
    "open(vis)\n",
    "sleep(1)\n",
    "\n",
    "q = [ \n",
    "    [0;0;0;0;0;0;0;0;0],\n",
    "    20*[0.0;0.0;0.0;0.1;0;0;0;0;0],\n",
    "    [0;0;0;0;0;0;0;0;0],\n",
    "    [0;0.5;0.7;0.5;0.3;0.8;0.2;0.02;0.02]\n",
    "    ]\n",
    "\n",
    "\n",
    "setanimation!(mvis, 1:length(q), q)\n",
    "pan.mechanism"
   ]
  },
  {
   "cell_type": "markdown",
   "metadata": {},
   "source": [
    "The following code iterates through all of the links to add points based on each link's local frame. \n",
    "\n",
    "- this_link_frame is the frame of the local link. This is obtained by the function default_frame(RigidBody)\n",
    "- this_link_point creates a point centered at the origin of the local frame. The 3 numbers afterwards translate the point in the x, y, and z direction of the local frame\n",
    "- this_link_radius represents the radius size\n",
    "\n",
    "\n",
    "For visualization purposes, the \"function setelement!(MechanismVisualizer,Point3D, int radius, string name)\" can be used. Note, renaming a point the same name as a previously used point will replace the old point\n",
    "\n",
    "Joints can be found by the function: \"findjoint(mechanism, string link_name_from_urdf)\". The frames of the joint can be recovered by \"frame_before(joint)\" or \"frame_after(joint)\""
   ]
  },
  {
   "cell_type": "code",
   "execution_count": 3,
   "metadata": {
    "scrolled": true
   },
   "outputs": [
    {
     "data": {
      "text/plain": [
       "Spanning tree:\n",
       "Vertex: world (root)\n",
       "  Vertex: panda_link0, Edge: panda_link0_to_world\n",
       "    Vertex: panda_link1, Edge: panda_joint1\n",
       "      Vertex: panda_link2, Edge: panda_joint2\n",
       "        Vertex: panda_link3, Edge: panda_joint3\n",
       "          Vertex: panda_link4, Edge: panda_joint4\n",
       "            Vertex: panda_link5, Edge: panda_joint5\n",
       "              Vertex: panda_link6, Edge: panda_joint6\n",
       "                Vertex: panda_link7, Edge: panda_joint7\n",
       "                  Vertex: panda_link8, Edge: panda_joint8\n",
       "                    Vertex: panda_hand, Edge: panda_hand_joint\n",
       "                      Vertex: panda_leftfinger, Edge: panda_finger_joint1\n",
       "                      Vertex: panda_rightfinger, Edge: panda_finger_joint2\n",
       "No non-tree joints."
      ]
     },
     "execution_count": 3,
     "metadata": {},
     "output_type": "execute_result"
    }
   ],
   "source": [
    "#Interestingly, RigidBodyDynamics features both kinematics and dynamics library; you can call mass matrix from it\n",
    "#Implies Bullet should have similar functionality; an issue might be translating the information from one to the other\n",
    "#Look into this\n",
    "\n",
    "#setelement!(mvis, Point3D(frame_after(findjoint(pan.mechanism,\"panda_link0_to_world\")),0.0,0.0,0.0), radius, panda_link0_name)\n",
    "\n",
    "#http://www.juliarobotics.org/RigidBodyDynamics.jl/stable/spatial.html#RigidBodyDynamics.Spatial.Point3D\n",
    "\n",
    "link_frame = CartesianFrame3D[]\n",
    "point = Point3D[]\n",
    "radius = Float64[]\n",
    "i = 1;\n",
    "for link in RigidBodyDynamics.bodies(pan.mechanism)\n",
    "    this_link_frame = RigidBodyDynamics.default_frame(link)\n",
    "    this_link_point = RigidBodyDynamics.Point3D(this_link_frame,0.0,0.0,0.1)\n",
    "    this_link_radius = 0.1\n",
    "\n",
    "    \n",
    "    push!(link_frame, this_link_frame)\n",
    "    push!(point,this_link_point)\n",
    "#     push!(radius,this_link_radius)\n",
    "    \n",
    "#   for visualization\n",
    "#     MeshCatMechanisms.setelement!(mvis, this_link_point, string(\"point_\",i))\n",
    "#     MeshCatMechanisms.setelement!(mvis, this_link_point, this_link_radius, string(\"point_\",i))\n",
    "    i=i+1\n",
    "\n",
    "end\n",
    "\n",
    "RigidBodyDynamics.bodies(pan.mechanism)\n",
    "pan.mechanism"
   ]
  },
  {
   "cell_type": "code",
   "execution_count": 4,
   "metadata": {},
   "outputs": [
    {
     "name": "stdout",
     "output_type": "stream",
     "text": [
      "RigidBodyDynamics.Spatial.PointJacobian{Array{Float64,2}}([0.0 1.667 -7.80829e-13 -0.990757 0.0 0.0 0.0 0.0 0.0; 0.5 2.44829e-12 -0.18863 -1.01443 0.0 0.0 0.0 0.0 0.0; 0.0 -0.5 4.0929e-13 0.186632 0.0 0.0 0.0 0.0 0.0], CartesianFrame3D: \"world\" (id = 0))\n"
     ]
    },
    {
     "data": {
      "text/plain": [
       "RigidBody: \"panda_link1\""
      ]
     },
     "execution_count": 4,
     "metadata": {},
     "output_type": "execute_result"
    }
   ],
   "source": [
    "# Jacobian_IK_and_Control notebook in RigidBodyDynamics is a good example \n",
    "\n",
    "#bodies(mechanism) returns the links in the chain\n",
    "body = RigidBodyDynamics.bodies(pan.mechanism)[6]\n",
    "#root_frame is the world frame of the entire mechanism\n",
    "world = RigidBodyDynamics.root_frame(pan.mechanism)\n",
    "\n",
    "#A graph of your joints that you care about, from one joint to another joint. E.g. Joint 1 -> Joint 6\n",
    "p = RigidBodyDynamics.path(pan.mechanism, root_body(pan.mechanism),body)\n",
    "\n",
    "#How to create a Mechanism State and enact it upon the robot\n",
    "state = RigidBodyDynamics.MechanismState(pan.mechanism)\n",
    "set_configuration!(state,[0;0.4;0.8;0.3;0.5;1.0;0.4;0.02;0.02])\n",
    "set_configuration!(mvis, configuration(state))\n",
    "\n",
    "#Create a point in the world frame\n",
    "desired_point = Point3D(world,0.5,0.0,2.0)\n",
    "\n",
    "#Get the jacobian for the point given the joints we care about, the state it's in, and the point\n",
    "Jp = point_jacobian(state,p,RigidBodyDynamics.transform(state,desired_point,world))\n",
    "println(Jp)\n",
    "# Jp = point_jacobian(state,p,RigidBodyDynamics.transform(state,point[6],point[6].frame))\n",
    "# println(RigidBodyDynamics.bodies(pan.mechanism))\n",
    "\n",
    "# End effector \n",
    "EE_id = 11\n",
    "J_EE = point_jacobian(state,p,RigidBodyDynamics.transform(state,point[EE_id],world))\n",
    "\n",
    "\n",
    "\n",
    "\n",
    "EE_link = RigidBodyDynamics.bodies(pan.mechanism)[EE_id]\n",
    "\n",
    "    EE_link_frame = RigidBodyDynamics.default_frame(EE_link)\n",
    "    EE_link_point = RigidBodyDynamics.Point3D(EE_link_frame,0.0,0.0,0.1)\n",
    "    EE_link_radius = 0.01\n",
    "\n",
    "    \n",
    "#     push!(link_frame, this_link_frame)\n",
    "#     push!(point,EE_link_point)\n",
    "#     push!(radius,this_link_radius)\n",
    "    \n",
    "#   for visualization\n",
    "#     MeshCatMechanisms.setelement!(mvis, this_link_point, string(\"point_\",i))\n",
    "MeshCatMechanisms.setelement!(mvis, EE_link_point, EE_link_radius, string(\"end_effector\"))\n",
    "#     setobject!(mvis, \n",
    "#         Object(GeometryTypes.HyperSphere(GeometryTypes.Point3f0(this_link_point), 0.05f0)\n",
    "#             ,MeshBasicMaterial(color=RGBA(0,1.0,0.,0.6))))\n",
    "# RigidBodyDynamics.transform(this_link_point,desired_point,world)\n",
    "    EE_link_point\n",
    "        point_in_world = RigidBodyDynamics.transform(state, EE_link_point, world)\n",
    "# [2 3 4;5 6 7;4 1 5]*point_in_world.v\n",
    "\n",
    "    \n",
    "#Not sure how transform(configuration, point, frame) is transforming the point. Is it to the end-effector's frame, or the local frame?\n",
    "#point_jacobian -> if we give an entire manipulator configuration, will this return based on our shorter chain path (probably does)\n",
    "\n",
    "# RigidBodyDynamics.bodies(pan.mechanism)[\"panda_link1\"]\n",
    "RigidBodyDynamics.findbody(pan.mechanism, \"panda_link1\")\n"
   ]
  },
  {
   "cell_type": "code",
   "execution_count": 5,
   "metadata": {},
   "outputs": [
    {
     "name": "stdout",
     "output_type": "stream",
     "text": [
      "Point3D in \"world\": [0.088, -1.69422e-12, 0.826]\n",
      "[0.0, 0.0, 0.0, 0.0, 0.0, 0.0, 0.0, 0.0, 0.0]\n",
      "EE_point_inWorldFrame: Point3D in \"world\": [0.088, -1.69422e-12, 0.826]\n"
     ]
    },
    {
     "ename": "LoadError",
     "evalue": "\u001b[91mUndefVarError: jacobian_transpose_ik! not defined\u001b[39m",
     "output_type": "error",
     "traceback": [
      "\u001b[91mUndefVarError: jacobian_transpose_ik! not defined\u001b[39m",
      "",
      "Stacktrace:",
      " [1] \u001b[1minclude_string\u001b[22m\u001b[22m\u001b[1m(\u001b[22m\u001b[22m::String, ::String\u001b[1m)\u001b[22m\u001b[22m at \u001b[1m./loading.jl:522\u001b[22m\u001b[22m",
      " [2] \u001b[1mexecute_request\u001b[22m\u001b[22m\u001b[1m(\u001b[22m\u001b[22m::ZMQ.Socket, ::IJulia.Msg\u001b[1m)\u001b[22m\u001b[22m at \u001b[1m/home/marco/.julia/v0.6/IJulia/src/execute_request.jl:193\u001b[22m\u001b[22m",
      " [3] \u001b[1m(::Compat.#inner#14{Array{Any,1},IJulia.#execute_request,Tuple{ZMQ.Socket,IJulia.Msg}})\u001b[22m\u001b[22m\u001b[1m(\u001b[22m\u001b[22m\u001b[1m)\u001b[22m\u001b[22m at \u001b[1m/home/marco/.julia/v0.6/Compat/src/Compat.jl:332\u001b[22m\u001b[22m",
      " [4] \u001b[1meventloop\u001b[22m\u001b[22m\u001b[1m(\u001b[22m\u001b[22m::ZMQ.Socket\u001b[1m)\u001b[22m\u001b[22m at \u001b[1m/home/marco/.julia/v0.6/IJulia/src/eventloop.jl:8\u001b[22m\u001b[22m",
      " [5] \u001b[1m(::IJulia.##13#16)\u001b[22m\u001b[22m\u001b[1m(\u001b[22m\u001b[22m\u001b[1m)\u001b[22m\u001b[22m at \u001b[1m./task.jl:335\u001b[22m\u001b[22m"
     ]
    }
   ],
   "source": [
    "# Inverse Kinematics example\n",
    "q0 = [0.0;0.0;0.0;0.0;0.0;0.0;0.0;0.0;0.0]\n",
    "q = [ \n",
    "    q0,\n",
    "#     [0;0.5;0.7;0.5;0.3;0.8;0.2;0.02;0.02]\n",
    "    ]\n",
    "state = RigidBodyDynamics.MechanismState(pan.mechanism)\n",
    "set_configuration!(state,q[1])\n",
    "set_configuration!(mvis, configuration(state))\n",
    "\n",
    "\n",
    "\n",
    "# End effector \n",
    "EE_id = 11\n",
    "# J_EE = point_jacobian(state,p,RigidBodyDynamics.transform(state,point[EE_id],world))\n",
    "\n",
    "EE_link = RigidBodyDynamics.bodies(pan.mechanism)[EE_id]\n",
    "    EE_link_frame = RigidBodyDynamics.default_frame(EE_link)\n",
    "    EE_link_point = RigidBodyDynamics.Point3D(EE_link_frame,0.0,0.0,0.1)\n",
    "    EE_link_radius = 0.01\n",
    "#   for visualization\n",
    "#     MeshCatMechanisms.setelement!(mvis, this_link_point, string(\"point_\",i))\n",
    "\n",
    "MeshCatMechanisms.setelement!(mvis, EE_link_point, EE_link_radius, string(\"end_effector\"))\n",
    "\n",
    "EE_point_inWorldFrame = RigidBodyDynamics.transform(state, EE_link_point, world)\n",
    "println(EE_point_inWorldFrame)\n",
    "\n",
    "hand_body = findbody(pan.mechanism, \"panda_hand\")\n",
    "\n",
    "\n",
    "\n",
    "# Choose a desired location. We'll move the tip of the arm to\n",
    "# [0.5, 0, 2]\n",
    "desired_tip_location = Point3D(root_frame(pan.mechanism), 0.2, 0.0, 1.2)\n",
    "# Run the IK, updating `state` in place\n",
    "println(configuration(state) )\n",
    "println(\"EE_point_inWorldFrame: $EE_point_inWorldFrame\")\n",
    "jacobian_transpose_ik!(state, hand_body, EE_point_inWorldFrame, desired_tip_location)\n",
    "println(configuration(state))\n",
    "push!(q, state.q)\n",
    "\n",
    "\n",
    "println(\" \")\n",
    "\n",
    "# desired_tip_location = Point3D(root_frame(pan.mechanism), 0.5, 0.1, 0.4)\n",
    "# # Run the IK, updating `state` in place\n",
    "# jacobian_transpose_ik!(state, hand_body, EE_point_inWorldFrame, desired_tip_location)\n",
    "# push!(q, state.q)\n",
    "# q = [ \n",
    "#     q,\n",
    "#     state.q\n",
    "#     ]\n",
    "setanimation!(mvis, 1:length(q), q)\n",
    "# q\n",
    "\n",
    "\n",
    "\n",
    "\n",
    "\n",
    "\n"
   ]
  },
  {
   "cell_type": "code",
   "execution_count": 6,
   "metadata": {},
   "outputs": [
    {
     "name": "stdout",
     "output_type": "stream",
     "text": [
      "Point3D in \"after_panda_hand_joint\": [0.0, 0.0, 0.1]\n",
      "Point3D in \"world\": [0.088, -1.69422e-12, 0.826]\n",
      "Point3D in \"world\": [0.088, -1.69422e-12, 0.826]\n",
      "Point3D in \"world\": [0.088, -1.69422e-12, 0.826]\n"
     ]
    }
   ],
   "source": [
    "# ********************************************\n",
    "# *****  INITIALIZE ROBOT / MECHANISM   ******\n",
    "# ********************************************\n",
    "# Initial configuration/state\n",
    "q0 = [0.0;0.0;0.0;0.0;0.0;0.0;0.0;0.0;0.0]\n",
    "state = RigidBodyDynamics.MechanismState(pan.mechanism)\n",
    "set_configuration!(state,q0)\n",
    "set_configuration!(mvis, configuration(state))\n",
    "# Final desired position of EE\n",
    "EE_desired_inWorldFrame = Point3D(root_frame(pan.mechanism), 0.7, 0.0, 0.15)\n",
    "\n",
    "\n",
    "# *****************\n",
    "# Environment frame\n",
    "world = RigidBodyDynamics.root_frame(pan.mechanism)\n",
    "\n",
    "\n",
    "\n",
    "# ************\n",
    "# End effector \n",
    "EE_id = 11\n",
    "# J_EE = point_jacobian(state,p,RigidBodyDynamics.transform(state,point[EE_id],world))\n",
    "# EE_link = RigidBodyDynamics.bodies(pan.mechanism)[EE_id]\n",
    "EE_link = findbody(pan.mechanism, \"panda_hand\")\n",
    "    EE_link_frame = RigidBodyDynamics.default_frame(EE_link)\n",
    "    EE_link_point = RigidBodyDynamics.Point3D(EE_link_frame,0.0,0.0,0.1)\n",
    "#      set_configuration!(state,q0+0.1)\n",
    "    EE_point_inWorldFrame = RigidBodyDynamics.transform(state, EE_link_point, world)\n",
    "    EE_link_radius = 0.02\n",
    "    EE_path = RigidBodyDynamics.path(pan.mechanism, root_body(pan.mechanism),EE_link)\n",
    "#     EE_Jac = point_jacobian(state,EE_path,RigidBodyDynamics.transform(state,point[EE_id],world))\n",
    "#     println(EE_point_inWorldFrame)\n",
    "# Vizualize\n",
    "MeshCatMechanisms.setelement!(mvis, EE_link_point, EE_link_radius, string(\"end_effector\"))\n",
    "\n",
    "println(EE_link_point)\n",
    "println(EE_point_inWorldFrame)\n",
    "println(RigidBodyDynamics.transform(state, EE_link_point, world))\n",
    "println(RigidBodyDynamics.transform(state, EE_point_inWorldFrame, world))"
   ]
  },
  {
   "cell_type": "code",
   "execution_count": 7,
   "metadata": {},
   "outputs": [
    {
     "name": "stdout",
     "output_type": "stream",
     "text": [
      "Added obstacles\n"
     ]
    },
    {
     "name": "stderr",
     "output_type": "stream",
     "text": [
      "WARNING: using GeometryTypes.radius in module Main conflicts with an existing identifier.\n"
     ]
    }
   ],
   "source": [
    "# ********************************************\n",
    "# ******     INITIALIZE ENVIRONMENT     ******\n",
    "# ********************************************\n",
    "\n",
    "import StaticArrays: SVector\n",
    "using GeometryTypes\n",
    "body_radius = 0.3f0\n",
    "\n",
    "# Define end-effector as robot, it's a sphere\n",
    "# btrobot_ = BT.geometry_type_to_BT(pan) # bullet representation of astrobee\n",
    "EE_sphere = GeometryTypes.HyperSphere(Point3f0(0.,0.,0.), body_radius) # radius = 0.3m\n",
    "\n",
    "bt_EE_ = BT.geometry_type_to_BT(EE_sphere) # bullet representation of astrobee\n",
    "btworld_ = BT.collision_world(SVector{3}(-100.,-100.,-100.), \n",
    "        SVector{3}(100.,100.,100.)) # workspace bounds\n",
    "\n",
    "env = BT.BulletStaticEnvironment(bt_EE_, btworld_) # bullet representation of environment\n",
    "fieldnames(env) # env.convex_env_components is currently empty since no obstacles have been added\n",
    "\n",
    "# define obstacles using GeometryTypes\n",
    "obstacles = []\n",
    "push!(obstacles, HyperSphere(Point3f0(1.,1.,1.), 0.1f0))\n",
    "push!(obstacles, HyperRectangle(Vec3f0(0.4,-0.5,0.5),Vec3f0(0.4,1.0,0.2)))\n",
    "\n",
    "# add obstacles to Bullet environment\n",
    "for obs in obstacles\n",
    "    BT.add_collision_object!(env, BT.geometry_type_to_BT(obs))\n",
    "end\n",
    "env.convex_env_components # added four obstacles to Bullet environment\n",
    "\n",
    "\n",
    "# plot scene\n",
    "# vis = Visualizer()\n",
    "vis[:obstacles]\n",
    "for (idx,obs) in enumerate(obstacles)\n",
    "    setobject!(vis[:obstacles][Symbol(string(\"obs\",idx))], \n",
    "        Object(obs,MeshBasicMaterial(color=RGBA(1.0,0.,0.,1.))))\n",
    "end\n",
    "in_cell = true\n",
    "in_cell ? IJuliaCell(vis) : open(vis)\n",
    "println(\"Added obstacles\")\n"
   ]
  },
  {
   "cell_type": "code",
   "execution_count": null,
   "metadata": {
    "collapsed": true
   },
   "outputs": [],
   "source": []
  },
  {
   "cell_type": "code",
   "execution_count": 8,
   "metadata": {},
   "outputs": [
    {
     "ename": "LoadError",
     "evalue": "\u001b[91mUndefVarError: jacobian_transpose_ik! not defined\u001b[39m",
     "output_type": "error",
     "traceback": [
      "\u001b[91mUndefVarError: jacobian_transpose_ik! not defined\u001b[39m",
      "",
      "Stacktrace:",
      " [1] \u001b[1minclude_string\u001b[22m\u001b[22m\u001b[1m(\u001b[22m\u001b[22m::String, ::String\u001b[1m)\u001b[22m\u001b[22m at \u001b[1m./loading.jl:522\u001b[22m\u001b[22m",
      " [2] \u001b[1mexecute_request\u001b[22m\u001b[22m\u001b[1m(\u001b[22m\u001b[22m::ZMQ.Socket, ::IJulia.Msg\u001b[1m)\u001b[22m\u001b[22m at \u001b[1m/home/marco/.julia/v0.6/IJulia/src/execute_request.jl:193\u001b[22m\u001b[22m",
      " [3] \u001b[1m(::Compat.#inner#14{Array{Any,1},IJulia.#execute_request,Tuple{ZMQ.Socket,IJulia.Msg}})\u001b[22m\u001b[22m\u001b[1m(\u001b[22m\u001b[22m\u001b[1m)\u001b[22m\u001b[22m at \u001b[1m/home/marco/.julia/v0.6/Compat/src/Compat.jl:332\u001b[22m\u001b[22m",
      " [4] \u001b[1meventloop\u001b[22m\u001b[22m\u001b[1m(\u001b[22m\u001b[22m::ZMQ.Socket\u001b[1m)\u001b[22m\u001b[22m at \u001b[1m/home/marco/.julia/v0.6/IJulia/src/eventloop.jl:8\u001b[22m\u001b[22m",
      " [5] \u001b[1m(::IJulia.##13#16)\u001b[22m\u001b[22m\u001b[1m(\u001b[22m\u001b[22m\u001b[1m)\u001b[22m\u001b[22m at \u001b[1m./task.jl:335\u001b[22m\u001b[22m"
     ]
    }
   ],
   "source": [
    "# ********************************************\n",
    "# ******  PRE-SCRIPT - STOMP CONSTANTS  ******\n",
    "# ********************************************\n",
    "# include(\"../../stomp.jl\")\n",
    "using Distributions\n",
    "srand(123)\n",
    "\n",
    "# parameters\n",
    "# ab = Astrobee()\n",
    "weight_torques = 1e-12\n",
    "weight_ref = 1e-7 # cost on distance to Q0\n",
    "weight_ref = 0 # cost on distance to Q0\n",
    "# body_radius = P.robot.r # 0.05\n",
    "# body_mass = get(P.robot.mass, :threeD, 0) # 7.0\n",
    "body_mass = 1.0\n",
    "if body_mass == 0\n",
    "    println(\"[stomp_freeflyer]: Robot mass not found and set to $body_mass\")\n",
    "end\n",
    "body_inertia     = eye(3)\n",
    "body_inertia_inv = eye(3)\n",
    "epsilon_obstacles = 1e-2 # redefined later depending on discretization of distances table\n",
    "delta_cost_stop = 0.05\n",
    "nb_iter_max = 300\n",
    "h = 10 # hyperparameter, replaces lambda (see eq. 11)\n",
    "# p = 3  # statespace dimension\n",
    "p = length(state.q)\n",
    "\n",
    "N = 100 # number of discretized points (including initial/final)\n",
    "NB_MOTORS = p\n",
    "T = 5 # horizon, in [s] (NOTE: 100samples/sec looks like what they used in paper)\n",
    "dt = T/N # timestep\n",
    "K = 5 # number noise trajectories\n",
    "# x0,xf = zeros(3), 2*ones(3) # initial/final positions\n",
    "# Q_ROT_COEFFS = 4:6\n",
    "x0,xf = EE_point_inWorldFrame.v, EE_desired_inWorldFrame.v\n",
    "jacobian_transpose_ik!(state, EE_link, EE_link_point, EE_desired_inWorldFrame)\n",
    "q0 = copy(q0)\n",
    "qf = copy(state.q)  # initial/final configurations\n",
    "\n",
    "# Initial trajectory (linear interpolation from initial to final conf., including those)\n",
    "Q0 = zeros(p,N) # parameters\n",
    "for dim in 1:p\n",
    "    Q0[dim,:] = collect(linspace(q0[dim],qf[dim],N))\n",
    "end\n",
    "\n",
    "# *****************************************\n",
    "Aacc = get_finite_differencing_acceleration_matrix(N+2*2, dt)\n",
    "Racc = Aacc'*Aacc\n",
    "\n",
    "# A = zeros(N,N)\n",
    "# A = A - 30.0/12.0*diagm(ones(N))\n",
    "# A = A + 16.0/12.0*diagm(ones(N-1),1) + 16.0/12.0*diagm(ones(N-1),-1)\n",
    "# A = A - 1/12.0*diagm(ones(N-2),2) - 1/12.0*diagm(ones(N-2),-2)\n",
    "# A = A/(dt^2)\n",
    "A = get_finite_differencing_acceleration_matrix(N, dt)\n",
    "R = A'*A\n",
    "# Rinv = inv(R)\n",
    "Rinv = inv(Racc)[3:end-2,3:end-2]\n",
    "Rinv = (Rinv+ Rinv'); # Make it symmetrical, it's not before (rounding errors)\n",
    "M = copy(Rinv)\n",
    "for col_i = 1:size(M,2)\n",
    "    max_col_i = maximum(M[:, col_i])\n",
    "    M[:,col_i] = M[:,col_i] / (max_col_i*N)\n",
    "end\n"
   ]
  },
  {
   "cell_type": "code",
   "execution_count": 9,
   "metadata": {},
   "outputs": [
    {
     "ename": "LoadError",
     "evalue": "LoadError: LoadError: \u001b[91mUndefVarError: Robot not defined\u001b[39m\nwhile loading /home/marco/scp_se3/src/test/manipulator/../../TrajectoryOptimization/robot/pandabot.jl, in expression starting on line 8\nwhile loading /home/marco/scp_se3/src/test/manipulator/manipulator_utils.jl, in expression starting on line 6",
     "output_type": "error",
     "traceback": [
      "LoadError: LoadError: \u001b[91mUndefVarError: Robot not defined\u001b[39m\nwhile loading /home/marco/scp_se3/src/test/manipulator/../../TrajectoryOptimization/robot/pandabot.jl, in expression starting on line 8\nwhile loading /home/marco/scp_se3/src/test/manipulator/manipulator_utils.jl, in expression starting on line 6",
      "",
      "Stacktrace:",
      " [1] \u001b[1minclude\u001b[22m\u001b[22m\u001b[1m(\u001b[22m\u001b[22m::String\u001b[1m)\u001b[22m\u001b[22m at \u001b[1m./boot.jl:232\u001b[22m\u001b[22m",
      " [2] \u001b[1minclude_from_node1\u001b[22m\u001b[22m\u001b[1m(\u001b[22m\u001b[22m::String\u001b[1m)\u001b[22m\u001b[22m at \u001b[1m./loading.jl:576\u001b[22m\u001b[22m",
      " [3] \u001b[1minclude\u001b[22m\u001b[22m\u001b[1m(\u001b[22m\u001b[22m::String\u001b[1m)\u001b[22m\u001b[22m at \u001b[1m./sysimg.jl:14\u001b[22m\u001b[22m",
      " [4] \u001b[1minclude\u001b[22m\u001b[22m\u001b[1m(\u001b[22m\u001b[22m::String\u001b[1m)\u001b[22m\u001b[22m at \u001b[1m./boot.jl:232\u001b[22m\u001b[22m",
      " [5] \u001b[1minclude_from_node1\u001b[22m\u001b[22m\u001b[1m(\u001b[22m\u001b[22m::String\u001b[1m)\u001b[22m\u001b[22m at \u001b[1m./loading.jl:576\u001b[22m\u001b[22m",
      " [6] \u001b[1minclude\u001b[22m\u001b[22m\u001b[1m(\u001b[22m\u001b[22m::String\u001b[1m)\u001b[22m\u001b[22m at \u001b[1m./sysimg.jl:14\u001b[22m\u001b[22m",
      " [7] \u001b[1minclude_string\u001b[22m\u001b[22m\u001b[1m(\u001b[22m\u001b[22m::String, ::String\u001b[1m)\u001b[22m\u001b[22m at \u001b[1m./loading.jl:522\u001b[22m\u001b[22m",
      " [8] \u001b[1mexecute_request\u001b[22m\u001b[22m\u001b[1m(\u001b[22m\u001b[22m::ZMQ.Socket, ::IJulia.Msg\u001b[1m)\u001b[22m\u001b[22m at \u001b[1m/home/marco/.julia/v0.6/IJulia/src/execute_request.jl:193\u001b[22m\u001b[22m",
      " [9] \u001b[1m(::Compat.#inner#14{Array{Any,1},IJulia.#execute_request,Tuple{ZMQ.Socket,IJulia.Msg}})\u001b[22m\u001b[22m\u001b[1m(\u001b[22m\u001b[22m\u001b[1m)\u001b[22m\u001b[22m at \u001b[1m/home/marco/.julia/v0.6/Compat/src/Compat.jl:332\u001b[22m\u001b[22m",
      " [10] \u001b[1meventloop\u001b[22m\u001b[22m\u001b[1m(\u001b[22m\u001b[22m::ZMQ.Socket\u001b[1m)\u001b[22m\u001b[22m at \u001b[1m/home/marco/.julia/v0.6/IJulia/src/eventloop.jl:8\u001b[22m\u001b[22m",
      " [11] \u001b[1m(::IJulia.##13#16)\u001b[22m\u001b[22m\u001b[1m(\u001b[22m\u001b[22m\u001b[1m)\u001b[22m\u001b[22m at \u001b[1m./task.jl:335\u001b[22m\u001b[22m"
     ]
    }
   ],
   "source": [
    "# Show trajectory from initial to final point\n",
    "\n",
    "include(\"manipulator_utils.jl\")\n",
    "\n",
    "\n",
    "println(q0)\n",
    "println(qf)\n",
    "\n",
    "set_configuration!(state,q0)\n",
    "set_configuration!(mvis, configuration(state))\n",
    "\n",
    "\n",
    "sleep(0.5)\n",
    "\n",
    "\n",
    "set_configuration!(state,qf)\n",
    "set_configuration!(mvis, configuration(state))"
   ]
  },
  {
   "cell_type": "code",
   "execution_count": 10,
   "metadata": {},
   "outputs": [
    {
     "ename": "LoadError",
     "evalue": "LoadError: LoadError: \u001b[91mUndefVarError: Robot not defined\u001b[39m\nwhile loading /home/marco/scp_se3/src/test/manipulator/../../TrajectoryOptimization/robot/pandabot.jl, in expression starting on line 8\nwhile loading /home/marco/scp_se3/src/test/manipulator/manipulator_utils.jl, in expression starting on line 6",
     "output_type": "error",
     "traceback": [
      "LoadError: LoadError: \u001b[91mUndefVarError: Robot not defined\u001b[39m\nwhile loading /home/marco/scp_se3/src/test/manipulator/../../TrajectoryOptimization/robot/pandabot.jl, in expression starting on line 8\nwhile loading /home/marco/scp_se3/src/test/manipulator/manipulator_utils.jl, in expression starting on line 6",
      "",
      "Stacktrace:",
      " [1] \u001b[1minclude\u001b[22m\u001b[22m\u001b[1m(\u001b[22m\u001b[22m::String\u001b[1m)\u001b[22m\u001b[22m at \u001b[1m./boot.jl:232\u001b[22m\u001b[22m",
      " [2] \u001b[1minclude_from_node1\u001b[22m\u001b[22m\u001b[1m(\u001b[22m\u001b[22m::String\u001b[1m)\u001b[22m\u001b[22m at \u001b[1m./loading.jl:576\u001b[22m\u001b[22m",
      " [3] \u001b[1minclude\u001b[22m\u001b[22m\u001b[1m(\u001b[22m\u001b[22m::String\u001b[1m)\u001b[22m\u001b[22m at \u001b[1m./sysimg.jl:14\u001b[22m\u001b[22m",
      " [4] \u001b[1minclude\u001b[22m\u001b[22m\u001b[1m(\u001b[22m\u001b[22m::String\u001b[1m)\u001b[22m\u001b[22m at \u001b[1m./boot.jl:232\u001b[22m\u001b[22m",
      " [5] \u001b[1minclude_from_node1\u001b[22m\u001b[22m\u001b[1m(\u001b[22m\u001b[22m::String\u001b[1m)\u001b[22m\u001b[22m at \u001b[1m./loading.jl:576\u001b[22m\u001b[22m",
      " [6] \u001b[1minclude\u001b[22m\u001b[22m\u001b[1m(\u001b[22m\u001b[22m::String\u001b[1m)\u001b[22m\u001b[22m at \u001b[1m./sysimg.jl:14\u001b[22m\u001b[22m",
      " [7] \u001b[1minclude_string\u001b[22m\u001b[22m\u001b[1m(\u001b[22m\u001b[22m::String, ::String\u001b[1m)\u001b[22m\u001b[22m at \u001b[1m./loading.jl:522\u001b[22m\u001b[22m",
      " [8] \u001b[1mexecute_request\u001b[22m\u001b[22m\u001b[1m(\u001b[22m\u001b[22m::ZMQ.Socket, ::IJulia.Msg\u001b[1m)\u001b[22m\u001b[22m at \u001b[1m/home/marco/.julia/v0.6/IJulia/src/execute_request.jl:193\u001b[22m\u001b[22m",
      " [9] \u001b[1m(::Compat.#inner#14{Array{Any,1},IJulia.#execute_request,Tuple{ZMQ.Socket,IJulia.Msg}})\u001b[22m\u001b[22m\u001b[1m(\u001b[22m\u001b[22m\u001b[1m)\u001b[22m\u001b[22m at \u001b[1m/home/marco/.julia/v0.6/Compat/src/Compat.jl:332\u001b[22m\u001b[22m",
      " [10] \u001b[1meventloop\u001b[22m\u001b[22m\u001b[1m(\u001b[22m\u001b[22m::ZMQ.Socket\u001b[1m)\u001b[22m\u001b[22m at \u001b[1m/home/marco/.julia/v0.6/IJulia/src/eventloop.jl:8\u001b[22m\u001b[22m",
      " [11] \u001b[1m(::IJulia.##13#16)\u001b[22m\u001b[22m\u001b[1m(\u001b[22m\u001b[22m\u001b[1m)\u001b[22m\u001b[22m at \u001b[1m./task.jl:335\u001b[22m\u001b[22m"
     ]
    }
   ],
   "source": [
    "# Debug trajectories\n",
    "\n",
    "include(\"manipulator_utils.jl\")\n",
    "\n",
    "\n",
    "# println(q0)\n",
    "# println(qf)\n",
    "\n",
    "# set_configuration!(state,q0)\n",
    "# set_configuration!(mvis, configuration(state))\n",
    "\n",
    "\n",
    "# sleep(0.5)\n",
    "\n",
    "\n",
    "# set_configuration!(state,qf)\n",
    "# set_configuration!(mvis, configuration(state))\n",
    "\n",
    "# println(q0)\n",
    "# println(qf)\n",
    "\n",
    "# sleep(0.5)\n",
    "println(desired_tip_location)\n",
    "\n",
    "\n",
    "#     EE_point_inWorldFrame = RigidBodyDynamics.transform(state, EE_link_point, world)\n",
    "\n",
    "jacobian_transpose_ik!(state, EE_link, EE_point_inWorldFrame,         desired_tip_location)\n",
    "set_configuration!(state,qf)\n",
    "set_configuration!(mvis, configuration(state))\n",
    "println(state.q)\n",
    "\n",
    "sleep(0.5)\n",
    "\n",
    "jacobian_transpose_ik!(state, EE_link, EE_link_point,         desired_tip_location)\n",
    "# set_configuration!(state,qf)\n",
    "set_configuration!(mvis, configuration(state))\n",
    "println(state.q)\n",
    "\n",
    "\n",
    "# state = RigidBodyDynamics.MechanismState(pan.mechanism)\n",
    "println(EE_point_inWorldFrame)\n",
    "println(EE_link_point)\n",
    "println(RigidBodyDynamics.transform(state, EE_link_point, world))\n",
    "# setanimation!(mvis, 1:length(q), q)\n",
    "\n",
    "\n",
    "#     setobject!(vis[:obstacles][Symbol(string(\"ohyeah\",1))], \n",
    "#         Object(HyperSphere(Point3f0(desired_tip_location.v), 0.1f0),MeshBasicMaterial(color=RGBA(1.0,0.,0.,1.))))"
   ]
  },
  {
   "cell_type": "code",
   "execution_count": 11,
   "metadata": {},
   "outputs": [
    {
     "name": "stdout",
     "output_type": "stream",
     "text": [
      "The distances table will have a precision of 0.012717948717948718 meters\n"
     ]
    },
    {
     "ename": "LoadError",
     "evalue": "\u001b[91mUndefVarError: create_table_distances not defined\u001b[39m",
     "output_type": "error",
     "traceback": [
      "\u001b[91mUndefVarError: create_table_distances not defined\u001b[39m",
      "",
      "Stacktrace:",
      " [1] \u001b[1minclude_string\u001b[22m\u001b[22m\u001b[1m(\u001b[22m\u001b[22m::String, ::String\u001b[1m)\u001b[22m\u001b[22m at \u001b[1m./loading.jl:522\u001b[22m\u001b[22m",
      " [2] \u001b[1mexecute_request\u001b[22m\u001b[22m\u001b[1m(\u001b[22m\u001b[22m::ZMQ.Socket, ::IJulia.Msg\u001b[1m)\u001b[22m\u001b[22m at \u001b[1m/home/marco/.julia/v0.6/IJulia/src/execute_request.jl:193\u001b[22m\u001b[22m",
      " [3] \u001b[1m(::Compat.#inner#14{Array{Any,1},IJulia.#execute_request,Tuple{ZMQ.Socket,IJulia.Msg}})\u001b[22m\u001b[22m\u001b[1m(\u001b[22m\u001b[22m\u001b[1m)\u001b[22m\u001b[22m at \u001b[1m/home/marco/.julia/v0.6/Compat/src/Compat.jl:332\u001b[22m\u001b[22m",
      " [4] \u001b[1meventloop\u001b[22m\u001b[22m\u001b[1m(\u001b[22m\u001b[22m::ZMQ.Socket\u001b[1m)\u001b[22m\u001b[22m at \u001b[1m/home/marco/.julia/v0.6/IJulia/src/eventloop.jl:8\u001b[22m\u001b[22m",
      " [5] \u001b[1m(::IJulia.##13#16)\u001b[22m\u001b[22m\u001b[1m(\u001b[22m\u001b[22m\u001b[1m)\u001b[22m\u001b[22m at \u001b[1m./task.jl:335\u001b[22m\u001b[22m"
     ]
    }
   ],
   "source": [
    "# include(\"../../stomp.jl\")\n",
    "# compute distances to all objects and save results in a table\n",
    "if(!isdefined(:DIST2OBS_MAT))\n",
    "    # Get manipulator limits\n",
    "    q0 = [0.0;0.0;0.0;0.0;0.0;pi;0.0;0.0;0.0]\n",
    "    set_configuration!(state,q0)\n",
    "    set_configuration!(mvis, configuration(state))\n",
    "    lims_up = RigidBodyDynamics.transform(state, EE_link_point, world)\n",
    "\n",
    "\n",
    "    X_MIN, X_MAX = (-maximum(lims_up.v)-(2*maximum(lims_up.v))/6)*ones(3), \n",
    "                   ( maximum(lims_up.v)+(2*maximum(lims_up.v))/6)*ones(3)\n",
    "\n",
    "    NX = 131 # number of points along each dimension\n",
    "    DX = (X_MAX[1]-X_MIN[1])\n",
    "    dx = DX/(NX-1)\n",
    "    println(\"The distances table will have a precision of $(dx/2) meters\")\n",
    "    grid_precision = dx/2\n",
    "    \n",
    "    # table with all signed euclidean distances to the closest obstacle for all points\n",
    "    DIST2OBS_MAT = zeros(NX,NX,NX)\n",
    "    DIST2OBS_MAT = create_table_distances(NX, X_MIN, DX, env);\n",
    "end"
   ]
  },
  {
   "cell_type": "code",
   "execution_count": 12,
   "metadata": {},
   "outputs": [
    {
     "data": {
      "text/plain": [
       "BT.BulletStaticEnvironment((class btCollisionObject *) @0x000000000ab850a0\n",
       ", Cxx.CppPtr{Cxx.CxxQualType{Cxx.CppBaseType{:btCollisionObject},(false, false, false)},(false, false, false)}[(class btCollisionObject *) @0x0000000009a25770\n",
       "], (class btCollisionWorld *) @0x000000000c28f720\n",
       ", Cxx.CppPtr{Cxx.CxxQualType{Cxx.CppBaseType{:btCollisionObject},(false, false, false)},(false, false, false)}[(class btCollisionObject *) @0x000000000c4f3620\n",
       ", (class btCollisionObject *) @0x000000000c3de7b0\n",
       "], 0)"
      ]
     },
     "execution_count": 12,
     "metadata": {},
     "output_type": "execute_result"
    }
   ],
   "source": [
    "# get_dist2obs([1.,1.,1.], DIST2OBS_MAT, NX, X_MIN, DX)\n",
    "env"
   ]
  },
  {
   "cell_type": "code",
   "execution_count": 13,
   "metadata": {},
   "outputs": [
    {
     "ename": "LoadError",
     "evalue": "\u001b[91mUndefVarError: Rinv not defined\u001b[39m",
     "output_type": "error",
     "traceback": [
      "\u001b[91mUndefVarError: Rinv not defined\u001b[39m",
      "",
      "Stacktrace:",
      " [1] \u001b[1minclude_string\u001b[22m\u001b[22m\u001b[1m(\u001b[22m\u001b[22m::String, ::String\u001b[1m)\u001b[22m\u001b[22m at \u001b[1m./loading.jl:522\u001b[22m\u001b[22m",
      " [2] \u001b[1mexecute_request\u001b[22m\u001b[22m\u001b[1m(\u001b[22m\u001b[22m::ZMQ.Socket, ::IJulia.Msg\u001b[1m)\u001b[22m\u001b[22m at \u001b[1m/home/marco/.julia/v0.6/IJulia/src/execute_request.jl:193\u001b[22m\u001b[22m",
      " [3] \u001b[1m(::Compat.#inner#14{Array{Any,1},IJulia.#execute_request,Tuple{ZMQ.Socket,IJulia.Msg}})\u001b[22m\u001b[22m\u001b[1m(\u001b[22m\u001b[22m\u001b[1m)\u001b[22m\u001b[22m at \u001b[1m/home/marco/.julia/v0.6/Compat/src/Compat.jl:332\u001b[22m\u001b[22m",
      " [4] \u001b[1meventloop\u001b[22m\u001b[22m\u001b[1m(\u001b[22m\u001b[22m::ZMQ.Socket\u001b[1m)\u001b[22m\u001b[22m at \u001b[1m/home/marco/.julia/v0.6/IJulia/src/eventloop.jl:8\u001b[22m\u001b[22m",
      " [5] \u001b[1m(::IJulia.##13#16)\u001b[22m\u001b[22m\u001b[1m(\u001b[22m\u001b[22m\u001b[1m)\u001b[22m\u001b[22m at \u001b[1m./task.jl:335\u001b[22m\u001b[22m"
     ]
    }
   ],
   "source": [
    "# include(\"../../stomp.jl\")\n",
    "# ********************************************\n",
    "# ****** MAIN SCRIPT - IMPLEMENTS STOMP ******\n",
    "# ********************************************\n",
    "# note: for all variables, subscripts are in this order: dimension(p) x samples(N) x trajectoryId(K)\n",
    "Dist = MvNormal(zeros(N),Rinv) # create normal distribution\n",
    "Q = copy(Q0) # configuration\n",
    "Qperturbed = zeros(p,N,K)\n",
    "Qbest = zeros(p,N,K)\n",
    "Qall  = zeros(p,N,2*K)\n",
    "id_Qsave = 1\n",
    "for kidx = 1:K\n",
    "    Qbest[:,:,kidx] = Q0\n",
    "end\n",
    "velocities_mag = compute_velocities_mag(Q)\n",
    "torques = compute_torques(Q, NB_MOTORS, body_mass, body_inertia)\n",
    "\n",
    "Jtot = 0+delta_cost_stop+1e-5; \n",
    "Jtot = get_total_jointsAccels_cost(Q)\n",
    "for nidx = 1:N\n",
    "    Jtot = Jtot + cost(Q[:,nidx],Q0,nidx, nidx, epsilon_obstacles+grid_precision, body_radius,\n",
    "                       velocities_mag, torques, weight_torques, weight_ref, \n",
    "                       DIST2OBS_MAT, NX, X_MIN, DX)\n",
    "end\n",
    "println(\"Initial cost: $(Jtot/N)\")\n",
    "Jprev = 0\n",
    "iter_i = 1;\n",
    "Qk = zeros(p,N,nb_iter_max)\n",
    "Jk = get_total_obstacles_cost(Q, epsilon_obstacles+grid_precision, body_radius, DIST2OBS_MAT, NX, X_MIN, DX) + \n",
    "                get_total_torques_cost(Q, NB_MOTORS, weight_torques, body_mass, body_inertia) + \n",
    "                get_total_refDeviation_cost(Q, Q0, weight_ref)\n",
    "Jcost = []\n",
    "Qk[:,:,1] = copy(Q0)\n",
    "\n",
    "println(\"Starting Stomp main loop\")\n",
    "tic()\n",
    "# while (abs(Jprev-Jtot) >= delta_cost_stop) && (iter_i <= nb_iter_max)\n",
    "last_println = 0\n",
    "while iter_i <= nb_iter_max\n",
    "    if last_println>=nb_iter_max/10\n",
    "#         println(\"Starting iter# $iter_i / $nb_iter_max\")\n",
    "        last_println = 0\n",
    "    else\n",
    "        last_println = last_println + 1\n",
    "    end\n",
    "        \n",
    "        \n",
    "    Qk[:,:,iter_i] = copy(Q)\n",
    "    Jk = vcat(Jk, Jcost)\n",
    "    \n",
    "    Jprev = copy(Jtot)\n",
    "    iter_i = iter_i+1\n",
    "    \n",
    "    # 1) Create K noisy trajectories\n",
    "    Qperturbed = zeros(p,N,K) # configuration trajectory (in time, length N) for each dimension\n",
    "    eps = zeros(p,N,K)\n",
    "    for kidx in 1:K # for each trajectory\n",
    "        eps[:,:,kidx] = rand(Dist,p)'\n",
    "        for dim in 1:p \n",
    "#             Qperturbed[dim,:,kidx]= Q[dim,:] + ((nb_iter_max-iter_i)/nb_iter_max) * eps[dim,:,kidx]\n",
    "            Qperturbed[dim,:,kidx]= Q[dim,:] + eps[dim,:,kidx]\n",
    "        end\n",
    "    end\n",
    "\n",
    "    # 2) Compute costs and probability metrics\n",
    "    # a)\n",
    "    S = zeros(N,2*K) # includes the best ones\n",
    "    Prob = zeros(N,2*K)\n",
    "    Qall = cat(3,Qperturbed,Qbest)\n",
    "    for kidx in 1:2*K # for each trajectory\n",
    "#         velocities_mag = compute_velocities_mag(Qperturbed[:,:,kidx])\n",
    "#         torques = compute_torques(Qperturbed[:,:,kidx], NB_MOTORS, body_mass, body_inertia)\n",
    "        velocities_mag = compute_velocities_mag(Qall[:,:,kidx])\n",
    "        torques = compute_torques(Qall[:,:,kidx], NB_MOTORS, body_mass, body_inertia)\n",
    "        for nidx in 1:N # get cost for each sample\n",
    "#             S[nidx,kidx] = cost(Qperturbed[:,nidx,kidx], nidx, nidx)\n",
    "            S[nidx,kidx] = cost(Qall[:,nidx,kidx],Q0,nidx, nidx, epsilon_obstacles+grid_precision, body_radius,\n",
    "                                velocities_mag, torques, weight_torques, weight_ref, \n",
    "                                DIST2OBS_MAT, NX, X_MIN, DX)\n",
    "        end\n",
    "        \n",
    "    end\n",
    "    \n",
    "    # b)\n",
    "    for nidx in 1:N\n",
    "        # see eq (11)\n",
    "        max_S_trajs = maximum(S[nidx,:])\n",
    "        min_S_trajs = minimum(S[nidx,:])\n",
    "        delta_minmax_S = max_S_trajs-min_S_trajs\n",
    "        \n",
    "        sum_exp_S = 0\n",
    "        for kidx in 1:2*K \n",
    "            sum_exp_S = sum_exp_S + exp(-h*(S[nidx,kidx]-min_S_trajs)/delta_minmax_S)\n",
    "        end\n",
    "        for kidx in 1:2*K \n",
    "            Prob[nidx,kidx] = exp(-h*(S[nidx,kidx]-min_S_trajs)/delta_minmax_S) / sum_exp_S\n",
    "        end\n",
    "    end\n",
    "\n",
    "    # 3-4-5) perturb parameter vector\n",
    "    dQ_tilde = zeros(p,N)\n",
    "    for nidx in 1:N\n",
    "        for kidx in 1:K \n",
    "            dQ_tilde[:,nidx] = dQ_tilde[:,nidx] + Prob[nidx,kidx] * eps[:,nidx,kidx] # 3)\n",
    "        end\n",
    "        for kidx in 1:K\n",
    "            dQ_tilde[:,nidx] = dQ_tilde[:,nidx] + Prob[nidx,kidx] * (Qbest[:,nidx,kidx]-Q[:,nidx]) # 3)\n",
    "        end\n",
    "    end\n",
    "    dQ = (M * dQ_tilde')' # 4)\n",
    "    Q = Q + dQ # 5)\n",
    "    velocities_mag = compute_velocities_mag(Q)\n",
    "    torques = compute_torques(Q, NB_MOTORS, body_mass, body_inertia)\n",
    "\n",
    "    # 6) compute total cost\n",
    "    if last_println==0\n",
    "        Jacc = get_total_jointsAccels_cost(Q)\n",
    "        Jcost = get_total_obstacles_cost(Q, epsilon_obstacles+grid_precision, body_radius, DIST2OBS_MAT, NX, X_MIN, DX) + \n",
    "                get_total_torques_cost(Q, NB_MOTORS, weight_torques, body_mass, body_inertia) + \n",
    "                get_total_refDeviation_cost(Q, Q0, weight_ref)\n",
    "        Jtot = Jacc + Jcost\n",
    "        println(\"Current cost at step $iter_i : $(Jtot/N)\")\n",
    "        println(\"Jacc: $Jacc, Jcost: $Jcost\")\n",
    "#         println(\"$(dQ_tilde[1,20:40])\")\n",
    "    end\n",
    "    \n",
    "    # get best samples\n",
    "    costs_all = zeros(2*K)\n",
    "    for traj_i = 1:2*K\n",
    "        costs_all[traj_i] = get_total_obstacles_cost(Qall[:,:,traj_i], epsilon_obstacles+grid_precision, body_radius, DIST2OBS_MAT, NX, X_MIN, DX) + \n",
    "                            get_total_torques_cost(Qall[:,:,traj_i], NB_MOTORS, weight_torques, body_mass, body_inertia) + \n",
    "                            get_total_refDeviation_cost(Qall[:,:,traj_i], Q0, weight_ref)\n",
    "                             #+get_total_jointsAccels_cost(Qall[:,:,traj_i]) + \n",
    "    end\n",
    "    Qbest = Qall[:,:,sortperm(costs_all)[1:K]]\n",
    "    \n",
    "#     if (is_trajectory_collision_less(Qbest[:,:,1], epsilon_obstacles+grid_precision, body_radius, DIST2OBS_MAT, NX, X_MIN, DX))\n",
    "    if (is_trajectory_collision_less(Q, epsilon_obstacles+grid_precision, body_radius, DIST2OBS_MAT, NX, X_MIN, DX))\n",
    "        println(\"Trajectory computed at iter. $iter_i is collision-less, exiting\")\n",
    "        break\n",
    "    end\n",
    "end\n",
    "elapsed_opt_time = toc()\n",
    "println(elapsed_opt_time)\n",
    "println(\"Final cost: $(Jtot/N)\")\n",
    "\n",
    "# ********************************************\n",
    "# ****** END MAIN SCRIPT  -    STOMP    ******\n",
    "# ********************************************"
   ]
  },
  {
   "cell_type": "code",
   "execution_count": 14,
   "metadata": {},
   "outputs": [
    {
     "ename": "LoadError",
     "evalue": "\u001b[91mUndefVarError: Q not defined\u001b[39m",
     "output_type": "error",
     "traceback": [
      "\u001b[91mUndefVarError: Q not defined\u001b[39m",
      "",
      "Stacktrace:",
      " [1] \u001b[1mmacro expansion\u001b[22m\u001b[22m at \u001b[1m./In[14]:8\u001b[22m\u001b[22m [inlined]",
      " [2] \u001b[1manonymous\u001b[22m\u001b[22m at \u001b[1m./<missing>:?\u001b[22m\u001b[22m",
      " [3] \u001b[1minclude_string\u001b[22m\u001b[22m\u001b[1m(\u001b[22m\u001b[22m::String, ::String\u001b[1m)\u001b[22m\u001b[22m at \u001b[1m./loading.jl:522\u001b[22m\u001b[22m",
      " [4] \u001b[1mexecute_request\u001b[22m\u001b[22m\u001b[1m(\u001b[22m\u001b[22m::ZMQ.Socket, ::IJulia.Msg\u001b[1m)\u001b[22m\u001b[22m at \u001b[1m/home/marco/.julia/v0.6/IJulia/src/execute_request.jl:193\u001b[22m\u001b[22m",
      " [5] \u001b[1m(::Compat.#inner#14{Array{Any,1},IJulia.#execute_request,Tuple{ZMQ.Socket,IJulia.Msg}})\u001b[22m\u001b[22m\u001b[1m(\u001b[22m\u001b[22m\u001b[1m)\u001b[22m\u001b[22m at \u001b[1m/home/marco/.julia/v0.6/Compat/src/Compat.jl:332\u001b[22m\u001b[22m",
      " [6] \u001b[1meventloop\u001b[22m\u001b[22m\u001b[1m(\u001b[22m\u001b[22m::ZMQ.Socket\u001b[1m)\u001b[22m\u001b[22m at \u001b[1m/home/marco/.julia/v0.6/IJulia/src/eventloop.jl:8\u001b[22m\u001b[22m",
      " [7] \u001b[1m(::IJulia.##13#16)\u001b[22m\u001b[22m\u001b[1m(\u001b[22m\u001b[22m\u001b[1m)\u001b[22m\u001b[22m at \u001b[1m./task.jl:335\u001b[22m\u001b[22m"
     ]
    }
   ],
   "source": [
    "# Animate\n",
    "# println(Q)\n",
    "\n",
    "\n",
    "\n",
    "#     EE_point_inWorldFrame = RigidBodyDynamics.transform(state, EE_link_point, world)\n",
    "for nidx in 1:N\n",
    "    q = Q[:,nidx]\n",
    "#     println(size(q))\n",
    "    set_configuration!(state,q)\n",
    "    set_configuration!(mvis, configuration(state))\n",
    "    sleep(0.005)\n",
    "end"
   ]
  },
  {
   "cell_type": "code",
   "execution_count": 15,
   "metadata": {},
   "outputs": [
    {
     "ename": "LoadError",
     "evalue": "\u001b[91mUndefVarError: Q not defined\u001b[39m",
     "output_type": "error",
     "traceback": [
      "\u001b[91mUndefVarError: Q not defined\u001b[39m",
      "",
      "Stacktrace:",
      " [1] \u001b[1mmacro expansion\u001b[22m\u001b[22m at \u001b[1m./In[15]:9\u001b[22m\u001b[22m [inlined]",
      " [2] \u001b[1manonymous\u001b[22m\u001b[22m at \u001b[1m./<missing>:?\u001b[22m\u001b[22m",
      " [3] \u001b[1minclude_string\u001b[22m\u001b[22m\u001b[1m(\u001b[22m\u001b[22m::String, ::String\u001b[1m)\u001b[22m\u001b[22m at \u001b[1m./loading.jl:522\u001b[22m\u001b[22m",
      " [4] \u001b[1mexecute_request\u001b[22m\u001b[22m\u001b[1m(\u001b[22m\u001b[22m::ZMQ.Socket, ::IJulia.Msg\u001b[1m)\u001b[22m\u001b[22m at \u001b[1m/home/marco/.julia/v0.6/IJulia/src/execute_request.jl:193\u001b[22m\u001b[22m",
      " [5] \u001b[1m(::Compat.#inner#14{Array{Any,1},IJulia.#execute_request,Tuple{ZMQ.Socket,IJulia.Msg}})\u001b[22m\u001b[22m\u001b[1m(\u001b[22m\u001b[22m\u001b[1m)\u001b[22m\u001b[22m at \u001b[1m/home/marco/.julia/v0.6/Compat/src/Compat.jl:332\u001b[22m\u001b[22m",
      " [6] \u001b[1meventloop\u001b[22m\u001b[22m\u001b[1m(\u001b[22m\u001b[22m::ZMQ.Socket\u001b[1m)\u001b[22m\u001b[22m at \u001b[1m/home/marco/.julia/v0.6/IJulia/src/eventloop.jl:8\u001b[22m\u001b[22m",
      " [7] \u001b[1m(::IJulia.##13#16)\u001b[22m\u001b[22m\u001b[1m(\u001b[22m\u001b[22m\u001b[1m)\u001b[22m\u001b[22m at \u001b[1m./task.jl:335\u001b[22m\u001b[22m"
     ]
    },
    {
     "name": "stderr",
     "output_type": "stream",
     "text": [
      "Error handling websocket connection:\n",
      "\u001b[91mWebSockets.WebSocketClosedError(\"ws|server respond to OPCODE_CLOSE 1001:Going Away\")\u001b[39m"
     ]
    }
   ],
   "source": [
    "# plot results\n",
    "using PyPlot\n",
    "\n",
    "# Q = Qbest[:,:,1]\n",
    "\n",
    "PyPlot.figure()\n",
    "labels=[\"x\",\"y\",\"z\"]\n",
    "for dim in 1:min(3,p)\n",
    "    PyPlot.plot(Q[dim,:],label=labels[dim])\n",
    "end\n",
    "PyPlot.legend(loc=\"best\")\n",
    "PyPlot.xlabel(\"sample [-]\"); PyPlot.title(\"solution\")"
   ]
  },
  {
   "cell_type": "code",
   "execution_count": null,
   "metadata": {
    "collapsed": true
   },
   "outputs": [],
   "source": []
  }
 ],
 "metadata": {
  "kernelspec": {
   "display_name": "Julia 0.6.4",
   "language": "julia",
   "name": "julia-0.6"
  },
  "language_info": {
   "file_extension": ".jl",
   "mimetype": "application/julia",
   "name": "julia",
   "version": "0.6.4"
  }
 },
 "nbformat": 4,
 "nbformat_minor": 2
}
