{
 "cells": [
  {
   "cell_type": "code",
   "execution_count": null,
   "metadata": {},
   "outputs": [],
   "source": [
    "#import planner_fmt_protobuf_pb2\n",
    "import h5py\n",
    "import sys\n",
    "from datetime import datetime\n",
    "\n",
    "fn = \"traj.h5\""
   ]
  },
  {
   "cell_type": "code",
   "execution_count": null,
   "metadata": {},
   "outputs": [],
   "source": [
    "f = h5py.File(fn,\"r\")\n",
    "N = f[\"N\"].value\n",
    "xDim = f[\"xDim\"].value\n",
    "uDim = f[\"uDim\"].value\n",
    "Xs  = f[\"States\"].value\n",
    "Us = f[\"Controls\"].value\n",
    "Ts = f[\"Ts\"].value\n",
    "f.close()"
   ]
  },
  {
   "cell_type": "code",
   "execution_count": 3,
   "metadata": {},
   "outputs": [
    {
     "name": "stdout",
     "output_type": "stream",
     "text": [
      "0:00:07.865636\n"
     ]
    }
   ],
   "source": [
    "solution_data = planner_fmt_protobuf_pb2.Solution_Data()\n",
    "\n",
    "solution_data.N = N\n",
    "solution_data.xDim = xDim\n",
    "solution_data.uDim = uDim\n",
    "\n",
    "for t in Ts:\n",
    "    solution_data.Ts.append(t)\n",
    "\n",
    "for i in range(N):\n",
    "    for j in range(xDim):\n",
    "        solution_data.Xs.data.append(Xs[i,j])\n",
    "        \n",
    "for i in range(N-1):\n",
    "    for j in range(uDim):\n",
    "        solution_data.Us.data.append(Us[i,j])"
   ]
  },
  {
   "cell_type": "code",
   "execution_count": 4,
   "metadata": {
    "collapsed": true
   },
   "outputs": [],
   "source": [
    "# Write the new address book back to disk.\n",
    "f = open(fn.replace(\"h5\", \"bin\"), \"wb\")\n",
    "f.write(solution_data.SerializeToString())\n",
    "f.close()"
   ]
  }
 ],
 "metadata": {
  "kernelspec": {
   "display_name": "Python 2",
   "language": "python",
   "name": "python2"
  },
  "language_info": {
   "codemirror_mode": {
    "name": "ipython",
    "version": 2
   },
   "file_extension": ".py",
   "mimetype": "text/x-python",
   "name": "python",
   "nbconvert_exporter": "python",
   "pygments_lexer": "ipython2",
   "version": "2.7.12"
  }
 },
 "nbformat": 4,
 "nbformat_minor": 2
}
